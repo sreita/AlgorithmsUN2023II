{
  "nbformat": 4,
  "nbformat_minor": 0,
  "metadata": {
    "colab": {
      "provenance": [],
      "include_colab_link": true
    },
    "kernelspec": {
      "name": "python3",
      "display_name": "Python 3"
    },
    "language_info": {
      "name": "python"
    }
  },
  "cells": [
    {
      "cell_type": "markdown",
      "metadata": {
        "id": "view-in-github",
        "colab_type": "text"
      },
      "source": [
        "<a href=\"https://colab.research.google.com/github/sreita/AlgorithmsUN2024I/blob/main/Lab7/CormenSizeTimeComplexity.ipynb\" target=\"_parent\"><img src=\"https://colab.research.google.com/assets/colab-badge.svg\" alt=\"Open In Colab\"/></a>"
      ]
    },
    {
      "cell_type": "markdown",
      "metadata": {
        "id": "I5UAAxG2_CqQ"
      },
      "source": [
        "# 0.(1 microsecond by instruction)\n",
        "Asuuming that you can execute a million instructions $10^6$ every second, i.e. each instruction takes one microsecond $1\\mu s=10^{-6}$ seconds. If you have algorithms take $\\bf{ Time\\ Complexity}$ steps to solve a problem of size $n$ as specified in column one. What is the size of the largest problem that you can solve in the time specified in row one?\n",
        "\n",
        "$$\n",
        "\\begin{array}{|c|c|c|c|c|c|c|c|}\n",
        " \\hline\n",
        " \\bf{Time Complexity} & Second & Minute & Hour & Day & Year & Century & Mileniun \\\\\n",
        " \\hline\n",
        " \\lg(n) & 2^{10^6} & 2^{6 \\times 10^7} & 2^{3.6 \\times 10^9} & 2^{8.64 \\times 10^{10}} & 2^{3.1536 \\times 10^{13}} & 2^{3.1536 \\times 10^{15}} & 2^{3.1536 \\times 10^{18}} \\\\\n",
        " \\hline\n",
        " \\lg^2(n) & 2^{10^3} & 2^{7.746 \\times 10^3} & 2^{6 \\times 10^4} & 2^{2.93939 \\times 10^5} & 2^{5.615692 \\times 10^6} & 2^{5.6156923 \\times 10^7} & 2^{1.77583783 \\times 10^9} \\\\\n",
        " \\hline\n",
        " \\sqrt{n} & 10^{12} & 3.6 \\times 10^{15} & 1.296 \\times 10^{19} & 7.46496 \\times 10^{21} & 9.94519296 \\times 10^{26} & 9.94519296 \\times 10^{30} & 9.94519296 \\times 10^{36} \\\\\n",
        " \\hline\n",
        " n & 10^6 & 6 \\times 10^7 & 3.6 \\times 10^9 & 8.64 \\times 10^{10} & 3.1536 \\times 10^{13} & 3.1536 \\times 10^{15} & 3.1536 \\times 10^{18} \\\\\n",
        " \\hline\n",
        " n\\lg(n) & 6.2746 \\times 10^4 & 2.801417 \\times 10^6 & 1.33378058 \\times 10^8 & 2.75514751 \\times 10^9 & 7.97633893 \\times 10^{11} & 6.86109568 \\times 10^{13} & 5.66650934 \\times 10^{16} \\\\\n",
        " \\hline\n",
        " n^2 & 1000 & 7746 & 60000 & 293939 & 5615692 & 56156923 & 1775837830 \\\\\n",
        " \\hline\n",
        " n^3 & 100 & 391 & 1533 & 4421 & 31594 & 146646 & 1466455 \\\\\n",
        " \\hline\n",
        " n^4 & 32 & 88 & 245 & 542 & 2370 & 7494 & 42141 \\\\\n",
        " \\hline\n",
        " 2^n & 19 & 25 & 31 & 36 & 44 & 51 & 61 \\\\\n",
        " \\hline\n",
        " n! & 9 & 11 & 12 & 13 & 16 & 17 & 20 \\\\\n",
        " \\hline\n",
        " n^n & 7 & 8 & 9 & 10 & 12 & 13 & 15 \\\\\n",
        " \\hline\n",
        "\\end{array}\n",
        "$$"
      ]
    },
    {
      "cell_type": "markdown",
      "metadata": {
        "id": "1gugytaatVFg"
      },
      "source": [
        "$\\bf{ Time\\ Complexity\\ \\lg(n) }$\n",
        "\n",
        "$Second$\n",
        "$$ \\lg(n) \\times 10^{-6}\\ s\\le 1\\ s$$\n",
        "$$ \\lg(n) \\le 1 * 10^{6}$$\n",
        "$$ 2^{\\lg(n)} \\le 2^{10^{6}}$$\n",
        "$$ n \\le 2^{10^{6}}$$\n",
        "\n",
        "$Minute$\n",
        "$$ \\lg(n) \\times 10^{-6} \\ s \\le 60\\ s$$\n",
        "$$ \\lg(n) \\le 60 \\times 10^{6} $$\n",
        "$$ 2^{\\lg(n)} \\le 2^{60 \\times 10^{6} }$$\n",
        "$$ n \\le 2^{60 \\times 10^{6} }$$\n",
        "\n",
        "$Hour$\n",
        "$$ \\lg(n) \\times 10^{-6} \\ s \\le 3600\\ s$$\n",
        "$$ \\lg(n) \\le 3600 \\times 10^{6} $$\n",
        "\n",
        "\n",
        "$Day$\n",
        "$$ \\lg(n) \\times 10^{-6} \\ s \\le 86400\\ s$$\n",
        "$$ \\lg(n) \\le 86400\\times 10^{6} $$\n",
        "\n",
        "\n",
        "$Year$\n",
        "$$ \\lg(n) \\times 10^{-6} \\ s \\le 31536000\\ s$$\n",
        "$$ \\lg(n) \\le 31536000\\times 10^{6} $$\n",
        "\n",
        "\n",
        "$Century$\n",
        "$$ \\lg(n) \\times 10^{-6} \\ s \\le 3153600000\\ s$$\n",
        "$$ \\lg(n) \\le 3153600000\\times 10^{6} $$\n",
        "\n",
        "\n",
        "$Mileniun$\n",
        "$$ \\lg(n) \\times 10^{-6} \\ s \\le 3153600000000\\ s$$\n",
        "$$ \\lg(n) \\le 3153600000000\\times 10^{6} $$\n"
      ]
    },
    {
      "cell_type": "code",
      "source": [
        "val = 10**6\n",
        "import math\n",
        "print(\"Second  = 2^\", \"{:.8E}\".format(val))\n",
        "print(\"Minute  = 2^\", \"{:.8E}\".format(60*(val)))\n",
        "print(\"Hour  = 2^\", \"{:.8E}\".format(60*60*(val)))\n",
        "print(\"Day  = 2^\", \"{:.8E}\".format(60*60*24*(val)))\n",
        "print(\"Year  = 2^\", \"{:.8E}\".format(365*24*60*60*(val)))\n",
        "print(\"Century  = 2^\", \"{:.8E}\".format(100*365*24*60*60*(val)))\n",
        "print(\"Mileniun  = 2^\", \"{:.8E}\".format(1000*100*365*24*60*60*(val)))"
      ],
      "metadata": {
        "colab": {
          "base_uri": "https://localhost:8080/"
        },
        "id": "i-CkyhOuNSe4",
        "outputId": "8fbd738e-14a0-4b67-d1d9-5f327d94943f"
      },
      "execution_count": null,
      "outputs": [
        {
          "output_type": "stream",
          "name": "stdout",
          "text": [
            "Second  = 2^ 1.00000000E+06\n",
            "Minute  = 2^ 6.00000000E+07\n",
            "Hour  = 2^ 3.60000000E+09\n",
            "Day  = 2^ 8.64000000E+10\n",
            "Year  = 2^ 3.15360000E+13\n",
            "Century  = 2^ 3.15360000E+15\n",
            "Mileniun  = 2^ 3.15360000E+18\n"
          ]
        }
      ]
    },
    {
      "cell_type": "markdown",
      "source": [
        "$\\bf{ Time\\ Complexity\\ \\lg^2(n) }$\n"
      ],
      "metadata": {
        "id": "8qIig7MuVxd6"
      }
    },
    {
      "cell_type": "code",
      "source": [
        "print(\"Second 2^{\",round(math.sqrt(val)),\"}\")\n",
        "print(\"Minute 2^{\",round(math.sqrt(60*(val))),\"}\")\n",
        "print(\"Hour 2^{\",round(math.sqrt(60*60*(val))),\"}\")\n",
        "print(\"Day 2^{\",round(math.sqrt(24*60*60*(val))),\"}\")\n",
        "print(\"Year 2^{\",round(math.sqrt(365*24*60*60*(val))),\"}\")\n",
        "print(\"Century 2^{\",round(math.sqrt(100*365*24*60*60*(val))),\"}\")\n",
        "print(\"Mileniun 2^{\",round(math.sqrt(1000*100*365*24*60*60*(val))),\"}\")"
      ],
      "metadata": {
        "colab": {
          "base_uri": "https://localhost:8080/"
        },
        "id": "evBA9SVfPLXd",
        "outputId": "1f63b8b7-e7ab-4651-8857-3f99bc342ca4"
      },
      "execution_count": null,
      "outputs": [
        {
          "output_type": "stream",
          "name": "stdout",
          "text": [
            "Second 2^{ 1000 }\n",
            "Minute 2^{ 7746 }\n",
            "Hour 2^{ 60000 }\n",
            "Day 2^{ 293939 }\n",
            "Year 2^{ 5615692 }\n",
            "Century 2^{ 56156923 }\n",
            "Mileniun 2^{ 1775837830 }\n"
          ]
        }
      ]
    },
    {
      "cell_type": "markdown",
      "source": [
        "$\\bf{ Time\\ Complexity\\ \\sqrt{n} }$"
      ],
      "metadata": {
        "id": "niJWlh6PVwJi"
      }
    },
    {
      "cell_type": "code",
      "source": [
        "print(\"Second \", \"{:.8E}\".format(math.pow(val,2)))\n",
        "print(\"Minute  \",\"{:.8E}\".format(math.pow(60*val,2)))\n",
        "print(\"Hour \",\"{:.8E}\".format(math.pow(60*60*val,2)))\n",
        "print(\"Day \",\"{:.8E}\".format(math.pow(24*60*60*val,2)))\n",
        "print(\"Year \",\"{:.8E}\".format(math.pow(365*24*60*60*val,2)))\n",
        "print(\"Century \",\"{:.8E}\".format(math.pow(100*365*24*60*60*val,2)))\n",
        "print(\"Mileniun  \",\"{:.8E}\".format(math.pow(1000*100*365*24*60*60*val,2)))"
      ],
      "metadata": {
        "colab": {
          "base_uri": "https://localhost:8080/"
        },
        "id": "qO7HlB9wVAcB",
        "outputId": "fca825ea-f690-4455-b294-2acac7ce038e"
      },
      "execution_count": null,
      "outputs": [
        {
          "output_type": "stream",
          "name": "stdout",
          "text": [
            "Second  1.00000000E+12\n",
            "Minute   3.60000000E+15\n",
            "Hour  1.29600000E+19\n",
            "Day  7.46496000E+21\n",
            "Year  9.94519296E+26\n",
            "Century  9.94519296E+30\n",
            "Mileniun   9.94519296E+36\n"
          ]
        }
      ]
    },
    {
      "cell_type": "markdown",
      "source": [
        "$\\bf{ Time\\ Complexity\\ n }$"
      ],
      "metadata": {
        "id": "4rqJTZm3VsYy"
      }
    },
    {
      "cell_type": "code",
      "source": [
        "print(\"Second \", \"{:.8E}\".format(val))\n",
        "print(\"Minute  \",\"{:.8E}\".format(60*val))\n",
        "print(\"Hour \",\"{:.8E}\".format(60*60*val))\n",
        "print(\"Day \",\"{:.8E}\".format(24*60*60*val))\n",
        "print(\"Year \",\"{:.8E}\".format(365*24*60*60*val))\n",
        "print(\"Century \",\"{:.8E}\".format(100*365*24*60*60*val))\n",
        "print(\"Mileniun  \",\"{:.8E}\".format(1000*100*365*24*60*60*val))"
      ],
      "metadata": {
        "colab": {
          "base_uri": "https://localhost:8080/"
        },
        "id": "43gX6CqcVjN0",
        "outputId": "9078c40c-eef3-406e-e92a-a4d6075ed214"
      },
      "execution_count": null,
      "outputs": [
        {
          "output_type": "stream",
          "name": "stdout",
          "text": [
            "Second  1.00000000E+06\n",
            "Minute   6.00000000E+07\n",
            "Hour  3.60000000E+09\n",
            "Day  8.64000000E+10\n",
            "Year  3.15360000E+13\n",
            "Century  3.15360000E+15\n",
            "Mileniun   3.15360000E+18\n"
          ]
        }
      ]
    },
    {
      "cell_type": "markdown",
      "source": [
        "$\\bf{ Time\\ Complexity\\ n\\lg{n} }$"
      ],
      "metadata": {
        "id": "rmW-IU-VWKQb"
      }
    },
    {
      "cell_type": "code",
      "source": [
        "def f(n):\n",
        "  return n*math.log2(n)\n",
        "\n",
        "\n",
        "def find(f,v):\n",
        "  l = 1\n",
        "  r = v\n",
        "  while True:\n",
        "    m = int((l+r)/2)\n",
        "    if ((f(m+1) > v) and (f(m) <= v) ) or (l == m) or  (r == m):\n",
        "      return int(m)\n",
        "    elif f(m) < v:\n",
        "      l = m\n",
        "    else:\n",
        "      r = m\n",
        "\n",
        "print(\"Second \", find(f,val),\" = \", \"{:.8E}\".format(find(f,val )))\n",
        "print(\"Minute  \",find(f,60*val),\" = \", \"{:.8E}\".format(find(f,60*val)))\n",
        "print(\"Hour \",find(f,60*60*val),\" = \", \"{:.8E}\".format(find(f,60*60*val )))\n",
        "print(\"Day \",find(f,24*60*60*val),\" = \", \"{:.8E}\".format(find(f,24*60*60*val )) )\n",
        "print(\"Year \",find(f,365*24*60*60*val ),\" = \", \"{:.8E}\".format(find(f,365*24*60*60*val )) )\n",
        "print(\"Century \",find(f,100*365*24*60*60*val ),\" = \", \"{:.8E}\".format(find(f,100*365*24*60*60*val )) )\n",
        "print(\"Mileniun \",find(f,1000*100*365*24*60*60*val ),\" = \", \"{:.8E}\".format(find(f,1000*100*365*24*60*60*val )) )"
      ],
      "metadata": {
        "colab": {
          "base_uri": "https://localhost:8080/"
        },
        "id": "tFqOdTBYWONp",
        "outputId": "2406e6e1-54e4-435b-aff6-b62842597be8"
      },
      "execution_count": null,
      "outputs": [
        {
          "output_type": "stream",
          "name": "stdout",
          "text": [
            "Second  62746  =  6.27460000E+04\n",
            "Minute   2801417  =  2.80141700E+06\n",
            "Hour  133378058  =  1.33378058E+08\n",
            "Day  2755147513  =  2.75514751E+09\n",
            "Year  797633893349  =  7.97633893E+11\n",
            "Century  68610956750570  =  6.86109568E+13\n",
            "Mileniun  56665093434063120  =  5.66650934E+16\n"
          ]
        }
      ]
    },
    {
      "cell_type": "markdown",
      "source": [
        "$\\bf{ Time\\ Complexity\\ n^2}$"
      ],
      "metadata": {
        "id": "GGE1c1u1cULN"
      }
    },
    {
      "cell_type": "code",
      "source": [
        "print(\"Second \",round(math.sqrt(val )))\n",
        "print(\"Minute  \",round(math.sqrt(60*val )))\n",
        "print(\"Hour \",round(math.sqrt(60*60*val )))\n",
        "print(\"Day \",round(math.sqrt(24*60*60*val )))\n",
        "print(\"Year \",round(math.sqrt(365*24*60*60*val )))\n",
        "print(\"Century \",round(math.sqrt(100*365*24*60*60*val )))\n",
        "print(\"Mileniun \",round(math.sqrt(1000*100*365*24*60*60*val )))"
      ],
      "metadata": {
        "colab": {
          "base_uri": "https://localhost:8080/"
        },
        "id": "5-m25X_XcV7c",
        "outputId": "898445d9-a685-4b10-ffa8-7a8d66f50535"
      },
      "execution_count": null,
      "outputs": [
        {
          "output_type": "stream",
          "name": "stdout",
          "text": [
            "Second  1000\n",
            "Minute   7746\n",
            "Hour  60000\n",
            "Day  293939\n",
            "Year  5615692\n",
            "Century  56156923\n",
            "Mileniun  1775837830\n"
          ]
        }
      ]
    },
    {
      "cell_type": "markdown",
      "source": [
        "$\\bf{ Time\\ Complexity\\ n^3 }$"
      ],
      "metadata": {
        "id": "eRC0QuDwciSn"
      }
    },
    {
      "cell_type": "code",
      "source": [
        "print(\"Second \",round(math.pow(val ,1/3)))\n",
        "print(\"Minute  \",round(math.pow(60*val ,1/3)))\n",
        "print(\"Hour \",round(math.pow(60*60*val ,1/3)))\n",
        "print(\"Day \",round(math.pow(24*60*60*val ,1/3)))\n",
        "print(\"Year \",round(math.pow(365*24*60*60*val ,1/3)))\n",
        "print(\"Century \",round(math.pow(100*365*24*60*60*val ,1/3)))\n",
        "print(\"Mileniun \",round(math.pow(1000*100*365*24*60*60*val ,1/3)))"
      ],
      "metadata": {
        "colab": {
          "base_uri": "https://localhost:8080/"
        },
        "id": "FL0vZKSQclVx",
        "outputId": "060fcaa0-55a9-41dd-d44f-56b641829591"
      },
      "execution_count": null,
      "outputs": [
        {
          "output_type": "stream",
          "name": "stdout",
          "text": [
            "Second  100\n",
            "Minute   391\n",
            "Hour  1533\n",
            "Day  4421\n",
            "Year  31594\n",
            "Century  146646\n",
            "Mileniun  1466455\n"
          ]
        }
      ]
    },
    {
      "cell_type": "markdown",
      "source": [
        "$\\bf{ Time\\ Complexity\\ n^4 }$"
      ],
      "metadata": {
        "id": "_N0ZouAEc5Wp"
      }
    },
    {
      "cell_type": "code",
      "source": [
        "print(\"Second \",round(math.pow(val ,1/4)))\n",
        "print(\"Minute  \",round(math.pow(60*val ,1/4)))\n",
        "print(\"Hour \",round(math.pow(60*60*val ,1/4)))\n",
        "print(\"Day \",round(math.pow(24*60*60*val ,1/4)))\n",
        "print(\"Year \",round(math.pow(365*24*60*60*val ,1/4)))\n",
        "print(\"Century \",round(math.pow(100*365*24*60*60*val ,1/4)))\n",
        "print(\"Mileniun \",round(math.pow(1000*100*365*24*60*60*val ,1/4)))"
      ],
      "metadata": {
        "colab": {
          "base_uri": "https://localhost:8080/"
        },
        "id": "gRPZG_PvdxP1",
        "outputId": "34dcf431-4a5e-4734-f0d6-395cd500c8e4"
      },
      "execution_count": null,
      "outputs": [
        {
          "output_type": "stream",
          "name": "stdout",
          "text": [
            "Second  32\n",
            "Minute   88\n",
            "Hour  245\n",
            "Day  542\n",
            "Year  2370\n",
            "Century  7494\n",
            "Mileniun  42141\n"
          ]
        }
      ]
    },
    {
      "cell_type": "markdown",
      "source": [
        "$\\bf{ Time\\ Complexity\\ 2^n }$"
      ],
      "metadata": {
        "id": "qgBXj63beB0U"
      }
    },
    {
      "cell_type": "code",
      "source": [
        "print(\"Second \",int(math.log2(val )))\n",
        "print(\"Minute  \",int(math.log2(60*val )))\n",
        "print(\"Hour \",int(math.log2(60*60*val )))\n",
        "print(\"Day \",int(math.log2(24*60*60*val )))\n",
        "print(\"Year \",int(math.log2(365*24*60*60*val )))\n",
        "print(\"Century \",int(math.log2(100*365*24*60*60*val )))\n",
        "print(\"Mileniun \",int(math.log2(1000*100*365*24*60*60*val )))"
      ],
      "metadata": {
        "colab": {
          "base_uri": "https://localhost:8080/"
        },
        "id": "KXngYO_eeANT",
        "outputId": "4ed8cb7f-df51-43fd-a3d4-781804f932aa"
      },
      "execution_count": null,
      "outputs": [
        {
          "output_type": "stream",
          "name": "stdout",
          "text": [
            "Second  19\n",
            "Minute   25\n",
            "Hour  31\n",
            "Day  36\n",
            "Year  44\n",
            "Century  51\n",
            "Mileniun  61\n"
          ]
        }
      ]
    },
    {
      "cell_type": "markdown",
      "source": [
        "$\\bf{ Time\\ Complexity\\ n! }$"
      ],
      "metadata": {
        "id": "eoQwLdF1esdq"
      }
    },
    {
      "cell_type": "code",
      "source": [
        "def f(n):\n",
        "  return math.factorial(n)\n",
        "\n",
        "def find(f,v):\n",
        "  l = 1\n",
        "  r = 100\n",
        "  while True:\n",
        "    m = int((l+r)/2)\n",
        "    if ((f(m+1) > v) and (f(m) <= v) ) or (l == m) or (r== m):\n",
        "      return int(m)\n",
        "    elif f(m) < v:\n",
        "      l = m\n",
        "    else:\n",
        "      r = m\n",
        "\n",
        "\n",
        "print(\"Second \", find(f,val ))\n",
        "print(\"Minute  \",find(f,60*val ))\n",
        "print(\"Hour \",find(f,60*60*val ))\n",
        "print(\"Day \",find(f,24*60*60*val))\n",
        "print(\"Year \",find(f,365*24*60*60*val ))\n",
        "print(\"Century \",find(f,100*365*24*60*60*val ))\n",
        "print(\"Mileniun \",find(f,1000*100*365*24*60*60*val ))"
      ],
      "metadata": {
        "colab": {
          "base_uri": "https://localhost:8080/"
        },
        "id": "uPakuf1SewBZ",
        "outputId": "e024108e-1fb1-41ea-b168-714647d041cc"
      },
      "execution_count": null,
      "outputs": [
        {
          "output_type": "stream",
          "name": "stdout",
          "text": [
            "Second  9\n",
            "Minute   11\n",
            "Hour  12\n",
            "Day  13\n",
            "Year  16\n",
            "Century  17\n",
            "Mileniun  20\n"
          ]
        }
      ]
    },
    {
      "cell_type": "markdown",
      "source": [
        "$\\bf{ Time\\ Complexity\\ n^n }$"
      ],
      "metadata": {
        "id": "czhoOTesf9H3"
      }
    },
    {
      "cell_type": "code",
      "source": [
        "def f(n):\n",
        "  return n**n\n",
        "\n",
        "def find(f,v):\n",
        "  l = 1\n",
        "  r = 100\n",
        "  while True:\n",
        "    m = int((l+r)/2)\n",
        "    if ((f(m+1) > v) and (f(m) <= v) ) or (l == m) or (r== m):\n",
        "      return int(m)\n",
        "    elif f(m) < v:\n",
        "      l = m\n",
        "    else:\n",
        "      r = m\n",
        "\n",
        "print(\"Second \", find(f,val ))\n",
        "print(\"Minute  \",find(f,60*val ))\n",
        "print(\"Hour \",find(f,60*60*val ))\n",
        "print(\"Day \",find(f,24*60*60*val ))\n",
        "print(\"Year \",find(f,365*24*60*60*val ))\n",
        "print(\"Century \",find(f,100*365*24*60*60*val ))\n",
        "print(\"Mileniun \",find(f,1000*100*365*24*60*60*val ))"
      ],
      "metadata": {
        "colab": {
          "base_uri": "https://localhost:8080/"
        },
        "id": "Kyb4zkOEf_jk",
        "outputId": "30f2fbc3-ff3d-4b4e-fd87-76ff5c4cafe6"
      },
      "execution_count": null,
      "outputs": [
        {
          "output_type": "stream",
          "name": "stdout",
          "text": [
            "Second  7\n",
            "Minute   8\n",
            "Hour  9\n",
            "Day  10\n",
            "Year  12\n",
            "Century  13\n",
            "Mileniun  15\n"
          ]
        }
      ]
    },
    {
      "cell_type": "markdown",
      "metadata": {
        "id": "yCCsCOW2OQbQ"
      },
      "source": [
        "# 1.(10  nanoseconds by instruction)\n",
        "\n",
        "Asuuming that you can execute a 100 million instructions $100 \\times 10^6$ every second, i.e. each instrcution takes 10 nanoseconds, 10 $\\eta s  = 10^{-8} s $. If you have algorithms take $\\bf{ Time\\ Complexity}$ steps to solve a poblem of size $n$ as specified in column one. What is the size of the largest porblem that you can solve in the time specified in row one?\n",
        "$$\n",
        "\\begin{array}{|c|c|c|c|c|c|c|c|}\n",
        " \\hline\n",
        " \\bf{Time Complexity} & Second & Minute & Hour & Day & Year & Century & Mileniun \\\\\n",
        " \\hline\n",
        " \\lg(n) & 2^{10^8} & 2^{6 \\times 10^9} & 2^{3.6 \\times 10^{11}} & 2^{8.64 \\times 10^{12}} & 2^{3.1536 \\times 10^{15}} & 2^{3.1536 \\times 10^{17}} & 2^{3.1536 \\times 10^{20}} \\\\\n",
        " \\hline\n",
        " \\lg^2(n) & 2^{10^4} & 2^{7.746 \\times 10^4} & 2^{6 \\times 10^5} & 2^{2.939388 \\times 10^6} & 2^{5.6156923 \\times 10^7} & 2^{5.6156923 \\times 10^8} & 2^{1.7758378304 \\times 10^{10}} \\\\\n",
        " \\hline\n",
        " \\sqrt{n} & 10^{16} & 3.6 \\times 10^{19} & 1.296 \\times 10^{23} & 7.46496 \\times 10^{25} & 9.94519296 \\times 10^{30} & 9.94519296 \\times 10^{34} & 9.94519296 \\times 10^{40} \\\\\n",
        " \\hline\n",
        " n & 10^8 & 6 \\times 10^9 & 3.6 \\times 10^{11} & 8.64 \\times 10^{12} & 3.1536 \\times 10^{15} & 3.1536 \\times 10^{17} & 3.1536 \\times 10^{20} \\\\\n",
        " \\hline\n",
        " n\\lg(n) & 4.523071 \\times 10^6 & 2.16677120 \\times 10^8 & 1.08009383 \\times 10^{10} & 2.28957338 \\times 10^{11} & 6.86109568 \\times 10^{13} & 6.01627776 \\times 10^{15} & 5.07514271 \\times 10^{18} \\\\\n",
        " \\hline\n",
        " n^2 & 10000 & 77460 & 600000 & 2939388 & 56156923 & 561569230 & 17758378304 \\\\\n",
        " \\hline\n",
        " n^3 & 464 & 1817 & 7114 & 20520 & 146646 & 680668 & 6806683 \\\\\n",
        " \\hline\n",
        " n^4 & 100 & 278 & 775 & 1714 & 7494 & 23697 & 133261 \\\\\n",
        " \\hline\n",
        " 2^n & 26 & 32 & 38 & 42 & 51 & 58 & 68 \\\\\n",
        " \\hline\n",
        " n! & 11 & 12 & 14 & 15 & 17 & 19 & 21 \\\\\n",
        " \\hline\n",
        " n^n & 8 & 9 & 11 & 11 & 13 & 14 & 16 \\\\\n",
        " \\hline\n",
        "\\end{array}\n",
        "$$"
      ]
    },
    {
      "cell_type": "markdown",
      "source": [
        "$\\bf{ Time\\ Complexity\\ \\lg(n) }$"
      ],
      "metadata": {
        "id": "XdSyrvQjp2Fx"
      }
    },
    {
      "cell_type": "code",
      "source": [
        "val = 10**8\n",
        "import math\n",
        "print(\"Second  = 2^\", \"{:.8E}\".format(val))\n",
        "print(\"Minute  = 2^\", \"{:.8E}\".format(60*(val)))\n",
        "print(\"Hour  = 2^\", \"{:.8E}\".format(60*60*(val)))\n",
        "print(\"Day  = 2^\", \"{:.8E}\".format(60*60*24*(val)))\n",
        "print(\"Year  = 2^\", \"{:.8E}\".format(365*24*60*60*(val)))\n",
        "print(\"Century  = 2^\", \"{:.8E}\".format(100*365*24*60*60*(val)))\n",
        "print(\"Mileniun  = 2^\", \"{:.8E}\".format(1000*100*365*24*60*60*(val)))"
      ],
      "metadata": {
        "colab": {
          "base_uri": "https://localhost:8080/"
        },
        "outputId": "82008e8b-3448-4bd3-e38a-60a75251d3cf",
        "id": "O0e0ylMMpnzH"
      },
      "execution_count": null,
      "outputs": [
        {
          "output_type": "stream",
          "name": "stdout",
          "text": [
            "Second  = 2^ 1.00000000E+08\n",
            "Minute  = 2^ 6.00000000E+09\n",
            "Hour  = 2^ 3.60000000E+11\n",
            "Day  = 2^ 8.64000000E+12\n",
            "Year  = 2^ 3.15360000E+15\n",
            "Century  = 2^ 3.15360000E+17\n",
            "Mileniun  = 2^ 3.15360000E+20\n"
          ]
        }
      ]
    },
    {
      "cell_type": "markdown",
      "source": [
        "$\\bf{ Time\\ Complexity\\ \\lg^2(n) }$\n"
      ],
      "metadata": {
        "id": "p3h4j9VYrJjW"
      }
    },
    {
      "cell_type": "code",
      "source": [
        "print(\"Second 2^{\",round(math.sqrt(val)),\"}\")\n",
        "print(\"Minute 2^{\",round(math.sqrt(60*(val))),\"}\")\n",
        "print(\"Hour 2^{\",round(math.sqrt(60*60*(val))),\"}\")\n",
        "print(\"Day 2^{\",round(math.sqrt(24*60*60*(val))),\"}\")\n",
        "print(\"Year 2^{\",round(math.sqrt(365*24*60*60*(val))),\"}\")\n",
        "print(\"Century 2^{\",round(math.sqrt(100*365*24*60*60*(val))),\"}\")\n",
        "print(\"Mileniun 2^{\",round(math.sqrt(1000*100*365*24*60*60*(val))),\"}\")"
      ],
      "metadata": {
        "colab": {
          "base_uri": "https://localhost:8080/"
        },
        "id": "-4cPO1KJrIRK",
        "outputId": "a05c4151-65a7-4c6e-d444-ec96bd1abc8e"
      },
      "execution_count": null,
      "outputs": [
        {
          "output_type": "stream",
          "name": "stdout",
          "text": [
            "Second 2^{ 10000 }\n",
            "Minute 2^{ 77460 }\n",
            "Hour 2^{ 600000 }\n",
            "Day 2^{ 2939388 }\n",
            "Year 2^{ 56156923 }\n",
            "Century 2^{ 561569230 }\n",
            "Mileniun 2^{ 17758378304 }\n"
          ]
        }
      ]
    },
    {
      "cell_type": "markdown",
      "source": [
        "$\\bf{ Time\\ Complexity\\ \\sqrt{n} }$"
      ],
      "metadata": {
        "id": "sMxP91c9rnjo"
      }
    },
    {
      "cell_type": "code",
      "source": [
        "print(\"Second \", \"{:.8E}\".format(math.pow(val,2)))\n",
        "print(\"Minute  \",\"{:.8E}\".format(math.pow(60*val,2)))\n",
        "print(\"Hour \",\"{:.8E}\".format(math.pow(60*60*val,2)))\n",
        "print(\"Day \",\"{:.8E}\".format(math.pow(24*60*60*val,2)))\n",
        "print(\"Year \",\"{:.8E}\".format(math.pow(365*24*60*60*val,2)))\n",
        "print(\"Century \",\"{:.8E}\".format(math.pow(100*365*24*60*60*val,2)))\n",
        "print(\"Mileniun  \",\"{:.8E}\".format(math.pow(1000*100*365*24*60*60*val,2)))"
      ],
      "metadata": {
        "colab": {
          "base_uri": "https://localhost:8080/"
        },
        "id": "5HCsYe5TrpyH",
        "outputId": "504be45b-9484-461b-fda8-04af67f4792c"
      },
      "execution_count": null,
      "outputs": [
        {
          "output_type": "stream",
          "name": "stdout",
          "text": [
            "Second  1.00000000E+16\n",
            "Minute   3.60000000E+19\n",
            "Hour  1.29600000E+23\n",
            "Day  7.46496000E+25\n",
            "Year  9.94519296E+30\n",
            "Century  9.94519296E+34\n",
            "Mileniun   9.94519296E+40\n"
          ]
        }
      ]
    },
    {
      "cell_type": "markdown",
      "source": [
        "$\\bf{ Time\\ Complexity\\ n }$"
      ],
      "metadata": {
        "id": "z3eDRgflrqNm"
      }
    },
    {
      "cell_type": "code",
      "source": [
        "print(\"Second \", \"{:.8E}\".format(val))\n",
        "print(\"Minute  \",\"{:.8E}\".format(60*val))\n",
        "print(\"Hour \",\"{:.8E}\".format(60*60*val))\n",
        "print(\"Day \",\"{:.8E}\".format(24*60*60*val))\n",
        "print(\"Year \",\"{:.8E}\".format(365*24*60*60*val))\n",
        "print(\"Century \",\"{:.8E}\".format(100*365*24*60*60*val))\n",
        "print(\"Mileniun  \",\"{:.8E}\".format(1000*100*365*24*60*60*val))"
      ],
      "metadata": {
        "colab": {
          "base_uri": "https://localhost:8080/"
        },
        "id": "VNsThAHcrsSE",
        "outputId": "008af7fb-749a-4c50-a83e-5834c0800bc5"
      },
      "execution_count": null,
      "outputs": [
        {
          "output_type": "stream",
          "name": "stdout",
          "text": [
            "Second  1.00000000E+08\n",
            "Minute   6.00000000E+09\n",
            "Hour  3.60000000E+11\n",
            "Day  8.64000000E+12\n",
            "Year  3.15360000E+15\n",
            "Century  3.15360000E+17\n",
            "Mileniun   3.15360000E+20\n"
          ]
        }
      ]
    },
    {
      "cell_type": "markdown",
      "source": [
        "$\\bf{ Time\\ Complexity\\ n\\lg{n} }$"
      ],
      "metadata": {
        "id": "m2xLsLZZruko"
      }
    },
    {
      "cell_type": "code",
      "source": [
        "def f(n):\n",
        "  return n*math.log2(n)\n",
        "\n",
        "\n",
        "def find(f,v):\n",
        "  l = 1\n",
        "  r = v\n",
        "  while True:\n",
        "    m = int((l+r)/2)\n",
        "    if ((f(m+1) > v) and (f(m) <= v) ) or (l == m) or  (r == m):\n",
        "      return int(m)\n",
        "    elif f(m) < v:\n",
        "      l = m\n",
        "    else:\n",
        "      r = m\n",
        "\n",
        "print(\"Second \", find(f,val),\" = \", \"{:.8E}\".format(find(f,val )))\n",
        "print(\"Minute  \",find(f,60*val),\" = \", \"{:.8E}\".format(find(f,60*val)))\n",
        "print(\"Hour \",find(f,60*60*val),\" = \", \"{:.8E}\".format(find(f,60*60*val )))\n",
        "print(\"Day \",find(f,24*60*60*val),\" = \", \"{:.8E}\".format(find(f,24*60*60*val )) )\n",
        "print(\"Year \",find(f,365*24*60*60*val ),\" = \", \"{:.8E}\".format(find(f,365*24*60*60*val )) )\n",
        "print(\"Century \",find(f,100*365*24*60*60*val ),\" = \", \"{:.8E}\".format(find(f,100*365*24*60*60*val )) )\n",
        "print(\"Mileniun \",find(f,1000*100*365*24*60*60*val ),\" = \", \"{:.8E}\".format(find(f,1000*100*365*24*60*60*val )) )\n"
      ],
      "metadata": {
        "colab": {
          "base_uri": "https://localhost:8080/"
        },
        "id": "qWVIxqHyr08W",
        "outputId": "5ec0abd8-beab-4e18-c2d8-c5dfe80ae3b4"
      },
      "execution_count": null,
      "outputs": [
        {
          "output_type": "stream",
          "name": "stdout",
          "text": [
            "Second  4523071  =  4.52307100E+06\n",
            "Minute   216677120  =  2.16677120E+08\n",
            "Hour  10800938300  =  1.08009383E+10\n",
            "Day  228957337705  =  2.28957338E+11\n",
            "Year  68610956750570  =  6.86109568E+13\n",
            "Century  6016277763015247  =  6.01627776E+15\n",
            "Mileniun  5075142713362522112  =  5.07514271E+18\n"
          ]
        }
      ]
    },
    {
      "cell_type": "markdown",
      "source": [
        "$\\bf{ Time\\ Complexity\\ n^2}$"
      ],
      "metadata": {
        "id": "bd45w5Tir5nH"
      }
    },
    {
      "cell_type": "code",
      "source": [
        "print(\"Second \",round(math.sqrt(val )))\n",
        "print(\"Minute  \",round(math.sqrt(60*val )))\n",
        "print(\"Hour \",round(math.sqrt(60*60*val )))\n",
        "print(\"Day \",round(math.sqrt(24*60*60*val )))\n",
        "print(\"Year \",round(math.sqrt(365*24*60*60*val )))\n",
        "print(\"Century \",round(math.sqrt(100*365*24*60*60*val )))\n",
        "print(\"Mileniun \",round(math.sqrt(1000*100*365*24*60*60*val )))"
      ],
      "metadata": {
        "colab": {
          "base_uri": "https://localhost:8080/"
        },
        "id": "HP2xcpbPr8md",
        "outputId": "bbff43c8-553d-437f-9fec-e495ae806425"
      },
      "execution_count": null,
      "outputs": [
        {
          "output_type": "stream",
          "name": "stdout",
          "text": [
            "Second  10000\n",
            "Minute   77460\n",
            "Hour  600000\n",
            "Day  2939388\n",
            "Year  56156923\n",
            "Century  561569230\n",
            "Mileniun  17758378304\n"
          ]
        }
      ]
    },
    {
      "cell_type": "markdown",
      "source": [
        "$\\bf{ Time\\ Complexity\\ n^3 }$"
      ],
      "metadata": {
        "id": "VntsrInXr-q5"
      }
    },
    {
      "cell_type": "code",
      "source": [
        "print(\"Second \",round(math.pow(val ,1/3)))\n",
        "print(\"Minute  \",round(math.pow(60*val ,1/3)))\n",
        "print(\"Hour \",round(math.pow(60*60*val ,1/3)))\n",
        "print(\"Day \",round(math.pow(24*60*60*val ,1/3)))\n",
        "print(\"Year \",round(math.pow(365*24*60*60*val ,1/3)))\n",
        "print(\"Century \",round(math.pow(100*365*24*60*60*val ,1/3)))\n",
        "print(\"Mileniun \",round(math.pow(1000*100*365*24*60*60*val ,1/3)))"
      ],
      "metadata": {
        "colab": {
          "base_uri": "https://localhost:8080/"
        },
        "id": "ITy7Br5GzC_b",
        "outputId": "5ebe121d-5c7c-4d3c-c9b3-c91e5c689f65"
      },
      "execution_count": null,
      "outputs": [
        {
          "output_type": "stream",
          "name": "stdout",
          "text": [
            "Second  464\n",
            "Minute   1817\n",
            "Hour  7114\n",
            "Day  20520\n",
            "Year  146646\n",
            "Century  680668\n",
            "Mileniun  6806683\n"
          ]
        }
      ]
    },
    {
      "cell_type": "markdown",
      "source": [
        "$\\bf{ Time\\ Complexity\\ n^4 }$"
      ],
      "metadata": {
        "id": "XzoJWKqZzNWy"
      }
    },
    {
      "cell_type": "code",
      "source": [
        "print(\"Second \",round(math.pow(val ,1/4)))\n",
        "print(\"Minute  \",round(math.pow(60*val ,1/4)))\n",
        "print(\"Hour \",round(math.pow(60*60*val ,1/4)))\n",
        "print(\"Day \",round(math.pow(24*60*60*val ,1/4)))\n",
        "print(\"Year \",round(math.pow(365*24*60*60*val ,1/4)))\n",
        "print(\"Century \",round(math.pow(100*365*24*60*60*val ,1/4)))\n",
        "print(\"Mileniun \",round(math.pow(1000*100*365*24*60*60*val ,1/4)))"
      ],
      "metadata": {
        "colab": {
          "base_uri": "https://localhost:8080/"
        },
        "id": "kHForhbvzRFZ",
        "outputId": "1268ad50-daf0-4ced-a6a8-0b860b23a924"
      },
      "execution_count": null,
      "outputs": [
        {
          "output_type": "stream",
          "name": "stdout",
          "text": [
            "Second  100\n",
            "Minute   278\n",
            "Hour  775\n",
            "Day  1714\n",
            "Year  7494\n",
            "Century  23697\n",
            "Mileniun  133261\n"
          ]
        }
      ]
    },
    {
      "cell_type": "markdown",
      "source": [
        "$\\bf{ Time\\ Complexity\\ 2^n }$"
      ],
      "metadata": {
        "id": "61Gelu7KzTSf"
      }
    },
    {
      "cell_type": "code",
      "source": [
        "print(\"Second \",int(math.log2(val )))\n",
        "print(\"Minute  \",int(math.log2(60*val )))\n",
        "print(\"Hour \",int(math.log2(60*60*val )))\n",
        "print(\"Day \",int(math.log2(24*60*60*val )))\n",
        "print(\"Year \",int(math.log2(365*24*60*60*val )))\n",
        "print(\"Century \",int(math.log2(100*365*24*60*60*val )))\n",
        "print(\"Mileniun \",int(math.log2(1000*100*365*24*60*60*val )))"
      ],
      "metadata": {
        "colab": {
          "base_uri": "https://localhost:8080/"
        },
        "id": "NnWilSjZzSyq",
        "outputId": "d293faa2-969b-4207-e21e-afad91db044d"
      },
      "execution_count": null,
      "outputs": [
        {
          "output_type": "stream",
          "name": "stdout",
          "text": [
            "Second  26\n",
            "Minute   32\n",
            "Hour  38\n",
            "Day  42\n",
            "Year  51\n",
            "Century  58\n",
            "Mileniun  68\n"
          ]
        }
      ]
    },
    {
      "cell_type": "markdown",
      "source": [
        "$\\bf{ Time\\ Complexity\\ n! }$"
      ],
      "metadata": {
        "id": "kRL7bWU1zYNe"
      }
    },
    {
      "cell_type": "code",
      "source": [
        "def f(n):\n",
        "  return math.factorial(n)\n",
        "\n",
        "def find(f,v):\n",
        "  l = 1\n",
        "  r = 100\n",
        "  while True:\n",
        "    m = int((l+r)/2)\n",
        "    if ((f(m+1) > v) and (f(m) <= v) ) or (l == m) or (r== m):\n",
        "      return int(m)\n",
        "    elif f(m) < v:\n",
        "      l = m\n",
        "    else:\n",
        "      r = m\n",
        "\n",
        "\n",
        "print(\"Second \", find(f,val ))\n",
        "print(\"Minute  \",find(f,60*val ))\n",
        "print(\"Hour \",find(f,60*60*val ))\n",
        "print(\"Day \",find(f,24*60*60*val))\n",
        "print(\"Year \",find(f,365*24*60*60*val ))\n",
        "print(\"Century \",find(f,100*365*24*60*60*val ))\n",
        "print(\"Mileniun \",find(f,1000*100*365*24*60*60*val ))"
      ],
      "metadata": {
        "colab": {
          "base_uri": "https://localhost:8080/"
        },
        "id": "VE-_T1Z9zYlu",
        "outputId": "72908370-6148-46c0-b7ff-dffc16e621b6"
      },
      "execution_count": null,
      "outputs": [
        {
          "output_type": "stream",
          "name": "stdout",
          "text": [
            "Second  11\n",
            "Minute   12\n",
            "Hour  14\n",
            "Day  15\n",
            "Year  17\n",
            "Century  19\n",
            "Mileniun  21\n"
          ]
        }
      ]
    },
    {
      "cell_type": "markdown",
      "source": [
        "$\\bf{ Time\\ Complexity\\ n^n }$"
      ],
      "metadata": {
        "id": "EiwAyHvTzf7p"
      }
    },
    {
      "cell_type": "code",
      "source": [
        "def f(n):\n",
        "  return n**n\n",
        "\n",
        "def find(f,v):\n",
        "  l = 1\n",
        "  r = 100\n",
        "  while True:\n",
        "    m = int((l+r)/2)\n",
        "    if ((f(m+1) > v) and (f(m) <= v) ) or (l == m) or (r== m):\n",
        "      return int(m)\n",
        "    elif f(m) < v:\n",
        "      l = m\n",
        "    else:\n",
        "      r = m\n",
        "\n",
        "print(\"Second \", find(f,val ))\n",
        "print(\"Minute  \",find(f,60*val ))\n",
        "print(\"Hour \",find(f,60*60*val ))\n",
        "print(\"Day \",find(f,24*60*60*val ))\n",
        "print(\"Year \",find(f,365*24*60*60*val ))\n",
        "print(\"Century \",find(f,100*365*24*60*60*val ))\n",
        "print(\"Mileniun \",find(f,1000*100*365*24*60*60*val ))"
      ],
      "metadata": {
        "colab": {
          "base_uri": "https://localhost:8080/"
        },
        "id": "HKSHZpw-zggZ",
        "outputId": "1979f641-c0d9-4b26-b856-094fb425257d"
      },
      "execution_count": null,
      "outputs": [
        {
          "output_type": "stream",
          "name": "stdout",
          "text": [
            "Second  8\n",
            "Minute   9\n",
            "Hour  11\n",
            "Day  11\n",
            "Year  13\n",
            "Century  14\n",
            "Mileniun  16\n"
          ]
        }
      ]
    },
    {
      "cell_type": "markdown",
      "metadata": {
        "id": "9fIs_70_DJWM"
      },
      "source": [
        "# 2.(2.5  nanoseconds by instruction)\n",
        "\n",
        "Asuuming that you can execute a 400 million instructions $400 \\times 10^6$ every second, i.e. each instrcution takes 2.5  nanoseconds, 2.5 $\\eta s  = 2.5 \\times 10^{-9} s$. If you have algorithms take $\\bf{ Time\\ Complexity}$ steps to solve a problem of size $n$ as specified in column one. What is the size of the largest problem that you can solve in the time specified in row one?\n",
        "$$\n",
        "\\begin{array}{|c|c|c|c|c|c|c|c|}\n",
        " \\hline\n",
        " \\bf{Time Complexity} & Second & Minute & Hour & Day & Year & Century & Mileniun \\\\\n",
        " \\hline\n",
        " \\lg(n) & 2^{2.5 \\times 10^9} & 2^{1.5 \\times 10^{11}} & 2^{9 \\times 10^{12}} & 2^{2.16 \\times 10^{14}} & 2^{7.884 \\times 10^{16}} & 2^{7.884 \\times 10^{18}} & 2^{7.884 \\times 10^{21}} \\\\\n",
        " \\hline\n",
        " \\lg^2(n) & 2^{5 \\times 10^4} & 2^{3.87298 \\times 10^5} & 2^{3 \\times 10^6} & 2^{1.4696938 \\times 10^7} & 2^{2.80784615 \\times 10^8} & 2^{2.80784615 \\times 10^9} & 2^{8.8791891522 \\times 10^{10}} \\\\\n",
        " \\hline\n",
        " \\sqrt{n} & 6.25 \\times 10^{18} & 2.25 \\times 10^{22} & 8.1 \\times 10^{25} & 4.6656 \\times 10^{28} & 6.2157456 \\times 10^{33} & 6.2157456 \\times 10^{37} & 6.2157456 \\times 10^{43} \\\\\n",
        " \\hline\n",
        " n & 2.5 \\times 10^9 & 1.5 \\times 10^{11} & 9 \\times 10^{12} & 2.16 \\times 10^{14} & 7.884 \\times 10^{16} & 7.884 \\times 10^{18} & 7.884 \\times 10^{21} \\\\\n",
        " \\hline\n",
        " n\\lg(n) & 9.4368799 \\times 10^7 & 4.66988019 \\times 10^9 & 2.38139247 \\times 10^{11} & 5.11627318 \\times 10^{12} & 1.5620432 \\times 10^{15} & 1.38456172 \\times 10^{17} & 1.18235944 \\times 10^{20} \\\\\n",
        " \\hline\n",
        " n^2 & 50000 & 387298 & 3000000 & 14696938 & 280784615 & 2807846150 & 88791891522 \\\\\n",
        " \\hline\n",
        " n^3 & 1357 & 5313 & 20801 & 60000 & 428794 & 1990286 & 19902862 \\\\\n",
        " \\hline\n",
        " n^4 & 224 & 622 & 1732 & 3834 & 16757 & 52989 & 297980 \\\\\n",
        " \\hline\n",
        " 2^n & 31 & 37 & 43 & 47 & 56 & 62 & 72 \\\\\n",
        " \\hline\n",
        " n! & 12 & 14 & 15 & 16 & 18 & 20 & 22 \\\\\n",
        " \\hline\n",
        " n^n & 9 & 10 & 12 & 12 & 14 & 15 & 17 \\\\\n",
        " \\hline\n",
        "\\end{array}\n",
        "$$"
      ]
    },
    {
      "cell_type": "markdown",
      "source": [
        "$\\bf{ Time\\ Complexity\\ \\lg(n) }$"
      ],
      "metadata": {
        "id": "1PdDb-0kp5f1"
      }
    },
    {
      "cell_type": "code",
      "source": [
        "val = 2.5*10**9\n",
        "import math\n",
        "print(\"Second  = 2^\", \"{:.8E}\".format(val))\n",
        "print(\"Minute  = 2^\", \"{:.8E}\".format(60*(val)))\n",
        "print(\"Hour  = 2^\", \"{:.8E}\".format(60*60*(val)))\n",
        "print(\"Day  = 2^\", \"{:.8E}\".format(60*60*24*(val)))\n",
        "print(\"Year  = 2^\", \"{:.8E}\".format(365*24*60*60*(val)))\n",
        "print(\"Century  = 2^\", \"{:.8E}\".format(100*365*24*60*60*(val)))\n",
        "print(\"Mileniun  = 2^\", \"{:.8E}\".format(1000*100*365*24*60*60*(val)))"
      ],
      "metadata": {
        "colab": {
          "base_uri": "https://localhost:8080/"
        },
        "id": "N7MXV4z0qIWM",
        "outputId": "56d566dc-23d3-476a-cea4-8582da1eaa48"
      },
      "execution_count": null,
      "outputs": [
        {
          "output_type": "stream",
          "name": "stdout",
          "text": [
            "Second  = 2^ 2.50000000E+09\n",
            "Minute  = 2^ 1.50000000E+11\n",
            "Hour  = 2^ 9.00000000E+12\n",
            "Day  = 2^ 2.16000000E+14\n",
            "Year  = 2^ 7.88400000E+16\n",
            "Century  = 2^ 7.88400000E+18\n",
            "Mileniun  = 2^ 7.88400000E+21\n"
          ]
        }
      ]
    },
    {
      "cell_type": "markdown",
      "source": [
        "$\\bf{ Time\\ Complexity\\ \\lg^2(n) }$\n"
      ],
      "metadata": {
        "id": "g6xl57Q50m4E"
      }
    },
    {
      "cell_type": "code",
      "source": [
        "print(\"Second 2^{\",round(math.sqrt(val)),\"}\")\n",
        "print(\"Minute 2^{\",round(math.sqrt(60*(val))),\"}\")\n",
        "print(\"Hour 2^{\",round(math.sqrt(60*60*(val))),\"}\")\n",
        "print(\"Day 2^{\",round(math.sqrt(24*60*60*(val))),\"}\")\n",
        "print(\"Year 2^{\",round(math.sqrt(365*24*60*60*(val))),\"}\")\n",
        "print(\"Century 2^{\",round(math.sqrt(100*365*24*60*60*(val))),\"}\")\n",
        "print(\"Mileniun 2^{\",round(math.sqrt(1000*100*365*24*60*60*(val))),\"}\")"
      ],
      "metadata": {
        "colab": {
          "base_uri": "https://localhost:8080/"
        },
        "id": "yV3ZsMwd0n4X",
        "outputId": "e1e681dd-2211-4e57-89c9-72de406ec85d"
      },
      "execution_count": null,
      "outputs": [
        {
          "output_type": "stream",
          "name": "stdout",
          "text": [
            "Second 2^{ 50000 }\n",
            "Minute 2^{ 387298 }\n",
            "Hour 2^{ 3000000 }\n",
            "Day 2^{ 14696938 }\n",
            "Year 2^{ 280784615 }\n",
            "Century 2^{ 2807846150 }\n",
            "Mileniun 2^{ 88791891522 }\n"
          ]
        }
      ]
    },
    {
      "cell_type": "markdown",
      "source": [
        "$\\bf{ Time\\ Complexity\\ \\sqrt{n} }$"
      ],
      "metadata": {
        "id": "qc615l_Szjiv"
      }
    },
    {
      "cell_type": "code",
      "source": [
        "print(\"Second \", \"{:.8E}\".format(math.pow(val,2)))\n",
        "print(\"Minute  \",\"{:.8E}\".format(math.pow(60*val,2)))\n",
        "print(\"Hour \",\"{:.8E}\".format(math.pow(60*60*val,2)))\n",
        "print(\"Day \",\"{:.8E}\".format(math.pow(24*60*60*val,2)))\n",
        "print(\"Year \",\"{:.8E}\".format(math.pow(365*24*60*60*val,2)))\n",
        "print(\"Century \",\"{:.8E}\".format(math.pow(100*365*24*60*60*val,2)))\n",
        "print(\"Mileniun  \",\"{:.8E}\".format(math.pow(1000*100*365*24*60*60*val,2)))"
      ],
      "metadata": {
        "colab": {
          "base_uri": "https://localhost:8080/"
        },
        "id": "Xg3EIRx_0oXt",
        "outputId": "d80332f3-1756-49c9-fb6c-217c9733e107"
      },
      "execution_count": null,
      "outputs": [
        {
          "output_type": "stream",
          "name": "stdout",
          "text": [
            "Second  6.25000000E+18\n",
            "Minute   2.25000000E+22\n",
            "Hour  8.10000000E+25\n",
            "Day  4.66560000E+28\n",
            "Year  6.21574560E+33\n",
            "Century  6.21574560E+37\n",
            "Mileniun   6.21574560E+43\n"
          ]
        }
      ]
    },
    {
      "cell_type": "markdown",
      "source": [
        "$\\bf{ Time\\ Complexity\\ n }$"
      ],
      "metadata": {
        "id": "_2WYeNjgBKKR"
      }
    },
    {
      "cell_type": "code",
      "source": [
        "print(\"Second \", \"{:.8E}\".format(val))\n",
        "print(\"Minute  \",\"{:.8E}\".format(60*val))\n",
        "print(\"Hour \",\"{:.8E}\".format(60*60*val))\n",
        "print(\"Day \",\"{:.8E}\".format(24*60*60*val))\n",
        "print(\"Year \",\"{:.8E}\".format(365*24*60*60*val))\n",
        "print(\"Century \",\"{:.8E}\".format(100*365*24*60*60*val))\n",
        "print(\"Mileniun  \",\"{:.8E}\".format(1000*100*365*24*60*60*val))"
      ],
      "metadata": {
        "colab": {
          "base_uri": "https://localhost:8080/"
        },
        "id": "DMzwqvuMBKeE",
        "outputId": "c63bf0d1-1ba5-490e-af05-64e051dee0d9"
      },
      "execution_count": null,
      "outputs": [
        {
          "output_type": "stream",
          "name": "stdout",
          "text": [
            "Second  2.50000000E+09\n",
            "Minute   1.50000000E+11\n",
            "Hour  9.00000000E+12\n",
            "Day  2.16000000E+14\n",
            "Year  7.88400000E+16\n",
            "Century  7.88400000E+18\n",
            "Mileniun   7.88400000E+21\n"
          ]
        }
      ]
    },
    {
      "cell_type": "markdown",
      "source": [
        "$\\bf{ Time\\ Complexity\\ n\\lg{n} }$"
      ],
      "metadata": {
        "id": "SIeUtIHqBKrN"
      }
    },
    {
      "cell_type": "code",
      "source": [
        "def f(n):\n",
        "  return n*math.log2(n)\n",
        "\n",
        "\n",
        "def find(f,v):\n",
        "  l = 1\n",
        "  r = v\n",
        "  while True:\n",
        "    m = int((l+r)/2)\n",
        "    if ((f(m+1) > v) and (f(m) <= v) ) or (l == m) or  (r == m):\n",
        "      return int(m)\n",
        "    elif f(m) < v:\n",
        "      l = m\n",
        "    else:\n",
        "      r = m\n",
        "\n",
        "print(\"Second \", find(f,val),\" = \", \"{:.8E}\".format(find(f,val )))\n",
        "print(\"Minute  \",find(f,60*val),\" = \", \"{:.8E}\".format(find(f,60*val)))\n",
        "print(\"Hour \",find(f,60*60*val),\" = \", \"{:.8E}\".format(find(f,60*60*val )))\n",
        "print(\"Day \",find(f,24*60*60*val),\" = \", \"{:.8E}\".format(find(f,24*60*60*val )) )\n",
        "print(\"Year \",find(f,365*24*60*60*val ),\" = \", \"{:.8E}\".format(find(f,365*24*60*60*val )) )\n",
        "print(\"Century \",find(f,100*365*24*60*60*val ),\" = \", \"{:.8E}\".format(find(f,100*365*24*60*60*val )) )\n",
        "print(\"Mileniun \",find(f,1000*100*365*24*60*60*val ),\" = \", \"{:.8E}\".format(find(f,1000*100*365*24*60*60*val )) )"
      ],
      "metadata": {
        "colab": {
          "base_uri": "https://localhost:8080/"
        },
        "id": "ISXicm6fBLBe",
        "outputId": "6890162a-6a09-4fa2-c3a2-5f05c0b580b4"
      },
      "execution_count": null,
      "outputs": [
        {
          "output_type": "stream",
          "name": "stdout",
          "text": [
            "Second  94368799  =  9.43687990E+07\n",
            "Minute   4669880193  =  4.66988019E+09\n",
            "Hour  238139246923  =  2.38139247E+11\n",
            "Day  5116273177934  =  5.11627318E+12\n",
            "Year  1562043197517483  =  1.56204320E+15\n",
            "Century  138456171937759968  =  1.38456172E+17\n",
            "Mileniun  118235943866898644992  =  1.18235944E+20\n"
          ]
        }
      ]
    },
    {
      "cell_type": "markdown",
      "source": [
        "$\\bf{ Time\\ Complexity\\ n^2}$"
      ],
      "metadata": {
        "id": "KWo4pLWUBX-6"
      }
    },
    {
      "cell_type": "code",
      "source": [
        "print(\"Second \",round(math.sqrt(val )))\n",
        "print(\"Minute  \",round(math.sqrt(60*val )))\n",
        "print(\"Hour \",round(math.sqrt(60*60*val )))\n",
        "print(\"Day \",round(math.sqrt(24*60*60*val )))\n",
        "print(\"Year \",round(math.sqrt(365*24*60*60*val )))\n",
        "print(\"Century \",round(math.sqrt(100*365*24*60*60*val )))\n",
        "print(\"Mileniun \",round(math.sqrt(1000*100*365*24*60*60*val )))"
      ],
      "metadata": {
        "colab": {
          "base_uri": "https://localhost:8080/"
        },
        "id": "RYV-OnGaBYRh",
        "outputId": "fe902b14-d3f4-4ae8-9e4d-01266af0772a"
      },
      "execution_count": null,
      "outputs": [
        {
          "output_type": "stream",
          "name": "stdout",
          "text": [
            "Second  50000\n",
            "Minute   387298\n",
            "Hour  3000000\n",
            "Day  14696938\n",
            "Year  280784615\n",
            "Century  2807846150\n",
            "Mileniun  88791891522\n"
          ]
        }
      ]
    },
    {
      "cell_type": "markdown",
      "source": [
        "$\\bf{ Time\\ Complexity\\ n^3 }$"
      ],
      "metadata": {
        "id": "MZVQabuOBYnM"
      }
    },
    {
      "cell_type": "code",
      "source": [
        "print(\"Second \",round(math.pow(val ,1/3)))\n",
        "print(\"Minute  \",round(math.pow(60*val ,1/3)))\n",
        "print(\"Hour \",round(math.pow(60*60*val ,1/3)))\n",
        "print(\"Day \",round(math.pow(24*60*60*val ,1/3)))\n",
        "print(\"Year \",round(math.pow(365*24*60*60*val ,1/3)))\n",
        "print(\"Century \",round(math.pow(100*365*24*60*60*val ,1/3)))\n",
        "print(\"Mileniun \",round(math.pow(1000*100*365*24*60*60*val ,1/3)))"
      ],
      "metadata": {
        "colab": {
          "base_uri": "https://localhost:8080/"
        },
        "id": "ha0808RKBY4o",
        "outputId": "ec9a9110-4ef8-49cd-df50-8be763bbdcc7"
      },
      "execution_count": null,
      "outputs": [
        {
          "output_type": "stream",
          "name": "stdout",
          "text": [
            "Second  1357\n",
            "Minute   5313\n",
            "Hour  20801\n",
            "Day  60000\n",
            "Year  428794\n",
            "Century  1990286\n",
            "Mileniun  19902862\n"
          ]
        }
      ]
    },
    {
      "cell_type": "markdown",
      "source": [
        "$\\bf{ Time\\ Complexity\\ n^4 }$"
      ],
      "metadata": {
        "id": "DltPN-OABioG"
      }
    },
    {
      "cell_type": "code",
      "source": [
        "print(\"Second \",round(math.pow(val ,1/4)))\n",
        "print(\"Minute  \",round(math.pow(60*val ,1/4)))\n",
        "print(\"Hour \",round(math.pow(60*60*val ,1/4)))\n",
        "print(\"Day \",round(math.pow(24*60*60*val ,1/4)))\n",
        "print(\"Year \",round(math.pow(365*24*60*60*val ,1/4)))\n",
        "print(\"Century \",round(math.pow(100*365*24*60*60*val ,1/4)))\n",
        "print(\"Mileniun \",round(math.pow(1000*100*365*24*60*60*val ,1/4)))"
      ],
      "metadata": {
        "colab": {
          "base_uri": "https://localhost:8080/"
        },
        "id": "3PUlG6m9BjBS",
        "outputId": "4a6489d6-b32d-4707-ae61-a2add93ab002"
      },
      "execution_count": null,
      "outputs": [
        {
          "output_type": "stream",
          "name": "stdout",
          "text": [
            "Second  224\n",
            "Minute   622\n",
            "Hour  1732\n",
            "Day  3834\n",
            "Year  16757\n",
            "Century  52989\n",
            "Mileniun  297980\n"
          ]
        }
      ]
    },
    {
      "cell_type": "markdown",
      "source": [
        "$\\bf{ Time\\ Complexity\\ 2^n }$"
      ],
      "metadata": {
        "id": "iEn-7MJyBjYa"
      }
    },
    {
      "cell_type": "code",
      "source": [
        "print(\"Second \",int(math.log2(val )))\n",
        "print(\"Minute  \",int(math.log2(60*val )))\n",
        "print(\"Hour \",int(math.log2(60*60*val )))\n",
        "print(\"Day \",int(math.log2(24*60*60*val )))\n",
        "print(\"Year \",int(math.log2(365*24*60*60*val )))\n",
        "print(\"Century \",int(math.log2(100*365*24*60*60*val )))\n",
        "print(\"Mileniun \",int(math.log2(1000*100*365*24*60*60*val )))"
      ],
      "metadata": {
        "colab": {
          "base_uri": "https://localhost:8080/"
        },
        "id": "thRO3szbBj-N",
        "outputId": "969ed664-882b-4f02-be2c-2b878b9504b1"
      },
      "execution_count": null,
      "outputs": [
        {
          "output_type": "stream",
          "name": "stdout",
          "text": [
            "Second  31\n",
            "Minute   37\n",
            "Hour  43\n",
            "Day  47\n",
            "Year  56\n",
            "Century  62\n",
            "Mileniun  72\n"
          ]
        }
      ]
    },
    {
      "cell_type": "markdown",
      "source": [
        "$\\bf{ Time\\ Complexity\\ n! }$"
      ],
      "metadata": {
        "id": "gA6kb_qABuPg"
      }
    },
    {
      "cell_type": "code",
      "source": [
        "def f(n):\n",
        "  return math.factorial(n)\n",
        "\n",
        "def find(f,v):\n",
        "  l = 1\n",
        "  r = 100\n",
        "  while True:\n",
        "    m = int((l+r)/2)\n",
        "    if ((f(m+1) > v) and (f(m) <= v) ) or (l == m) or (r== m):\n",
        "      return int(m)\n",
        "    elif f(m) < v:\n",
        "      l = m\n",
        "    else:\n",
        "      r = m\n",
        "\n",
        "\n",
        "print(\"Second \", find(f,val ))\n",
        "print(\"Minute  \",find(f,60*val ))\n",
        "print(\"Hour \",find(f,60*60*val ))\n",
        "print(\"Day \",find(f,24*60*60*val))\n",
        "print(\"Year \",find(f,365*24*60*60*val ))\n",
        "print(\"Century \",find(f,100*365*24*60*60*val ))\n",
        "print(\"Mileniun \",find(f,1000*100*365*24*60*60*val ))"
      ],
      "metadata": {
        "colab": {
          "base_uri": "https://localhost:8080/"
        },
        "id": "-YB0kJt-Buwr",
        "outputId": "a40e8971-b311-40e1-cab4-373a780d4d31"
      },
      "execution_count": null,
      "outputs": [
        {
          "output_type": "stream",
          "name": "stdout",
          "text": [
            "Second  12\n",
            "Minute   14\n",
            "Hour  15\n",
            "Day  16\n",
            "Year  18\n",
            "Century  20\n",
            "Mileniun  22\n"
          ]
        }
      ]
    },
    {
      "cell_type": "markdown",
      "source": [
        "$\\bf{ Time\\ Complexity\\ n^n }$"
      ],
      "metadata": {
        "id": "IkUL_2xeB0_7"
      }
    },
    {
      "cell_type": "code",
      "source": [
        "def f(n):\n",
        "  return n**n\n",
        "\n",
        "def find(f,v):\n",
        "  l = 1\n",
        "  r = 100\n",
        "  while True:\n",
        "    m = int((l+r)/2)\n",
        "    if ((f(m+1) > v) and (f(m) <= v) ) or (l == m) or (r== m):\n",
        "      return int(m)\n",
        "    elif f(m) < v:\n",
        "      l = m\n",
        "    else:\n",
        "      r = m\n",
        "\n",
        "print(\"Second \", find(f,val ))\n",
        "print(\"Minute  \",find(f,60*val ))\n",
        "print(\"Hour \",find(f,60*60*val ))\n",
        "print(\"Day \",find(f,24*60*60*val ))\n",
        "print(\"Year \",find(f,365*24*60*60*val ))\n",
        "print(\"Century \",find(f,100*365*24*60*60*val ))\n",
        "print(\"Mileniun \",find(f,1000*100*365*24*60*60*val ))"
      ],
      "metadata": {
        "colab": {
          "base_uri": "https://localhost:8080/"
        },
        "id": "ddLZfdQKB1YT",
        "outputId": "40f5e2aa-6075-4e9f-ba0e-3a572b92004a"
      },
      "execution_count": null,
      "outputs": [
        {
          "output_type": "stream",
          "name": "stdout",
          "text": [
            "Second  9\n",
            "Minute   10\n",
            "Hour  12\n",
            "Day  12\n",
            "Year  14\n",
            "Century  15\n",
            "Mileniun  17\n"
          ]
        }
      ]
    },
    {
      "cell_type": "markdown",
      "metadata": {
        "id": "kwpTH36ZIyQJ"
      },
      "source": [
        "# 3. (1 noneosecond by instruction)\n",
        "\n",
        "Asuuming that you can execute a 1000 million instructions $10^9$ every second, i.e. each instrcution takes 1  nanosecond, 1 $\\eta s  = 10^{-9} s$. If you have algorithms take $\\bf{ Time\\ Complexity}$ steps to solve a problem of size $n$ as specified in column one. What is the size of the largest problem that you can solve in the time specified in row one?\n",
        "$$\n",
        "\\begin{array}{|c|c|c|c|c|c|c|c|}\n",
        " \\hline\n",
        " \\bf{Time Complexity} & Second & Minute & Hour & Day & Year & Century & Mileniun \\\\\n",
        " \\hline\n",
        " \\lg(n) & 2^{10^9} & 2^{6 \\times 10^{10}} & 2^{3.6 \\times 10^{12}} & 2^{8.64 \\times 10^{13}} & 2^{3.1536 \\times 10^{16}} & 2^{3.1536 \\times 10^{18}} & 2^{3.1536 \\times 10^{21}} \\\\\n",
        " \\hline\n",
        " \\lg^2(n) & 2^{31623} & 2^{244949} & 2^{1897367} & 2^{9295160} & 2^{177583783} & 2^{1775837830} & 2^{56156922993} \\\\\n",
        " \\hline\n",
        " \\sqrt{n} & 10^{18} & 3.6 \\times 10^{21} & 1.296 \\times 10^{25} & 7.46496 \\times 10^{27} & 9.94519296 \\times 10^{32} & 9.94519296 \\times 10^{36} & 9.94519296 \\times 10^{42} \\\\\n",
        " \\hline\n",
        " n & 10^9 & 6 \\times 10^{10} & 3.6 \\times 10^{12} & 8.64 \\times 10^{13} & 3.1536 \\times 10^{16} & 3.1536 \\times 10^{18} & 3.1536 \\times 10^{21} \\\\\n",
        " \\hline\n",
        " n\\lg(n) & 3.9620077 \\times 10^7 & 1.94447045 \\times 10^9 & 9.85747745 \\times 10^{10} & 2.11037274 \\times 10^{12} & 6.41136862 \\times 10^{14} & 5.66650934 \\times 10^{16} & 4.82300896 \\times 10^{19} \\\\\n",
        " \\hline\n",
        " n^2 & 31623 & 244949 & 1897367 & 9295160 & 177583783 & 1775837830 & 56156922993 \\\\\n",
        " \\hline\n",
        " n^3 & 1000 & 3915 & 15326 & 44208 & 315938 & 1466455 & 14664554 \\\\\n",
        " \\hline\n",
        " n^4 & 178 & 495 & 1377 & 3049 & 13326 & 42141 & 236975 \\\\\n",
        " \\hline\n",
        " 2^n & 29 & 35 & 41 & 46 & 54 & 61 & 71 \\\\\n",
        " \\hline\n",
        " n! & 12 & 13 & 15 & 16 & 18 & 20 & 22 \\\\\n",
        " \\hline\n",
        " n^n & 9 & 10 & 11 & 12 & 14 & 15 & 17 \\\\\n",
        " \\hline\n",
        "\\end{array}\n",
        "$$"
      ]
    },
    {
      "cell_type": "markdown",
      "source": [
        "$\\bf{ Time\\ Complexity\\ \\lg(n) }$"
      ],
      "metadata": {
        "id": "l9GbSacpB61J"
      }
    },
    {
      "cell_type": "code",
      "source": [
        "val = 10**9\n",
        "import math\n",
        "print(\"Second  = 2^\", \"{:.8E}\".format(val))\n",
        "print(\"Minute  = 2^\", \"{:.8E}\".format(60*(val)))\n",
        "print(\"Hour  = 2^\", \"{:.8E}\".format(60*60*(val)))\n",
        "print(\"Day  = 2^\", \"{:.8E}\".format(60*60*24*(val)))\n",
        "print(\"Year  = 2^\", \"{:.8E}\".format(365*24*60*60*(val)))\n",
        "print(\"Century  = 2^\", \"{:.8E}\".format(100*365*24*60*60*(val)))\n",
        "print(\"Mileniun  = 2^\", \"{:.8E}\".format(1000*100*365*24*60*60*(val)))"
      ],
      "metadata": {
        "colab": {
          "base_uri": "https://localhost:8080/"
        },
        "id": "1rjYnynpB7I_",
        "outputId": "fcee1ee3-5940-451a-efc5-ed9b4e4857a0"
      },
      "execution_count": null,
      "outputs": [
        {
          "output_type": "stream",
          "name": "stdout",
          "text": [
            "Second  = 2^ 1.00000000E+09\n",
            "Minute  = 2^ 6.00000000E+10\n",
            "Hour  = 2^ 3.60000000E+12\n",
            "Day  = 2^ 8.64000000E+13\n",
            "Year  = 2^ 3.15360000E+16\n",
            "Century  = 2^ 3.15360000E+18\n",
            "Mileniun  = 2^ 3.15360000E+21\n"
          ]
        }
      ]
    },
    {
      "cell_type": "markdown",
      "source": [
        "$\\bf{ Time\\ Complexity\\ \\lg^2(n) }$"
      ],
      "metadata": {
        "id": "RfUBH_nFHdRp"
      }
    },
    {
      "cell_type": "code",
      "source": [
        "print(\"Second 2^{\",round(math.sqrt(val)),\"}\")\n",
        "print(\"Minute 2^{\",round(math.sqrt(60*(val))),\"}\")\n",
        "print(\"Hour 2^{\",round(math.sqrt(60*60*(val))),\"}\")\n",
        "print(\"Day 2^{\",round(math.sqrt(24*60*60*(val))),\"}\")\n",
        "print(\"Year 2^{\",round(math.sqrt(365*24*60*60*(val))),\"}\")\n",
        "print(\"Century 2^{\",round(math.sqrt(100*365*24*60*60*(val))),\"}\")\n",
        "print(\"Mileniun 2^{\",round(math.sqrt(1000*100*365*24*60*60*(val))),\"}\")"
      ],
      "metadata": {
        "colab": {
          "base_uri": "https://localhost:8080/"
        },
        "id": "KRdWy4pyHdjM",
        "outputId": "1635656b-9e45-4f3e-c031-2cab3452a85e"
      },
      "execution_count": null,
      "outputs": [
        {
          "output_type": "stream",
          "name": "stdout",
          "text": [
            "Second 2^{ 31623 }\n",
            "Minute 2^{ 244949 }\n",
            "Hour 2^{ 1897367 }\n",
            "Day 2^{ 9295160 }\n",
            "Year 2^{ 177583783 }\n",
            "Century 2^{ 1775837830 }\n",
            "Mileniun 2^{ 56156922993 }\n"
          ]
        }
      ]
    },
    {
      "cell_type": "markdown",
      "source": [
        "$\\bf{ Time\\ Complexity\\ \\sqrt{n} }$"
      ],
      "metadata": {
        "id": "u0olsyC0Hd1q"
      }
    },
    {
      "cell_type": "code",
      "source": [
        "print(\"Second \", \"{:.8E}\".format(math.pow(val,2)))\n",
        "print(\"Minute  \",\"{:.8E}\".format(math.pow(60*val,2)))\n",
        "print(\"Hour \",\"{:.8E}\".format(math.pow(60*60*val,2)))\n",
        "print(\"Day \",\"{:.8E}\".format(math.pow(24*60*60*val,2)))\n",
        "print(\"Year \",\"{:.8E}\".format(math.pow(365*24*60*60*val,2)))\n",
        "print(\"Century \",\"{:.8E}\".format(math.pow(100*365*24*60*60*val,2)))\n",
        "print(\"Mileniun  \",\"{:.8E}\".format(math.pow(1000*100*365*24*60*60*val,2)))"
      ],
      "metadata": {
        "colab": {
          "base_uri": "https://localhost:8080/"
        },
        "id": "n07u-O1ZHeJx",
        "outputId": "786065e8-33ca-457a-dafc-77e886246f38"
      },
      "execution_count": null,
      "outputs": [
        {
          "output_type": "stream",
          "name": "stdout",
          "text": [
            "Second  1.00000000E+18\n",
            "Minute   3.60000000E+21\n",
            "Hour  1.29600000E+25\n",
            "Day  7.46496000E+27\n",
            "Year  9.94519296E+32\n",
            "Century  9.94519296E+36\n",
            "Mileniun   9.94519296E+42\n"
          ]
        }
      ]
    },
    {
      "cell_type": "markdown",
      "source": [
        "$\\bf{ Time\\ Complexity\\ n }$"
      ],
      "metadata": {
        "id": "LQy1vXukHeUl"
      }
    },
    {
      "cell_type": "code",
      "source": [
        "print(\"Second \", \"{:.8E}\".format(val))\n",
        "print(\"Minute  \",\"{:.8E}\".format(60*val))\n",
        "print(\"Hour \",\"{:.8E}\".format(60*60*val))\n",
        "print(\"Day \",\"{:.8E}\".format(24*60*60*val))\n",
        "print(\"Year \",\"{:.8E}\".format(365*24*60*60*val))\n",
        "print(\"Century \",\"{:.8E}\".format(100*365*24*60*60*val))\n",
        "print(\"Mileniun  \",\"{:.8E}\".format(1000*100*365*24*60*60*val))"
      ],
      "metadata": {
        "colab": {
          "base_uri": "https://localhost:8080/"
        },
        "id": "ayOZvanOHemL",
        "outputId": "8f0ed180-52e2-45cd-eb83-90d3fa852d23"
      },
      "execution_count": null,
      "outputs": [
        {
          "output_type": "stream",
          "name": "stdout",
          "text": [
            "Second  1.00000000E+09\n",
            "Minute   6.00000000E+10\n",
            "Hour  3.60000000E+12\n",
            "Day  8.64000000E+13\n",
            "Year  3.15360000E+16\n",
            "Century  3.15360000E+18\n",
            "Mileniun   3.15360000E+21\n"
          ]
        }
      ]
    },
    {
      "cell_type": "markdown",
      "source": [
        "$\\bf{ Time\\ Complexity\\ n\\lg{n} }$"
      ],
      "metadata": {
        "id": "OO4ujdegHfBd"
      }
    },
    {
      "cell_type": "code",
      "source": [
        "def f(n):\n",
        "  return n*math.log2(n)\n",
        "\n",
        "\n",
        "def find(f,v):\n",
        "  l = 1\n",
        "  r = v\n",
        "  while True:\n",
        "    m = int((l+r)/2)\n",
        "    if ((f(m+1) > v) and (f(m) <= v) ) or (l == m) or  (r == m):\n",
        "      return int(m)\n",
        "    elif f(m) < v:\n",
        "      l = m\n",
        "    else:\n",
        "      r = m\n",
        "\n",
        "print(\"Second \", find(f,val),\" = \", \"{:.8E}\".format(find(f,val )))\n",
        "print(\"Minute  \",find(f,60*val),\" = \", \"{:.8E}\".format(find(f,60*val)))\n",
        "print(\"Hour \",find(f,60*60*val),\" = \", \"{:.8E}\".format(find(f,60*60*val )))\n",
        "print(\"Day \",find(f,24*60*60*val),\" = \", \"{:.8E}\".format(find(f,24*60*60*val )) )\n",
        "print(\"Year \",find(f,365*24*60*60*val ),\" = \", \"{:.8E}\".format(find(f,365*24*60*60*val )) )\n",
        "print(\"Century \",find(f,100*365*24*60*60*val ),\" = \", \"{:.8E}\".format(find(f,100*365*24*60*60*val )) )\n",
        "print(\"Mileniun \",find(f,1000*100*365*24*60*60*val ),\" = \", \"{:.8E}\".format(find(f,1000*100*365*24*60*60*val )) )\n"
      ],
      "metadata": {
        "colab": {
          "base_uri": "https://localhost:8080/"
        },
        "id": "tskzVaw6HfUP",
        "outputId": "874c8ef5-6ece-48aa-961f-b8bf7f583661"
      },
      "execution_count": null,
      "outputs": [
        {
          "output_type": "stream",
          "name": "stdout",
          "text": [
            "Second  39620077  =  3.96200770E+07\n",
            "Minute   1944470450  =  1.94447045E+09\n",
            "Hour  98574774544  =  9.85747745E+10\n",
            "Day  2110372739876  =  2.11037274E+12\n",
            "Year  641136862352841  =  6.41136862E+14\n",
            "Century  56665093434063120  =  5.66650934E+16\n",
            "Mileniun  48230089612197773312  =  4.82300896E+19\n"
          ]
        }
      ]
    },
    {
      "cell_type": "markdown",
      "source": [
        "$\\bf{ Time\\ Complexity\\ n^2}$"
      ],
      "metadata": {
        "id": "nvn2d6EhHfiM"
      }
    },
    {
      "cell_type": "code",
      "source": [
        "print(\"Second \",round(math.sqrt(val )))\n",
        "print(\"Minute  \",round(math.sqrt(60*val )))\n",
        "print(\"Hour \",round(math.sqrt(60*60*val )))\n",
        "print(\"Day \",round(math.sqrt(24*60*60*val )))\n",
        "print(\"Year \",round(math.sqrt(365*24*60*60*val )))\n",
        "print(\"Century \",round(math.sqrt(100*365*24*60*60*val )))\n",
        "print(\"Mileniun \",round(math.sqrt(1000*100*365*24*60*60*val )))"
      ],
      "metadata": {
        "colab": {
          "base_uri": "https://localhost:8080/"
        },
        "id": "sghNePcCHgFA",
        "outputId": "4a44f954-6a73-4e5f-fa1f-1b7ba85237e9"
      },
      "execution_count": null,
      "outputs": [
        {
          "output_type": "stream",
          "name": "stdout",
          "text": [
            "Second  31623\n",
            "Minute   244949\n",
            "Hour  1897367\n",
            "Day  9295160\n",
            "Year  177583783\n",
            "Century  1775837830\n",
            "Mileniun  56156922993\n"
          ]
        }
      ]
    },
    {
      "cell_type": "markdown",
      "source": [
        "$\\bf{ Time\\ Complexity\\ n^3 }$"
      ],
      "metadata": {
        "id": "1vBtPSAyHgZQ"
      }
    },
    {
      "cell_type": "code",
      "source": [
        "print(\"Second \",round(math.pow(val ,1/3)))\n",
        "print(\"Minute  \",round(math.pow(60*val ,1/3)))\n",
        "print(\"Hour \",round(math.pow(60*60*val ,1/3)))\n",
        "print(\"Day \",round(math.pow(24*60*60*val ,1/3)))\n",
        "print(\"Year \",round(math.pow(365*24*60*60*val ,1/3)))\n",
        "print(\"Century \",round(math.pow(100*365*24*60*60*val ,1/3)))\n",
        "print(\"Mileniun \",round(math.pow(1000*100*365*24*60*60*val ,1/3)))"
      ],
      "metadata": {
        "colab": {
          "base_uri": "https://localhost:8080/"
        },
        "id": "o9r2EuRuHgrI",
        "outputId": "2fa76346-3de0-4dbb-cc23-02be6999239e"
      },
      "execution_count": null,
      "outputs": [
        {
          "output_type": "stream",
          "name": "stdout",
          "text": [
            "Second  1000\n",
            "Minute   3915\n",
            "Hour  15326\n",
            "Day  44208\n",
            "Year  315938\n",
            "Century  1466455\n",
            "Mileniun  14664554\n"
          ]
        }
      ]
    },
    {
      "cell_type": "markdown",
      "source": [
        "$\\bf{ Time\\ Complexity\\ n^4 }$"
      ],
      "metadata": {
        "id": "StfAuuz9ImJO"
      }
    },
    {
      "cell_type": "code",
      "source": [
        "print(\"Second \",round(math.pow(val ,1/4)))\n",
        "print(\"Minute  \",round(math.pow(60*val ,1/4)))\n",
        "print(\"Hour \",round(math.pow(60*60*val ,1/4)))\n",
        "print(\"Day \",round(math.pow(24*60*60*val ,1/4)))\n",
        "print(\"Year \",round(math.pow(365*24*60*60*val ,1/4)))\n",
        "print(\"Century \",round(math.pow(100*365*24*60*60*val ,1/4)))\n",
        "print(\"Mileniun \",round(math.pow(1000*100*365*24*60*60*val ,1/4)))"
      ],
      "metadata": {
        "colab": {
          "base_uri": "https://localhost:8080/"
        },
        "id": "EWGtuz0MIjN3",
        "outputId": "a216a2be-2c84-4802-916e-01306f386c67"
      },
      "execution_count": null,
      "outputs": [
        {
          "output_type": "stream",
          "name": "stdout",
          "text": [
            "Second  178\n",
            "Minute   495\n",
            "Hour  1377\n",
            "Day  3049\n",
            "Year  13326\n",
            "Century  42141\n",
            "Mileniun  236975\n"
          ]
        }
      ]
    },
    {
      "cell_type": "markdown",
      "source": [
        "$\\bf{ Time\\ Complexity\\ 2^n }$"
      ],
      "metadata": {
        "id": "XR3Up-KyIonW"
      }
    },
    {
      "cell_type": "code",
      "source": [
        "print(\"Second \",int(math.log2(val )))\n",
        "print(\"Minute  \",int(math.log2(60*val )))\n",
        "print(\"Hour \",int(math.log2(60*60*val )))\n",
        "print(\"Day \",int(math.log2(24*60*60*val )))\n",
        "print(\"Year \",int(math.log2(365*24*60*60*val )))\n",
        "print(\"Century \",int(math.log2(100*365*24*60*60*val )))\n",
        "print(\"Mileniun \",int(math.log2(1000*100*365*24*60*60*val )))"
      ],
      "metadata": {
        "colab": {
          "base_uri": "https://localhost:8080/"
        },
        "id": "ut5dLOPBIqny",
        "outputId": "6c426cf3-f845-404c-e0ab-32e83959f118"
      },
      "execution_count": null,
      "outputs": [
        {
          "output_type": "stream",
          "name": "stdout",
          "text": [
            "Second  29\n",
            "Minute   35\n",
            "Hour  41\n",
            "Day  46\n",
            "Year  54\n",
            "Century  61\n",
            "Mileniun  71\n"
          ]
        }
      ]
    },
    {
      "cell_type": "markdown",
      "source": [
        "$\\bf{ Time\\ Complexity\\ n! }$"
      ],
      "metadata": {
        "id": "2LcWjqISIrDq"
      }
    },
    {
      "cell_type": "code",
      "source": [
        "def f(n):\n",
        "  return math.factorial(n)\n",
        "\n",
        "def find(f,v):\n",
        "  l = 1\n",
        "  r = 100\n",
        "  while True:\n",
        "    m = int((l+r)/2)\n",
        "    if ((f(m+1) > v) and (f(m) <= v) ) or (l == m) or (r== m):\n",
        "      return int(m)\n",
        "    elif f(m) < v:\n",
        "      l = m\n",
        "    else:\n",
        "      r = m\n",
        "\n",
        "\n",
        "print(\"Second \", find(f,val ))\n",
        "print(\"Minute  \",find(f,60*val ))\n",
        "print(\"Hour \",find(f,60*60*val ))\n",
        "print(\"Day \",find(f,24*60*60*val))\n",
        "print(\"Year \",find(f,365*24*60*60*val ))\n",
        "print(\"Century \",find(f,100*365*24*60*60*val ))\n",
        "print(\"Mileniun \",find(f,1000*100*365*24*60*60*val ))"
      ],
      "metadata": {
        "colab": {
          "base_uri": "https://localhost:8080/"
        },
        "id": "ExLxNUMcIrlN",
        "outputId": "a873d9db-a9eb-4ae2-8719-2c1d5f5500ab"
      },
      "execution_count": null,
      "outputs": [
        {
          "output_type": "stream",
          "name": "stdout",
          "text": [
            "Second  12\n",
            "Minute   13\n",
            "Hour  15\n",
            "Day  16\n",
            "Year  18\n",
            "Century  20\n",
            "Mileniun  22\n"
          ]
        }
      ]
    },
    {
      "cell_type": "markdown",
      "source": [
        "$\\bf{ Time\\ Complexity\\ n^n }$"
      ],
      "metadata": {
        "id": "tNZH6-52Iq7O"
      }
    },
    {
      "cell_type": "code",
      "source": [
        "def f(n):\n",
        "  return n**n\n",
        "\n",
        "def find(f,v):\n",
        "  l = 1\n",
        "  r = 100\n",
        "  while True:\n",
        "    m = int((l+r)/2)\n",
        "    if ((f(m+1) > v) and (f(m) <= v) ) or (l == m) or (r== m):\n",
        "      return int(m)\n",
        "    elif f(m) < v:\n",
        "      l = m\n",
        "    else:\n",
        "      r = m\n",
        "\n",
        "print(\"Second \", find(f,val ))\n",
        "print(\"Minute  \",find(f,60*val ))\n",
        "print(\"Hour \",find(f,60*60*val ))\n",
        "print(\"Day \",find(f,24*60*60*val ))\n",
        "print(\"Year \",find(f,365*24*60*60*val ))\n",
        "print(\"Century \",find(f,100*365*24*60*60*val ))\n",
        "print(\"Mileniun \",find(f,1000*100*365*24*60*60*val ))"
      ],
      "metadata": {
        "colab": {
          "base_uri": "https://localhost:8080/"
        },
        "id": "l5zxN5UiIzW6",
        "outputId": "ad27e382-0bb3-42de-d849-156ada14d18b"
      },
      "execution_count": null,
      "outputs": [
        {
          "output_type": "stream",
          "name": "stdout",
          "text": [
            "Second  9\n",
            "Minute   10\n",
            "Hour  11\n",
            "Day  12\n",
            "Year  14\n",
            "Century  15\n",
            "Mileniun  17\n"
          ]
        }
      ]
    }
  ]
}