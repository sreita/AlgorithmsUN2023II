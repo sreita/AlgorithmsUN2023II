{
  "cells": [
    {
      "cell_type": "markdown",
      "metadata": {
        "id": "view-in-github",
        "colab_type": "text"
      },
      "source": [
        "<a href=\"https://colab.research.google.com/github/sreita/AlgorithmsUN2024I/blob/main/Lab4/sreitaGroup7Lab4.ipynb\" target=\"_parent\"><img src=\"https://colab.research.google.com/assets/colab-badge.svg\" alt=\"Open In Colab\"/></a>"
      ]
    },
    {
      "cell_type": "code",
      "execution_count": null,
      "metadata": {
        "colab": {
          "base_uri": "https://localhost:8080/"
        },
        "id": "im-VVd1__7VU",
        "outputId": "a1d2277d-ef0b-4057-d404-7468366ec2f1"
      },
      "outputs": [
        {
          "name": "stdout",
          "output_type": "stream",
          "text": [
            "processor\t: 0\n",
            "vendor_id\t: GenuineIntel\n",
            "cpu family\t: 6\n",
            "model\t\t: 79\n",
            "model name\t: Intel(R) Xeon(R) CPU @ 2.20GHz\n",
            "stepping\t: 0\n",
            "microcode\t: 0xffffffff\n",
            "cpu MHz\t\t: 2199.998\n",
            "cache size\t: 56320 KB\n",
            "physical id\t: 0\n",
            "siblings\t: 2\n",
            "core id\t\t: 0\n",
            "cpu cores\t: 1\n",
            "apicid\t\t: 0\n",
            "initial apicid\t: 0\n",
            "fpu\t\t: yes\n",
            "fpu_exception\t: yes\n",
            "cpuid level\t: 13\n",
            "wp\t\t: yes\n",
            "flags\t\t: fpu vme de pse tsc msr pae mce cx8 apic sep mtrr pge mca cmov pat pse36 clflush mmx fxsr sse sse2 ss ht syscall nx pdpe1gb rdtscp lm constant_tsc rep_good nopl xtopology nonstop_tsc cpuid tsc_known_freq pni pclmulqdq ssse3 fma cx16 pcid sse4_1 sse4_2 x2apic movbe popcnt aes xsave avx f16c rdrand hypervisor lahf_lm abm 3dnowprefetch invpcid_single ssbd ibrs ibpb stibp fsgsbase tsc_adjust bmi1 hle avx2 smep bmi2 erms invpcid rtm rdseed adx smap xsaveopt arat md_clear arch_capabilities\n",
            "bugs\t\t: cpu_meltdown spectre_v1 spectre_v2 spec_store_bypass l1tf mds swapgs taa mmio_stale_data retbleed\n",
            "bogomips\t: 4399.99\n",
            "clflush size\t: 64\n",
            "cache_alignment\t: 64\n",
            "address sizes\t: 46 bits physical, 48 bits virtual\n",
            "power management:\n",
            "\n",
            "processor\t: 1\n",
            "vendor_id\t: GenuineIntel\n",
            "cpu family\t: 6\n",
            "model\t\t: 79\n",
            "model name\t: Intel(R) Xeon(R) CPU @ 2.20GHz\n",
            "stepping\t: 0\n",
            "microcode\t: 0xffffffff\n",
            "cpu MHz\t\t: 2199.998\n",
            "cache size\t: 56320 KB\n",
            "physical id\t: 0\n",
            "siblings\t: 2\n",
            "core id\t\t: 0\n",
            "cpu cores\t: 1\n",
            "apicid\t\t: 1\n",
            "initial apicid\t: 1\n",
            "fpu\t\t: yes\n",
            "fpu_exception\t: yes\n",
            "cpuid level\t: 13\n",
            "wp\t\t: yes\n",
            "flags\t\t: fpu vme de pse tsc msr pae mce cx8 apic sep mtrr pge mca cmov pat pse36 clflush mmx fxsr sse sse2 ss ht syscall nx pdpe1gb rdtscp lm constant_tsc rep_good nopl xtopology nonstop_tsc cpuid tsc_known_freq pni pclmulqdq ssse3 fma cx16 pcid sse4_1 sse4_2 x2apic movbe popcnt aes xsave avx f16c rdrand hypervisor lahf_lm abm 3dnowprefetch invpcid_single ssbd ibrs ibpb stibp fsgsbase tsc_adjust bmi1 hle avx2 smep bmi2 erms invpcid rtm rdseed adx smap xsaveopt arat md_clear arch_capabilities\n",
            "bugs\t\t: cpu_meltdown spectre_v1 spectre_v2 spec_store_bypass l1tf mds swapgs taa mmio_stale_data retbleed\n",
            "bogomips\t: 4399.99\n",
            "clflush size\t: 64\n",
            "cache_alignment\t: 64\n",
            "address sizes\t: 46 bits physical, 48 bits virtual\n",
            "power management:\n",
            "\n"
          ]
        }
      ],
      "source": [
        "!cat /proc/cpuinfo"
      ]
    },
    {
      "cell_type": "markdown",
      "metadata": {
        "id": "N1ok_-56OjB1"
      },
      "source": [
        "# I Solving the Sum of Two Digits Programming Challenge"
      ]
    },
    {
      "cell_type": "markdown",
      "metadata": {
        "id": "MMY7kmDSO0KM"
      },
      "source": [
        "## C++"
      ]
    },
    {
      "cell_type": "code",
      "execution_count": null,
      "metadata": {
        "colab": {
          "base_uri": "https://localhost:8080/"
        },
        "id": "2pGGf9BkPNIk",
        "outputId": "92e52c16-5d54-42d9-e669-3ef8b9379bcb"
      },
      "outputs": [
        {
          "name": "stdout",
          "output_type": "stream",
          "text": [
            "Writing APlusB.cpp\n"
          ]
        }
      ],
      "source": [
        "%%writefile APlusB.cpp\n",
        "#include <iostream>\n",
        "\n",
        "int sum_of_two_digits(int first_digit, int second_digit) {\n",
        "    return first_digit + second_digit;\n",
        "}\n",
        "\n",
        "int main() {\n",
        "    int a = 0;\n",
        "    int b = 0;\n",
        "    std::cin >> a;\n",
        "    std::cin >> b;\n",
        "    std::cout << sum_of_two_digits(a, b);\n",
        "    return 0;\n",
        "}"
      ]
    },
    {
      "cell_type": "code",
      "execution_count": null,
      "metadata": {
        "colab": {
          "base_uri": "https://localhost:8080/"
        },
        "id": "0G3ZKOYAPXSU",
        "outputId": "d99b46cb-6dd2-447a-8d26-39900fe0abd8"
      },
      "outputs": [
        {
          "name": "stdout",
          "output_type": "stream",
          "text": [
            "1\n",
            "2\n",
            "3"
          ]
        }
      ],
      "source": [
        "!g++ APlusB.cpp -o APlusB -std=c++11\n",
        "!./APlusB"
      ]
    },
    {
      "cell_type": "markdown",
      "metadata": {
        "id": "iNkG2HqfTl9c"
      },
      "source": [
        "### Test input output files"
      ]
    },
    {
      "cell_type": "code",
      "execution_count": null,
      "metadata": {
        "colab": {
          "base_uri": "https://localhost:8080/"
        },
        "id": "aTzU2efzMxly",
        "outputId": "046b43f1-9ed7-4bfa-d669-8c34afa630eb"
      },
      "outputs": [
        {
          "name": "stdout",
          "output_type": "stream",
          "text": [
            "Writing input1.txt\n"
          ]
        }
      ],
      "source": [
        "%%writefile input1.txt\n",
        "4 8"
      ]
    },
    {
      "cell_type": "code",
      "execution_count": null,
      "metadata": {
        "colab": {
          "base_uri": "https://localhost:8080/"
        },
        "id": "zBJ0Gc0NQRet",
        "outputId": "9d48eca5-ac0a-41e2-eabd-9707db61d42c"
      },
      "outputs": [
        {
          "name": "stdout",
          "output_type": "stream",
          "text": [
            "Writing output1.txt\n"
          ]
        }
      ],
      "source": [
        "%%writefile output1.txt\n",
        "12"
      ]
    },
    {
      "cell_type": "code",
      "execution_count": null,
      "metadata": {
        "colab": {
          "base_uri": "https://localhost:8080/"
        },
        "id": "IjEcIx63PJAN",
        "outputId": "03b77321-8c7c-4bc0-81e2-bbade2bf09a2"
      },
      "outputs": [
        {
          "name": "stdout",
          "output_type": "stream",
          "text": [
            "Writing input2.txt\n"
          ]
        }
      ],
      "source": [
        "%%writefile input2.txt\n",
        "0 9"
      ]
    },
    {
      "cell_type": "code",
      "execution_count": null,
      "metadata": {
        "colab": {
          "base_uri": "https://localhost:8080/"
        },
        "id": "Up9gOrxURTmd",
        "outputId": "7746de65-6ad4-4719-fae3-d7ac016152d1"
      },
      "outputs": [
        {
          "name": "stdout",
          "output_type": "stream",
          "text": [
            "Writing output2.txt\n"
          ]
        }
      ],
      "source": [
        "%%writefile output2.txt\n",
        "9"
      ]
    },
    {
      "cell_type": "code",
      "execution_count": null,
      "metadata": {
        "colab": {
          "base_uri": "https://localhost:8080/"
        },
        "id": "PST6G-s-Pwgc",
        "outputId": "2d8b4d4b-dbc4-42fa-eef5-f24a204898d7"
      },
      "outputs": [
        {
          "name": "stdout",
          "output_type": "stream",
          "text": [
            "12"
          ]
        }
      ],
      "source": [
        "!./APlusB < input1.txt"
      ]
    },
    {
      "cell_type": "code",
      "execution_count": null,
      "metadata": {
        "colab": {
          "base_uri": "https://localhost:8080/"
        },
        "id": "cKxZOjSlRfIN",
        "outputId": "2082f51b-00c6-466a-c10b-55a5f3575521"
      },
      "outputs": [
        {
          "name": "stdout",
          "output_type": "stream",
          "text": [
            "9"
          ]
        }
      ],
      "source": [
        "!./APlusB < input2.txt"
      ]
    },
    {
      "cell_type": "markdown",
      "metadata": {
        "id": "Qw2TQWCCUwqk"
      },
      "source": [
        "### Comparing files with grep\n",
        "\n",
        "https://askubuntu.com/questions/546796/comparing-two-text-files"
      ]
    },
    {
      "cell_type": "code",
      "execution_count": null,
      "metadata": {
        "id": "WVIaAmMKU4QM"
      },
      "outputs": [],
      "source": [
        "!grep -xvFf output1.txt output1.txt"
      ]
    },
    {
      "cell_type": "code",
      "execution_count": null,
      "metadata": {
        "colab": {
          "base_uri": "https://localhost:8080/"
        },
        "id": "MQU8gPPjQuYO",
        "outputId": "e4e0e20f-cb98-4714-9f75-36a72f258b57"
      },
      "outputs": [
        {
          "name": "stdout",
          "output_type": "stream",
          "text": [
            "9\n"
          ]
        }
      ],
      "source": [
        "!grep -xvFf output1.txt output2.txt"
      ]
    },
    {
      "cell_type": "code",
      "execution_count": null,
      "metadata": {
        "colab": {
          "base_uri": "https://localhost:8080/"
        },
        "id": "jYL9OuYBTD_l",
        "outputId": "81e10eb3-6570-4da3-c612-6ac2e21ef0e7"
      },
      "outputs": [
        {
          "name": "stdout",
          "output_type": "stream",
          "text": [
            "12\n"
          ]
        }
      ],
      "source": [
        "!grep -xvFf output2.txt output1.txt"
      ]
    },
    {
      "cell_type": "code",
      "execution_count": null,
      "metadata": {
        "id": "Jlja0Xm4TX9M"
      },
      "outputs": [],
      "source": [
        "!./APlusB < input1.txt> ctest1.txt\n",
        "!grep -xvFf output1.txt ctest1.txt"
      ]
    },
    {
      "cell_type": "code",
      "execution_count": null,
      "metadata": {
        "id": "g9OIUZA_QLCQ"
      },
      "outputs": [],
      "source": [
        "!./APlusB < input2.txt > ctest2.txt\n",
        "!grep -xvFf output2.txt ctest2.txt"
      ]
    },
    {
      "cell_type": "markdown",
      "metadata": {
        "id": "3BgOaDjUVJk6"
      },
      "source": [
        "## Python"
      ]
    },
    {
      "cell_type": "code",
      "execution_count": null,
      "metadata": {
        "colab": {
          "base_uri": "https://localhost:8080/"
        },
        "id": "DBvl-T0CTN_8",
        "outputId": "bfecc91b-2c7d-461c-8bf1-5ad62010cb7a"
      },
      "outputs": [
        {
          "name": "stdout",
          "output_type": "stream",
          "text": [
            "Writing sum.py\n"
          ]
        }
      ],
      "source": [
        "%%writefile sum.py\n",
        "# python3\n",
        "\n",
        "def sum_of_two_digits(first_digit, second_digit):\n",
        "    return first_digit + second_digit\n",
        "\n",
        "if __name__ == '__main__':\n",
        "    a, b = map(int, input().split())\n",
        "    print(sum_of_two_digits(a, b))"
      ]
    },
    {
      "cell_type": "code",
      "execution_count": null,
      "metadata": {
        "colab": {
          "base_uri": "https://localhost:8080/"
        },
        "id": "QKoKM11_WGyF",
        "outputId": "deb00f2e-5d84-41e8-84db-dec6ce1a2a26"
      },
      "outputs": [
        {
          "name": "stdout",
          "output_type": "stream",
          "text": [
            "1 2\n",
            "3\n"
          ]
        }
      ],
      "source": [
        "!python sum.py"
      ]
    },
    {
      "cell_type": "code",
      "execution_count": null,
      "metadata": {
        "id": "cocFbPRTWrqt"
      },
      "outputs": [],
      "source": [
        "!python sum.py  < input1.txt> ptest1.txt\n",
        "!grep -xvFf output1.txt ptest1.txt"
      ]
    },
    {
      "cell_type": "code",
      "execution_count": null,
      "metadata": {
        "id": "MorKTa-XXASN"
      },
      "outputs": [],
      "source": [
        "!python sum.py  < input2.txt> ptest2.txt\n",
        "!grep -xvFf output2.txt ptest2.txt"
      ]
    },
    {
      "cell_type": "markdown",
      "metadata": {
        "id": "uvP-mOubW_5F"
      },
      "source": [
        "# II Solving The Maximum Pairwise Product Programming Challenge in C++"
      ]
    },
    {
      "cell_type": "markdown",
      "metadata": {
        "id": "C12yoFR6Xonl"
      },
      "source": [
        "## C++\n",
        "\n",
        "$$ T(n) < 6 n^2 = O(n^2)$$"
      ]
    },
    {
      "cell_type": "code",
      "execution_count": null,
      "metadata": {
        "colab": {
          "base_uri": "https://localhost:8080/"
        },
        "id": "3LpfoGv2Ae81",
        "outputId": "f29ac682-474f-4623-866e-73ccbab6006f"
      },
      "outputs": [
        {
          "name": "stdout",
          "output_type": "stream",
          "text": [
            "Writing max_pairwise_product_full.cpp\n"
          ]
        }
      ],
      "source": [
        "%%writefile max_pairwise_product_full.cpp\n",
        "#include <iostream>\n",
        "#include <vector>\n",
        "#include <algorithm>\n",
        "\n",
        "int MaxPairwiseProduct(const std::vector<int>& numbers) {\n",
        "    int max_product = 0;\n",
        "    int aux_product = 0;\n",
        "    int n = numbers.size();\n",
        "\n",
        "    for (int first = 0; first < n; ++first) {\n",
        "        for (int second = 0; second < n; ++second) {\n",
        "          if ( first != second ){\n",
        "                aux_product = numbers[first] * numbers[second];\n",
        "                if (aux_product > max_product)  max_product = aux_product;\n",
        "          }\n",
        "        }\n",
        "    }\n",
        "\n",
        "    return max_product;\n",
        "}\n",
        "\n",
        "int main() {\n",
        "    int n;\n",
        "    std::cin >> n;\n",
        "    std::vector<int> numbers(n);\n",
        "    for (int i = 0; i < n; ++i) {\n",
        "        std::cin >> numbers[i];\n",
        "    }\n",
        "\n",
        "    std::cout << MaxPairwiseProduct(numbers) << \"\\n\";\n",
        "    return 0;\n",
        "}"
      ]
    },
    {
      "cell_type": "markdown",
      "metadata": {
        "id": "m75IQQPbEHBS"
      },
      "source": [
        "#### Time Complexity\n",
        "$$\\left. \\begin{array}{llc}\n",
        " \\text{INSTRUCTION} & \\text{TYPE}& \\text{# EXECUTIONS}\\\\\n",
        "\\text{first != second} &  \\text{comparisons} &n^2 \\\\\n",
        "\\text{numbers[first] * numbers[second]}& \\ \\text{ products}  &n^2 - n \\\\\n",
        "\\text{max_product = aux_product} &  \\text{assigments} & [1, \\frac{n^2 - n}{2})  \n",
        "\\end{array}\\right\\}  =  O(n^2)$$"
      ]
    },
    {
      "cell_type": "code",
      "execution_count": null,
      "metadata": {
        "colab": {
          "base_uri": "https://localhost:8080/"
        },
        "id": "PCVo1h6nCF9k",
        "outputId": "45e05043-6458-4029-b058-b241099765a7"
      },
      "outputs": [
        {
          "name": "stdout",
          "output_type": "stream",
          "text": [
            "5\n",
            "1 2 3 4 5\n",
            "20\n"
          ]
        }
      ],
      "source": [
        "!g++ max_pairwise_product_full.cpp -o max_pairwise_product_full\n",
        "!./max_pairwise_product_full"
      ]
    },
    {
      "cell_type": "markdown",
      "metadata": {
        "id": "e7KhxHGNS3i0"
      },
      "source": [
        "### Test 1: Small numbers"
      ]
    },
    {
      "cell_type": "code",
      "execution_count": null,
      "metadata": {
        "colab": {
          "base_uri": "https://localhost:8080/"
        },
        "id": "17npyXt7lYzA",
        "outputId": "3d1b40b8-0837-4d3e-d267-f16fc8b0427f"
      },
      "outputs": [
        {
          "name": "stdout",
          "output_type": "stream",
          "text": [
            "Writing input0.txt\n"
          ]
        }
      ],
      "source": [
        "%%writefile input0.txt\n",
        "10\n",
        "0 0 0 0 0 0 0 0 0 0"
      ]
    },
    {
      "cell_type": "code",
      "execution_count": null,
      "metadata": {
        "colab": {
          "base_uri": "https://localhost:8080/"
        },
        "id": "c7jKCeQ5A1HY",
        "outputId": "3cc9bf53-ab56-4252-baa3-162b6baf395f"
      },
      "outputs": [
        {
          "name": "stdout",
          "output_type": "stream",
          "text": [
            "0\n"
          ]
        }
      ],
      "source": [
        "!./max_pairwise_product_full < input0.txt"
      ]
    },
    {
      "cell_type": "code",
      "execution_count": null,
      "metadata": {
        "colab": {
          "base_uri": "https://localhost:8080/"
        },
        "id": "NooGEkJylezm",
        "outputId": "8dddc684-daf7-42da-90ec-7e2516b3064f"
      },
      "outputs": [
        {
          "name": "stdout",
          "output_type": "stream",
          "text": [
            "Writing output0.txt\n"
          ]
        }
      ],
      "source": [
        "%%writefile output0.txt\n",
        "0"
      ]
    },
    {
      "cell_type": "code",
      "execution_count": null,
      "metadata": {
        "id": "R0yFaAOrlqrE"
      },
      "outputs": [],
      "source": [
        "!./max_pairwise_product_full< input0.txt > ctest0.txt\n",
        "!grep -xvFf output0.txt ctest0.txt"
      ]
    },
    {
      "cell_type": "code",
      "execution_count": null,
      "metadata": {
        "colab": {
          "base_uri": "https://localhost:8080/"
        },
        "id": "e1mmTzBgShT-",
        "outputId": "760c313a-cdf9-493b-9a7e-58c8e3ff3653"
      },
      "outputs": [
        {
          "name": "stdout",
          "output_type": "stream",
          "text": [
            "Overwriting input1.txt\n"
          ]
        }
      ],
      "source": [
        "%%writefile input1.txt\n",
        "10\n",
        "1 2 3 4 5 6 7 8 9 10"
      ]
    },
    {
      "cell_type": "code",
      "execution_count": null,
      "metadata": {
        "colab": {
          "base_uri": "https://localhost:8080/"
        },
        "id": "vy_uI0x7TCId",
        "outputId": "e006d317-40f4-48e7-ad4a-3e42c80069e1"
      },
      "outputs": [
        {
          "name": "stdout",
          "output_type": "stream",
          "text": [
            "90\n"
          ]
        }
      ],
      "source": [
        "!./max_pairwise_product_full < input1.txt"
      ]
    },
    {
      "cell_type": "code",
      "execution_count": null,
      "metadata": {
        "colab": {
          "base_uri": "https://localhost:8080/"
        },
        "id": "xaj6f9bxC6D6",
        "outputId": "e6f995f7-9dc1-4b6a-8c85-8fa4e5beac6a"
      },
      "outputs": [
        {
          "name": "stdout",
          "output_type": "stream",
          "text": [
            "Overwriting output1.txt\n"
          ]
        }
      ],
      "source": [
        "%%writefile output1.txt\n",
        "90"
      ]
    },
    {
      "cell_type": "code",
      "execution_count": null,
      "metadata": {
        "id": "fYCjAdA_C-wy"
      },
      "outputs": [],
      "source": [
        "!./max_pairwise_product_full< input1.txt > ctest1.txt\n",
        "!grep -xvFf output1.txt ctest1.txt"
      ]
    },
    {
      "cell_type": "code",
      "execution_count": null,
      "metadata": {
        "colab": {
          "base_uri": "https://localhost:8080/"
        },
        "id": "ZPe40LY14_6f",
        "outputId": "6274da27-9d11-4d48-8d3c-7b49c9bace7d"
      },
      "outputs": [
        {
          "name": "stdout",
          "output_type": "stream",
          "text": [
            "Overwriting input2.txt\n"
          ]
        }
      ],
      "source": [
        "%%writefile input2.txt\n",
        "10\n",
        "10 9 8 7 6 5 4 3 2 1"
      ]
    },
    {
      "cell_type": "code",
      "execution_count": null,
      "metadata": {
        "colab": {
          "base_uri": "https://localhost:8080/"
        },
        "id": "xiHmF7HA5Faa",
        "outputId": "c5e1cdee-c963-4523-dda3-babf5f491411"
      },
      "outputs": [
        {
          "name": "stdout",
          "output_type": "stream",
          "text": [
            "Overwriting output2.txt\n"
          ]
        }
      ],
      "source": [
        "%%writefile output2.txt\n",
        "90"
      ]
    },
    {
      "cell_type": "code",
      "execution_count": null,
      "metadata": {
        "id": "jjwc9kwb5t_k"
      },
      "outputs": [],
      "source": [
        "!./max_pairwise_product_full< input2.txt > ctest2.txt\n",
        "!grep -xvFf output2.txt ctest2.txt"
      ]
    },
    {
      "cell_type": "markdown",
      "metadata": {
        "id": "IeZ3kTjpYmR9"
      },
      "source": [
        "### Test 2: largest input numbers 200000 200000 to check possible intger overflow"
      ]
    },
    {
      "cell_type": "code",
      "execution_count": null,
      "metadata": {
        "colab": {
          "base_uri": "https://localhost:8080/"
        },
        "id": "LQNlZqaqYt7U",
        "outputId": "f2ff9812-b3fd-41e0-ba9a-ddfcd62a9f80"
      },
      "outputs": [
        {
          "name": "stdout",
          "output_type": "stream",
          "text": [
            "Writing input3.txt\n"
          ]
        }
      ],
      "source": [
        "%%writefile input3.txt\n",
        "6\n",
        "1 3 200000 9 200000 23"
      ]
    },
    {
      "cell_type": "code",
      "execution_count": null,
      "metadata": {
        "colab": {
          "base_uri": "https://localhost:8080/"
        },
        "id": "2Wad2VZUZDxR",
        "outputId": "8f6e5e13-d79e-4104-e3ec-9f3bdf607775"
      },
      "outputs": [
        {
          "name": "stdout",
          "output_type": "stream",
          "text": [
            "1345294336\n"
          ]
        }
      ],
      "source": [
        "!./max_pairwise_product_full < input3.txt"
      ]
    },
    {
      "cell_type": "code",
      "execution_count": null,
      "metadata": {
        "colab": {
          "base_uri": "https://localhost:8080/"
        },
        "id": "EuS6n3jtDK5C",
        "outputId": "254eb49a-67d4-4b1c-afaf-368f89b7ad5c"
      },
      "outputs": [
        {
          "name": "stdout",
          "output_type": "stream",
          "text": [
            "Writing output3.txt\n"
          ]
        }
      ],
      "source": [
        "%%writefile output3.txt\n",
        "1345294336"
      ]
    },
    {
      "cell_type": "code",
      "execution_count": null,
      "metadata": {
        "id": "pEvp1ieyDJGq"
      },
      "outputs": [],
      "source": [
        "!./max_pairwise_product_full < input3.txt > ctest3.txt\n",
        "!grep -xvFf output3.txt ctest3.txt"
      ]
    },
    {
      "cell_type": "code",
      "execution_count": null,
      "metadata": {
        "colab": {
          "base_uri": "https://localhost:8080/"
        },
        "id": "SrtJrKqM-God",
        "outputId": "2e201084-eec1-4082-c5d6-6c6fc64683f8"
      },
      "outputs": [
        {
          "name": "stdout",
          "output_type": "stream",
          "text": [
            "Writing run_all_test.sh\n"
          ]
        }
      ],
      "source": [
        " %%writefile run_all_test.sh\n",
        "#!/bin/bash\n",
        "g++ max_pairwise_product_full.cpp -o max_pairwise_product_full\n",
        "for i in {0..3}\n",
        "do\n",
        "    ./max_pairwise_product_full < input$i.txt > ctest$i.txt\n",
        "    grep -xvFf output$i.txt ctest$i.txt\n",
        "done"
      ]
    },
    {
      "cell_type": "code",
      "execution_count": null,
      "metadata": {
        "id": "wGWMHtzS-QnA"
      },
      "outputs": [],
      "source": [
        "!chmod u+x run_all_test.sh\n",
        "!./run_all_test.sh"
      ]
    },
    {
      "cell_type": "markdown",
      "metadata": {
        "id": "H2SC0Qt5HCzz"
      },
      "source": [
        "### Changing the variables to long long"
      ]
    },
    {
      "cell_type": "code",
      "execution_count": null,
      "metadata": {
        "colab": {
          "base_uri": "https://localhost:8080/"
        },
        "id": "MPcmsxiQZSfE",
        "outputId": "8f1ca7ff-2a6f-45b1-b60b-e4c6709ee6e4"
      },
      "outputs": [
        {
          "name": "stdout",
          "output_type": "stream",
          "text": [
            "Writing max_pairwise_product_long_full.cpp\n"
          ]
        }
      ],
      "source": [
        "%%writefile max_pairwise_product_long_full.cpp\n",
        "#include <iostream>\n",
        "#include <vector>\n",
        "#include <algorithm>\n",
        "\n",
        "long long MaxPairwiseProduct(const std::vector<int>& numbers) {\n",
        "    long long max_product = 0LL;\n",
        "\t  long long aux_product = 0LL;\n",
        "    int n = numbers.size();\n",
        "\n",
        "    for (int first = 0; first < n; ++first) {\n",
        "        for (int second = 0; second < n; ++second) {\n",
        "          if ( first != second){\n",
        "                aux_product = (long long) numbers[first] * numbers[second];\n",
        "                if (aux_product > max_product)  max_product = aux_product;\n",
        "          }\n",
        "        }\n",
        "    }\n",
        "\n",
        "\n",
        "    return max_product;\n",
        "}\n",
        "\n",
        "int main() {\n",
        "    int n;\n",
        "    std::cin >> n;\n",
        "    std::vector<int> numbers(n);\n",
        "    for (int i = 0; i < n; ++i) {\n",
        "        std::cin >> numbers[i];\n",
        "    }\n",
        "\n",
        "    std::cout << MaxPairwiseProduct(numbers) << \"\\n\";\n",
        "    return 0;\n",
        "}\n"
      ]
    },
    {
      "cell_type": "code",
      "execution_count": null,
      "metadata": {
        "id": "W3xQpFXL6wjO"
      },
      "outputs": [],
      "source": [
        "!g++ max_pairwise_product_long_full.cpp -o max_pairwise_product_long_full"
      ]
    },
    {
      "cell_type": "code",
      "execution_count": null,
      "metadata": {
        "colab": {
          "base_uri": "https://localhost:8080/"
        },
        "id": "H5dvN9M3R9sV",
        "outputId": "8dfa03a1-c6a0-4e00-e06c-d14b0d7fdfbc"
      },
      "outputs": [
        {
          "name": "stdout",
          "output_type": "stream",
          "text": [
            "40000000000\n"
          ]
        }
      ],
      "source": [
        "!./max_pairwise_product_long_full < input3.txt"
      ]
    },
    {
      "cell_type": "code",
      "execution_count": null,
      "metadata": {
        "colab": {
          "base_uri": "https://localhost:8080/"
        },
        "id": "H-QFZ0jcWtQA",
        "outputId": "50f6bc25-fff2-43f1-a4a6-382837ee9238"
      },
      "outputs": [
        {
          "name": "stdout",
          "output_type": "stream",
          "text": [
            "Overwriting output3.txt\n"
          ]
        }
      ],
      "source": [
        "%%writefile output3.txt\n",
        "40000000000"
      ]
    },
    {
      "cell_type": "markdown",
      "metadata": {
        "id": "gx-sEYdfQ8f8"
      },
      "source": [
        "### Runing multuple test with a bash shell"
      ]
    },
    {
      "cell_type": "code",
      "execution_count": null,
      "metadata": {
        "colab": {
          "base_uri": "https://localhost:8080/"
        },
        "id": "O9qsq2nn7elw",
        "outputId": "24ab8b7d-ede2-4a82-8d90-a1b646450228"
      },
      "outputs": [
        {
          "name": "stdout",
          "output_type": "stream",
          "text": [
            "Overwriting run_all_test.sh\n"
          ]
        }
      ],
      "source": [
        " %%writefile run_all_test.sh\n",
        "#!/bin/bash\n",
        "g++ max_pairwise_product_long_full.cpp -o max_pairwise_product_long_full\n",
        "for i in {1..3}\n",
        "do\n",
        "    ./max_pairwise_product_long_full < input$i.txt > ctest$i.txt\n",
        "    grep -xvFf output$i.txt ctest$i.txt\n",
        "done"
      ]
    },
    {
      "cell_type": "code",
      "execution_count": null,
      "metadata": {
        "id": "0g5kKVph7xIA"
      },
      "outputs": [],
      "source": [
        "!chmod u+x run_all_test.sh\n",
        "!./run_all_test.sh"
      ]
    },
    {
      "cell_type": "markdown",
      "metadata": {
        "id": "XPVHkHxH6_7s"
      },
      "source": [
        "### Test 3  stress tests, 6 testing cases files input4.txt/output4.txt .. input10.txt/output10.txt\n",
        "\n",
        "---\n",
        "\n"
      ]
    },
    {
      "cell_type": "code",
      "execution_count": null,
      "metadata": {
        "colab": {
          "base_uri": "https://localhost:8080/"
        },
        "id": "PwqpBmYr69fu",
        "outputId": "aa951f8a-f6ca-4018-a58c-02a09dbc5aa1"
      },
      "outputs": [
        {
          "name": "stdout",
          "output_type": "stream",
          "text": [
            "Overwriting input3.txt\n"
          ]
        }
      ],
      "source": [
        "%%writefile input3.txt\n",
        "6\n",
        "1 3000 2000 9 20 23"
      ]
    },
    {
      "cell_type": "code",
      "execution_count": null,
      "metadata": {
        "colab": {
          "base_uri": "https://localhost:8080/"
        },
        "id": "jBCkMeR6Fw4y",
        "outputId": "e323de32-dcd1-4c37-fcb3-d725e6ffd446"
      },
      "outputs": [
        {
          "name": "stdout",
          "output_type": "stream",
          "text": [
            "Writing input4.txt\n"
          ]
        }
      ],
      "source": [
        "%%writefile input4.txt\n",
        "7\n",
        "11 456 789 101112 131415 161718 192021"
      ]
    },
    {
      "cell_type": "code",
      "execution_count": null,
      "metadata": {
        "colab": {
          "base_uri": "https://localhost:8080/"
        },
        "id": "zED8V8wu-eoM",
        "outputId": "4a51c109-4412-451d-ffd9-cd534ecbb525"
      },
      "outputs": [
        {
          "name": "stdout",
          "output_type": "stream",
          "text": [
            "Writing input5.txt\n"
          ]
        }
      ],
      "source": [
        "%%writefile input5.txt\n",
        "5\n",
        "951 753 654 852 379"
      ]
    },
    {
      "cell_type": "code",
      "execution_count": null,
      "metadata": {
        "colab": {
          "base_uri": "https://localhost:8080/"
        },
        "id": "8ab_qmkGDEeu",
        "outputId": "d2fbf51f-f3a8-4135-828c-4bb98d218abe"
      },
      "outputs": [
        {
          "name": "stdout",
          "output_type": "stream",
          "text": [
            "Writing input6.txt\n"
          ]
        }
      ],
      "source": [
        "%%writefile input6.txt\n",
        "8\n",
        "900 1000 1100 1050 850 660 780 222"
      ]
    },
    {
      "cell_type": "code",
      "execution_count": null,
      "metadata": {
        "colab": {
          "base_uri": "https://localhost:8080/"
        },
        "id": "fPJ6_ryHDH3y",
        "outputId": "23084c27-f301-4f7e-cf14-8c9ee804507d"
      },
      "outputs": [
        {
          "name": "stdout",
          "output_type": "stream",
          "text": [
            "Writing input7.txt\n"
          ]
        }
      ],
      "source": [
        "%%writefile input7.txt\n",
        "4\n",
        "741 852 963 684"
      ]
    },
    {
      "cell_type": "code",
      "execution_count": null,
      "metadata": {
        "colab": {
          "base_uri": "https://localhost:8080/"
        },
        "id": "MjyMhgpRDK2R",
        "outputId": "939c5ca3-5c4f-4bdb-e7fd-0db33404a463"
      },
      "outputs": [
        {
          "name": "stdout",
          "output_type": "stream",
          "text": [
            "Writing input8.txt\n"
          ]
        }
      ],
      "source": [
        "%%writefile input8.txt\n",
        "5\n",
        "167 943 381 927 200000"
      ]
    },
    {
      "cell_type": "code",
      "execution_count": null,
      "metadata": {
        "colab": {
          "base_uri": "https://localhost:8080/"
        },
        "id": "7NinAf1RDPkR",
        "outputId": "2b07bcab-d1e5-4aa7-dac1-16c68f01a650"
      },
      "outputs": [
        {
          "name": "stdout",
          "output_type": "stream",
          "text": [
            "Writing input9.txt\n"
          ]
        }
      ],
      "source": [
        "%%writefile input9.txt\n",
        "6\n",
        "1 3333 2000 9 2222 23"
      ]
    },
    {
      "cell_type": "code",
      "execution_count": null,
      "metadata": {
        "colab": {
          "base_uri": "https://localhost:8080/"
        },
        "id": "o7pWWQo3DR6e",
        "outputId": "5dfae84f-7b82-4c13-caa7-031d46b56bc3"
      },
      "outputs": [
        {
          "name": "stdout",
          "output_type": "stream",
          "text": [
            "Writing input10.txt\n"
          ]
        }
      ],
      "source": [
        "%%writefile input10.txt\n",
        "6\n",
        "1111 2222 3333 4444 5555 6666"
      ]
    },
    {
      "cell_type": "code",
      "execution_count": null,
      "metadata": {
        "colab": {
          "base_uri": "https://localhost:8080/"
        },
        "id": "7AQIrrLLDUQu",
        "outputId": "6d07e4a7-80e0-424f-d300-84b8d8a663a0"
      },
      "outputs": [
        {
          "name": "stdout",
          "output_type": "stream",
          "text": [
            "90\n",
            "90\n"
          ]
        }
      ],
      "source": [
        "!./max_pairwise_product_long_full < input1.txt\n",
        "!./max_pairwise_product_long_full < input2.txt\n",
        "!./max_pairwise_product_long_full < input3.txt > output3.txt\n",
        "!./max_pairwise_product_long_full < input4.txt > output4.txt\n",
        "!./max_pairwise_product_long_full < input5.txt > output5.txt\n",
        "!./max_pairwise_product_long_full < input6.txt > output6.txt\n",
        "!./max_pairwise_product_long_full < input7.txt > output7.txt\n",
        "!./max_pairwise_product_long_full < input8.txt > output8.txt\n",
        "!./max_pairwise_product_long_full < input9.txt > output9.txt\n",
        "!./max_pairwise_product_long_full < input10.txt > output10.txt"
      ]
    },
    {
      "cell_type": "markdown",
      "metadata": {
        "id": "9z9yr5QkeyJF"
      },
      "source": [
        "### Test 4  time test  measure the execution time running with the the largest worst cases input11.txt  (200000 increasing numbers) and input12.txt (199998 increasing numbers and  200000, 200000 at the end)"
      ]
    },
    {
      "cell_type": "code",
      "execution_count": null,
      "metadata": {
        "colab": {
          "base_uri": "https://localhost:8080/"
        },
        "id": "UmB1ipWM_nSk",
        "outputId": "ffc228c2-19e0-48b1-c929-ab2e25dd6297"
      },
      "outputs": [
        {
          "name": "stdout",
          "output_type": "stream",
          "text": [
            "Writing WriteTest.cpp\n"
          ]
        }
      ],
      "source": [
        "# input11.txt 200000 increasing numbers:  1 2 .. 200000\n",
        "\n",
        "%%writefile WriteTest.cpp\n",
        "\n",
        "#include <iostream>\n",
        "#include <fstream>\n",
        "#include <cstdlib>\n",
        "\n",
        "using namespace std;\n",
        "\n",
        "int main() {\n",
        "  // Create and open a text file\n",
        "  ofstream MyFile(\"input11.txt\");\n",
        "\n",
        " MyFile << 200000 <<\"\\n\";  // n\n",
        " for (int i=1; i <200001; i++){\n",
        "     MyFile << i <<\" \";\n",
        " }\n",
        "\n",
        "  // Close the file\n",
        "  MyFile.close();\n",
        "}"
      ]
    },
    {
      "cell_type": "code",
      "execution_count": null,
      "metadata": {
        "id": "EH25TkOkZfD9"
      },
      "outputs": [],
      "source": [
        "!g++ WriteTest.cpp -o WriteTest\n",
        "!./WriteTest"
      ]
    },
    {
      "cell_type": "code",
      "execution_count": null,
      "metadata": {
        "colab": {
          "base_uri": "https://localhost:8080/"
        },
        "id": "j0mokSOnCCtZ",
        "outputId": "6001e9b1-14a7-4b7f-df09-a3101c8f1d5f"
      },
      "outputs": [
        {
          "data": {
            "text/plain": [
              "39999800000"
            ]
          },
          "execution_count": 56,
          "metadata": {},
          "output_type": "execute_result"
        }
      ],
      "source": [
        "199999 * 200000"
      ]
    },
    {
      "cell_type": "code",
      "execution_count": null,
      "metadata": {
        "colab": {
          "base_uri": "https://localhost:8080/"
        },
        "id": "VoDhDV73B5Mo",
        "outputId": "461784ef-f028-44bd-c5f5-cbe37e73a147"
      },
      "outputs": [
        {
          "name": "stdout",
          "output_type": "stream",
          "text": [
            "Writing output11.txt\n"
          ]
        }
      ],
      "source": [
        "%%writefile output11.txt\n",
        "39999800000"
      ]
    },
    {
      "cell_type": "code",
      "execution_count": null,
      "metadata": {
        "colab": {
          "base_uri": "https://localhost:8080/"
        },
        "id": "oLiMjbAIfPlX",
        "outputId": "58361ebc-7689-4e7a-94a0-1e83bcc6249e"
      },
      "outputs": [
        {
          "name": "stdout",
          "output_type": "stream",
          "text": [
            "Overwriting WriteTest.cpp\n"
          ]
        }
      ],
      "source": [
        "# input12.txt 200000 decreasing numbers and 200000, 199999 ...  2 1\n",
        "\n",
        "%%writefile WriteTest.cpp\n",
        "\n",
        "#include <iostream>\n",
        "#include <fstream>\n",
        "#include <cstdlib>\n",
        "\n",
        "using namespace std;\n",
        "\n",
        "int main() {\n",
        "  // Create and open a text file\n",
        "  ofstream MyFile(\"input12.txt\");\n",
        "\n",
        " MyFile << 200000 <<\"\\n\";  // n\n",
        " for (int i=1; i <200001; i++){\n",
        "     MyFile << 200001-i <<\" \";\n",
        " }\n",
        "\n",
        "  // Close the file\n",
        "  MyFile.close();\n",
        "}"
      ]
    },
    {
      "cell_type": "code",
      "execution_count": null,
      "metadata": {
        "id": "oULNBr_zAd9c"
      },
      "outputs": [],
      "source": [
        "!g++ WriteTest.cpp -o WriteTest\n",
        "!./WriteTest"
      ]
    },
    {
      "cell_type": "code",
      "execution_count": null,
      "metadata": {
        "colab": {
          "base_uri": "https://localhost:8080/"
        },
        "id": "PQLyocaFB-y4",
        "outputId": "dedbe6e9-fad2-45cc-e02a-0623b8fb68d4"
      },
      "outputs": [
        {
          "name": "stdout",
          "output_type": "stream",
          "text": [
            "Writing output12.txt\n"
          ]
        }
      ],
      "source": [
        "%%writefile output12.txt\n",
        "39999800000"
      ]
    },
    {
      "cell_type": "markdown",
      "metadata": {
        "id": "JB6f03qO-lj9"
      },
      "source": [
        "### Measure time\n",
        "\n",
        "https://askubuntu.com/questions/53444/how-can-i-measure-the-execution-time-of-a-terminal-process"
      ]
    },
    {
      "cell_type": "code",
      "execution_count": null,
      "metadata": {
        "colab": {
          "base_uri": "https://localhost:8080/"
        },
        "id": "6p2QLEr576zk",
        "outputId": "7be1eb8c-4b54-4291-ce70-47d1848b94b5"
      },
      "outputs": [
        {
          "name": "stdout",
          "output_type": "stream",
          "text": [
            "39999800000\n",
            "\n",
            "real\t4m46.406s\n",
            "user\t4m43.445s\n",
            "sys\t0m0.098s\n"
          ]
        }
      ],
      "source": [
        "!g++ max_pairwise_product_long_full.cpp -o max_pairwise_product_long_full\n",
        "!time ./max_pairwise_product_long_full< input11.txt"
      ]
    },
    {
      "cell_type": "code",
      "execution_count": null,
      "metadata": {
        "colab": {
          "base_uri": "https://localhost:8080/"
        },
        "id": "cnjCyeUdAnZj",
        "outputId": "061ca358-275e-4707-b779-073b2a040acd"
      },
      "outputs": [
        {
          "name": "stdout",
          "output_type": "stream",
          "text": [
            "39999800000\n",
            "\n",
            "real\t4m44.710s\n",
            "user\t4m41.966s\n",
            "sys\t0m0.071s\n"
          ]
        }
      ],
      "source": [
        "!g++ max_pairwise_product_long_full.cpp -o max_pairwise_product_long_full\n",
        "!time ./max_pairwise_product_long_full< input12.txt"
      ]
    },
    {
      "cell_type": "markdown",
      "metadata": {
        "id": "FXClpBsUJuXC"
      },
      "source": [
        "### Calculate the number or and upper bound to the number of instructions executed by the algorithm as a function of n, add in each line a comment with the number of instructions that are executed in that line."
      ]
    },
    {
      "cell_type": "code",
      "execution_count": null,
      "metadata": {
        "colab": {
          "base_uri": "https://localhost:8080/"
        },
        "id": "uG6Mv-Pwlkii",
        "outputId": "a9b4c100-da2c-4b85-dc08-f24a6cb53055"
      },
      "outputs": [
        {
          "name": "stdout",
          "output_type": "stream",
          "text": [
            "Overwriting max_pairwise_product_long_full.cpp\n"
          ]
        }
      ],
      "source": [
        "%%writefile max_pairwise_product_long_full.cpp\n",
        "#include <iostream>\n",
        "#include <vector>\n",
        "#include <algorithm>\n",
        "\n",
        "long long MaxPairwiseProduct(const std::vector<int>& numbers) {              //INSTRUCTIONS executed by line\n",
        "    long long max_product = 0LL;                                             //1\n",
        "\t  long long aux_product = 0LL;                                             //1\n",
        "    int n = numbers.size();                                                  //1\n",
        "\n",
        "    for (int first = 0; first < n; ++first) {                                //2+2n\n",
        "        for (int second = 0; second < n; ++second) {                         //2n + 2n**2\n",
        "          if ( first != second ){                                            //n**2\n",
        "                aux_product = numbers[first] * numbers[second];              //n**2 -n\n",
        "                if (aux_product > max_product)                               //n**2 -n\n",
        "                    max_product = aux_product;                               //[0, n**2/2 - n/2] upper bound\n",
        "          }\n",
        "        }\n",
        "    }\n",
        "\n",
        "                                                                             // --------------\n",
        "    return max_product;                                                      // 5 + 2*n + [5*n**2, 11*n**2/2  - n/2]  upper bound\n",
        "}\n",
        "\n",
        "int main() {                                              //INSTRUCTIONS executed by line\n",
        "    int n;                                                //1\n",
        "    std::cin >> n;                                        //1\n",
        "    std::vector<int> numbers(n);                          //n\n",
        "    for (int i = 0; i < n; ++i) {                         //2 + 2n\n",
        "        std::cin >> numbers[i];                           //n\n",
        "    }\n",
        "\n",
        "    std::cout << MaxPairwiseProduct(numbers) << \"\\n\";     //1 + 1  + 5 + 2*n + [5*n**2, 11*n**2/2  - n/2]\n",
        "\n",
        "    return 0;                                             // --------------\n",
        "}                                                         //  11 + 6*n + [5*n**2, 11*n**2/2  - n/2]  upper bound\n"
      ]
    },
    {
      "cell_type": "markdown",
      "metadata": {
        "id": "0vTsUg8OwcHs"
      },
      "source": [
        "### Count executed intructions in code"
      ]
    },
    {
      "cell_type": "code",
      "execution_count": null,
      "metadata": {
        "colab": {
          "base_uri": "https://localhost:8080/"
        },
        "id": "CuRKkqQc137V",
        "outputId": "2ffb776a-f699-4992-dc5e-53fc92ebee7c"
      },
      "outputs": [
        {
          "name": "stdout",
          "output_type": "stream",
          "text": [
            "Writing max_pairwise_product_long_full_execints.cpp\n"
          ]
        }
      ],
      "source": [
        "%%writefile max_pairwise_product_long_full_execints.cpp\n",
        "#include <iostream>\n",
        "#include <vector>\n",
        "#include <algorithm>\n",
        "\n",
        "long long MaxPairwiseProduct(const std::vector<int>& numbers, long long &execints) {      //INSTRUCTIONS executed by line\n",
        "\n",
        "    long long max_product = 0LL;                                                          //1\n",
        "    execints++;\n",
        "\n",
        "\t  long long aux_product = 0LL;                                                          //1\n",
        "    execints++;\n",
        "\n",
        "    int n = numbers.size();                                                               //1\n",
        "    execints++;\n",
        "\n",
        "    execints++;\n",
        "    for (int first = 0; first < n; ++first) {                                             //2+2n\n",
        "        execints += 2;\n",
        "\n",
        "        execints++;\n",
        "        for (int second = 0; second < n; ++second) {                                       //2n + 2n**2\n",
        "          execints += 2;\n",
        "\n",
        "          execints++;\n",
        "          if ( first != second ){                                                         //n**2\n",
        "                aux_product = numbers[first] * numbers[second];                           //n**2 -n\n",
        "                execints++;\n",
        "\n",
        "                execints++;\n",
        "                if (aux_product > max_product){                                           //n**2 -n\n",
        "                    max_product = aux_product;                                            //[0,n**2/2 - n/2)  upper bound\n",
        "                    execints++;\n",
        "\n",
        "                }\n",
        "        }\n",
        "\n",
        "      }\n",
        "      execints++;\n",
        "    }\n",
        "    execints++;\n",
        "                                                                                        // --------------\n",
        "    return max_product;                                                                 // 5 + 2*n + [5*n**2, 11*n**2/2  - n/2] upper bound\n",
        "}\n",
        "\n",
        "int main() {                                                 //INSTRUCTIONS executed by line\n",
        "\n",
        "    long long execints =0LL;\n",
        "\n",
        "    int n;                                                   //1\n",
        "    execints++;\n",
        "\n",
        "    std::cin >> n;                                           //1\n",
        "    execints++;\n",
        "\n",
        "    std::vector<int> numbers(n);                             //n\n",
        "    execints += n;\n",
        "\n",
        "    execints++;\n",
        "    for (int i = 0; i < n; ++i) {                            //2 + 2n\n",
        "        execints += 2;\n",
        "\n",
        "        std::cin >> numbers[i];\n",
        "        execints++;                                          //n\n",
        "\n",
        "    }\n",
        "\n",
        "\n",
        "    //std::cout << MaxPairwiseProduct(numbers) << \"\\n\";      //1 + 1  + 5 + 2*n + [5*n**2, 11*n**2/2  - n/2] upper bound\n",
        "\n",
        "    execints++;\n",
        "    int M = MaxPairwiseProduct(numbers,execints);\n",
        "\n",
        "    execints++;\n",
        "    std::cout <<  execints << \"\\n\";\n",
        "    return 0;                                                // --------------\n",
        "}                                                            // 11 + 6*n + [5*n**2, 11*n**2/2  - n/2]"
      ]
    },
    {
      "cell_type": "code",
      "execution_count": null,
      "metadata": {
        "colab": {
          "base_uri": "https://localhost:8080/"
        },
        "id": "yz9rD4VaEJ8i",
        "outputId": "9fcf35f6-8122-48b1-aa5c-a9e0c8620e29"
      },
      "outputs": [
        {
          "name": "stdout",
          "output_type": "stream",
          "text": [
            "600\n",
            "571\n",
            "228\n"
          ]
        }
      ],
      "source": [
        "!g++ max_pairwise_product_long_full_execints.cpp -o max_pairwise_product_long_full_execints\n",
        "!./max_pairwise_product_long_full_execints < input1.txt\n",
        "!./max_pairwise_product_long_full_execints < input2.txt\n",
        "!./max_pairwise_product_long_full_execints < input3.txt"
      ]
    },
    {
      "cell_type": "markdown",
      "metadata": {
        "id": "cUjHtvtdDsmr"
      },
      "source": [
        "The number of instructions executed by the algooirithm with a list of size $n$ is  \n",
        "\n",
        "$$T (n) = 11 + 6n + \\left[5n^2, 11\\frac{n^2}{2}  - \\frac{n}{2}\\right)  >  6n^2 = O(n^2)$$\n",
        "\n",
        "It depends on the size of the lists and  the order of the list.\n",
        "\n",
        "For the input0.txt\n",
        "```\n",
        "10\n",
        "0 0 0 0 0 0 0 0 0 0\n",
        "```\n",
        "$$T = 11 + 6(10) + 5(10)^2   = 561 $$\n",
        "\n",
        "$$T(10) \\in [571, 621)  $$\n"
      ]
    },
    {
      "cell_type": "code",
      "execution_count": null,
      "metadata": {
        "colab": {
          "base_uri": "https://localhost:8080/"
        },
        "id": "Om9Fevb0miAT",
        "outputId": "14fce98a-c170-4f83-d018-4d333d029873"
      },
      "outputs": [
        {
          "name": "stdout",
          "output_type": "stream",
          "text": [
            "570\n"
          ]
        }
      ],
      "source": [
        "!g++ max_pairwise_product_long_full_execints.cpp -o max_pairwise_product_long_full_execints\n",
        "!./max_pairwise_product_long_full_execints < input0.txt"
      ]
    },
    {
      "cell_type": "markdown",
      "metadata": {
        "id": "FwJzZ6VzmArY"
      },
      "source": [
        "For the input1.txt\n",
        "```\n",
        "10\n",
        "1 2 3 4 5 6 7 8 9 10\n",
        "```\n",
        "$$T = 11 + 6(10) + 5(10)^2 +  9 + 5 + 4 + 3 + 2 + 2 + 2 + 2 + 1 + 0  = 601 $$\n",
        "\n",
        "$$T(10) \\in [572, 622)  $$\n"
      ]
    },
    {
      "cell_type": "code",
      "execution_count": null,
      "metadata": {
        "id": "K59xQMWiBNFj"
      },
      "outputs": [],
      "source": [
        "#The number of times that  max_product = aux_product; in the worst case is less than (n**2 -n)/2 -  upper bound\n",
        "\n",
        "#     1  2  3  4  5  6  7  8  9  10\n",
        "#  1  x  2  3  4  5  6  7  8  9  10         9\n",
        "#  2  2  x  6  8  10 12 14 16 18 20         5 14\n",
        "#  3  3  6  x  12 15 18 21 24 27 30         4 18\n",
        "#  4  4  8  12 x  20 24 28 32 36 40         3 21\n",
        "#  5  5  10 15 20 x  30 35 40 45 50         2 23\n",
        "#  6  6  12 18 24 30 x  42 48 54 60         2 25\n",
        "#  7  7  14 21 28 35 42 x  56 63 70         2 27\n",
        "#  8  8  18 27 36 45 54 63 72 x  90         1 30\n",
        "#  10 10 20 30 40 50 60 70 60 90 x          0"
      ]
    },
    {
      "cell_type": "code",
      "execution_count": null,
      "metadata": {
        "colab": {
          "base_uri": "https://localhost:8080/"
        },
        "id": "E3O8dzFfEgir",
        "outputId": "fc2e1bc7-1e7e-4d91-af6f-19a4a572d992"
      },
      "outputs": [
        {
          "data": {
            "text/plain": [
              "601"
            ]
          },
          "execution_count": 68,
          "metadata": {},
          "output_type": "execute_result"
        }
      ],
      "source": [
        "11 + 6*(10) + 5*(10)*(10) +  9 + 5 + 4 + 3 + 2 + 2 + 2 + 2 + 1 + 0"
      ]
    },
    {
      "cell_type": "code",
      "execution_count": null,
      "metadata": {
        "colab": {
          "base_uri": "https://localhost:8080/"
        },
        "id": "TCpdl5u_Gq1a",
        "outputId": "ff5afbc1-a67b-45bd-92a1-fdb5cfaa1af4"
      },
      "outputs": [
        {
          "name": "stdout",
          "output_type": "stream",
          "text": [
            "[ 571 , 621.0 )\n"
          ]
        }
      ],
      "source": [
        "n = 10\n",
        "print( \"[\", 11 + 6*n + 5*n**2,  \",\", 11 + 6*n  + 5.5*n**2, \")\")"
      ]
    },
    {
      "cell_type": "code",
      "execution_count": null,
      "metadata": {
        "colab": {
          "base_uri": "https://localhost:8080/"
        },
        "id": "Kuvm1C05ly2a",
        "outputId": "93e8e829-8dfe-4bd5-ed5f-bc0cc288b9c8"
      },
      "outputs": [
        {
          "name": "stdout",
          "output_type": "stream",
          "text": [
            "600\n"
          ]
        }
      ],
      "source": [
        "!g++ max_pairwise_product_long_full_execints.cpp -o max_pairwise_product_long_full_execints\n",
        "!./max_pairwise_product_long_full_execints < input1.txt"
      ]
    },
    {
      "cell_type": "markdown",
      "metadata": {
        "id": "Yr_Lb7CaHfxB"
      },
      "source": [
        "\n",
        "For the input2.txt\n",
        "```\n",
        "10\n",
        "10 9 8 7 6 5 4 3 2 1\n",
        "```\n",
        "$$T = 11 + 6*(10) + 5*(10)**2 +  1  = 571 $$"
      ]
    },
    {
      "cell_type": "code",
      "execution_count": null,
      "metadata": {
        "colab": {
          "base_uri": "https://localhost:8080/"
        },
        "id": "HOdqlwJiZUIp",
        "outputId": "1b94c754-a74f-45bb-b613-11f0b08ffd3c"
      },
      "outputs": [
        {
          "data": {
            "text/plain": [
              "572"
            ]
          },
          "execution_count": 71,
          "metadata": {},
          "output_type": "execute_result"
        }
      ],
      "source": [
        "11 + 6*(10) + 5*(10)**2 +  1"
      ]
    },
    {
      "cell_type": "code",
      "execution_count": null,
      "metadata": {
        "colab": {
          "base_uri": "https://localhost:8080/"
        },
        "id": "_znzLectjFSe",
        "outputId": "ef1abbd5-cb1d-49ed-ca13-51108961aab3"
      },
      "outputs": [
        {
          "name": "stdout",
          "output_type": "stream",
          "text": [
            "571\n"
          ]
        }
      ],
      "source": [
        "!g++ max_pairwise_product_long_full_execints.cpp -o max_pairwise_product_long_full_execints\n",
        "!./max_pairwise_product_long_full_execints < input2.txt"
      ]
    },
    {
      "cell_type": "markdown",
      "metadata": {
        "id": "NXW7QkoBL6xH"
      },
      "source": [
        "Calculate estimated time by instruction and number of instructions by second"
      ]
    },
    {
      "cell_type": "markdown",
      "metadata": {
        "id": "dlyRjaohz-YH"
      },
      "source": [
        "For the input11.txt\n",
        "```\n",
        "200000\n",
        "1 2 ..  199999 2000\n",
        "```\n",
        "$$T = 11 + 6*(200000) + 5.5*(200000)**2  = 200001200012  $$"
      ]
    },
    {
      "cell_type": "code",
      "execution_count": null,
      "metadata": {
        "colab": {
          "base_uri": "https://localhost:8080/"
        },
        "id": "BMH8mF3EKn2w",
        "outputId": "d9eddc53-cb70-4718-b446-3326ebe9c180"
      },
      "outputs": [
        {
          "name": "stdout",
          "output_type": "stream",
          "text": [
            "200003177091\n",
            "\n",
            "real\t7m12.321s\n",
            "user\t7m8.408s\n",
            "sys\t0m0.088s\n"
          ]
        }
      ],
      "source": [
        "!g++ max_pairwise_product_long_full_execints.cpp -o max_pairwise_product_long_full_execints\n",
        "!time ./max_pairwise_product_long_full_execints < input11.txt"
      ]
    },
    {
      "cell_type": "code",
      "execution_count": null,
      "metadata": {
        "colab": {
          "base_uri": "https://localhost:8080/"
        },
        "id": "pKqB3i7dIxnc",
        "outputId": "69acb8af-1467-427b-bca0-0d0be4ab2c1c"
      },
      "outputs": [
        {
          "data": {
            "text/plain": [
              "1.4749765693187072e-09"
            ]
          },
          "execution_count": 74,
          "metadata": {},
          "output_type": "execute_result"
        }
      ],
      "source": [
        "# Estimated time by instruction\n",
        "\n",
        "295/200003177092\n"
      ]
    },
    {
      "cell_type": "code",
      "execution_count": null,
      "metadata": {
        "colab": {
          "base_uri": "https://localhost:8080/"
        },
        "id": "18N1ouqeMhE1",
        "outputId": "2b45ccfb-2bc6-457f-e55c-b08ed7eaa22a"
      },
      "outputs": [
        {
          "data": {
            "text/plain": [
              "677976871.4983051"
            ]
          },
          "execution_count": 75,
          "metadata": {},
          "output_type": "execute_result"
        }
      ],
      "source": [
        "# Estimated number of instructions by second\n",
        "\n",
        "200003177092/295"
      ]
    },
    {
      "cell_type": "markdown",
      "metadata": {
        "id": "KyuxejFkL5X_"
      },
      "source": [
        "### Estimate and verify the maximun n that can be solved in 1 second\n",
        "\n",
        "$$(5.5n^2 + 5.5n + 11) \\times 1.47*10^{-9} s = 1 s$$\n",
        "\n",
        "$$ n \\approx 11000$$\n"
      ]
    },
    {
      "cell_type": "code",
      "execution_count": null,
      "metadata": {
        "colab": {
          "base_uri": "https://localhost:8080/"
        },
        "id": "WXu5jp-DLTOI",
        "outputId": "d97e2629-55df-415c-9c30-1310406915fe"
      },
      "outputs": [
        {
          "name": "stdout",
          "output_type": "stream",
          "text": [
            "Overwriting WriteTest.cpp\n"
          ]
        }
      ],
      "source": [
        "# Verify input13.txt\n",
        "%%writefile WriteTest.cpp\n",
        "\n",
        "#include <iostream>\n",
        "#include <fstream>\n",
        "#include <cstdlib>\n",
        "\n",
        "using namespace std;\n",
        "\n",
        "int main() {\n",
        "  // Create and open a text file\n",
        "  ofstream MyFile(\"input13.txt\");\n",
        "\n",
        " MyFile << 11000 <<\"\\n\";  // n\n",
        " for (int i=1; i <11001; i++){\n",
        "     MyFile << i <<\" \";\n",
        " }\n",
        "\n",
        "  // Close the file\n",
        "  MyFile.close();\n",
        "}"
      ]
    },
    {
      "cell_type": "code",
      "execution_count": null,
      "metadata": {
        "id": "AQ8N52pUMCeT"
      },
      "outputs": [],
      "source": [
        "!g++ WriteTest.cpp -o WriteTest\n",
        "!./WriteTest"
      ]
    },
    {
      "cell_type": "code",
      "execution_count": null,
      "metadata": {
        "colab": {
          "base_uri": "https://localhost:8080/"
        },
        "id": "2iIOdbTrEtBx",
        "outputId": "639433b5-ec2b-4ebe-a90f-d552dd979731"
      },
      "outputs": [
        {
          "data": {
            "text/plain": [
              "120989000"
            ]
          },
          "execution_count": 78,
          "metadata": {},
          "output_type": "execute_result"
        }
      ],
      "source": [
        "10999 * 11000"
      ]
    },
    {
      "cell_type": "code",
      "execution_count": null,
      "metadata": {
        "colab": {
          "base_uri": "https://localhost:8080/"
        },
        "id": "ussuAokfM2du",
        "outputId": "27ad191e-5fe8-4352-c443-a7a8e3810876"
      },
      "outputs": [
        {
          "name": "stdout",
          "output_type": "stream",
          "text": [
            "120989000\n",
            "\n",
            "real\t0m1.432s\n",
            "user\t0m1.374s\n",
            "sys\t0m0.003s\n"
          ]
        }
      ],
      "source": [
        "!g++ max_pairwise_product_long_full.cpp -o max_pairwise_product_long_full\n",
        "!time ./max_pairwise_product_long_full< input13.txt"
      ]
    },
    {
      "cell_type": "markdown",
      "metadata": {
        "id": "Tm_AVmt-QQH4"
      },
      "source": [
        "## Python"
      ]
    },
    {
      "cell_type": "code",
      "execution_count": null,
      "metadata": {
        "colab": {
          "base_uri": "https://localhost:8080/"
        },
        "id": "gRCCcd7IQTKZ",
        "outputId": "61d61f1f-f9b1-4e87-be6a-4fe8b93f4769"
      },
      "outputs": [
        {
          "name": "stdout",
          "output_type": "stream",
          "text": [
            "Writing max_pairwise_product_full.py\n"
          ]
        }
      ],
      "source": [
        "%%writefile max_pairwise_product_full.py\n",
        "n = int(input())                        #1\n",
        "list = input().split()                  #1\n",
        "list = [int(x) for x in list]           #n\n",
        "\n",
        "maxProduct = 0                          #1\n",
        "auxProduct = 0                          #1\n",
        "for i in range(0,n):                    #1+2n\n",
        "  for j in range(0,n):                  #n + 2n**2\n",
        "    if i!=j:                            #n**2\n",
        "      auxProduct = list[i]*list[j]      #n**2 -n\n",
        "    if maxProduct < auxProduct:         #n**2 -n\n",
        "      maxProduct = auxProduct           #[1, n**2/2 - n/2] upper bound\n",
        "\n",
        "                                        # --------------\n",
        "print(maxProduct)                       #5 + 3n + [5*n**2+1, 11*n**2/2  - n/2]  upper bound"
      ]
    },
    {
      "cell_type": "code",
      "execution_count": null,
      "metadata": {
        "colab": {
          "base_uri": "https://localhost:8080/"
        },
        "id": "kAEAoNZEQTCw",
        "outputId": "e09b4780-988b-45bf-881f-370949e8d05b"
      },
      "outputs": [
        {
          "name": "stdout",
          "output_type": "stream",
          "text": [
            "chmod: cannot access 'max_pairwise_product_full_py': No such file or directory\n"
          ]
        }
      ],
      "source": [
        "!chmod +x max_pairwise_product_full_py\n",
        "\n",
        "!python max_pairwise_product_full.py < input3.txt > output3.txt\n",
        "!python max_pairwise_product_full.py < input4.txt > output4.txt\n",
        "!python max_pairwise_product_full.py < input5.txt > output5.txt\n",
        "!python max_pairwise_product_full.py < input6.txt > output6.txt\n",
        "!python max_pairwise_product_full.py < input7.txt > output7.txt\n",
        "!python max_pairwise_product_full.py < input8.txt > output8.txt\n",
        "!python max_pairwise_product_full.py < input9.txt > output9.txt\n",
        "!python max_pairwise_product_full.py < input10.txt > output10.txt"
      ]
    },
    {
      "cell_type": "code",
      "execution_count": null,
      "metadata": {
        "id": "hjw7TJrDL0d-"
      },
      "outputs": [],
      "source": [
        "# Verify"
      ]
    },
    {
      "cell_type": "markdown",
      "metadata": {
        "id": "fEZR-3V4ZjCv"
      },
      "source": [
        "# For the follwing solutions rquired  the same tests and analysis performed for the first solution"
      ]
    },
    {
      "cell_type": "markdown",
      "metadata": {
        "id": "MKQKSC-vKePK"
      },
      "source": [
        "## Solutions in C++ and Python that uses\n",
        "$$\\frac{n^2 - n}{2} = O(n^2)\\ \\ \\text{products}$$"
      ]
    },
    {
      "cell_type": "markdown",
      "metadata": {
        "id": "_jChG3dMDZSH"
      },
      "source": [
        "**C++**"
      ]
    },
    {
      "cell_type": "code",
      "execution_count": null,
      "metadata": {
        "colab": {
          "base_uri": "https://localhost:8080/"
        },
        "id": "jkkHHoxSK65p",
        "outputId": "ff5b5ed1-c256-46bd-a59e-9490dbfbc816"
      },
      "outputs": [
        {
          "name": "stdout",
          "output_type": "stream",
          "text": [
            "Writing max_pairwise_product.cpp\n"
          ]
        }
      ],
      "source": [
        "%%writefile max_pairwise_product.cpp\n",
        "#include <iostream>\n",
        "#include <vector>\n",
        "#include <algorithm>\n",
        "\n",
        "int MaxPairwiseProduct(const std::vector<int>& numbers) {\n",
        "    int max_product = 0;\n",
        "    int n = numbers.size();\n",
        "\n",
        "    for (int first = 0; first < n; ++first) {\n",
        "        for (int second = first + 1; second < n; ++second) {\n",
        "            max_product = std::max(max_product,\n",
        "                numbers[first] * numbers[second]);\n",
        "        }\n",
        "    }\n",
        "\n",
        "    return max_product;\n",
        "}\n",
        "\n",
        "int main() {\n",
        "    int n;\n",
        "    std::cin >> n;\n",
        "    std::vector<int> numbers(n);\n",
        "    for (int i = 0; i < n; ++i) {\n",
        "        std::cin >> numbers[i];\n",
        "    }\n",
        "\n",
        "    std::cout << MaxPairwiseProduct(numbers) << \"\\n\";\n",
        "    return 0;\n",
        "}"
      ]
    },
    {
      "cell_type": "code",
      "execution_count": null,
      "metadata": {
        "colab": {
          "base_uri": "https://localhost:8080/"
        },
        "id": "sU8-Ote7K8vz",
        "outputId": "7e71a845-9927-4f60-a6bf-e957b4fef1f6"
      },
      "outputs": [
        {
          "name": "stdout",
          "output_type": "stream",
          "text": [
            "Writing max_pairwise_product_long.cpp\n"
          ]
        }
      ],
      "source": [
        "%%writefile max_pairwise_product_long.cpp\n",
        "#include <iostream>\n",
        "#include <vector>\n",
        "#include <algorithm>\n",
        "\n",
        "long long MaxPairwiseProduct(const std::vector<int>& numbers,long long &execints) {              //INSTRUCTIONS executed by line\n",
        "    long long max_product = 0LL;\n",
        "    execints++;                                       //1\n",
        "\t  long long aux_product = 0LL;\n",
        "    execints++;                                           //1\n",
        "    int n = numbers.size();\n",
        "    execints++;                                             //1\n",
        "\n",
        "    for (int first = 0; first < n; ++first) {\n",
        "      execints+=2;                              //2+2n\n",
        "        for (int second = first + 1; second < n; ++second) {\n",
        "          execints++;             //2n + (n-1)n\n",
        "\t\t\t       aux_product =  (long long) numbers[first] * numbers[second];\n",
        "             execints++;   //(n-1)n/2\n",
        "            if (max_product < aux_product)  {                                //(n-1)n/2\n",
        "\t\t\t\t        max_product = aux_product;\n",
        "                execints++;                                  //[1,(n-1)n/2)  upper bound\n",
        "             }\n",
        "        }\n",
        "    }\n",
        "                                                                             // --------------\n",
        "    return max_product;                                                      // 5 + 4n + [2(n-1)n+1, 2.5 (n-1)n) upper bound\n",
        "}\n",
        "\n",
        "int main() {                                              //INSTRUCTIONS executed by line\n",
        "    long long execints =0LL;\n",
        "    int n;\n",
        "    execints++;                                             //1\n",
        "    std::cin >> n;\n",
        "    execints++;                                      //1\n",
        "    std::vector<int> numbers(n);\n",
        "    execints++;                          //n\n",
        "    for (int i = 0; i < n; ++i) {\n",
        "      execints+=2;                        //2 + 2n\n",
        "        std::cin >> numbers[i];\n",
        "        execints++;                        //n\n",
        "    }\n",
        "\n",
        "    //std::cout <<\"Max product: \"<< MaxPairwiseProduct(numbers) << \"\\n\";     //1 + 1  + 5 + 4n + [2(n-1)n+1, 2.5 (n-1)n) upper bound\n",
        "     int M = MaxPairwiseProduct(numbers,execints);\n",
        "\n",
        "    execints++;\n",
        "    std::cout << \"Number of instructions: \" <<execints << \"\\n\";\n",
        "    return 0;                                             // --------------\n",
        "}                                                         // 11 + 7n + [2(n-1)n+1, 2.5 (n-1)n) upper bound\n"
      ]
    },
    {
      "cell_type": "markdown",
      "metadata": {
        "id": "jpg119DGDi3S"
      },
      "source": [
        "The number of instructions executed by the algorithm with a list of size $n$ is\n",
        "\n",
        "$$T=11 + 7n + [2(n-1)n+1, 2.5 (n-1)n)$$\n",
        "\n",
        "\n",
        "It depends on the size of the lists and the order of the list.\n",
        "\n",
        "For the input1.txt\n",
        "\n",
        "10\n",
        "\n",
        "\n",
        "1 2 3 4 5 6 7 8 9 10\n",
        "\n",
        "$$T(10)\\in [109,306]$$"
      ]
    },
    {
      "cell_type": "code",
      "execution_count": null,
      "metadata": {
        "colab": {
          "base_uri": "https://localhost:8080/"
        },
        "id": "5QWT3fneK8nw",
        "outputId": "b86241c5-1863-4634-8770-e0fda334403c"
      },
      "outputs": [
        {
          "name": "stdout",
          "output_type": "stream",
          "text": [
            "109 306.0\n"
          ]
        }
      ],
      "source": [
        "n = 10\n",
        "print(11 + 7*10+2*(n-1)+n,11 + 7*10+2.5*(n-1)*n)"
      ]
    },
    {
      "cell_type": "code",
      "execution_count": null,
      "metadata": {
        "colab": {
          "base_uri": "https://localhost:8080/"
        },
        "id": "mxIVvm1RK8dB",
        "outputId": "1de6389f-d9b4-4b41-8412-9871d2ce8d03"
      },
      "outputs": [
        {
          "name": "stdout",
          "output_type": "stream",
          "text": [
            "Number of instructions: 177\n"
          ]
        }
      ],
      "source": [
        "!g++ max_pairwise_product_long.cpp -o max_pairwise_product_long\n",
        "!./max_pairwise_product_long < input1.txt"
      ]
    },
    {
      "cell_type": "markdown",
      "metadata": {
        "id": "zWjVO_X1DnC6"
      },
      "source": [
        "**Python**"
      ]
    },
    {
      "cell_type": "code",
      "execution_count": null,
      "metadata": {
        "colab": {
          "base_uri": "https://localhost:8080/"
        },
        "id": "ZiQBpa6iDpqN",
        "outputId": "5bf37a5a-40eb-45ba-f955-3ffba9086413"
      },
      "outputs": [
        {
          "name": "stdout",
          "output_type": "stream",
          "text": [
            "Writing max_pairwise_product.py\n"
          ]
        }
      ],
      "source": [
        "%%writefile max_pairwise_product.py\n",
        "n = int(input())                        #1\n",
        "list = input().split()                  #1\n",
        "list = [int(x) for x in list]           #n\n",
        "\n",
        "maxProduct = 0                          #1\n",
        "auxProduct = 0                          #1\n",
        "for i in range(0,n):                    #1+2n\n",
        "  for j in range(i+1,n):                #((n**2)-n)/2\n",
        "    if i!=j:                            #((n**2)-n)/2\n",
        "      auxProduct = list[i]*list[j]      #((n**2)-n)/2\n",
        "    if maxProduct < auxProduct:         #((n**2)-n)/2\n",
        "      maxProduct = auxProduct           #[0,((n**2)-n)/2] upper bound\n",
        "\n",
        "                                        # --------------\n",
        "print(maxProduct)                       #5 + n + [5*n**2+1, 11*n**2/2  - n/2]"
      ]
    },
    {
      "cell_type": "markdown",
      "metadata": {
        "id": "S0hY5M6-Dt1D"
      },
      "source": [
        "Creating big input"
      ]
    },
    {
      "cell_type": "code",
      "execution_count": null,
      "metadata": {
        "id": "0Qg8y4tqDvnL"
      },
      "outputs": [],
      "source": [
        "fileName = \"inputPy.txt\"\n",
        "\n",
        "with open(fileName, \"w\") as file:\n",
        "    file.write(\"20000\"+ \"\\n\")\n",
        "    for i in range(1,20001):\n",
        "        file.write(str(i) + \" \")"
      ]
    },
    {
      "cell_type": "markdown",
      "metadata": {
        "id": "_xAdM8S1DwOT"
      },
      "source": [
        "Testing our code with previous examples"
      ]
    },
    {
      "cell_type": "code",
      "execution_count": null,
      "metadata": {
        "id": "-WOhbQoIDzC6"
      },
      "outputs": [],
      "source": [
        "!chmod +x max_pairwise_product.py\n",
        "\n",
        "!python max_pairwise_product.py < input3.txt > output3.txt\n",
        "!python max_pairwise_product.py < input4.txt > output4.txt\n",
        "!python max_pairwise_product.py < input5.txt > output5.txt\n",
        "!python max_pairwise_product.py < input6.txt > output6.txt\n",
        "!python max_pairwise_product.py < input7.txt > output7.txt\n",
        "!python max_pairwise_product.py < input8.txt > output8.txt\n",
        "!python max_pairwise_product.py < input9.txt > output9.txt\n",
        "!python max_pairwise_product.py < input10.txt > output10.txt"
      ]
    },
    {
      "cell_type": "code",
      "execution_count": null,
      "metadata": {
        "colab": {
          "base_uri": "https://localhost:8080/"
        },
        "id": "IDCnQ5joD2rL",
        "outputId": "c5cbb92d-484f-4442-e197-c3fe2199715c"
      },
      "outputs": [
        {
          "name": "stdout",
          "output_type": "stream",
          "text": [
            "399980000\n",
            "Execution time: 63.030396938323975 segs\n",
            "Execution time: 1.0505066156387328 min\n"
          ]
        }
      ],
      "source": [
        "import time\n",
        "\n",
        "start_time = time.time()\n",
        "!python max_pairwise_product.py < inputPy.txt\n",
        "\n",
        "end_time = time.time()\n",
        "execution_time = end_time - start_time\n",
        "print(f\"Execution time: {execution_time} segs\")\n",
        "print(f\"Execution time: {execution_time/60} min\")"
      ]
    },
    {
      "cell_type": "markdown",
      "metadata": {
        "id": "2duCTfw4D4RS"
      },
      "source": [
        "Counting the steps for the python program"
      ]
    },
    {
      "cell_type": "code",
      "execution_count": null,
      "metadata": {
        "colab": {
          "base_uri": "https://localhost:8080/"
        },
        "id": "615k0Yz7D6rq",
        "outputId": "6c8713c2-c612-4295-adc9-f0e0a1f00bc3"
      },
      "outputs": [
        {
          "name": "stdout",
          "output_type": "stream",
          "text": [
            "Writing max_pairwise_product_count.py\n"
          ]
        }
      ],
      "source": [
        "%%writefile max_pairwise_product_count.py\n",
        "op = 0\n",
        "xd =0\n",
        "n = int(input())                        #1\n",
        "op+=1\n",
        "list = input().split()                  #1\n",
        "op+=1\n",
        "list = [int(x) for x in list]           #n\n",
        "op += n\n",
        "\n",
        "maxProduct = 0                          #1\n",
        "op+=1\n",
        "auxProduct = 0                          #1\n",
        "op+=1\n",
        "for i in range(0,n):                    #1+2n\n",
        "  op+=1\n",
        "  op+=2\n",
        "  for j in range(i+1,n):                #((n**2)-n)/2\n",
        "    op+=1\n",
        "    if i!=j:                            #((n**2)-n)/2\n",
        "      auxProduct = list[i]*list[j]      #((n**2)-n)/2\n",
        "      op+=1\n",
        "      op+=1\n",
        "    op+=1\n",
        "    if maxProduct < auxProduct:         #n * (n - 1) / 2\n",
        "      maxProduct = auxProduct           #n * (n - 1) / 3\n",
        "      op+=1\n",
        "\n",
        "                                        # --------------For worst case\n",
        "print(\"Result: \"+str(maxProduct))\n",
        "print(\"Number of instructions: \"+str(op))"
      ]
    },
    {
      "cell_type": "markdown",
      "metadata": {
        "id": "dn73d9J5D95T"
      },
      "source": [
        "The number of instructions executed by the algooirithm with a list of size $n$ is\n",
        "\n",
        "$$T=4 + 4n + 2(n(n-1))+(n(n-1)/3)$$\n",
        "\n",
        "It depends on the size of the lists and the order of the list.\n",
        "\n",
        "For the input1.txt\n",
        "\n",
        "10\n",
        "\n",
        "1 2 3 4 5 6 7 8 9 10\n",
        "\n",
        "$$T(10)=255$$"
      ]
    },
    {
      "cell_type": "code",
      "execution_count": null,
      "metadata": {
        "colab": {
          "base_uri": "https://localhost:8080/"
        },
        "id": "HTjeIvyXD_4a",
        "outputId": "4bd35c12-3047-4aa6-d983-a20ea171d515"
      },
      "outputs": [
        {
          "name": "stdout",
          "output_type": "stream",
          "text": [
            "255.0\n"
          ]
        }
      ],
      "source": [
        "n = 10\n",
        "print(5 + 4*10+2*(n-1)*n + (n*(n-1)/3))"
      ]
    },
    {
      "cell_type": "code",
      "execution_count": null,
      "metadata": {
        "colab": {
          "background_save": true
        },
        "id": "cR87LAnmEB2i",
        "outputId": "d39ec695-c842-4790-aa1d-54a82afdd418"
      },
      "outputs": [
        {
          "name": "stdout",
          "output_type": "stream",
          "text": [
            "Traceback (most recent call last):\n",
            "  File \"/content/max_pairwise_product_count.py\", line 24, in <module>\n",
            "    if maxProduct < auxProduct:         #n * (n - 1) / 2\n",
            "KeyboardInterrupt\n",
            "^C\n"
          ]
        }
      ],
      "source": [
        "!python max_pairwise_product_count.py < input11.txt"
      ]
    },
    {
      "cell_type": "markdown",
      "metadata": {
        "id": "zxCvxiB-XQJh"
      },
      "source": [
        "### Estimate and verify the maximun n that can be solved in 1 second\n",
        "\n"
      ]
    },
    {
      "cell_type": "code",
      "execution_count": null,
      "metadata": {
        "colab": {
          "background_save": true
        },
        "id": "el1zd3rqEVP3",
        "outputId": "cede9d32-c048-4e07-d025-30afff1c4af7"
      },
      "outputs": [
        {
          "name": "stdout",
          "output_type": "stream",
          "text": [
            "Number of instructions: 177\n",
            "CPU times: user 14.2 ms, sys: 189 µs, total: 14.4 ms\n",
            "Wall time: 716 ms\n"
          ]
        }
      ],
      "source": [
        "%%time\n",
        "!g++ max_pairwise_product_long.cpp -o max_pairwise_product_long\n",
        "!./max_pairwise_product_long < input1.txt"
      ]
    },
    {
      "cell_type": "code",
      "execution_count": null,
      "metadata": {
        "id": "0nul0pmbELIB"
      },
      "outputs": [],
      "source": [
        "%%time\n",
        "!python max_pairwise_product_count.py < input11.txt"
      ]
    },
    {
      "cell_type": "code",
      "execution_count": null,
      "metadata": {
        "id": "peL0-4JKEOHi"
      },
      "outputs": [],
      "source": [
        "time_per_ins = 0.001111 / 231\n",
        "instructions_per_second = 1 / time_per_ins\n",
        "print(f\"Time per instruction Python: {time_per_ins}\")\n",
        "print(f\"Instructions per second Python: {instructions_per_second}\")\n",
        "time_per_ins = 0.00325/ 254\n",
        "instructions_per_second = 1 / time_per_ins\n",
        "print(f\"Time per instruction C++: {time_per_ins}\")\n",
        "print(f\"Instructions per second C++: {instructions_per_second}\")"
      ]
    },
    {
      "cell_type": "markdown",
      "metadata": {
        "id": "1Hsbd-uHOb_j"
      },
      "source": [
        "# Sort solution in C++ and Python\n",
        "\n",
        "$$ O(n \\lg n)$$\n",
        "\n",
        "**Which sorting algorithm is used in GCC?**\n",
        "https://stackoverflow.com/questions/7221257/which-sorting-algorithm-is-used-in-gcc\n",
        "\n",
        "* ...  the algorithm is called introsort, a combination between Insertionsort, Quicksort & Heapsort. ...\n",
        "\n",
        "**Introsort**\n",
        "https://en.wikipedia.org/wiki/Introsort\n",
        "\n",
        "Introsort or introspective sort is a hybrid sorting algorithm that provides both fast average performance and (asymptotically) optimal worst-case performance. It begins with quicksort, it switches to heapsort when the recursion depth exceeds a level based on (the logarithm of) the number of elements being sorted and it switches to insertion sort when the number of elements is below some threshold\n",
        "\n",
        "*   Class\tSorting algorithm\n",
        "*   Data structure\tArray\n",
        "*   Worst-case performance\t$O(n \\lg n)$\n",
        "*   Average performance\t$O(n \\lg n)$\n",
        "\n",
        "**Tinsort**\n",
        "https://en.wikipedia.org/wiki/Timsort\n",
        "\n",
        "Timsort is a hybrid, stable sorting algorithm, derived from merge sort and insertion sort, designed to perform well on many kinds of real-world data. It was implemented by Tim Peters in 2002 for use in the Python programming language.\n",
        "\n",
        "*   Class\tSorting algorithm\n",
        "*   Data structure\tArray\n",
        "*   Worst-case performance\t$O(n \\lg n)$\n",
        "*   Best-case performance $O(n)$\n",
        "*   Average performance\t$O(n \\lg n)$\n",
        "*   Worst-case space complexity $O(n)$"
      ]
    },
    {
      "cell_type": "markdown",
      "metadata": {
        "id": "WMUthAXjOb_k"
      },
      "source": [
        "C++ Sort\n"
      ]
    },
    {
      "cell_type": "code",
      "execution_count": null,
      "metadata": {
        "id": "jnIRWyUEDu_C"
      },
      "outputs": [],
      "source": [
        "%%writefile max_pairwise_product_sort.cpp\n",
        "#include <iostream>\n",
        "#include <vector>\n",
        "#include <algorithm>\n",
        "\n",
        "// Function to calculate the maximum pairwise product using sorting\n",
        "\n",
        "long long MaxPairwiseProduct(const std::vector<long long>& numbers) {\n",
        "    int n = numbers.size();\n",
        "\n",
        "    // Create a copy of the original vector to avoid modifying it\n",
        "    std::vector<long long> sorted_numbers(numbers);\n",
        "\n",
        "    // Sort the vector in ascending order\n",
        "    std::sort(sorted_numbers.begin(), sorted_numbers.end());\n",
        "\n",
        "    // Calculate the product of the two largest numbers\n",
        "    long long max_product = sorted_numbers[n - 1] * sorted_numbers[n - 2];\n",
        "\n",
        "    return max_product;\n",
        "}\n",
        "\n",
        "int main() {\n",
        "    int n;\n",
        "    std::cin >> n;\n",
        "    std::vector<long long> numbers(n);\n",
        "\n",
        "    // Input the numbers\n",
        "    for (int i = 0; i < n; ++i) {\n",
        "        std::cin >> numbers[i];\n",
        "    }\n",
        "\n",
        "    // Output the result\n",
        "    std::cout << MaxPairwiseProduct(numbers) << \"\\n\";\n",
        "    return 0;\n",
        "}\n"
      ]
    },
    {
      "cell_type": "code",
      "execution_count": null,
      "metadata": {
        "id": "hZuptQNmu8xj"
      },
      "outputs": [],
      "source": [
        "!g++ -o max_pairwise_product_sort max_pairwise_product_sort.cpp\n",
        "!chmod +x max_pairwise_product_sort.cpp\n",
        "!ls -l max_pairwise_product_sort.cpp max_pairwise_product_sort\n"
      ]
    },
    {
      "cell_type": "markdown",
      "metadata": {
        "id": "v8pdV9ABOb_k"
      },
      "source": [
        "Test with inputs 1 and 2\n",
        "\n"
      ]
    },
    {
      "cell_type": "code",
      "execution_count": null,
      "metadata": {
        "id": "kdXAyLG4Ob_k"
      },
      "outputs": [],
      "source": [
        "!./max_pairwise_product_sort < input0.txt"
      ]
    },
    {
      "cell_type": "code",
      "execution_count": null,
      "metadata": {
        "id": "YrBNVmp73pXd"
      },
      "outputs": [],
      "source": [
        "!./max_pairwise_product_sort < input1.txt"
      ]
    },
    {
      "cell_type": "code",
      "execution_count": null,
      "metadata": {
        "id": "kx7YCrZA3pUp"
      },
      "outputs": [],
      "source": [
        "!./max_pairwise_product_sort < input2.txt"
      ]
    },
    {
      "cell_type": "markdown",
      "metadata": {
        "id": "Sw-5X1q1Ob_k"
      },
      "source": [
        "Test and time it with input 3"
      ]
    },
    {
      "cell_type": "code",
      "execution_count": null,
      "metadata": {
        "id": "ryHJ30WIOb_k"
      },
      "outputs": [],
      "source": [
        "!time ./max_pairwise_product_sort < input3.txt"
      ]
    },
    {
      "cell_type": "markdown",
      "metadata": {
        "id": "oJGdPl1HOb_k"
      },
      "source": [
        "20 stress tests"
      ]
    },
    {
      "cell_type": "code",
      "execution_count": null,
      "metadata": {
        "id": "aNv_VNRLB7cF"
      },
      "outputs": [],
      "source": [
        "import random\n",
        "import math\n",
        "\n",
        "# Number of stress tests\n",
        "num_tests = 10\n",
        "\n",
        "for test_number in range(11, 21):\n",
        "    # Determine the size of the input given the iteration\n",
        "    if test_number <= 16:\n",
        "        n = random.randint(2, 1000)\n",
        "    else:\n",
        "        n = random.randint(2, 10000)\n",
        "\n",
        "    # Generating random values\n",
        "    numbers = [random.randint(1, 99999) for _ in range(n)]\n",
        "\n",
        "    #Writing the input in a file\n",
        "    with open(f\"input{test_number}.txt\", \"w\") as file:\n",
        "        file.write(f\"{n}\\n\")\n",
        "        file.write(\" \".join(map(str, numbers)))\n",
        "\n",
        "    print(f\"Test {test_number}: N={n}\")\n"
      ]
    },
    {
      "cell_type": "code",
      "execution_count": null,
      "metadata": {
        "id": "pXHtO1dEOb_k"
      },
      "outputs": [],
      "source": [
        "!./max_pairwise_product_sort < input1.txt\n",
        "!./max_pairwise_product_sort < input2.txt\n",
        "!./max_pairwise_product_sort < input3.txt\n",
        "!./max_pairwise_product_sort < input4.txt\n",
        "!./max_pairwise_product_sort < input5.txt\n",
        "!./max_pairwise_product_sort < input6.txt\n",
        "!./max_pairwise_product_sort < input7.txt\n",
        "!./max_pairwise_product_sort < input8.txt\n",
        "!./max_pairwise_product_sort < input9.txt\n",
        "!./max_pairwise_product_sort < input10.txt\n",
        "!./max_pairwise_product_sort < input11.txt\n",
        "!./max_pairwise_product_sort < input12.txt\n",
        "!./max_pairwise_product_sort < input13.txt\n",
        "!./max_pairwise_product_sort < input14.txt\n",
        "!./max_pairwise_product_sort < input15.txt\n",
        "!./max_pairwise_product_sort < input16.txt\n",
        "!./max_pairwise_product_sort < input18.txt\n",
        "!./max_pairwise_product_sort < input19.txt\n",
        "!./max_pairwise_product_sort < input20.txt"
      ]
    },
    {
      "cell_type": "markdown",
      "metadata": {
        "id": "2beTmWFPOb_k"
      },
      "source": [
        "Count executed instructions in code and verify with inputs 1,2 and 3\n"
      ]
    },
    {
      "cell_type": "code",
      "execution_count": null,
      "metadata": {
        "id": "iuByv4x1Ob_k"
      },
      "outputs": [],
      "source": [
        "%%writefile max_pairwise_product_sort.cpp\n",
        "#include <iostream>\n",
        "#include <vector>\n",
        "#include <algorithm>\n",
        "\n",
        "//\n",
        "//conteo:\n",
        "//\n",
        "long long MaxPairwiseProduct(const std::vector<long long>& numbers) {\n",
        "    int n = numbers.size();                                                     // 1\n",
        "\n",
        "    std::vector<long long> sorted_numbers(numbers);                             // n\n",
        "\n",
        "    std::sort(sorted_numbers.begin(), sorted_numbers.end());                    // n*log(n)\n",
        "\n",
        "    long long max_product = sorted_numbers[n - 1] * sorted_numbers[n - 2];      // 1\n",
        "\n",
        "    return max_product;                                                         // 1\n",
        "}\n",
        "\n",
        "int main() {\n",
        "    int n;                                                                      // 1\n",
        "    std::cin >> n;                                                              // 1\n",
        "\n",
        "    std::vector<long long> numbers(n);                                          // 1\n",
        "\n",
        "    for (int i = 0; i < n; ++i) {                                               // n\n",
        "        std::cin >> numbers[i];                                                 // n\n",
        "    }\n",
        "\n",
        "    std::cout << MaxPairwiseProduct(numbers) << \"\\n\";                           // 1\n",
        "\n",
        "    return 0;                                                                   // 1\n",
        "\n",
        "                                                                                // total pairwise: n+n*log(n)+3\n",
        "                                                                                // total: 3n+n*log(n)+8\n",
        "}\n",
        "\n"
      ]
    },
    {
      "cell_type": "code",
      "execution_count": null,
      "metadata": {
        "id": "F1zqql55PSJQ"
      },
      "outputs": [],
      "source": [
        "%%writefile max_pairwise_product_sort2.cpp\n",
        "#include <iostream>\n",
        "#include <vector>\n",
        "#include <algorithm>\n",
        "#include <cmath>\n",
        "\n",
        "long long MaxPairwiseProduct(const std::vector<long long>& numbers, long long &execints) {\n",
        "\n",
        "    int n = numbers.size();\n",
        "    execints++;\n",
        "\n",
        "    std::vector<long long> sorted_numbers(numbers);\n",
        "    execints++;\n",
        "\n",
        "    std::sort(sorted_numbers.begin(), sorted_numbers.end());\n",
        "    execints += n * log(n);\n",
        "\n",
        "    long long max_product = sorted_numbers[n - 1] * sorted_numbers[n - 2];\n",
        "    execints++;\n",
        "\n",
        "    return max_product;\n",
        "}\n",
        "\n",
        "int main() {\n",
        "\n",
        "    long long execints = 0LL;\n",
        "    execints++;\n",
        "\n",
        "    int n;\n",
        "    execints++;\n",
        "\n",
        "    std::cin >> n;\n",
        "    execints++;\n",
        "\n",
        "    std::vector<long long> numbers(n);\n",
        "    execints += n;\n",
        "\n",
        "    for (int i = 0; i < n; ++i) {\n",
        "        execints += 2;\n",
        "\n",
        "        std::cin >> numbers[i];\n",
        "        execints++;\n",
        "    }\n",
        "\n",
        "    int M = MaxPairwiseProduct(numbers, execints);\n",
        "\n",
        "    std::cout << execints << \"\\n\";\n",
        "    return 0;\n",
        "}\n",
        "\n"
      ]
    },
    {
      "cell_type": "code",
      "execution_count": null,
      "metadata": {
        "id": "67AQsrlfH5V9"
      },
      "outputs": [],
      "source": [
        "!g++ -o max_pairwise_product_sort2 max_pairwise_product_sort2.cpp\n",
        "!chmod +x max_pairwise_product_sort2.cpp\n",
        "!ls -l max_pairwise_product_sort2.cpp max_pairwise_product_sort2"
      ]
    },
    {
      "cell_type": "code",
      "execution_count": null,
      "metadata": {
        "id": "nBYIDQsMI9cf"
      },
      "outputs": [],
      "source": [
        "n=10\n",
        "print((3 * n) + (n * math.log(n)) + 8)\n",
        "print(n+n * math.log(n)+3)"
      ]
    },
    {
      "cell_type": "code",
      "execution_count": null,
      "metadata": {
        "id": "JUV5WqQWVpwR"
      },
      "outputs": [],
      "source": [
        "!./max_pairwise_product_sort2 < input1.txt"
      ]
    },
    {
      "cell_type": "code",
      "execution_count": null,
      "metadata": {
        "id": "lVweqi0BW2mL"
      },
      "outputs": [],
      "source": [
        "!./max_pairwise_product_sort2 < input2.txt"
      ]
    },
    {
      "cell_type": "code",
      "execution_count": null,
      "metadata": {
        "id": "dykDKydKW6-6"
      },
      "outputs": [],
      "source": [
        "n=6\n",
        "print((3 * n) + (n * math.log(n)) + 8)\n",
        "print(n+n * math.log(n)+3)"
      ]
    },
    {
      "cell_type": "code",
      "execution_count": null,
      "metadata": {
        "id": "HSpkfDyZW84P"
      },
      "outputs": [],
      "source": [
        "!./max_pairwise_product_sort2 < input3.txt"
      ]
    },
    {
      "cell_type": "markdown",
      "metadata": {
        "id": "x2CXhkwTOb_l"
      },
      "source": [
        "Calculate estimated time by instruction and number of instructions by second"
      ]
    },
    {
      "cell_type": "code",
      "execution_count": null,
      "metadata": {
        "id": "JWXXA2tGZ--L"
      },
      "outputs": [],
      "source": [
        "n = 200000\n",
        "numbers = \" \".join(map(str, range(1, 200001)))\n",
        "with open('input21.txt', 'w') as file:\n",
        "    file.write(f\"{n}\\n{numbers}\\n\")"
      ]
    },
    {
      "cell_type": "code",
      "execution_count": null,
      "metadata": {
        "id": "Fx2vGCRNZpXx"
      },
      "outputs": [],
      "source": [
        "!time ./max_pairwise_product_sort < input21.txt"
      ]
    },
    {
      "cell_type": "code",
      "execution_count": null,
      "metadata": {
        "id": "NbnRaYildMjr"
      },
      "outputs": [],
      "source": [
        "!./max_pairwise_product_sort2 < input21.txt"
      ]
    },
    {
      "cell_type": "code",
      "execution_count": null,
      "metadata": {
        "id": "KrJ__5KWdR_3"
      },
      "outputs": [],
      "source": [
        "n=200000\n",
        "print((3 * n) + (n * math.log(n)) + 8)"
      ]
    },
    {
      "cell_type": "code",
      "execution_count": null,
      "metadata": {
        "id": "nTjxyTMtOb_l"
      },
      "outputs": [],
      "source": [
        "# Estimated time by instruction\n",
        "0.12/3241220"
      ]
    },
    {
      "cell_type": "code",
      "execution_count": null,
      "metadata": {
        "id": "i7O17NscZdOX"
      },
      "outputs": [],
      "source": [
        "# Estimated number of instructions by second\n",
        "3241220/0.12"
      ]
    },
    {
      "cell_type": "markdown",
      "metadata": {
        "id": "CcgDYDQuaFeH"
      },
      "source": [
        "### Estimate and verify the maximun n that can be solved in 1 second"
      ]
    },
    {
      "cell_type": "markdown",
      "metadata": {
        "id": "45KxrMFchRas"
      },
      "source": [
        "$$(3n + n*log(n) + 8) \\times 3.7*10^{-8} s = 1 s$$\n",
        "\n",
        "$$ n \\approx 1.56×10^6 $$"
      ]
    },
    {
      "cell_type": "code",
      "execution_count": null,
      "metadata": {
        "id": "Qt8YEHJ5jfhy"
      },
      "outputs": [],
      "source": [
        "print(1560000*(1560000-1))"
      ]
    },
    {
      "cell_type": "code",
      "execution_count": null,
      "metadata": {
        "id": "fLztHReKaGFq"
      },
      "outputs": [],
      "source": [
        "n = (1560000)\n",
        "numbers = \" \".join(map(str, range(1, n+1)))\n",
        "with open('input22.txt', 'w') as file:\n",
        "    file.write(f\"{n}\\n{numbers}\\n\")"
      ]
    },
    {
      "cell_type": "code",
      "execution_count": null,
      "metadata": {
        "id": "EpIXdtM7kgbe"
      },
      "outputs": [],
      "source": [
        "!time ./max_pairwise_product_sort < input22.txt"
      ]
    },
    {
      "cell_type": "markdown",
      "metadata": {
        "id": "nzUNeEL8JYqL"
      },
      "source": [
        "## Python sort\n",
        "\n",
        "\n",
        "\n"
      ]
    },
    {
      "cell_type": "markdown",
      "metadata": {
        "id": "QNTm1sB0JYqL"
      },
      "source": [
        "Add in each line a coment with the number of intstrcution that are executed in that line"
      ]
    },
    {
      "cell_type": "code",
      "execution_count": null,
      "metadata": {
        "id": "ki5PTScqJYqL"
      },
      "outputs": [],
      "source": [
        "%%writefile max_pairwise_product_sort.py\n",
        "def maximum_pairwise_product(nums):\n",
        "    # Ordenar la lista en orden descendente\n",
        "    nums.sort(reverse=True)  # nlog(n)\n",
        "\n",
        "    # Tomar los dos primeros elementos después de ordenar\n",
        "    max1 = nums[0]  # 1\n",
        "    max2 = nums[1]  # 1\n",
        "\n",
        "    # Calcular el producto máximo\n",
        "    result = max1 * max2  # 1\n",
        "\n",
        "    return result  # 1\n",
        "\n",
        "\n",
        "n = int(input())  # 1\n",
        "input_numbers = list(map(int, input().split()))  # n\n",
        "result = maximum_pairwise_product(input_numbers)  # 1\n",
        "print(result)  # 1\n",
        "\n",
        "#total: n+n*log(n)+7"
      ]
    },
    {
      "cell_type": "markdown",
      "metadata": {
        "id": "eH-ZyhwOJYqL"
      },
      "source": [
        "Test with inputs 1 and 2\n",
        "\n"
      ]
    },
    {
      "cell_type": "code",
      "execution_count": null,
      "metadata": {
        "id": "GkYAeeBRJYqL"
      },
      "outputs": [],
      "source": [
        "!chmod +x max_pairwise_product_sort.py\n",
        "!ls -l max_pairwise_product_sort.py"
      ]
    },
    {
      "cell_type": "code",
      "execution_count": null,
      "metadata": {
        "id": "QBxplru2JYqM"
      },
      "outputs": [],
      "source": [
        "!python max_pairwise_product_sort.py < input0.txt"
      ]
    },
    {
      "cell_type": "code",
      "execution_count": null,
      "metadata": {
        "id": "uPha1jyXJYqM"
      },
      "outputs": [],
      "source": [
        "!python max_pairwise_product_sort.py < input1.txt"
      ]
    },
    {
      "cell_type": "code",
      "execution_count": null,
      "metadata": {
        "id": "xrxiFDMfJYqM"
      },
      "outputs": [],
      "source": [
        "!python max_pairwise_product_sort.py < input2.txt"
      ]
    },
    {
      "cell_type": "markdown",
      "metadata": {
        "id": "5OOEzGHrJYqM"
      },
      "source": [
        "Test and time it with input 3"
      ]
    },
    {
      "cell_type": "code",
      "execution_count": null,
      "metadata": {
        "id": "SmN5dxU-JYqM"
      },
      "outputs": [],
      "source": [
        "!time python max_pairwise_product_sort.py < input2.txt"
      ]
    },
    {
      "cell_type": "markdown",
      "metadata": {
        "id": "CaNl1YnwJYqM"
      },
      "source": [
        "20 stress tests"
      ]
    },
    {
      "cell_type": "code",
      "execution_count": null,
      "metadata": {
        "id": "ekARyCeCJYqN"
      },
      "outputs": [],
      "source": [
        "!python max_pairwise_product_sort.py < input1.txt\n",
        "!python max_pairwise_product_sort.py < input2.txt\n",
        "!python max_pairwise_product_sort.py < input3.txt\n",
        "!python max_pairwise_product_sort.py < input4.txt\n",
        "!python max_pairwise_product_sort.py < input5.txt\n",
        "!python max_pairwise_product_sort.py < input6.txt\n",
        "!python max_pairwise_product_sort.py < input7.txt\n",
        "!python max_pairwise_product_sort.py < input8.txt\n",
        "!python max_pairwise_product_sort.py < input9.txt\n",
        "!python max_pairwise_product_sort.py < input10.txt\n",
        "!python max_pairwise_product_sort.py < input11.txt\n",
        "!python max_pairwise_product_sort.py < input12.txt\n",
        "!python max_pairwise_product_sort.py < input13.txt\n",
        "!python max_pairwise_product_sort.py < input14.txt\n",
        "!python max_pairwise_product_sort.py < input15.txt\n",
        "!python max_pairwise_product_sort.py < input16.txt\n",
        "!python max_pairwise_product_sort.py < input17.txt\n",
        "!python max_pairwise_product_sort.py < input18.txt\n",
        "!python max_pairwise_product_sort.py < input19.txt\n",
        "!python max_pairwise_product_sort.py < input20.txt"
      ]
    },
    {
      "cell_type": "markdown",
      "metadata": {
        "id": "VeOiyexeJYqN"
      },
      "source": [
        "Count executed instructions in code and verify with inputs 1,2 and 3\n"
      ]
    },
    {
      "cell_type": "code",
      "execution_count": null,
      "metadata": {
        "id": "wgBNKbjIJYqN"
      },
      "outputs": [],
      "source": [
        "%%writefile max_pairwise_product_sort2.py\n",
        "import math\n",
        "execints = 0\n",
        "\n",
        "def maximum_pairwise_product(nums):\n",
        "    global execints\n",
        "\n",
        "    nums.sort(reverse=True)\n",
        "    execints += n*math.log10(n)\n",
        "\n",
        "    max1 = nums[0]\n",
        "    max2 = nums[1]\n",
        "    execints += 2\n",
        "\n",
        "    result = max1 * max2  # O(1)\n",
        "    execints += 1\n",
        "\n",
        "    execints += 1\n",
        "    return result\n",
        "\n",
        "n = int(input())\n",
        "execints += 1\n",
        "\n",
        "input_numbers = list(map(int, input().split()))\n",
        "execints += n\n",
        "\n",
        "result = maximum_pairwise_product(input_numbers)\n",
        "execints += 1\n",
        "print(result)\n",
        "execints += 1\n",
        "\n",
        "print(execints)"
      ]
    },
    {
      "cell_type": "code",
      "execution_count": null,
      "metadata": {
        "id": "HfbuKYO5JYqN"
      },
      "outputs": [],
      "source": [
        "!chmod +x max_pairwise_product_sort2.py\n",
        "!ls -l max_pairwise_product_sort2.py"
      ]
    },
    {
      "cell_type": "code",
      "execution_count": null,
      "metadata": {
        "id": "UOPbSq_ZJYqN"
      },
      "outputs": [],
      "source": [
        "n=10\n",
        "print(n+(n*math.log10(n))+7)"
      ]
    },
    {
      "cell_type": "code",
      "execution_count": null,
      "metadata": {
        "id": "FJtEvmc0JYqN"
      },
      "outputs": [],
      "source": [
        "!python max_pairwise_product_sort2.py < input1.txt"
      ]
    },
    {
      "cell_type": "code",
      "execution_count": null,
      "metadata": {
        "id": "wmIi_bcoJYqO"
      },
      "outputs": [],
      "source": [
        "!python max_pairwise_product_sort2.py < input2.txt"
      ]
    },
    {
      "cell_type": "code",
      "execution_count": null,
      "metadata": {
        "id": "QZA5vNncJYqO"
      },
      "outputs": [],
      "source": [
        "!python max_pairwise_product_sort2.py < input3.txt"
      ]
    },
    {
      "cell_type": "markdown",
      "metadata": {
        "id": "jjdcnFS5JYqO"
      },
      "source": [
        "Calculate estimated time by instruction and number of instructions by second"
      ]
    },
    {
      "cell_type": "code",
      "execution_count": null,
      "metadata": {
        "id": "Ga_rlCXZJYqO"
      },
      "outputs": [],
      "source": [
        "!time python ./max_pairwise_product_sort2.py < input21.txt"
      ]
    },
    {
      "cell_type": "code",
      "execution_count": null,
      "metadata": {
        "id": "LWP7aVoiJYqO"
      },
      "outputs": [],
      "source": [
        "n=200000\n",
        "print(n+(n*math.log10(n))+7)"
      ]
    },
    {
      "cell_type": "code",
      "execution_count": null,
      "metadata": {
        "id": "E5ZWUr8KJYqO"
      },
      "outputs": [],
      "source": [
        "# Estimated time by instruction\n",
        "0.182/1260212.9991327962"
      ]
    },
    {
      "cell_type": "code",
      "execution_count": null,
      "metadata": {
        "id": "VQ1dk4YcJYqO"
      },
      "outputs": [],
      "source": [
        "# Estimated number of instructions by second\n",
        "1260212.9991327962/0.12"
      ]
    },
    {
      "cell_type": "markdown",
      "metadata": {
        "id": "aSUfvZ93JYqO"
      },
      "source": [
        "### Estimate and verify the maximun n that can be solved in 1 second"
      ]
    },
    {
      "cell_type": "markdown",
      "metadata": {
        "id": "yu6v2k0vJYqO"
      },
      "source": [
        "$$(n + n*log(n) + 7) \\times 1.44*10^{-7} s = 1 s$$\n",
        "\n",
        "$$ n \\approx 5×10^5 $$"
      ]
    },
    {
      "cell_type": "markdown",
      "metadata": {
        "id": "pjQjolprJYqP"
      },
      "source": [
        "*T*(N)=(n+n∗log(n)+7) is not the actual function of the code, given that the execution time is less than 1 second with the given n, the value of n that results in an execution time of 1 second is: $$ \\approx 2*10 ^6$$"
      ]
    },
    {
      "cell_type": "code",
      "execution_count": null,
      "metadata": {
        "id": "6nRWyw4NJYqP"
      },
      "outputs": [],
      "source": [
        "print(2000000*(2000000-1))"
      ]
    },
    {
      "cell_type": "code",
      "execution_count": null,
      "metadata": {
        "id": "jQVVVGUNJYqP"
      },
      "outputs": [],
      "source": [
        "n = (2000000)\n",
        "numbers = \" \".join(map(str, range(1, n+1)))\n",
        "with open('input22.txt', 'w') as file:\n",
        "    file.write(f\"{n}\\n{numbers}\\n\")"
      ]
    },
    {
      "cell_type": "code",
      "execution_count": null,
      "metadata": {
        "id": "J-QTSVdwJYqP"
      },
      "outputs": [],
      "source": [
        "!time python ./max_pairwise_product_sort.py < input22.txt"
      ]
    },
    {
      "cell_type": "markdown",
      "metadata": {
        "id": "aoQI8Gh4JzLy"
      },
      "source": [
        "## Efficient solution with largest and second-largest in an list, array or vector in Python\n",
        "\n",
        " $$T(n) < 10 n  = O(n)$$\n",
        "\n",
        "\n",
        "\n"
      ]
    },
    {
      "cell_type": "markdown",
      "metadata": {
        "id": "k0PKGHcMJzL4"
      },
      "source": [
        "Add in each line a coment with the number of intstrcution that are executed in that line"
      ]
    },
    {
      "cell_type": "code",
      "execution_count": null,
      "metadata": {
        "id": "emBV_IW5JzL5"
      },
      "outputs": [],
      "source": [
        "%%writefile max_pairwise_product_efficient.py\n",
        "def max_pairwise_product(numbers):\n",
        "    max1 = float('-inf')  # 1\n",
        "    max2 = float('-inf')  # 1\n",
        "\n",
        "    for num in numbers:  # n\n",
        "        if num > max1:  # n\n",
        "            max2 = max1  # n\n",
        "            max1 = num  # n\n",
        "        elif num > max2:  # n\n",
        "            max2 = num  # n\n",
        "\n",
        "    return max1 * max2  # 1\n",
        "\n",
        "n = int(input())  # 1\n",
        "\n",
        "input_numbers = list(map(int, input().split()))  # n\n",
        "\n",
        "result = max_pairwise_product(input_numbers)  # 1\n",
        "\n",
        "print(result)  # 1\n",
        "\n",
        "#total: 7*n+6"
      ]
    },
    {
      "cell_type": "markdown",
      "metadata": {
        "id": "cWnB9pvFJzL5"
      },
      "source": [
        "Test with inputs 1 and 2\n",
        "\n"
      ]
    },
    {
      "cell_type": "code",
      "execution_count": null,
      "metadata": {
        "id": "pfW_BO8cJzL5"
      },
      "outputs": [],
      "source": [
        "!chmod +x max_pairwise_product_efficient.py\n",
        "!ls -l max_pairwise_product_efficient.py"
      ]
    },
    {
      "cell_type": "code",
      "execution_count": null,
      "metadata": {
        "id": "VXkEI-gfJzL5"
      },
      "outputs": [],
      "source": [
        "!python ./max_pairwise_product_efficient.py < input0.txt\n",
        "!python ./max_pairwise_product_efficient.py < input1.txt\n",
        "!python ./max_pairwise_product_efficient.py < input2.txt"
      ]
    },
    {
      "cell_type": "markdown",
      "metadata": {
        "id": "yDacCi2jJzL6"
      },
      "source": [
        "Test and time it with input 3"
      ]
    },
    {
      "cell_type": "code",
      "execution_count": null,
      "metadata": {
        "id": "WLi5qF-zJzL6"
      },
      "outputs": [],
      "source": [
        "!time python max_pairwise_product_efficient.py < input3.txt"
      ]
    },
    {
      "cell_type": "markdown",
      "metadata": {
        "id": "qG-xIba1JzL6"
      },
      "source": [
        "20 stress tests"
      ]
    },
    {
      "cell_type": "code",
      "execution_count": null,
      "metadata": {
        "id": "R06nOylrJzL6"
      },
      "outputs": [],
      "source": [
        "!python max_pairwise_product_efficient.py < input1.txt\n",
        "!python max_pairwise_product_efficient.py < input2.txt\n",
        "!python max_pairwise_product_efficient.py < input3.txt\n",
        "!python max_pairwise_product_efficient.py < input4.txt\n",
        "!python max_pairwise_product_efficient.py < input5.txt\n",
        "!python max_pairwise_product_efficient.py < input6.txt\n",
        "!python max_pairwise_product_efficient.py < input7.txt\n",
        "!python max_pairwise_product_efficient.py < input8.txt\n",
        "!python max_pairwise_product_efficient.py < input9.txt\n",
        "!python max_pairwise_product_efficient.py < input10.txt\n",
        "!python max_pairwise_product_efficient.py < input11.txt\n",
        "!python max_pairwise_product_efficient.py < input12.txt\n",
        "!python max_pairwise_product_efficient.py < input13.txt\n",
        "!python max_pairwise_product_efficient.py < input14.txt\n",
        "!python max_pairwise_product_efficient.py < input15.txt\n",
        "!python max_pairwise_product_efficient.py < input16.txt\n",
        "!python max_pairwise_product_efficient.py < input17.txt\n",
        "!python max_pairwise_product_efficient.py < input18.txt\n",
        "!python max_pairwise_product_efficient.py < input19.txt\n",
        "!python max_pairwise_product_efficient.py < input20.txt"
      ]
    },
    {
      "cell_type": "markdown",
      "metadata": {
        "id": "PHDRUQ7NJzL7"
      },
      "source": [
        "Count executed instructions in code and verify with inputs 1,2 and 3\n"
      ]
    },
    {
      "cell_type": "code",
      "execution_count": null,
      "metadata": {
        "id": "-Ne5oW6RJzL7"
      },
      "outputs": [],
      "source": [
        "%%writefile max_pairwise_product_efficient2.py\n",
        "execints = 0\n",
        "\n",
        "def max_pairwise_product(numbers):\n",
        "    global execints\n",
        "    max1 = float('-inf')  # 1\n",
        "    max2 = float('-inf')  # 1\n",
        "    execints = 2\n",
        "\n",
        "    for num in numbers:  # n\n",
        "        if num > max1:  # n\n",
        "            max2 = max1  # n\n",
        "            max1 = num  # n\n",
        "            execints += 3\n",
        "        elif num > max2:  # n\n",
        "            max2 = num  # n\n",
        "            execints += 1\n",
        "\n",
        "    return max1 * max2\n",
        "\n",
        "n = int(input())  # 1\n",
        "execints = 1\n",
        "\n",
        "input_numbers = list(map(int, input().split()))  # n\n",
        "execints += n\n",
        "\n",
        "result = max_pairwise_product(input_numbers)  # 1 (la función se ejecuta)\n",
        "execints += 1\n",
        "\n",
        "print(result)  # 1\n",
        "execints += 1\n",
        "\n",
        "print(execints)  # 1\n"
      ]
    },
    {
      "cell_type": "code",
      "execution_count": null,
      "metadata": {
        "id": "eqo6dkwtJzL7"
      },
      "outputs": [],
      "source": [
        "!chmod +x max_pairwise_product_efficient2.py\n",
        "!ls -l max_pairwise_product_efficient2.py"
      ]
    },
    {
      "cell_type": "code",
      "execution_count": null,
      "metadata": {
        "id": "DMOsnEQjJzL7"
      },
      "outputs": [],
      "source": [
        "n=10\n",
        "print(7*n+6)"
      ]
    },
    {
      "cell_type": "code",
      "execution_count": null,
      "metadata": {
        "id": "jekIzWo1JzL7"
      },
      "outputs": [],
      "source": [
        "!python max_pairwise_product_efficient2.py < input1.txt"
      ]
    },
    {
      "cell_type": "code",
      "execution_count": null,
      "metadata": {
        "id": "dO5FxkFSJzL7"
      },
      "outputs": [],
      "source": [
        "!python max_pairwise_product_efficient2.py < input2.txt"
      ]
    },
    {
      "cell_type": "code",
      "execution_count": null,
      "metadata": {
        "id": "y60BfMYnJzL7"
      },
      "outputs": [],
      "source": [
        "!python max_pairwise_product_efficient2.py < input3.txt"
      ]
    },
    {
      "cell_type": "markdown",
      "metadata": {
        "id": "0uUQRys-JzL7"
      },
      "source": [
        "Calculate estimated time by instruction and number of instructions by second"
      ]
    },
    {
      "cell_type": "code",
      "execution_count": null,
      "metadata": {
        "id": "ZnqodLMFVlok"
      },
      "outputs": [],
      "source": [
        "n = 200000\n",
        "numbers = \" \".join(map(str, range(1, 200001)))\n",
        "with open('input21.txt', 'w') as file:\n",
        "    file.write(f\"{n}\\n{numbers}\\n\")"
      ]
    },
    {
      "cell_type": "code",
      "execution_count": null,
      "metadata": {
        "id": "FJpz_EHvJzL8"
      },
      "outputs": [],
      "source": [
        "!time python ./max_pairwise_product_efficient2.py < input21.txt"
      ]
    },
    {
      "cell_type": "code",
      "execution_count": null,
      "metadata": {
        "id": "OaQ4MOz3JzL8"
      },
      "outputs": [],
      "source": [
        "n=200000\n",
        "print(7*n+6)"
      ]
    },
    {
      "cell_type": "code",
      "execution_count": null,
      "metadata": {
        "id": "QGSzuJirJzL8"
      },
      "outputs": [],
      "source": [
        "# Estimated time by instruction\n",
        "0.136/1400006"
      ]
    },
    {
      "cell_type": "code",
      "execution_count": null,
      "metadata": {
        "id": "MaPX8rp2JzL8"
      },
      "outputs": [],
      "source": [
        "# Estimated number of instructions by second\n",
        "1400006/0.136"
      ]
    },
    {
      "cell_type": "markdown",
      "metadata": {
        "id": "HQhZ2ELBJzL8"
      },
      "source": [
        "### Estimate and verify the maximun n that can be solved in 1 second"
      ]
    },
    {
      "cell_type": "markdown",
      "metadata": {
        "id": "PSobguBPJzL8"
      },
      "source": [
        "$$(7*n+6) \\times 9.71*10^{-8} s = 1 s$$\n",
        "\n",
        "$$ n \\approx 1.47*10^6 $$"
      ]
    },
    {
      "cell_type": "code",
      "execution_count": null,
      "metadata": {
        "id": "8GWv_yvbJzL8"
      },
      "outputs": [],
      "source": [
        "print(1470000*(1470000-1))"
      ]
    },
    {
      "cell_type": "code",
      "execution_count": null,
      "metadata": {
        "id": "-BMTbLAYJzL8"
      },
      "outputs": [],
      "source": [
        "n = (1470000)\n",
        "numbers = \" \".join(map(str, range(1, n+1)))\n",
        "with open('input22.txt', 'w') as file:\n",
        "    file.write(f\"{n}\\n{numbers}\\n\")"
      ]
    },
    {
      "cell_type": "code",
      "execution_count": null,
      "metadata": {
        "id": "95kPWlpHJzL9"
      },
      "outputs": [],
      "source": [
        "!time python ./max_pairwise_product_efficient.py < input22.txt"
      ]
    },
    {
      "cell_type": "markdown",
      "metadata": {
        "id": "i2c4tGYyJBFp"
      },
      "source": [
        "## Efficient solution with largest and second-largest in an list, array or vector in C++\n",
        "\n",
        " $$T(n) < 10 n  = O(n)$$\n",
        "\n",
        "\n",
        "\n"
      ]
    },
    {
      "cell_type": "markdown",
      "metadata": {
        "id": "nLcKBwbU0QsE"
      },
      "source": [
        "Add in each line a coment with the number of intstrcution that are executed in that line"
      ]
    },
    {
      "cell_type": "code",
      "execution_count": null,
      "metadata": {
        "id": "knls5Fh3NSt_"
      },
      "outputs": [],
      "source": [
        "%%writefile max_pairwise_product_efficient.cpp\n",
        "#include <iostream>\n",
        "#include <vector>\n",
        "using namespace std;\n",
        "\n",
        "int main() {\n",
        "    long long n;  // 1\n",
        "    cin >> n;     // 1\n",
        "\n",
        "    vector<long long> numbers(n);  // 2\n",
        "\n",
        "    cin >> numbers[0];  // 1\n",
        "    cin >> numbers[1];  // 1\n",
        "    long long max1 = max(numbers[0], numbers[1]);  // 1\n",
        "    long long max2 = min(numbers[0], numbers[1]);  // 1\n",
        "\n",
        "    // Iteración a partir del tercer elemento\n",
        "    for (int i = 2; i < n; ++i) {  // n-1\n",
        "        cin >> numbers[i];  // 1\n",
        "        if (numbers[i] > max1) {  // n-1\n",
        "            max2 = max1;  // n-1 (ocurre)\n",
        "            max1 = numbers[i];  // n-1\n",
        "        } else if (numbers[i] > max2) {  // n-1 (ocurre en el peor caso)\n",
        "            max2 = numbers[i];  // n-1\n",
        "        }\n",
        "    }\n",
        "\n",
        "    cout << max1 * max2 << endl;  // 1\n",
        "\n",
        "    return 0;\n",
        "    //total:6n+5\n",
        "}\n",
        "\n"
      ]
    },
    {
      "cell_type": "markdown",
      "metadata": {
        "id": "-JCijbWxNSii"
      },
      "source": [
        "Test with inputs 1 and 2\n",
        "\n"
      ]
    },
    {
      "cell_type": "code",
      "execution_count": null,
      "metadata": {
        "id": "CMl32aLDxdy-"
      },
      "outputs": [],
      "source": [
        "!g++ -o max_pairwise_product_efficient max_pairwise_product_efficient.cpp\n",
        "!chmod +x max_pairwise_product_efficient.cpp\n",
        "!ls -l max_pairwise_product_efficient.cpp max_pairwise_product_efficient"
      ]
    },
    {
      "cell_type": "code",
      "execution_count": null,
      "metadata": {
        "id": "TrTGAfqlNVXT"
      },
      "outputs": [],
      "source": [
        "! ./max_pairwise_product_efficient < input1.txt\n",
        "! ./max_pairwise_product_efficient < input2.txt"
      ]
    },
    {
      "cell_type": "markdown",
      "metadata": {
        "id": "PRX51wADNR8b"
      },
      "source": [
        "Test and time it with input 3"
      ]
    },
    {
      "cell_type": "code",
      "execution_count": null,
      "metadata": {
        "id": "v4z7-Is_NRt7"
      },
      "outputs": [],
      "source": [
        "!time ./max_pairwise_product_superefficient < input3.txt"
      ]
    },
    {
      "cell_type": "markdown",
      "metadata": {
        "id": "rpdfs0_TNZJf"
      },
      "source": [
        "20 stress tests"
      ]
    },
    {
      "cell_type": "code",
      "execution_count": null,
      "metadata": {
        "id": "jhzccrFCPeLm"
      },
      "outputs": [],
      "source": [
        "for i in range(20,41):\n",
        "  new_file=open(f\"input{i}\",\"w\")"
      ]
    },
    {
      "cell_type": "code",
      "execution_count": null,
      "metadata": {
        "id": "Lu4tYcKzNcTT"
      },
      "outputs": [],
      "source": [
        "%%writefile randomGenerator.cpp\n",
        "#include <iostream>\n",
        "#include <stdio.h>\n",
        "#include <unistd.h>\n",
        "using namespace std;\n",
        "int main (){\n",
        "  int n, number;\n",
        "  srand(getpid());\n",
        "  n = 2+rand()%(51-2);\n",
        "  cout<<n<<\"\\n\";\n",
        "  for(int i=0;i<n;i++){\n",
        "    number = rand();\n",
        "    cout<<number<<\" \";\n",
        "  }\n",
        "  return 0;\n",
        "}\n"
      ]
    },
    {
      "cell_type": "code",
      "execution_count": null,
      "metadata": {
        "id": "Q-bFNAMiPi6E"
      },
      "outputs": [],
      "source": [
        "!g++ -o randomGenerator randomGenerator.cpp\n",
        "!chmod +x randomGenerator.cpp\n",
        "!ls -l randomGenerator.cpp randomGenerator"
      ]
    },
    {
      "cell_type": "code",
      "execution_count": null,
      "metadata": {
        "id": "B37Gei1YPnF_"
      },
      "outputs": [],
      "source": [
        "! ./randomGenerator > input20.txt\n",
        "! ./randomGenerator > input21.txt\n",
        "! ./randomGenerator > input22.txt\n",
        "! ./randomGenerator > input23.txt\n",
        "! ./randomGenerator > input24.txt\n",
        "! ./randomGenerator > input25.txt\n",
        "! ./randomGenerator > input26.txt\n",
        "! ./randomGenerator > input27.txt\n",
        "! ./randomGenerator > input28.txt\n",
        "! ./randomGenerator > input29.txt\n",
        "! ./randomGenerator > input30.txt\n",
        "! ./randomGenerator > input31.txt\n",
        "! ./randomGenerator > input32.txt\n",
        "! ./randomGenerator > input33.txt\n",
        "! ./randomGenerator > input34.txt\n",
        "! ./randomGenerator > input35.txt\n",
        "! ./randomGenerator > input36.txt\n",
        "! ./randomGenerator > input37.txt\n",
        "! ./randomGenerator > input38.txt\n",
        "! ./randomGenerator > input39.txt\n",
        "! ./randomGenerator > input40.txt"
      ]
    },
    {
      "cell_type": "code",
      "execution_count": null,
      "metadata": {
        "id": "tX5iCRraP-x5"
      },
      "outputs": [],
      "source": [
        "! ./max_pairwise_product_efficient < input20.txt\n",
        "! ./max_pairwise_product_efficient < input21.txt\n",
        "! ./max_pairwise_product_efficient < input22.txt\n",
        "! ./max_pairwise_product_efficient < input23.txt\n",
        "! ./max_pairwise_product_efficient < input24.txt\n",
        "! ./max_pairwise_product_efficient < input25.txt\n",
        "! ./max_pairwise_product_efficient < input26.txt\n",
        "! ./max_pairwise_product_efficient < input27.txt\n",
        "! ./max_pairwise_product_efficient < input28.txt\n",
        "! ./max_pairwise_product_efficient < input29.txt\n",
        "! ./max_pairwise_product_efficient < input30.txt\n",
        "! ./max_pairwise_product_efficient < input31.txt\n",
        "! ./max_pairwise_product_efficient < input32.txt\n",
        "! ./max_pairwise_product_efficient < input33.txt\n",
        "! ./max_pairwise_product_efficient < input34.txt\n",
        "! ./max_pairwise_product_efficient < input35.txt\n",
        "! ./max_pairwise_product_efficient < input36.txt\n",
        "! ./max_pairwise_product_efficient < input37.txt\n",
        "! ./max_pairwise_product_efficient < input38.txt\n",
        "! ./max_pairwise_product_efficient < input39.txt\n",
        "! ./max_pairwise_product_efficient < input40.txt"
      ]
    },
    {
      "cell_type": "markdown",
      "metadata": {
        "id": "-lNaEmICQKNO"
      },
      "source": [
        "Count executed instructions in code and verify with inputs 1,2 and 3"
      ]
    },
    {
      "cell_type": "code",
      "execution_count": null,
      "metadata": {
        "id": "umXMWiqP3sl9"
      },
      "outputs": [],
      "source": [
        "%%writefile max_pairwise_product_efficient2.cpp\n",
        "#include <iostream>\n",
        "#include <vector>\n",
        "using namespace std;\n",
        "\n",
        "int main() {\n",
        "    long long n;  // 1\n",
        "    cin >> n;     // 1\n",
        "\n",
        "    vector<long long> numbers(n);  // 2\n",
        "    int execints = 4;\n",
        "\n",
        "    cin >> numbers[0];  // 1\n",
        "    cin >> numbers[1];  // 1\n",
        "    long long max1 = max(numbers[0], numbers[1]);  // 1\n",
        "    long long max2 = min(numbers[0], numbers[1]);  // 1\n",
        "    execints += 4;\n",
        "\n",
        "    for (int i = 2; i < n; ++i) {  // n-1\n",
        "        cin >> numbers[i];  // 1\n",
        "        execints += 1;\n",
        "        if (numbers[i] > max1) {  // n-1\n",
        "            max2 = max1;  // n-1 (ocurre en el peor caso)\n",
        "            max1 = numbers[i];  // n-1\n",
        "            execints += 2;\n",
        "        } else if (numbers[i] > max2) {  // n-1 (ocurre en el peor caso)\n",
        "            max2 = numbers[i];  // n-1\n",
        "            execints += 1;\n",
        "        }\n",
        "    }\n",
        "\n",
        "    cout << max1 * max2 << endl;  // 1\n",
        "    execints += 1;\n",
        "\n",
        "    cout << execints << endl;  // 2\n",
        "\n",
        "    return 0;\n",
        "}\n",
        "\n"
      ]
    },
    {
      "cell_type": "code",
      "execution_count": null,
      "metadata": {
        "id": "dh85RM8vNhFz"
      },
      "outputs": [],
      "source": [
        "!g++ -o max_pairwise_product_efficient2 max_pairwise_product_efficient2.cpp\n",
        "!chmod +x max_pairwise_product_efficient2.cpp\n",
        "!ls -l max_pairwise_product_efficient2.cpp max_pairwise_product_efficient2"
      ]
    },
    {
      "cell_type": "code",
      "execution_count": null,
      "metadata": {
        "id": "23iYpdfm6-io"
      },
      "outputs": [],
      "source": [
        "n=10\n",
        "print(6*n+5) #peor caso"
      ]
    },
    {
      "cell_type": "code",
      "execution_count": null,
      "metadata": {
        "id": "vzVv6m4A6hyi"
      },
      "outputs": [],
      "source": [
        "! ./max_pairwise_product_efficient2 < input1.txt"
      ]
    },
    {
      "cell_type": "code",
      "execution_count": null,
      "metadata": {
        "id": "mMr6d2gb6jR3"
      },
      "outputs": [],
      "source": [
        "! ./max_pairwise_product_efficient2 < input2.txt"
      ]
    },
    {
      "cell_type": "code",
      "execution_count": null,
      "metadata": {
        "id": "wUG8rB096jBp"
      },
      "outputs": [],
      "source": [
        "! ./max_pairwise_product_efficient2 < input3.txt"
      ]
    },
    {
      "cell_type": "markdown",
      "metadata": {
        "id": "K6ybgCmpNygr"
      },
      "source": [
        "Calculate estimated time by instruction and number of instructions by second"
      ]
    },
    {
      "cell_type": "code",
      "execution_count": null,
      "metadata": {
        "id": "oyLbNYyhVvoL"
      },
      "outputs": [],
      "source": [
        "n = 200000\n",
        "numbers = \" \".join(map(str, range(1, 200001)))\n",
        "with open('input21.txt', 'w') as file:\n",
        "    file.write(f\"{n}\\n{numbers}\\n\")"
      ]
    },
    {
      "cell_type": "code",
      "execution_count": null,
      "metadata": {
        "id": "kwe3G1O3Nz1w"
      },
      "outputs": [],
      "source": [
        "!time ./max_pairwise_product_efficient2 < input21.txt"
      ]
    },
    {
      "cell_type": "code",
      "execution_count": null,
      "metadata": {
        "id": "FzGoBiRy8r0i"
      },
      "outputs": [],
      "source": [
        "n=200000\n",
        "print(6*n+5)"
      ]
    },
    {
      "cell_type": "code",
      "execution_count": null,
      "metadata": {
        "id": "HI3fQVU28ryf"
      },
      "outputs": [],
      "source": [
        "# Estimated time by instruction\n",
        "0.073/1200005"
      ]
    },
    {
      "cell_type": "code",
      "execution_count": null,
      "metadata": {
        "id": "Fd6rbaWJ8_P_"
      },
      "outputs": [],
      "source": [
        "# Estimated number of instructions by second\n",
        "1200005/0.073"
      ]
    },
    {
      "cell_type": "markdown",
      "metadata": {
        "id": "v8GY6n_ZaJ4P"
      },
      "source": [
        "### Estimate and verify the maximun n that can be solved in 1 second"
      ]
    },
    {
      "cell_type": "markdown",
      "metadata": {
        "id": "zeQaArfkBQ0r"
      },
      "source": [
        "$$(6*n+5) \\times 6.08*10^{-8} s = 1 s$$\n",
        "\n",
        "$$ n \\approx 2.74*10^{6} $$"
      ]
    },
    {
      "cell_type": "code",
      "execution_count": null,
      "metadata": {
        "id": "z3xjzg1YaKk6"
      },
      "outputs": [],
      "source": [
        "print(2740000*(2740000-1))"
      ]
    },
    {
      "cell_type": "code",
      "execution_count": null,
      "metadata": {
        "id": "NfLjQwAKDp-U"
      },
      "outputs": [],
      "source": [
        "n = (2740000)\n",
        "numbers = \" \".join(map(str, range(1, n+1)))\n",
        "with open('input22.txt', 'w') as file:\n",
        "    file.write(f\"{n}\\n{numbers}\\n\")"
      ]
    },
    {
      "cell_type": "code",
      "execution_count": null,
      "metadata": {
        "id": "EMzQivSKEApt"
      },
      "outputs": [],
      "source": [
        "!time ./max_pairwise_product_efficient < input22.txt"
      ]
    },
    {
      "cell_type": "markdown",
      "metadata": {
        "id": "sUpIWcykOGpT"
      },
      "source": [
        "## Super efficient solution\n",
        "\n",
        "Whitout storing the list in memory, only stpring the largest and second largest and whitout calling a function, add in each line a coment with the number of instructions that are executed in that line\n",
        "\n",
        "in C++ and Python\n",
        "\n",
        "\n",
        " $$T(n) < 13 n  = O(n)$$\n"
      ]
    },
    {
      "cell_type": "code",
      "execution_count": null,
      "metadata": {
        "id": "hBLt_xBQLy8E"
      },
      "outputs": [],
      "source": [
        "%%writefile max_pairwise_product_superefficient.cpp\n",
        "#include <iostream>\n",
        "\n",
        "using namespace std;\n",
        "int main(){\n",
        "  long max, secondMax, input, n;\n",
        "\n",
        "  cin>>n;\n",
        "\n",
        "  cin>>max;\n",
        "  cin>>input;\n",
        "  if(input>max){\n",
        "    secondMax=max;\n",
        "    max=input;\n",
        "  }\n",
        "  else{\n",
        "    secondMax=input;\n",
        "  }\n",
        "  for(int i=0; i<n-2;i++){\n",
        "    cin>>input;\n",
        "    if(input>secondMax){\n",
        "      if(input>max){\n",
        "        secondMax=max;\n",
        "        max=input;\n",
        "      }\n",
        "      else{\n",
        "        secondMax=input;\n",
        "      }\n",
        "    }\n",
        "\n",
        "  }\n",
        "  cout<<max*secondMax<<\"\\n\";\n",
        "\n",
        "\n",
        " cout << \"Execution Time: \" << time << endl;\n",
        "  return 0;\n",
        "}\n"
      ]
    },
    {
      "cell_type": "code",
      "execution_count": null,
      "metadata": {
        "id": "9QPQQm_Sd0ry"
      },
      "outputs": [],
      "source": [
        "!g++ -o max_pairwise_product_superefficient max_pairwise_product_superefficient.cpp\n",
        "!chmod +x max_pairwise_product_superefficient.cpp\n",
        "!ls -l max_pairwise_product_superefficient.cpp max_pairwise_product_superefficient"
      ]
    },
    {
      "cell_type": "markdown",
      "metadata": {
        "id": "683gc3roHqzb"
      },
      "source": [
        "Test with inputs 1 and 2\n",
        "\n",
        "\n"
      ]
    },
    {
      "cell_type": "code",
      "execution_count": null,
      "metadata": {
        "id": "b7d4LA8OIc2_"
      },
      "outputs": [],
      "source": [
        "! ./max_pairwise_product_superefficient < input1.txt\n",
        "! ./max_pairwise_product_superefficient < input2.txt"
      ]
    },
    {
      "cell_type": "markdown",
      "metadata": {
        "id": "36Ugn1odIeJz"
      },
      "source": [
        "Test and time it with input 3"
      ]
    },
    {
      "cell_type": "code",
      "execution_count": null,
      "metadata": {
        "id": "jDyMbCnxHqSN"
      },
      "outputs": [],
      "source": [
        "!time ./max_pairwise_product_superefficient < input3.txt\n"
      ]
    },
    {
      "cell_type": "markdown",
      "metadata": {
        "id": "bhqiKQG6fjKM"
      },
      "source": [
        "20 stress tests"
      ]
    },
    {
      "cell_type": "code",
      "execution_count": null,
      "metadata": {
        "id": "mMMFB947fIIK"
      },
      "outputs": [],
      "source": [
        "for i in range(20,41):\n",
        "  new_file=open(f\"input{i}\",\"w\")"
      ]
    },
    {
      "cell_type": "code",
      "execution_count": null,
      "metadata": {
        "id": "2KsiXKhALzwm"
      },
      "outputs": [],
      "source": [
        "%%writefile randomGenerator.cpp\n",
        "#include <iostream>\n",
        "#include <stdio.h>\n",
        "#include <unistd.h>\n",
        "using namespace std;\n",
        "int main (){\n",
        "  int n, number;\n",
        "  srand(getpid());\n",
        "  n = 2+rand()%(51-2);\n",
        "  cout<<n<<\"\\n\";\n",
        "  for(int i=0;i<n;i++){\n",
        "    number = rand();\n",
        "    cout<<number<<\" \";\n",
        "  }\n",
        "  return 0;\n",
        "}"
      ]
    },
    {
      "cell_type": "code",
      "execution_count": null,
      "metadata": {
        "id": "Hemk4ulI-Yh5"
      },
      "outputs": [],
      "source": [
        "!g++ -o randomGenerator randomGenerator.cpp\n",
        "!chmod +x randomGenerator.cpp\n",
        "!ls -l randomGenerator.cpp randomGenerator"
      ]
    },
    {
      "cell_type": "code",
      "execution_count": null,
      "metadata": {
        "id": "qSZTVdiBjvzq"
      },
      "outputs": [],
      "source": [
        "! ./randomGenerator > input20.txt\n",
        "! ./randomGenerator > input21.txt\n",
        "! ./randomGenerator > input22.txt\n",
        "! ./randomGenerator > input23.txt\n",
        "! ./randomGenerator > input24.txt\n",
        "! ./randomGenerator > input25.txt\n",
        "! ./randomGenerator > input26.txt\n",
        "! ./randomGenerator > input27.txt\n",
        "! ./randomGenerator > input28.txt\n",
        "! ./randomGenerator > input29.txt\n",
        "! ./randomGenerator > input30.txt\n",
        "! ./randomGenerator > input31.txt\n",
        "! ./randomGenerator > input32.txt\n",
        "! ./randomGenerator > input33.txt\n",
        "! ./randomGenerator > input34.txt\n",
        "! ./randomGenerator > input35.txt\n",
        "! ./randomGenerator > input36.txt\n",
        "! ./randomGenerator > input37.txt\n",
        "! ./randomGenerator > input38.txt\n",
        "! ./randomGenerator > input39.txt\n",
        "! ./randomGenerator > input40.txt"
      ]
    },
    {
      "cell_type": "code",
      "execution_count": null,
      "metadata": {
        "id": "cP3SzPtZnaxA"
      },
      "outputs": [],
      "source": [
        "! ./max_pairwise_product_superefficient < input20.txt\n",
        "! ./max_pairwise_product_superefficient < input21.txt\n",
        "! ./max_pairwise_product_superefficient < input22.txt\n",
        "! ./max_pairwise_product_superefficient < input23.txt\n",
        "! ./max_pairwise_product_superefficient < input24.txt\n",
        "! ./max_pairwise_product_superefficient < input25.txt\n",
        "! ./max_pairwise_product_superefficient < input26.txt\n",
        "! ./max_pairwise_product_superefficient < input27.txt\n",
        "! ./max_pairwise_product_superefficient < input28.txt\n",
        "! ./max_pairwise_product_superefficient < input29.txt\n",
        "! ./max_pairwise_product_superefficient < input30.txt\n",
        "! ./max_pairwise_product_superefficient < input31.txt\n",
        "! ./max_pairwise_product_superefficient < input32.txt\n",
        "! ./max_pairwise_product_superefficient < input33.txt\n",
        "! ./max_pairwise_product_superefficient < input34.txt\n",
        "! ./max_pairwise_product_superefficient < input35.txt\n",
        "! ./max_pairwise_product_superefficient < input36.txt\n",
        "! ./max_pairwise_product_superefficient < input37.txt\n",
        "! ./max_pairwise_product_superefficient < input38.txt\n",
        "! ./max_pairwise_product_superefficient < input39.txt\n",
        "! ./max_pairwise_product_superefficient < input30.txt\n"
      ]
    },
    {
      "cell_type": "markdown",
      "metadata": {
        "id": "fEXj8GHJH5p1"
      },
      "source": [
        "Count executed instructions in code and verify with inputs 1,2 and 3"
      ]
    },
    {
      "cell_type": "code",
      "execution_count": null,
      "metadata": {
        "id": "LF1DHjKXIAsF"
      },
      "outputs": [],
      "source": [
        "%%writefile max_pairwise_product_superefficient2.cpp\n",
        "#include <iostream>\n",
        "using namespace std;\n",
        "int main(){\n",
        "  int execints=0;\n",
        "  long max, secondMax, input, n;\n",
        "  cin>>n;\n",
        "  execints++;\n",
        "  cin>>max;\n",
        "  execints++;\n",
        "  cin>>input;\n",
        "  execints++;\n",
        "  if(input>max){\n",
        "    secondMax=max;\n",
        "    execints++;\n",
        "    max=input;\n",
        "    execints++;\n",
        "  }\n",
        "  else{\n",
        "    secondMax=input;\n",
        "    execints++;\n",
        "  }\n",
        "  for(int i=0; i<n-2;i++){\n",
        "    cin>>input;\n",
        "    execints++;\n",
        "    if(input>secondMax){\n",
        "      if(input>max){\n",
        "        secondMax=max;\n",
        "        execints++;\n",
        "        max=input;\n",
        "        execints++;\n",
        "      }\n",
        "      else{\n",
        "        secondMax=input;\n",
        "        execints++;\n",
        "      }\n",
        "    }\n",
        "\n",
        "  }\n",
        "  cout<<max*secondMax<<\"\\n\";\n",
        "  execints++;\n",
        "  cout<<execints<<\"\\n\";\n",
        "  return 0;\n",
        "}"
      ]
    },
    {
      "cell_type": "code",
      "execution_count": null,
      "metadata": {
        "id": "KjwzsSSh6I_U"
      },
      "outputs": [],
      "source": [
        "%%writefile max_pairwise_product_superefficient2.cpp\n",
        "#include <iostream>\n",
        "using namespace std;\n",
        "int main(){\n",
        "  int execints=0;\n",
        "  long max, secondMax, input, n;\n",
        "  cin>>n;                      #1\n",
        "  cin>>max;                    #1\n",
        "  cin>>input;                  #1\n",
        "  if(input>max){\n",
        "    secondMax=max;\n",
        "    max=input;                 #2  upper bound\n",
        "  }\n",
        "  else{\n",
        "    secondMax=input;\n",
        "  }\n",
        "  for(int i=0; i<n-2;i++){\n",
        "    cin>>input;                #n-2\n",
        "    if(input>secondMax){\n",
        "      if(input>max){\n",
        "        secondMax=max;\n",
        "        max=input;             #2(n-2) upper bound\n",
        "      }\n",
        "      else{\n",
        "        secondMax=input;\n",
        "      }\n",
        "    }\n",
        "\n",
        "  }\n",
        "  cout<<max*secondMax<<\"\\n\";   #1\n",
        "  return 0;\n",
        "}"
      ]
    },
    {
      "cell_type": "code",
      "execution_count": null,
      "metadata": {
        "id": "PslVi_sRqPnZ"
      },
      "outputs": [],
      "source": [
        "!g++ -o max_pairwise_product_superefficient2 max_pairwise_product_superefficient2.cpp\n",
        "!chmod +x max_pairwise_product_superefficient2.cpp\n",
        "!ls -l max_pairwise_product_superefficient2.cpp max_pairwise_product_superefficient2"
      ]
    },
    {
      "cell_type": "code",
      "execution_count": null,
      "metadata": {
        "id": "rfYUNfU-rRNI"
      },
      "outputs": [],
      "source": [
        "! ./max_pairwise_product_superefficient2 < input1.txt"
      ]
    },
    {
      "cell_type": "code",
      "execution_count": null,
      "metadata": {
        "id": "E4PuucU7sduo"
      },
      "outputs": [],
      "source": [
        "! ./max_pairwise_product_superefficient2 < input2.txt"
      ]
    },
    {
      "cell_type": "code",
      "execution_count": null,
      "metadata": {
        "id": "HpzPrCh_siOQ"
      },
      "outputs": [],
      "source": [
        "! ./max_pairwise_product_superefficient2 < input3.txt"
      ]
    },
    {
      "cell_type": "markdown",
      "metadata": {
        "id": "3tS7SI7M7IkC"
      },
      "source": [
        "##The total number of instructions (upper bound) is:\n",
        "$$ f(n)=3n $$\n",
        "So the algorithm complexity is O(n)"
      ]
    },
    {
      "cell_type": "markdown",
      "metadata": {
        "id": "N8udCMU08tm-"
      },
      "source": [
        "##For input1.txt n=10, f(n)=30, and our code counts exactly 30 instructions in the code, in input2.txt for n=10, our code counts 13 instructions which is within our stimates."
      ]
    },
    {
      "cell_type": "markdown",
      "metadata": {
        "id": "yae7sSm2IG9U"
      },
      "source": [
        "Calculate estimated time by instruction and number of instructions by second"
      ]
    },
    {
      "cell_type": "code",
      "execution_count": null,
      "metadata": {
        "id": "N_-jYsJ1_8Vg"
      },
      "outputs": [],
      "source": [
        "%%writefile estimateInput.cpp\n",
        "#include <iostream>\n",
        "using namespace std;\n",
        "int main (){\n",
        "  cout << 11000<<\"\\n\";\n",
        "  for(int i=0; i<11000;i++){\n",
        "      cout <<i<<\" \";\n",
        "  }\n",
        "}"
      ]
    },
    {
      "cell_type": "code",
      "execution_count": null,
      "metadata": {
        "id": "7Ax1lxV-IhVY"
      },
      "outputs": [],
      "source": [
        "!g++ -o estimateInput estimateInput.cpp\n",
        "!chmod +x estimateInput.cpp\n",
        "!ls -l estimateInput.cpp estimateInput"
      ]
    },
    {
      "cell_type": "code",
      "execution_count": null,
      "metadata": {
        "id": "suouY7BYL2dz"
      },
      "outputs": [],
      "source": [
        "new_file=open(f\"results.txt\",\"w\")\n",
        "new_file=open(f\"superefficientInput.txt\",\"w\")"
      ]
    },
    {
      "cell_type": "code",
      "execution_count": null,
      "metadata": {
        "id": "sCV06ZjdJBBx"
      },
      "outputs": [],
      "source": [
        "! ./estimateInput > superefficientInput.txt"
      ]
    },
    {
      "cell_type": "code",
      "execution_count": null,
      "metadata": {
        "id": "ziX05F2W_AGS"
      },
      "outputs": [],
      "source": [
        "!time ./max_pairwise_product_superefficient2 < superefficientInput.txt"
      ]
    },
    {
      "cell_type": "code",
      "execution_count": null,
      "metadata": {
        "id": "vdeyqwoL_o3G"
      },
      "outputs": [],
      "source": [
        "33000/0.001"
      ]
    },
    {
      "cell_type": "markdown",
      "metadata": {
        "id": "sy33CNNfPxcE"
      },
      "source": [
        "### Super efficient solution in Python\n",
        "\n",
        "Whitout storing the list in memory and whitout calling a function, add in each line a coment with the number of intstrcution that are executed in that line"
      ]
    },
    {
      "cell_type": "code",
      "execution_count": null,
      "metadata": {
        "id": "_mOjJwKrPxcJ"
      },
      "outputs": [],
      "source": [
        "%%writefile max_pairwise_product_sup.py\n",
        "n = int(input())  # 1\n",
        "input_numbers = map(int, input().split())  # n\n",
        "max1 = float('-inf')  # 1\n",
        "max2 = float('-inf')  # 1\n",
        "\n",
        "for num in input_numbers:  # n\n",
        "  if num > max1:  # n\n",
        "    max2 = max1  # n\n",
        "    max1 = num  # n\n",
        "  elif num > max2:  # n\n",
        "    max2 = num  # n\n",
        "#prueba\n",
        "#print(max1,max2)\n",
        "result = max1 * max2  # 1\n",
        "\n",
        "print(result)  # 1\n",
        "\n",
        "#total: 7n+5"
      ]
    },
    {
      "cell_type": "markdown",
      "metadata": {
        "id": "K08Eow0hPxcJ"
      },
      "source": [
        "Test with inputs 1 and 2\n",
        "\n",
        "\n"
      ]
    },
    {
      "cell_type": "code",
      "execution_count": null,
      "metadata": {
        "id": "g0a0RagfVNpr"
      },
      "outputs": [],
      "source": [
        "!chmod +x max_pairwise_product_sup.py\n",
        "!ls -l max_pairwise_product_sup.py"
      ]
    },
    {
      "cell_type": "code",
      "execution_count": null,
      "metadata": {
        "id": "1_mUee2cPxcJ"
      },
      "outputs": [],
      "source": [
        "!python ./max_pairwise_product_sup.py < input0.txt"
      ]
    },
    {
      "cell_type": "code",
      "execution_count": null,
      "metadata": {
        "id": "-QzEocyqXqBF"
      },
      "outputs": [],
      "source": [
        "!python ./max_pairwise_product_sup.py < input1.txt"
      ]
    },
    {
      "cell_type": "code",
      "execution_count": null,
      "metadata": {
        "id": "rCbJS4iWVOWM"
      },
      "outputs": [],
      "source": [
        "!python ./max_pairwise_product_sup.py < input2.txt"
      ]
    },
    {
      "cell_type": "markdown",
      "metadata": {
        "id": "CE5DB3CmPxcJ"
      },
      "source": [
        "Test and time it with input 3"
      ]
    },
    {
      "cell_type": "code",
      "execution_count": null,
      "metadata": {
        "id": "lyLhFOoePxcJ"
      },
      "outputs": [],
      "source": [
        "!time python ./max_pairwise_product_sup.py < input3.txt"
      ]
    },
    {
      "cell_type": "markdown",
      "metadata": {
        "id": "HZEI236lPxcK"
      },
      "source": [
        "20 stress tests"
      ]
    },
    {
      "cell_type": "code",
      "execution_count": null,
      "metadata": {
        "id": "_LoV-p4zPxcK"
      },
      "outputs": [],
      "source": [
        "!python ./max_pairwise_product_sup.py < input1.txt\n",
        "!python ./max_pairwise_product_sup.py < input2.txt\n",
        "!python ./max_pairwise_product_sup.py < input3.txt\n",
        "!python ./max_pairwise_product_sup.py < input4.txt\n",
        "!python ./max_pairwise_product_sup.py < input5.txt\n",
        "!python ./max_pairwise_product_sup.py < input6.txt\n",
        "!python ./max_pairwise_product_sup.py < input7.txt\n",
        "!python ./max_pairwise_product_sup.py < input8.txt\n",
        "!python ./max_pairwise_product_sup.py < input9.txt\n",
        "!python ./max_pairwise_product_sup.py < input10.txt\n",
        "!python ./max_pairwise_product_sup.py < input11.txt\n",
        "!python ./max_pairwise_product_sup.py < input12.txt\n",
        "!python ./max_pairwise_product_sup.py < input13.txt\n",
        "!python ./max_pairwise_product_sup.py < input15.txt\n",
        "!python ./max_pairwise_product_sup.py < input16.txt\n",
        "!python ./max_pairwise_product_sup.py < input17.txt\n",
        "!python ./max_pairwise_product_sup.py < input18.txt\n",
        "!python ./max_pairwise_product_sup.py < input19.txt\n",
        "!python ./max_pairwise_product_sup.py < input20.txt"
      ]
    },
    {
      "cell_type": "markdown",
      "metadata": {
        "id": "IRVdP3iuPxcK"
      },
      "source": [
        "Count executed instructions in code and verify with inputs 1,2 and 3"
      ]
    },
    {
      "cell_type": "code",
      "execution_count": null,
      "metadata": {
        "id": "RghJOg78PxcK"
      },
      "outputs": [],
      "source": [
        "%%writefile max_pairwise_product_sup2.py\n",
        "execints = 0\n",
        "\n",
        "n = int(input())  # 1\n",
        "execints += 1\n",
        "input_numbers = map(int, input().split())  # n\n",
        "execints += 1\n",
        "max1 = float('-inf')  # 1\n",
        "execints += 1\n",
        "max2 = float('-inf')  # 1\n",
        "execints += 1\n",
        "\n",
        "for num in input_numbers:  # n\n",
        "    execints += 1\n",
        "    if num > max1:  # n\n",
        "        execints += 1\n",
        "        max2 = max1  # n\n",
        "        execints += 1\n",
        "        max1 = num  # n\n",
        "        execints += 1\n",
        "    elif num > max2:  # n\n",
        "        execints += 1\n",
        "        max2 = num  # n\n",
        "        execints += 1\n",
        "\n",
        "result = max1 * max2  # 1\n",
        "execints += 1\n",
        "\n",
        "print(result)  # 1\n",
        "execints += 1\n",
        "\n",
        "print(execints)\n"
      ]
    },
    {
      "cell_type": "code",
      "execution_count": null,
      "metadata": {
        "id": "iMoRA-w1bn9O"
      },
      "outputs": [],
      "source": [
        "!chmod +x max_pairwise_product_sup2.py\n",
        "!ls -l max_pairwise_product_sup2.py"
      ]
    },
    {
      "cell_type": "code",
      "execution_count": null,
      "metadata": {
        "id": "hN2nQ1cSbqge"
      },
      "outputs": [],
      "source": [
        "n=10\n",
        "print(7*n+5)"
      ]
    },
    {
      "cell_type": "code",
      "execution_count": null,
      "metadata": {
        "id": "ZnzF2qHGboxt"
      },
      "outputs": [],
      "source": [
        "!python ./max_pairwise_product_sup2.py < input1.txt"
      ]
    },
    {
      "cell_type": "code",
      "execution_count": null,
      "metadata": {
        "id": "qES6Fsh3bomR"
      },
      "outputs": [],
      "source": [
        "!python ./max_pairwise_product_sup2.py < input2.txt"
      ]
    },
    {
      "cell_type": "code",
      "execution_count": null,
      "metadata": {
        "id": "rQ7tSBDAboal"
      },
      "outputs": [],
      "source": [
        "!python ./max_pairwise_product_sup2.py < input3.txt"
      ]
    },
    {
      "cell_type": "markdown",
      "metadata": {
        "id": "R6qeUjPaPxcK"
      },
      "source": [
        "Calculate estimated time by instruction and number of instructions by second"
      ]
    },
    {
      "cell_type": "code",
      "execution_count": null,
      "metadata": {
        "id": "vtmEZm5BWJ89"
      },
      "outputs": [],
      "source": [
        "n = 200000\n",
        "numbers = \" \".join(map(str, range(1, 200001)))\n",
        "with open('input21.txt', 'w') as file:\n",
        "    file.write(f\"{n}\\n{numbers}\\n\")"
      ]
    },
    {
      "cell_type": "code",
      "execution_count": null,
      "metadata": {
        "id": "iLdXYvn3PxcK"
      },
      "outputs": [],
      "source": [
        "!time python ./max_pairwise_product_sup2.py < input21.txt"
      ]
    },
    {
      "cell_type": "code",
      "execution_count": null,
      "metadata": {
        "id": "qMgDs1svcSiv"
      },
      "outputs": [],
      "source": [
        "n=200000\n",
        "print(7*n+5)"
      ]
    },
    {
      "cell_type": "code",
      "execution_count": null,
      "metadata": {
        "id": "T0YcEk42cSa2"
      },
      "outputs": [],
      "source": [
        "# Estimated time by instruction\n",
        "0.190/800006"
      ]
    },
    {
      "cell_type": "code",
      "execution_count": null,
      "metadata": {
        "id": "r6TR2p0EcSP-"
      },
      "outputs": [],
      "source": [
        "# Estimated number of instructions by second\n",
        "800006/0.190"
      ]
    },
    {
      "cell_type": "markdown",
      "metadata": {
        "id": "MEZLERuvoUYa"
      },
      "source": [
        "### Estimate and verify the maximun n that can be solved in 1 second"
      ]
    },
    {
      "cell_type": "markdown",
      "metadata": {
        "id": "z914FoDsoUYb"
      },
      "source": [
        "$$(7n+5) \\times 2.37*10^{-7} s = 1 s$$\n",
        "\n",
        "$$ n \\approx 6×10^5 $$"
      ]
    },
    {
      "cell_type": "markdown",
      "metadata": {
        "id": "8LpvOq-NnEvy"
      },
      "source": [
        "*T*(N)=(7n+5) is not the actual function of the code, given that the execution time is greater than 1 second with the given n, the value of n that results in an execution time of 1 second is: $$ \\approx 2*10 ^6$$"
      ]
    },
    {
      "cell_type": "code",
      "execution_count": null,
      "metadata": {
        "id": "jTuV4Ev6oUYb"
      },
      "outputs": [],
      "source": [
        "print(2000000*(2000000-1))"
      ]
    },
    {
      "cell_type": "code",
      "execution_count": null,
      "metadata": {
        "id": "T13TgfAimATz"
      },
      "outputs": [],
      "source": [
        "n = (2000000)\n",
        "numbers = \" \".join(map(str, range(1, n+1)))\n",
        "with open('input22.txt', 'w') as file:\n",
        "    file.write(f\"{n}\\n{numbers}\\n\")"
      ]
    },
    {
      "cell_type": "code",
      "execution_count": null,
      "metadata": {
        "id": "8hpcZxXlmGq8"
      },
      "outputs": [],
      "source": [
        "!time python ./max_pairwise_product_sup.py < input22.txt"
      ]
    },
    {
      "cell_type": "markdown",
      "metadata": {
        "id": "4hHRQMXzW6oR"
      },
      "source": [
        "## Perform 100 randomized automated tests in C++ and Python with a porgram  compares the answers,for the same 100 random input instances, of the super efficient solution $(T(n) < 10 n = O(n))$ against the sorting solution  $(T(n)  = O(n \\lg{n}))$,  if the answers are not the same stops and displays \"Error\" listing  the input and the two answers; if the 100 tests are completed without stoping displays \"Pass\"."
      ]
    },
    {
      "cell_type": "markdown",
      "metadata": {
        "id": "08QTBXO5soAf"
      },
      "source": [
        "Random Test for the super efficient solutions python and c++:"
      ]
    },
    {
      "cell_type": "code",
      "execution_count": null,
      "metadata": {
        "id": "KfjZWBO2iqK0"
      },
      "outputs": [],
      "source": [
        "import random\n",
        "import math\n",
        "\n",
        "# Number of stress tests\n",
        "num_tests = 100\n",
        "\n",
        "for test_number in range(1, 101):\n",
        "    n = random.randint(2, 100000)\n",
        "    # Generating random values\n",
        "    numbers = [random.randint(1, 99999) for _ in range(n)]\n",
        "\n",
        "    #Writing the input in a file\n",
        "    with open(f\"inputltest{test_number}.txt\", \"w\") as file:\n",
        "        file.write(f\"{n}\\n\")\n",
        "        file.write(\" \".join(map(str, numbers)))\n",
        "\n",
        "    print(f\"Test {test_number}: N={n}\")"
      ]
    },
    {
      "cell_type": "markdown",
      "metadata": {
        "id": "Pc7VTEj-rVAZ"
      },
      "source": [
        "Python Super Efficient\n"
      ]
    },
    {
      "cell_type": "code",
      "execution_count": null,
      "metadata": {
        "id": "k3EogzzblL9K"
      },
      "outputs": [],
      "source": [
        "# Crear un script de Python para generar líneas de comando\n",
        "script_content = \"\"\"\\\n",
        "#!/usr/bin/env python\n",
        "\n",
        "for i in range(1, 101):\n",
        "    input_file = f\"inputltest{i}.txt\"\n",
        "    output_file = f\"outputltest{i}.txt\"\n",
        "    command = f\"python3 max_pairwise_product_sup.py < {input_file} > {output_file}\"\n",
        "    print(command)\n",
        "\"\"\"\n",
        "\n",
        "# Guardar el script en un archivo\n",
        "with open(\"generate_commands.py\", \"w\") as script_file:\n",
        "    script_file.write(script_content)\n"
      ]
    },
    {
      "cell_type": "code",
      "execution_count": null,
      "metadata": {
        "id": "MWJo-mxmlyoo"
      },
      "outputs": [],
      "source": [
        "!python generate_commands.py > run_tests.sh\n",
        "!chmod +x run_tests.sh\n",
        "!./run_tests.sh"
      ]
    },
    {
      "cell_type": "code",
      "execution_count": null,
      "metadata": {
        "id": "bo_6VglDo-Ls"
      },
      "outputs": [],
      "source": [
        "!cat outputltest1.txt\n",
        "!cat outputltest100.txt"
      ]
    },
    {
      "cell_type": "markdown",
      "metadata": {
        "id": "F9XtPbZurYNI"
      },
      "source": [
        "C++ Super Efficient"
      ]
    },
    {
      "cell_type": "code",
      "execution_count": null,
      "metadata": {
        "id": "A58hsmDOqr1a"
      },
      "outputs": [],
      "source": [
        "script_content = \"\"\"\\\n",
        "#!/usr/bin/env python\n",
        "\n",
        "cpp_file = \"max_pairwise_product_superefficient.cpp\"\n",
        "executable = \"./max_pairwise_product_superefficient\"\n",
        "\n",
        "# Compilar el programa C++\n",
        "compile_command = f\"g++ {cpp_file} -o {executable}\"\n",
        "print(compile_command)\n",
        "\n",
        "for i in range(1, 101):\n",
        "    input_file = f\"inputltest{i}.txt\"\n",
        "    output_file = f\"outputctest{i}.txt\"\n",
        "\n",
        "    run_command = f\"{executable} < {input_file} > {output_file}\"\n",
        "    print(run_command)\n",
        "\"\"\"\n",
        "\n",
        "# Guardar el script en un archivo\n",
        "with open(\"generate_commands_cpp.py\", \"w\") as script_file:\n",
        "    script_file.write(script_content)\n"
      ]
    },
    {
      "cell_type": "code",
      "execution_count": null,
      "metadata": {
        "id": "zumCGfMItdZe"
      },
      "outputs": [],
      "source": [
        "!python generate_commands_cpp.py > run_tests_c.sh\n",
        "!chmod +x run_tests_c.sh\n",
        "!./run_tests_c.sh"
      ]
    },
    {
      "cell_type": "code",
      "execution_count": null,
      "metadata": {
        "id": "pkQTVQIYvk46"
      },
      "outputs": [],
      "source": [
        "!cat outputctest1.txt\n",
        "!cat outputctest100.txt"
      ]
    },
    {
      "cell_type": "markdown",
      "metadata": {
        "id": "gxtArNM6w11s"
      },
      "source": [
        "Test for the sort solutions python and c++:"
      ]
    },
    {
      "cell_type": "markdown",
      "metadata": {
        "id": "a2C_CKz6x5VU"
      },
      "source": [
        "Python Sort"
      ]
    },
    {
      "cell_type": "code",
      "execution_count": null,
      "metadata": {
        "id": "WcrszYP-46s2"
      },
      "outputs": [],
      "source": [
        "script_content = \"\"\"\\\n",
        "#!/usr/bin/env python\n",
        "\n",
        "for i in range(1, 101):\n",
        "    input_file = f\"inputltest{i}.txt\"\n",
        "    output_file = f\"outputpysorttest{i}.txt\"\n",
        "    command = f\"python3 max_pairwise_product_sort.py < {input_file} > {output_file}\"\n",
        "    print(command)\n",
        "\"\"\"\n",
        "\n",
        "# Guardar el script en un archivo\n",
        "with open(\"generate_commands_sort.py\", \"w\") as script_file:\n",
        "    script_file.write(script_content)\n"
      ]
    },
    {
      "cell_type": "code",
      "execution_count": null,
      "metadata": {
        "id": "QI2A_Fdo5SwU"
      },
      "outputs": [],
      "source": [
        "!python generate_commands_sort.py > run_tests_pysort.sh\n",
        "!chmod +x run_tests_pysort.sh\n",
        "!./run_tests_pysort.sh"
      ]
    },
    {
      "cell_type": "code",
      "execution_count": null,
      "metadata": {
        "id": "0lCxpEbM5cJ9"
      },
      "outputs": [],
      "source": [
        "!cat outputpysorttest1.txt\n",
        "!cat outputpysorttest100.txt"
      ]
    },
    {
      "cell_type": "markdown",
      "metadata": {
        "id": "5W1g4lUTm9th"
      },
      "source": [
        "C++ Sort"
      ]
    },
    {
      "cell_type": "code",
      "execution_count": null,
      "metadata": {
        "id": "Wm8UmlvxnCQH"
      },
      "outputs": [],
      "source": [
        "script_content = \"\"\"\\\n",
        "#!/usr/bin/env python\n",
        "\n",
        "cpp_file = \"max_pairwise_product_sort.cpp\"\n",
        "executable = \"./max_pairwise_product_sort\"\n",
        "\n",
        "# Compilar el programa C++\n",
        "compile_command = f\"g++ {cpp_file} -o {executable}\"\n",
        "print(compile_command)\n",
        "\n",
        "for i in range(1, 101):\n",
        "    input_file = f\"inputltest{i}.txt\"\n",
        "    output_file = f\"outputcsorttest{i}.txt\"\n",
        "\n",
        "    run_command = f\"{executable} < {input_file} > {output_file}\"\n",
        "    print(run_command)\n",
        "\"\"\"\n",
        "\n",
        "# Guardar el script en un archivo\n",
        "with open(\"generate_commands_cpp_sort.py\", \"w\") as script_file:\n",
        "    script_file.write(script_content)"
      ]
    },
    {
      "cell_type": "code",
      "execution_count": null,
      "metadata": {
        "id": "HlQK10P2CH9m"
      },
      "outputs": [],
      "source": [
        "!python generate_commands_cpp_sort.py > run_tests_c_sort.sh\n",
        "!chmod +x run_tests_c_sort.sh\n",
        "!./run_tests_c_sort.sh"
      ]
    },
    {
      "cell_type": "code",
      "execution_count": null,
      "metadata": {
        "id": "fsN-SHupCUfe"
      },
      "outputs": [],
      "source": [
        "!cat outputcsorttest1.txt\n",
        "!cat outputcsorttest100.txt"
      ]
    },
    {
      "cell_type": "markdown",
      "metadata": {
        "id": "pxmp2BzhDrzy"
      },
      "source": [
        "Compare C++ Sort and C++ Superefficient"
      ]
    },
    {
      "cell_type": "code",
      "execution_count": null,
      "metadata": {
        "id": "giTavBaSDz2h"
      },
      "outputs": [],
      "source": [
        "def compare_outputs(output_file1, output_file2):\n",
        "    with open(output_file1, 'r') as file1, open(output_file2, 'r') as file2:\n",
        "        for line1, line2 in zip(file1, file2):\n",
        "            if line1.strip() != line2.strip():\n",
        "                return \"Error\"\n",
        "    return \"Pass\"\n",
        "\n",
        "# Comparar los 100 archivos de salida\n",
        "for i in range(1, 101):\n",
        "    output_file1 = f\"outputctest{i}.txt\"\n",
        "    output_file2 = f\"outputcsorttest{i}.txt\"\n",
        "    result = compare_outputs(output_file1, output_file2)\n",
        "    print(f\"Test {i}: {result}\")\n"
      ]
    },
    {
      "cell_type": "markdown",
      "metadata": {
        "id": "MtDafc6FHM4T"
      },
      "source": [
        "Compare Python Sort and Python Superefficient"
      ]
    },
    {
      "cell_type": "code",
      "execution_count": null,
      "metadata": {
        "id": "vY1PDRMtDz0a"
      },
      "outputs": [],
      "source": [
        "def compare_outputs(output_file1, output_file2):\n",
        "    with open(output_file1, 'r') as file1, open(output_file2, 'r') as file2:\n",
        "        for line1, line2 in zip(file1, file2):\n",
        "            if line1.strip() != line2.strip():\n",
        "                return \"Error\"\n",
        "    return \"Pass\"\n",
        "\n",
        "# Comparar los 100 archivos de salida\n",
        "for i in range(1, 101):\n",
        "    output_file1 = f\"outputltest{i}.txt\"\n",
        "    output_file2 = f\"outputpysorttest{i}.txt\"\n",
        "    result = compare_outputs(output_file1, output_file2)\n",
        "    print(f\"Test {i}: {result}\")\n"
      ]
    }
  ],
  "metadata": {
    "colab": {
      "collapsed_sections": [
        "H2SC0Qt5HCzz",
        "gx-sEYdfQ8f8",
        "9z9yr5QkeyJF",
        "JB6f03qO-lj9",
        "FXClpBsUJuXC",
        "fEZR-3V4ZjCv",
        "nzUNeEL8JYqL",
        "i2c4tGYyJBFp",
        "sUpIWcykOGpT",
        "MEZLERuvoUYa",
        "4hHRQMXzW6oR"
      ],
      "provenance": [],
      "include_colab_link": true
    },
    "kernelspec": {
      "display_name": "Python 3",
      "name": "python3"
    },
    "language_info": {
      "name": "python"
    }
  },
  "nbformat": 4,
  "nbformat_minor": 0
}