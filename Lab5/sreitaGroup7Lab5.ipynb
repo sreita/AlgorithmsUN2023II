{
  "nbformat": 4,
  "nbformat_minor": 0,
  "metadata": {
    "colab": {
      "provenance": [],
      "include_colab_link": true
    },
    "kernelspec": {
      "name": "python3",
      "display_name": "Python 3"
    },
    "language_info": {
      "name": "python"
    }
  },
  "cells": [
    {
      "cell_type": "markdown",
      "metadata": {
        "id": "view-in-github",
        "colab_type": "text"
      },
      "source": [
        "<a href=\"https://colab.research.google.com/github/sreita/AlgorithmsUN2024I/blob/main/Lab5/sreitaGroup7Lab5.ipynb\" target=\"_parent\"><img src=\"https://colab.research.google.com/assets/colab-badge.svg\" alt=\"Open In Colab\"/></a>"
      ]
    },
    {
      "cell_type": "markdown",
      "source": [
        "# **Partitions**\n",
        "\n",
        "## **Names:** Pedro A. Perez P.\n",
        "## **UN Ids:** paperezp,\n",
        "## **List numbers:** 91,\n",
        "## **Group :** 7\n",
        "\n",
        "_If you use an existing codes include the reference, link and a explanation of how the code works._"
      ],
      "metadata": {
        "id": "138HHQxvs_U7"
      }
    },
    {
      "cell_type": "markdown",
      "source": [
        "## 1. Write a code that produces the Bell numbers that count the possible partitions of a set fo $n$ elements.\n",
        "\n",
        "**Hints**:\n",
        "-  Output the n-th Bell Number - [stackexchange](https://codegolf.stackexchange.com/questions/132379/output-the-n-th-bell-number).\n",
        "\n",
        "- Bell number [wikipedia](https://en.wikipedia.org/wiki/Bell_number)\n",
        "\n",
        "\n",
        "\n",
        "\n"
      ],
      "metadata": {
        "id": "rdu7PcWttfnz"
      }
    },
    {
      "cell_type": "markdown",
      "source": [
        "El código presentado a continuación sigue al pie de la letra y de manera literal las instrucciones señaladas por [stackexchange](https://codegolf.stackexchange.com/questions/132379/output-the-n-th-bell-number).\n",
        "\n",
        "\"The easiest way to compute Bell numbers is to use a number triangle resembling Pascal's triangle for the binomial coefficients. The Bell numbers appear on the edges of the triangle. Starting with 1, each new row in the triangle is constructed by taking the last entry in the previous row as the first entry, and then setting each new entry to its left neighbor plus its upper left neighbor\"\n",
        "\n",
        "Como se muestra en el siguiente ejemplo, que calcula el número quinto número de Bell:\n",
        "\n",
        "\\begin{equation}\n",
        "\\begin{matrix}\n",
        "1  &    &     &    &\\\\\n",
        "1  &  2 &     &    &\\\\\n",
        "2  &  3 &   5 &    &\\\\\n",
        "5  &  7 &  10 & 15 & \\\\\n",
        "15 & 20  & 27 & 37 &  52\n",
        "\\end{matrix}\n",
        "\\end{equation}"
      ],
      "metadata": {
        "id": "NHXMJ6mVUH64"
      }
    },
    {
      "cell_type": "code",
      "source": [
        "def bell(n):\n",
        "    bell = [[0 for i in range(n+1)] for j in range(n+1)]\n",
        "    bell[0][0] = 1\n",
        "\n",
        "    for i in range(1, n+1):\n",
        "        bell[i][0] = bell[i-1][i-1]\n",
        "        for j in range(1, i+1):\n",
        "            bell[i][j] = bell[i-1][j-1] + bell[i][j-1]\n",
        "    b = bell[n][0]\n",
        "\n",
        "    return b"
      ],
      "metadata": {
        "id": "4A4pp1_UTpo5"
      },
      "execution_count": null,
      "outputs": []
    },
    {
      "cell_type": "code",
      "source": [
        "bell(5)"
      ],
      "metadata": {
        "colab": {
          "base_uri": "https://localhost:8080/"
        },
        "id": "en18fyqpT_QZ",
        "outputId": "94339337-b7e2-4aab-8ec6-23f7df9d5bf5"
      },
      "execution_count": null,
      "outputs": [
        {
          "output_type": "execute_result",
          "data": {
            "text/plain": [
              "52"
            ]
          },
          "metadata": {},
          "execution_count": 10
        }
      ]
    },
    {
      "cell_type": "markdown",
      "source": [
        "## 2.Write a code that that produces the list of all partititions of the set of $[n]=\\{ 1,2,3,4 \\cdots , n-1, n\\}$ with $0 \\le n \\le 10$.\n",
        "\n",
        "**Hints**:\n",
        "- Set partitions in Python - https://stackoverflow.com/questions/19368375/set-partitions-in-python\n",
        "- Generate all partition of a set - https://www.geeksforgeeks.org/generate-all-partition-of-a-set/"
      ],
      "metadata": {
        "id": "vSafufOkvDht"
      }
    },
    {
      "cell_type": "markdown",
      "source": [
        "El código presentado es una adaptación del que se encuentra en la primera respuesta a la siguiente pregunta de stackoverflow: https://stackoverflow.com/questions/19368375/set-partitions-in-python"
      ],
      "metadata": {
        "id": "R2GPBqA1-TuM"
      }
    },
    {
      "cell_type": "markdown",
      "source": [
        "El código define una función llamada create_partition que toma una colección como entrada y utiliza un enfoque recursivo para generar todas las posibles particiones de esa colección. Si la colección tiene un solo elemento, devuelve ese elemento como una partición única. De lo contrario, toma el primer elemento de la colección y genera todas las particiones posibles de la colección restante. Luego, inserta el primer elemento en cada subconjunto de cada partición más pequeña y las devuelve como parte de la partición. Además, agrega el primer elemento en su propio subconjunto y lo devuelve como parte de la partición. La función utiliza yield para devolver cada partición a medida que se genera, lo que permite una generación eficiente de particiones para cualquier colección dada.\n",
        "\n",
        "\n",
        "\n",
        "\n",
        "\n"
      ],
      "metadata": {
        "id": "hWqF_-f2Cz5g"
      }
    },
    {
      "cell_type": "code",
      "source": [
        "def create_partition(collection):\n",
        "  #Si la colección tiene solo un elemento, devuelve ese elemento como una partición única.\n",
        "    if len(collection) == 1:\n",
        "        yield [ collection ]\n",
        "        return\n",
        "\n",
        "    first = collection[0]\n",
        "    for smaller in create_partition(collection[1:]):\n",
        "        # inserta el primer elemento en cada subconjunto de la subpartición anterior\n",
        "        for n, subset in enumerate(smaller):\n",
        "            yield smaller[:n] + [[ first ] + subset]  + smaller[n+1:]\n",
        "        # inserta el primer elemento en un conjunto unitario y este a los subconjuntos de la subpartición anterior\n",
        "        yield [ [ first ] ] + smaller\n",
        "\n",
        "def partitions(n):\n",
        "  set = list(range(1, n + 1))\n",
        "  partitions=create_partition(set)\n",
        "\n",
        "  l = list(create_partition(set))\n",
        "\n",
        "  return l"
      ],
      "metadata": {
        "id": "u7s30SY2rK_e"
      },
      "execution_count": null,
      "outputs": []
    },
    {
      "cell_type": "code",
      "source": [
        "for i in range(1,5):\n",
        "  print(partitions(i))"
      ],
      "metadata": {
        "colab": {
          "base_uri": "https://localhost:8080/"
        },
        "id": "OZTtY11B9v1o",
        "outputId": "aa1b55c7-b0c2-49e5-e85a-ba1a500d5300"
      },
      "execution_count": null,
      "outputs": [
        {
          "output_type": "stream",
          "name": "stdout",
          "text": [
            "[[[1]]]\n",
            "[[[1, 2]], [[1], [2]]]\n",
            "[[[1, 2, 3]], [[1], [2, 3]], [[1, 2], [3]], [[2], [1, 3]], [[1], [2], [3]]]\n",
            "[[[1, 2, 3, 4]], [[1], [2, 3, 4]], [[1, 2], [3, 4]], [[2], [1, 3, 4]], [[1], [2], [3, 4]], [[1, 2, 3], [4]], [[2, 3], [1, 4]], [[1], [2, 3], [4]], [[1, 3], [2, 4]], [[3], [1, 2, 4]], [[1], [3], [2, 4]], [[1, 2], [3], [4]], [[2], [1, 3], [4]], [[2], [3], [1, 4]], [[1], [2], [3], [4]]]\n"
          ]
        }
      ]
    },
    {
      "cell_type": "code",
      "source": [
        "def partitionsGenerator(n,k,l):\n",
        "    if n==0:\n",
        "        return l\n",
        "    la=l[:]\n",
        "    for i in l:\n",
        "        a = i[:]\n",
        "        for j in i:\n",
        "            j.append(k+1)\n",
        "            c=j[:]\n",
        "            b=i[:]\n",
        "            b.append(c)\n",
        "            la.append(b)\n",
        "            j.remove(k+1)\n",
        "            b.remove(j)\n",
        "        a.append([k+1])\n",
        "        la.append(a)\n",
        "        la.remove(i)\n",
        "    del l\n",
        "    return partitionsGenerator(n-1,k+1,la)\n",
        "def partitions(n):\n",
        "    k=0\n",
        "    l=[[]]\n",
        "    return partitionsGenerator(n,k,l)"
      ],
      "metadata": {
        "id": "YHr93w56m121"
      },
      "execution_count": null,
      "outputs": []
    },
    {
      "cell_type": "markdown",
      "source": [
        "## 3. Write a code that produces the list of all partititions of the set of $[n]=\\{ 1,2,3,4\\cdots , n-1, n\\}$ with $0 \\le n \\le 10$ and the sum of elements of the partition which is the a constant $\\frac{n(n+1)}{2}$."
      ],
      "metadata": {
        "id": "6lXHDPmHCZ15"
      }
    },
    {
      "cell_type": "code",
      "source": [
        "def create_partition(collection):\n",
        "  #Si la colección tiene solo un elemento, devuelve ese elemento como una partición única.\n",
        "    if len(collection) == 1:\n",
        "        yield [ collection ]\n",
        "        return\n",
        "\n",
        "    first = collection[0]\n",
        "    for smaller in create_partition(collection[1:]):\n",
        "        # inserta el primer elemento en cada subconjunto de la subpartición anterior\n",
        "        for n, subset in enumerate(smaller):\n",
        "            yield smaller[:n] + [[ first ] + subset]  + smaller[n+1:]\n",
        "        # inserta el primer elemento en un conjunto unitario y este a los subconjuntos de la subpartición anterior\n",
        "        yield [ [ first ] ] + smaller\n",
        "\n",
        "def partitions(n):\n",
        "  set = list(range(1, n + 1))\n",
        "  partitions=create_partition(set)\n",
        "\n",
        "  l = list(create_partition(set))\n",
        "\n",
        "  return l"
      ],
      "metadata": {
        "id": "bahIxhWdtfJG"
      },
      "execution_count": null,
      "outputs": []
    },
    {
      "cell_type": "code",
      "source": [
        "for i in range(1,6):\n",
        "  print(sum(range(1, i + 1)))\n",
        "  print(partitions(i))"
      ],
      "metadata": {
        "colab": {
          "base_uri": "https://localhost:8080/"
        },
        "id": "cjKClXwKX1UA",
        "outputId": "b1ccbf08-d308-4d62-e9e0-c17824dfc488"
      },
      "execution_count": null,
      "outputs": [
        {
          "output_type": "stream",
          "name": "stdout",
          "text": [
            "1\n",
            "[[[1]]]\n",
            "3\n",
            "[[[1, 2]], [[1], [2]]]\n",
            "6\n",
            "[[[1, 2, 3]], [[1], [2, 3]], [[1, 2], [3]], [[2], [1, 3]], [[1], [2], [3]]]\n",
            "10\n",
            "[[[1, 2, 3, 4]], [[1], [2, 3, 4]], [[1, 2], [3, 4]], [[2], [1, 3, 4]], [[1], [2], [3, 4]], [[1, 2, 3], [4]], [[2, 3], [1, 4]], [[1], [2, 3], [4]], [[1, 3], [2, 4]], [[3], [1, 2, 4]], [[1], [3], [2, 4]], [[1, 2], [3], [4]], [[2], [1, 3], [4]], [[2], [3], [1, 4]], [[1], [2], [3], [4]]]\n",
            "15\n",
            "[[[1, 2, 3, 4, 5]], [[1], [2, 3, 4, 5]], [[1, 2], [3, 4, 5]], [[2], [1, 3, 4, 5]], [[1], [2], [3, 4, 5]], [[1, 2, 3], [4, 5]], [[2, 3], [1, 4, 5]], [[1], [2, 3], [4, 5]], [[1, 3], [2, 4, 5]], [[3], [1, 2, 4, 5]], [[1], [3], [2, 4, 5]], [[1, 2], [3], [4, 5]], [[2], [1, 3], [4, 5]], [[2], [3], [1, 4, 5]], [[1], [2], [3], [4, 5]], [[1, 2, 3, 4], [5]], [[2, 3, 4], [1, 5]], [[1], [2, 3, 4], [5]], [[1, 3, 4], [2, 5]], [[3, 4], [1, 2, 5]], [[1], [3, 4], [2, 5]], [[1, 2], [3, 4], [5]], [[2], [1, 3, 4], [5]], [[2], [3, 4], [1, 5]], [[1], [2], [3, 4], [5]], [[1, 2, 4], [3, 5]], [[2, 4], [1, 3, 5]], [[1], [2, 4], [3, 5]], [[1, 4], [2, 3, 5]], [[4], [1, 2, 3, 5]], [[1], [4], [2, 3, 5]], [[1, 2], [4], [3, 5]], [[2], [1, 4], [3, 5]], [[2], [4], [1, 3, 5]], [[1], [2], [4], [3, 5]], [[1, 2, 3], [4], [5]], [[2, 3], [1, 4], [5]], [[2, 3], [4], [1, 5]], [[1], [2, 3], [4], [5]], [[1, 3], [2, 4], [5]], [[3], [1, 2, 4], [5]], [[3], [2, 4], [1, 5]], [[1], [3], [2, 4], [5]], [[1, 3], [4], [2, 5]], [[3], [1, 4], [2, 5]], [[3], [4], [1, 2, 5]], [[1], [3], [4], [2, 5]], [[1, 2], [3], [4], [5]], [[2], [1, 3], [4], [5]], [[2], [3], [1, 4], [5]], [[2], [3], [4], [1, 5]], [[1], [2], [3], [4], [5]]]\n"
          ]
        }
      ]
    }
  ]
}