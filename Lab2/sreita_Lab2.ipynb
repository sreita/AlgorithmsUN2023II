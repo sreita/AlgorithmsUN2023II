{
  "cells": [
    {
      "cell_type": "markdown",
      "metadata": {
        "id": "view-in-github",
        "colab_type": "text"
      },
      "source": [
        "<a href=\"https://colab.research.google.com/github/sreita/AlgorithmsUN2024I/blob/main/Lab2/sreita_Lab2.ipynb\" target=\"_parent\"><img src=\"https://colab.research.google.com/assets/colab-badge.svg\" alt=\"Open In Colab\"/></a>"
      ]
    },
    {
      "cell_type": "code",
      "source": [
        "pip install -U fortran-magic"
      ],
      "metadata": {
        "colab": {
          "base_uri": "https://localhost:8080/"
        },
        "id": "0HSgs6FGQYdg",
        "outputId": "77d53f3b-53f3-462f-f1b8-7f917382e599"
      },
      "execution_count": null,
      "outputs": [
        {
          "output_type": "stream",
          "name": "stdout",
          "text": [
            "Collecting fortran-magic\n",
            "  Downloading fortran_magic-0.8-py3-none-any.whl (9.3 kB)\n",
            "Requirement already satisfied: ipython in /usr/local/lib/python3.10/dist-packages (from fortran-magic) (7.34.0)\n",
            "Requirement already satisfied: numpy in /usr/local/lib/python3.10/dist-packages (from fortran-magic) (1.25.2)\n",
            "Requirement already satisfied: setuptools>=18.5 in /usr/local/lib/python3.10/dist-packages (from ipython->fortran-magic) (67.7.2)\n",
            "Collecting jedi>=0.16 (from ipython->fortran-magic)\n",
            "  Downloading jedi-0.19.1-py2.py3-none-any.whl (1.6 MB)\n",
            "\u001b[2K     \u001b[90m━━━━━━━━━━━━━━━━━━━━━━━━━━━━━━━━━━━━━━━━\u001b[0m \u001b[32m1.6/1.6 MB\u001b[0m \u001b[31m8.0 MB/s\u001b[0m eta \u001b[36m0:00:00\u001b[0m\n",
            "\u001b[?25hRequirement already satisfied: decorator in /usr/local/lib/python3.10/dist-packages (from ipython->fortran-magic) (4.4.2)\n",
            "Requirement already satisfied: pickleshare in /usr/local/lib/python3.10/dist-packages (from ipython->fortran-magic) (0.7.5)\n",
            "Requirement already satisfied: traitlets>=4.2 in /usr/local/lib/python3.10/dist-packages (from ipython->fortran-magic) (5.7.1)\n",
            "Requirement already satisfied: prompt-toolkit!=3.0.0,!=3.0.1,<3.1.0,>=2.0.0 in /usr/local/lib/python3.10/dist-packages (from ipython->fortran-magic) (3.0.43)\n",
            "Requirement already satisfied: pygments in /usr/local/lib/python3.10/dist-packages (from ipython->fortran-magic) (2.16.1)\n",
            "Requirement already satisfied: backcall in /usr/local/lib/python3.10/dist-packages (from ipython->fortran-magic) (0.2.0)\n",
            "Requirement already satisfied: matplotlib-inline in /usr/local/lib/python3.10/dist-packages (from ipython->fortran-magic) (0.1.6)\n",
            "Requirement already satisfied: pexpect>4.3 in /usr/local/lib/python3.10/dist-packages (from ipython->fortran-magic) (4.9.0)\n",
            "Requirement already satisfied: parso<0.9.0,>=0.8.3 in /usr/local/lib/python3.10/dist-packages (from jedi>=0.16->ipython->fortran-magic) (0.8.3)\n",
            "Requirement already satisfied: ptyprocess>=0.5 in /usr/local/lib/python3.10/dist-packages (from pexpect>4.3->ipython->fortran-magic) (0.7.0)\n",
            "Requirement already satisfied: wcwidth in /usr/local/lib/python3.10/dist-packages (from prompt-toolkit!=3.0.0,!=3.0.1,<3.1.0,>=2.0.0->ipython->fortran-magic) (0.2.13)\n",
            "Installing collected packages: jedi, fortran-magic\n",
            "Successfully installed fortran-magic-0.8 jedi-0.19.1\n"
          ]
        }
      ]
    },
    {
      "cell_type": "code",
      "execution_count": null,
      "metadata": {
        "autoscroll": false,
        "ein.tags": "worksheet-0",
        "id": "FrAt48DtiXb-",
        "outputId": "d4ae7b44-8628-4729-8bf1-64aa8c37baad",
        "colab": {
          "base_uri": "https://localhost:8080/",
          "height": 17
        }
      },
      "outputs": [
        {
          "output_type": "display_data",
          "data": {
            "application/javascript": [
              "\n",
              "        if(typeof IPython === 'undefined') {\n",
              "            console.log('fortranmagic.py: TDOO: JupyterLab ' +\n",
              "                        'syntax highlight - unimplemented.');\n",
              "        } else {\n",
              "            IPython.CodeCell.options_default\n",
              "            .highlight_modes['magic_fortran'] = {'reg':[/^%%fortran/]};\n",
              "        }\n",
              "        "
            ]
          },
          "metadata": {}
        }
      ],
      "source": [
        "%matplotlib inline\n",
        "%load_ext fortranmagic\n",
        "\n",
        "import sys; sys.path.append('..')\n",
        "\n",
        "import pandas as pd\n",
        "import numpy as np\n",
        "import matplotlib as mpl\n",
        "import matplotlib.pyplot as plt\n",
        "import seaborn as sns\n",
        "\n",
        "mpl.rc('figure', figsize=(12, 7))\n",
        "\n",
        "ran_the_first_cell = True\n",
        "\n",
        "jan2017 = pd.to_datetime(['2017-01-03 00:00:00+00:00',\n",
        " '2017-01-04 00:00:00+00:00',\n",
        " '2017-01-05 00:00:00+00:00',\n",
        " '2017-01-06 00:00:00+00:00',\n",
        " '2017-01-09 00:00:00+00:00',\n",
        " '2017-01-10 00:00:00+00:00',\n",
        " '2017-01-11 00:00:00+00:00',\n",
        " '2017-01-12 00:00:00+00:00',\n",
        " '2017-01-13 00:00:00+00:00',\n",
        " '2017-01-17 00:00:00+00:00',\n",
        " '2017-01-18 00:00:00+00:00',\n",
        " '2017-01-19 00:00:00+00:00',\n",
        " '2017-01-20 00:00:00+00:00',\n",
        " '2017-01-23 00:00:00+00:00',\n",
        " '2017-01-24 00:00:00+00:00',\n",
        " '2017-01-25 00:00:00+00:00',\n",
        " '2017-01-26 00:00:00+00:00',\n",
        " '2017-01-27 00:00:00+00:00',\n",
        " '2017-01-30 00:00:00+00:00',\n",
        " '2017-01-31 00:00:00+00:00',\n",
        " '2017-02-01 00:00:00+00:00'])\n",
        "calendar = jan2017.values.astype('datetime64[D]')\n",
        "\n",
        "event_dates = pd.to_datetime(['2017-01-06 00:00:00+00:00',\n",
        "                             '2017-01-07 00:00:00+00:00',\n",
        "                             '2017-01-08 00:00:00+00:00']).values.astype('datetime64[D]')\n",
        "event_values = np.array([10, 15, 20])"
      ]
    },
    {
      "cell_type": "markdown",
      "metadata": {
        "ein.tags": "worksheet-0",
        "id": "lHm410FBiXcC"
      },
      "source": [
        "<center>\n",
        "  <h1>The PyData Toolbox</h1>\n",
        "  <h3>Scott Sanderson (Twitter: @scottbsanderson, GitHub: ssanderson)</h3>\n",
        "  <h3><a href=\"https://github.com/ssanderson/pydata-toolbox\">https://github.com/ssanderson/pydata-toolbox</a></h3>\n",
        "</center>"
      ]
    },
    {
      "cell_type": "markdown",
      "metadata": {
        "collapsed": true,
        "ein.tags": "worksheet-0",
        "id": "0CXHsFMBiXcD"
      },
      "source": [
        "# About Me:\n",
        "\n",
        "<img src=\"https://raw.githubusercontent.com/ssanderson/pydata-toolbox/master/notebooks/images/me.jpg\" alt=\"Drawing\" style=\"width: 300px;\"/>\n",
        "\n",
        "- Senior Engineer at [Quantopian](www.quantopian.com)\n",
        "- Background in Mathematics and Philosophy\n",
        "- **Twitter:** [@scottbsanderson](https://twitter.com/scottbsanderson)\n",
        "- **GitHub:** [ssanderson](github.com/ssanderson)"
      ]
    },
    {
      "cell_type": "markdown",
      "metadata": {
        "id": "tcOO-3C8iXcE"
      },
      "source": [
        "## Outline\n",
        "\n",
        "- Built-in Data Structures\n",
        "- Numpy `array`\n",
        "- Pandas `Series`/`DataFrame`\n",
        "- Plotting and \"Real-World\" Analyses"
      ]
    },
    {
      "cell_type": "markdown",
      "metadata": {
        "id": "qGj-c9CliXcE"
      },
      "source": [
        "# Data Structures"
      ]
    },
    {
      "cell_type": "markdown",
      "metadata": {
        "id": "Nsn-QHmCiXcF"
      },
      "source": [
        "> Rule 5. Data dominates. If you've chosen the right data structures and organized things well, the algorithms\n",
        "will almost always be self-evident. Data structures, not algorithms, are central to programming.\n",
        "\n",
        "- *Notes on Programming in C*, by Rob Pike."
      ]
    },
    {
      "cell_type": "markdown",
      "metadata": {
        "id": "_yhFg_rXiXcF"
      },
      "source": [
        "# Lists"
      ]
    },
    {
      "cell_type": "code",
      "execution_count": null,
      "metadata": {
        "collapsed": true,
        "id": "97QvmzbqiXcG"
      },
      "outputs": [],
      "source": [
        "assert ran_the_first_cell, \"Oh noes!\""
      ]
    },
    {
      "cell_type": "code",
      "execution_count": null,
      "metadata": {
        "id": "nhIZgNXLiXcG",
        "outputId": "53a32d92-c0d4-42ad-9dd5-422fa40d742c",
        "colab": {
          "base_uri": "https://localhost:8080/"
        }
      },
      "outputs": [
        {
          "output_type": "execute_result",
          "data": {
            "text/plain": [
              "[1, 'two', 3.0, 4, 5.0, 'six']"
            ]
          },
          "metadata": {},
          "execution_count": 14
        }
      ],
      "source": [
        "l = [1, 'two', 3.0, 4, 5.0, \"six\"]\n",
        "l"
      ]
    },
    {
      "cell_type": "code",
      "execution_count": null,
      "metadata": {
        "id": "Cjj8bfDAiXcH",
        "outputId": "98db165c-6b93-49b5-fb88-ffbc39515f07",
        "colab": {
          "base_uri": "https://localhost:8080/"
        }
      },
      "outputs": [
        {
          "output_type": "stream",
          "name": "stdout",
          "text": [
            "first: 1\n",
            "second: two\n"
          ]
        }
      ],
      "source": [
        "# Lists can be indexed like C-style arrays.\n",
        "first = l[0]\n",
        "second = l[1]\n",
        "print(\"first:\", first)\n",
        "print(\"second:\", second)"
      ]
    },
    {
      "cell_type": "code",
      "execution_count": null,
      "metadata": {
        "id": "cVozluPbiXcH",
        "outputId": "74df6996-d012-459f-a65b-1138878b75cb",
        "colab": {
          "base_uri": "https://localhost:8080/"
        }
      },
      "outputs": [
        {
          "output_type": "stream",
          "name": "stdout",
          "text": [
            "last: six\n",
            "second to last: 5.0\n"
          ]
        }
      ],
      "source": [
        "# Negative indexing gives elements relative to the end of the list.\n",
        "last = l[-1]\n",
        "penultimate = l[-2]\n",
        "print(\"last:\", last)\n",
        "print(\"second to last:\", penultimate)"
      ]
    },
    {
      "cell_type": "code",
      "execution_count": null,
      "metadata": {
        "id": "PTqqm8MeiXcI",
        "outputId": "b320de7c-a049-4e9f-a325-0bd4831a517b",
        "colab": {
          "base_uri": "https://localhost:8080/"
        }
      },
      "outputs": [
        {
          "output_type": "execute_result",
          "data": {
            "text/plain": [
              "['two', 3.0]"
            ]
          },
          "metadata": {},
          "execution_count": 17
        }
      ],
      "source": [
        "# Lists can also be sliced, which makes a copy of elements between\n",
        "# start (inclusive) and stop (exclusive)\n",
        "sublist = l[1:3]\n",
        "sublist"
      ]
    },
    {
      "cell_type": "code",
      "execution_count": null,
      "metadata": {
        "id": "ugUUXXUViXcI",
        "outputId": "1f9a231a-7b3b-4a37-d9da-537498c1f9a2",
        "colab": {
          "base_uri": "https://localhost:8080/"
        }
      },
      "outputs": [
        {
          "output_type": "execute_result",
          "data": {
            "text/plain": [
              "[1, 'two', 3.0]"
            ]
          },
          "metadata": {},
          "execution_count": 18
        }
      ],
      "source": [
        "# l[:N] is equivalent to l[0:N].\n",
        "first_three = l[:3]\n",
        "first_three"
      ]
    },
    {
      "cell_type": "code",
      "execution_count": null,
      "metadata": {
        "id": "otoRjbK7iXcI",
        "outputId": "f2383157-aaeb-4237-ef58-5616fb639434",
        "colab": {
          "base_uri": "https://localhost:8080/"
        }
      },
      "outputs": [
        {
          "output_type": "execute_result",
          "data": {
            "text/plain": [
              "[4, 5.0, 'six']"
            ]
          },
          "metadata": {},
          "execution_count": 19
        }
      ],
      "source": [
        "# l[3:] is equivalent to l[3:len(l)].\n",
        "after_three = l[3:]\n",
        "after_three"
      ]
    },
    {
      "cell_type": "code",
      "execution_count": null,
      "metadata": {
        "id": "2ZndPPspiXcJ",
        "outputId": "c7728cf9-675a-4b74-bea0-62bea8a35321",
        "colab": {
          "base_uri": "https://localhost:8080/"
        }
      },
      "outputs": [
        {
          "output_type": "execute_result",
          "data": {
            "text/plain": [
              "['b', 'd', 'f']"
            ]
          },
          "metadata": {},
          "execution_count": 20
        }
      ],
      "source": [
        "# There's also a third parameter, \"step\", which gets every Nth element.\n",
        "l = ['a', 'b', 'c', 'd', 'e', 'f', 'g','h']\n",
        "l[1:7:2]"
      ]
    },
    {
      "cell_type": "code",
      "execution_count": null,
      "metadata": {
        "id": "dt2OMhnZiXcJ",
        "outputId": "a7aa88ad-d1a0-4ca8-a598-165d45aeb397",
        "colab": {
          "base_uri": "https://localhost:8080/"
        }
      },
      "outputs": [
        {
          "output_type": "execute_result",
          "data": {
            "text/plain": [
              "['h', 'g', 'f', 'e', 'd', 'c', 'b', 'a']"
            ]
          },
          "metadata": {},
          "execution_count": 21
        }
      ],
      "source": [
        "# This is a cute way to reverse a list.\n",
        "l[::-1]"
      ]
    },
    {
      "cell_type": "code",
      "execution_count": null,
      "metadata": {
        "id": "uDIdawFwiXcJ",
        "outputId": "2237df0b-bff2-4196-eb95-042e4d01a835",
        "colab": {
          "base_uri": "https://localhost:8080/"
        }
      },
      "outputs": [
        {
          "output_type": "stream",
          "name": "stdout",
          "text": [
            "Before: [1, 2, 3, 4, 5]\n",
            "After: [1, 2, 3, 4, 5, 'six']\n"
          ]
        }
      ],
      "source": [
        "# Lists can be grown efficiently (in O(1) amortized time).\n",
        "l = [1, 2, 3, 4, 5]\n",
        "print(\"Before:\", l)\n",
        "l.append('six')\n",
        "print(\"After:\", l)"
      ]
    },
    {
      "cell_type": "code",
      "execution_count": null,
      "metadata": {
        "id": "OIhO0xxUiXcK",
        "outputId": "04427b14-59ee-4962-ce76-461caed329b6",
        "colab": {
          "base_uri": "https://localhost:8080/"
        }
      },
      "outputs": [
        {
          "output_type": "execute_result",
          "data": {
            "text/plain": [
              "[2, 4, 6, 8, 10]"
            ]
          },
          "metadata": {},
          "execution_count": 23
        }
      ],
      "source": [
        "# Comprehensions let us perform elementwise computations.\n",
        "l = [1, 2, 3, 4, 5]\n",
        "[x * 2 for x in l]"
      ]
    },
    {
      "cell_type": "markdown",
      "metadata": {
        "ein.tags": "worksheet-0",
        "id": "gh1Uw4KtiXcK"
      },
      "source": [
        "## Review: Python Lists\n",
        "\n",
        "- Zero-indexed sequence of arbitrary Python values.\n",
        "- Slicing syntax: `l[start:stop:step]` copies elements at regular intervals from `start` to `stop`.\n",
        "- Efficient (`O(1)`) appends and removes from end.\n",
        "- Comprehension syntax: `[f(x) for x in l if cond(x)]`."
      ]
    },
    {
      "cell_type": "markdown",
      "metadata": {
        "id": "KPeFQQs5iXcK"
      },
      "source": [
        "# Dictionaries"
      ]
    },
    {
      "cell_type": "code",
      "execution_count": null,
      "metadata": {
        "id": "55GAxN3AiXcL",
        "outputId": "7e8f61be-7b8a-41c7-9cf6-dd4255c24063",
        "colab": {
          "base_uri": "https://localhost:8080/"
        }
      },
      "outputs": [
        {
          "output_type": "execute_result",
          "data": {
            "text/plain": [
              "{'David': 'Hume', 'Immanuel': 'Kant', 'Bertrand': 'Russell'}"
            ]
          },
          "metadata": {},
          "execution_count": 24
        }
      ],
      "source": [
        "# Dictionaries are key-value mappings.\n",
        "philosophers = {'David': 'Hume', 'Immanuel': 'Kant', 'Bertrand': 'Russell'}\n",
        "philosophers"
      ]
    },
    {
      "cell_type": "code",
      "execution_count": null,
      "metadata": {
        "id": "V3JS2kHSiXcL",
        "outputId": "e0fd2cad-9d10-4db7-b0b4-6b51dd70a60f",
        "colab": {
          "base_uri": "https://localhost:8080/"
        }
      },
      "outputs": [
        {
          "output_type": "execute_result",
          "data": {
            "text/plain": [
              "{'David': 'Hume',\n",
              " 'Immanuel': 'Kant',\n",
              " 'Bertrand': 'Russell',\n",
              " 'Ludwig': 'Wittgenstein'}"
            ]
          },
          "metadata": {},
          "execution_count": 25
        }
      ],
      "source": [
        "# Like lists, dictionaries are size-mutable.\n",
        "philosophers['Ludwig'] = 'Wittgenstein'\n",
        "philosophers"
      ]
    },
    {
      "cell_type": "code",
      "execution_count": null,
      "metadata": {
        "id": "YRGePTociXcL",
        "outputId": "20763180-a4c3-4a2b-e2aa-9f216604e659",
        "colab": {
          "base_uri": "https://localhost:8080/"
        }
      },
      "outputs": [
        {
          "output_type": "execute_result",
          "data": {
            "text/plain": [
              "{'Immanuel': 'Kant', 'Bertrand': 'Russell', 'Ludwig': 'Wittgenstein'}"
            ]
          },
          "metadata": {},
          "execution_count": 26
        }
      ],
      "source": [
        "del philosophers['David']\n",
        "philosophers"
      ]
    },
    {
      "cell_type": "code",
      "execution_count": null,
      "metadata": {
        "id": "2E4f_6pQiXcM",
        "outputId": "a4cd5c1c-517d-41aa-c55f-3e4dea86e65b",
        "colab": {
          "base_uri": "https://localhost:8080/",
          "height": 159
        }
      },
      "outputs": [
        {
          "output_type": "error",
          "ename": "TypeError",
          "evalue": "unhashable type: 'slice'",
          "traceback": [
            "\u001b[0;31m---------------------------------------------------------------------------\u001b[0m",
            "\u001b[0;31mTypeError\u001b[0m                                 Traceback (most recent call last)",
            "\u001b[0;32m<ipython-input-27-042d882bd6b0>\u001b[0m in \u001b[0;36m<cell line: 2>\u001b[0;34m()\u001b[0m\n\u001b[1;32m      1\u001b[0m \u001b[0;31m# No slicing.\u001b[0m\u001b[0;34m\u001b[0m\u001b[0;34m\u001b[0m\u001b[0m\n\u001b[0;32m----> 2\u001b[0;31m \u001b[0mphilosophers\u001b[0m\u001b[0;34m[\u001b[0m\u001b[0;34m'Bertrand'\u001b[0m\u001b[0;34m:\u001b[0m\u001b[0;34m'Immanuel'\u001b[0m\u001b[0;34m]\u001b[0m\u001b[0;34m\u001b[0m\u001b[0;34m\u001b[0m\u001b[0m\n\u001b[0m",
            "\u001b[0;31mTypeError\u001b[0m: unhashable type: 'slice'"
          ]
        }
      ],
      "source": [
        "# No slicing.\n",
        "philosophers['Bertrand':'Immanuel']"
      ]
    },
    {
      "cell_type": "markdown",
      "metadata": {
        "ein.tags": "worksheet-0",
        "id": "xvN8eqK2iXcM"
      },
      "source": [
        "## Review: Python Dictionaries\n",
        "\n",
        "- Unordered key-value mapping from (almost) arbitrary keys to arbitrary values.\n",
        "- Efficient (`O(1)`) lookup, insertion, and deletion.\n",
        "- No slicing (would require a notion of order)."
      ]
    },
    {
      "cell_type": "markdown",
      "metadata": {
        "id": "3C9gwhYDiXcM"
      },
      "source": [
        "<center><img src=\"https://raw.githubusercontent.com/ssanderson/pydata-toolbox/master/notebooks/images/pacino.gif\" alt=\"Drawing\" style=\"width: 100%;\"/></center>\n"
      ]
    },
    {
      "cell_type": "code",
      "execution_count": null,
      "metadata": {
        "collapsed": true,
        "id": "eqFZgJyyiXcM"
      },
      "outputs": [],
      "source": [
        "# Suppose we have some matrices...\n",
        "a = [[1, 2, 3],\n",
        "     [2, 3, 4],\n",
        "     [5, 6, 7],\n",
        "     [1, 1, 1]]\n",
        "\n",
        "b = [[1, 2, 3, 4],\n",
        "     [2, 3, 4, 5]]"
      ]
    },
    {
      "cell_type": "code",
      "execution_count": null,
      "metadata": {
        "collapsed": true,
        "id": "TfFqABAMiXcM"
      },
      "outputs": [],
      "source": [
        "def matmul(A, B):\n",
        "    \"\"\"Multiply matrix A by matrix B.\"\"\"\n",
        "    rows_out = len(A)\n",
        "    cols_out = len(B[0])\n",
        "    out = [[0 for col in range(cols_out)] for row in range(rows_out)]\n",
        "\n",
        "    for i in range(rows_out):\n",
        "        for j in range(cols_out):\n",
        "            for k in range(len(B)):\n",
        "                out[i][j] += A[i][k] * B[k][j]\n",
        "    return out"
      ]
    },
    {
      "cell_type": "markdown",
      "metadata": {
        "id": "Yuee_jmYiXcN"
      },
      "source": [
        "<center><img src=\"https://raw.githubusercontent.com/ssanderson/pydata-toolbox/master/notebooks/images/gross.gif\" alt=\"Drawing\" style=\"width: 50%;\"/></center>\n"
      ]
    },
    {
      "cell_type": "code",
      "execution_count": null,
      "metadata": {
        "id": "PerN-NDRiXcN",
        "outputId": "820e8490-cfc5-4ab9-997d-35db6b21f139",
        "colab": {
          "base_uri": "https://localhost:8080/"
        }
      },
      "outputs": [
        {
          "output_type": "stream",
          "name": "stdout",
          "text": [
            "CPU times: user 32 µs, sys: 6 µs, total: 38 µs\n",
            "Wall time: 41 µs\n"
          ]
        },
        {
          "output_type": "execute_result",
          "data": {
            "text/plain": [
              "[[5, 8, 11, 14], [8, 13, 18, 23], [17, 28, 39, 50], [3, 5, 7, 9]]"
            ]
          },
          "metadata": {},
          "execution_count": 5
        }
      ],
      "source": [
        "%%time\n",
        "matmul(a, b)"
      ]
    },
    {
      "cell_type": "markdown",
      "source": [
        "**My own example 0 - cpu info**"
      ],
      "metadata": {
        "id": "AAcF7qrOv8KF"
      }
    },
    {
      "cell_type": "code",
      "source": [
        "!cat /proc/cpuinfo"
      ],
      "metadata": {
        "colab": {
          "base_uri": "https://localhost:8080/"
        },
        "id": "BQl1PQDJwDkc",
        "outputId": "3e8de176-a03b-4e21-833a-14e8f7eff144"
      },
      "execution_count": null,
      "outputs": [
        {
          "output_type": "stream",
          "name": "stdout",
          "text": [
            "processor\t: 0\n",
            "vendor_id\t: GenuineIntel\n",
            "cpu family\t: 6\n",
            "model\t\t: 79\n",
            "model name\t: Intel(R) Xeon(R) CPU @ 2.20GHz\n",
            "stepping\t: 0\n",
            "microcode\t: 0xffffffff\n",
            "cpu MHz\t\t: 2199.998\n",
            "cache size\t: 56320 KB\n",
            "physical id\t: 0\n",
            "siblings\t: 2\n",
            "core id\t\t: 0\n",
            "cpu cores\t: 1\n",
            "apicid\t\t: 0\n",
            "initial apicid\t: 0\n",
            "fpu\t\t: yes\n",
            "fpu_exception\t: yes\n",
            "cpuid level\t: 13\n",
            "wp\t\t: yes\n",
            "flags\t\t: fpu vme de pse tsc msr pae mce cx8 apic sep mtrr pge mca cmov pat pse36 clflush mmx fxsr sse sse2 ss ht syscall nx pdpe1gb rdtscp lm constant_tsc rep_good nopl xtopology nonstop_tsc cpuid tsc_known_freq pni pclmulqdq ssse3 fma cx16 pcid sse4_1 sse4_2 x2apic movbe popcnt aes xsave avx f16c rdrand hypervisor lahf_lm abm 3dnowprefetch invpcid_single ssbd ibrs ibpb stibp fsgsbase tsc_adjust bmi1 hle avx2 smep bmi2 erms invpcid rtm rdseed adx smap xsaveopt arat md_clear arch_capabilities\n",
            "bugs\t\t: cpu_meltdown spectre_v1 spectre_v2 spec_store_bypass l1tf mds swapgs taa mmio_stale_data retbleed\n",
            "bogomips\t: 4399.99\n",
            "clflush size\t: 64\n",
            "cache_alignment\t: 64\n",
            "address sizes\t: 46 bits physical, 48 bits virtual\n",
            "power management:\n",
            "\n",
            "processor\t: 1\n",
            "vendor_id\t: GenuineIntel\n",
            "cpu family\t: 6\n",
            "model\t\t: 79\n",
            "model name\t: Intel(R) Xeon(R) CPU @ 2.20GHz\n",
            "stepping\t: 0\n",
            "microcode\t: 0xffffffff\n",
            "cpu MHz\t\t: 2199.998\n",
            "cache size\t: 56320 KB\n",
            "physical id\t: 0\n",
            "siblings\t: 2\n",
            "core id\t\t: 0\n",
            "cpu cores\t: 1\n",
            "apicid\t\t: 1\n",
            "initial apicid\t: 1\n",
            "fpu\t\t: yes\n",
            "fpu_exception\t: yes\n",
            "cpuid level\t: 13\n",
            "wp\t\t: yes\n",
            "flags\t\t: fpu vme de pse tsc msr pae mce cx8 apic sep mtrr pge mca cmov pat pse36 clflush mmx fxsr sse sse2 ss ht syscall nx pdpe1gb rdtscp lm constant_tsc rep_good nopl xtopology nonstop_tsc cpuid tsc_known_freq pni pclmulqdq ssse3 fma cx16 pcid sse4_1 sse4_2 x2apic movbe popcnt aes xsave avx f16c rdrand hypervisor lahf_lm abm 3dnowprefetch invpcid_single ssbd ibrs ibpb stibp fsgsbase tsc_adjust bmi1 hle avx2 smep bmi2 erms invpcid rtm rdseed adx smap xsaveopt arat md_clear arch_capabilities\n",
            "bugs\t\t: cpu_meltdown spectre_v1 spectre_v2 spec_store_bypass l1tf mds swapgs taa mmio_stale_data retbleed\n",
            "bogomips\t: 4399.99\n",
            "clflush size\t: 64\n",
            "cache_alignment\t: 64\n",
            "address sizes\t: 46 bits physical, 48 bits virtual\n",
            "power management:\n",
            "\n"
          ]
        }
      ]
    },
    {
      "cell_type": "markdown",
      "source": [
        "**------------------------------------------------------------------------**"
      ],
      "metadata": {
        "id": "e7rgREGNhRCY"
      }
    },
    {
      "cell_type": "markdown",
      "source": [
        "**My own example 1 - Changing in matmul(A, B) Python len(B) (# of rows of B) for len(A[0]) (# of columns of A)**"
      ],
      "metadata": {
        "id": "EFlf_ZLgsUEo"
      }
    },
    {
      "cell_type": "code",
      "source": [
        "def matmul(A, B):\n",
        "    \"\"\"Multiply matrix A by matrix B.\"\"\"\n",
        "    rows_out = len(A)\n",
        "    cols_out = len(B[0])\n",
        "    out = [[0 for col in range(cols_out)] for row in range(rows_out)]\n",
        "\n",
        "    for i in range(rows_out):\n",
        "        for j in range(cols_out):\n",
        "            for k in range(len(A[0])):\n",
        "                out[i][j] += A[i][k] * B[k][j]\n",
        "    return out"
      ],
      "metadata": {
        "id": "T71BRNaG3fev"
      },
      "execution_count": null,
      "outputs": []
    },
    {
      "cell_type": "markdown",
      "source": [
        "**My own example 2 - Verifiying error with in matmul(A, B) Python with the original matrices when changing len(B) (# of rows of B) for len(A[0]) (# of colums of A)**"
      ],
      "metadata": {
        "id": "8sLiMfvlUJzp"
      }
    },
    {
      "cell_type": "code",
      "source": [
        "%%time\n",
        "try:\n",
        "  print(matmul(b, a))\n",
        "except Exception as e:\n",
        "  print(\"An error has occured during the calculations: \",e)"
      ],
      "metadata": {
        "id": "HjyOAFQW3gc3",
        "colab": {
          "base_uri": "https://localhost:8080/"
        },
        "outputId": "010a747b-70b9-4e7c-f4cc-30711fc0e167"
      },
      "execution_count": null,
      "outputs": [
        {
          "output_type": "stream",
          "name": "stdout",
          "text": [
            "[[24, 30, 36], [33, 42, 51]]\n",
            "CPU times: user 1.53 ms, sys: 0 ns, total: 1.53 ms\n",
            "Wall time: 1.49 ms\n"
          ]
        }
      ]
    },
    {
      "cell_type": "markdown",
      "source": [
        "**My own example 3 - Chekcing the matrix multiplication compatibility condition  len(A[0]) == len(B)**\n",
        "\n"
      ],
      "metadata": {
        "id": "AGztFKBNuQ_e"
      }
    },
    {
      "cell_type": "code",
      "source": [
        "def matmul(A, B):\n",
        "    \"\"\"Multiply matrix A by matrix B.\"\"\"\n",
        "    if len(A[0]) == len(B) :\n",
        "      rows_out = len(A)\n",
        "      cols_out = len(B[0])\n",
        "      out = [[0 for col in range(cols_out)] for row in range(rows_out)]\n",
        "      for i in range(rows_out):\n",
        "          for j in range(cols_out):\n",
        "              for k in range(len(A[0])):\n",
        "                  out[i][j] += A[i][k] * B[k][j]\n",
        "      return out\n",
        "    else:\n",
        "      print(\"The matrix dimentions are not correct for multiplication.\")\n",
        "      return 0\n"
      ],
      "metadata": {
        "id": "4rgHkUNC3haX"
      },
      "execution_count": null,
      "outputs": []
    },
    {
      "cell_type": "markdown",
      "source": [
        "**My own example 4 -  Verifiying error with in matmul(A, B) Python when checking the mtarix multiplication compatibility condition  len(A[0]) == len(B)**"
      ],
      "metadata": {
        "id": "A4SoDNPpuZpp"
      }
    },
    {
      "cell_type": "code",
      "source": [
        "%%time\n",
        "matmul(a, b)"
      ],
      "metadata": {
        "id": "wpnd21c83jQI",
        "colab": {
          "base_uri": "https://localhost:8080/"
        },
        "outputId": "cbc150c1-4416-4798-a58f-933a5790fab4"
      },
      "execution_count": null,
      "outputs": [
        {
          "output_type": "stream",
          "name": "stdout",
          "text": [
            "The matrix dimentions are not correct for multiplication.\n",
            "CPU times: user 1.15 ms, sys: 808 µs, total: 1.96 ms\n",
            "Wall time: 2.01 ms\n"
          ]
        },
        {
          "output_type": "execute_result",
          "data": {
            "text/plain": [
              "0"
            ]
          },
          "metadata": {},
          "execution_count": 10
        }
      ]
    },
    {
      "cell_type": "code",
      "source": [
        "%%time\n",
        "matmul(b, a)"
      ],
      "metadata": {
        "colab": {
          "base_uri": "https://localhost:8080/"
        },
        "id": "ArkaBRprem95",
        "outputId": "4cf823a7-619e-430f-f18e-7b0f7f318b06"
      },
      "execution_count": null,
      "outputs": [
        {
          "output_type": "stream",
          "name": "stdout",
          "text": [
            "CPU times: user 22 µs, sys: 4 µs, total: 26 µs\n",
            "Wall time: 29.3 µs\n"
          ]
        },
        {
          "output_type": "execute_result",
          "data": {
            "text/plain": [
              "[[24, 30, 36], [33, 42, 51]]"
            ]
          },
          "metadata": {},
          "execution_count": 11
        }
      ]
    },
    {
      "cell_type": "markdown",
      "source": [
        "**My own example 5 - Deifining A and B that are compatible for multiplcation**"
      ],
      "metadata": {
        "id": "MZTTYVu0ufCY"
      }
    },
    {
      "cell_type": "code",
      "source": [
        "A = [[1,2,5],[5,3,6]]\n",
        "B = [[4,7],[0,1],[5,6]]"
      ],
      "metadata": {
        "id": "q8nHrWQz3kby"
      },
      "execution_count": null,
      "outputs": []
    },
    {
      "cell_type": "markdown",
      "source": [
        "**My own example 6 - Runinng the correct Python matrix multiplication code with the matrices with dimensions compatible for multiplication.**"
      ],
      "metadata": {
        "id": "GM5DAXUIuhEg"
      }
    },
    {
      "cell_type": "code",
      "source": [
        "%%time\n",
        "matmul(A, B)"
      ],
      "metadata": {
        "colab": {
          "base_uri": "https://localhost:8080/"
        },
        "id": "FBa312p9hE36",
        "outputId": "d52b57f7-b071-4d57-ccaf-29bc188a81fd"
      },
      "execution_count": null,
      "outputs": [
        {
          "output_type": "stream",
          "name": "stdout",
          "text": [
            "CPU times: user 19 µs, sys: 3 µs, total: 22 µs\n",
            "Wall time: 25 µs\n"
          ]
        },
        {
          "output_type": "execute_result",
          "data": {
            "text/plain": [
              "[[29, 39], [50, 74]]"
            ]
          },
          "metadata": {},
          "execution_count": 13
        }
      ]
    },
    {
      "cell_type": "markdown",
      "source": [
        "**------------------------------------------------------------------------**\n",
        "\n"
      ],
      "metadata": {
        "id": "mMNfOTI5hIo5"
      }
    },
    {
      "cell_type": "code",
      "source": [
        "import random"
      ],
      "metadata": {
        "id": "Ip600JFN3qHX"
      },
      "execution_count": null,
      "outputs": []
    },
    {
      "cell_type": "code",
      "source": [
        "random.normalvariate(0,1)"
      ],
      "metadata": {
        "colab": {
          "base_uri": "https://localhost:8080/"
        },
        "id": "HuDvpWbBkup-",
        "outputId": "8f5aae22-ac93-41b6-f41f-39ba7ad1689a"
      },
      "execution_count": null,
      "outputs": [
        {
          "output_type": "execute_result",
          "data": {
            "text/plain": [
              "1.6565225456388954"
            ]
          },
          "metadata": {},
          "execution_count": 15
        }
      ]
    },
    {
      "cell_type": "code",
      "source": [
        "import math\n"
      ],
      "metadata": {
        "id": "sHkkB8d64-Ew"
      },
      "execution_count": null,
      "outputs": []
    },
    {
      "cell_type": "code",
      "source": [
        "import numpy as np"
      ],
      "metadata": {
        "id": "jIGx6kVy5EiH"
      },
      "execution_count": null,
      "outputs": []
    },
    {
      "cell_type": "code",
      "source": [
        "np.random.rand(3,4)\n"
      ],
      "metadata": {
        "colab": {
          "base_uri": "https://localhost:8080/"
        },
        "id": "xOCmAwqX5NTH",
        "outputId": "63743b68-1d0d-492c-b144-7528bf9d783d"
      },
      "execution_count": null,
      "outputs": [
        {
          "output_type": "execute_result",
          "data": {
            "text/plain": [
              "array([[0.20258385, 0.19330305, 0.91390964, 0.8845817 ],\n",
              "       [0.61590895, 0.88761561, 0.22836312, 0.42110384],\n",
              "       [0.48479437, 0.49516462, 0.44899985, 0.11104682]])"
            ]
          },
          "metadata": {},
          "execution_count": 18
        }
      ]
    },
    {
      "cell_type": "code",
      "execution_count": null,
      "metadata": {
        "outputId": "9405c70b-c164-43bc-a56a-5343347c3db5",
        "colab": {
          "base_uri": "https://localhost:8080/"
        },
        "id": "X1tnwMvd3bIP"
      },
      "outputs": [
        {
          "output_type": "execute_result",
          "data": {
            "text/plain": [
              "[[0.9551422893980889, 0.13405451964891624, 0.03332549950627384],\n",
              " [0.8692425715361087, 0.6399239774637324, 0.5461325238622837]]"
            ]
          },
          "metadata": {},
          "execution_count": 19
        }
      ],
      "source": [
        "import random\n",
        "\n",
        "def random_matrix(m, n):\n",
        "    out = []\n",
        "    for row in range(m):\n",
        "        out.append([random.random() for _ in range(n)])\n",
        "    return out\n",
        "\n",
        "randm = random_matrix(2, 3)\n",
        "randm"
      ]
    },
    {
      "cell_type": "markdown",
      "source": [
        "**My own example 7 - Running 10 times matmul(randa, randb) with randa and randb a randon matrices of 600 x 100 and 100 x 600 and calulating the average execution time**"
      ],
      "metadata": {
        "id": "3-eUeNjHhHP7"
      }
    },
    {
      "cell_type": "code",
      "source": [
        "import time\n",
        "import numpy as np\n",
        "\n",
        "def average_execution_time(randA, randB, num_runs=10, execution_type='py'):\n",
        "    total_execution_time = 0\n",
        "\n",
        "    for _ in range(num_runs):\n",
        "\n",
        "        start_time = time.time()\n",
        "\n",
        "        if execution_type == 'py':\n",
        "          result = matmul(randA, randB)\n",
        "        elif execution_type == 'np':\n",
        "          result = np.dot(randa, randb)\n",
        "        else:\n",
        "          break\n",
        "\n",
        "        end_time = time.time()\n",
        "\n",
        "        execution_time = end_time - start_time\n",
        "        total_execution_time += execution_time\n",
        "\n",
        "    average_execution_time = total_execution_time / num_runs\n",
        "    return average_execution_time"
      ],
      "metadata": {
        "id": "DibCI-RlirAC"
      },
      "execution_count": null,
      "outputs": []
    },
    {
      "cell_type": "code",
      "source": [
        "randa = random_matrix(600,100)\n",
        "randb = random_matrix(100,600)\n",
        "average_time_python = average_execution_time(randa, randb)\n",
        "\n",
        "print(f\"Average time of execution for matrix multilpication in PYTHON: {average_time_python} s\")"
      ],
      "metadata": {
        "colab": {
          "base_uri": "https://localhost:8080/"
        },
        "id": "5s-W4w2ika5b",
        "outputId": "cc1676b9-4257-4540-b146-27180e250618"
      },
      "execution_count": null,
      "outputs": [
        {
          "output_type": "stream",
          "name": "stdout",
          "text": [
            "Average time of execution for matrix multilpication in PYTHON: 9.02667968273163 s\n"
          ]
        }
      ]
    },
    {
      "cell_type": "markdown",
      "source": [
        "**My own example 8 - Creating the average execution time data frame and adding Python's average execution time**"
      ],
      "metadata": {
        "id": "FXisJPNSN-Tf"
      }
    },
    {
      "cell_type": "code",
      "source": [
        "import pandas as pd\n",
        "\n",
        "data = []\n",
        "data.append({'Language': 'Python', 'Execution time': average_time_python})\n",
        "df = pd.DataFrame(data)\n",
        "\n",
        "print(df)"
      ],
      "metadata": {
        "id": "2fK25g003-ww",
        "colab": {
          "base_uri": "https://localhost:8080/"
        },
        "outputId": "e313dd0f-f81b-4470-9145-c4dea53837dc"
      },
      "execution_count": null,
      "outputs": [
        {
          "output_type": "stream",
          "name": "stdout",
          "text": [
            "  Language  Execution time\n",
            "0   Python         9.02668\n"
          ]
        }
      ]
    },
    {
      "cell_type": "markdown",
      "source": [
        "**My own example 9 - Running 10 times randa and randb mutiplicaction as NumPy arrays  adding NumPy's average execution time**"
      ],
      "metadata": {
        "id": "OiFYD3tghLcL"
      }
    },
    {
      "cell_type": "code",
      "source": [
        "np_randa = np.array(randa)\n",
        "np_randb = np.array(randb)\n",
        "\n",
        "average_time_numpy = average_execution_time(randa, randb, execution_type='np')\n",
        "print(f\"Average time of execution for matrix multilpication in NUMPY: {average_time_numpy} s\")"
      ],
      "metadata": {
        "id": "bHX4icJx5KZo",
        "colab": {
          "base_uri": "https://localhost:8080/"
        },
        "outputId": "41f932b4-1540-4ce7-dde7-8af609e37eac"
      },
      "execution_count": null,
      "outputs": [
        {
          "output_type": "stream",
          "name": "stdout",
          "text": [
            "Average time of execution for matrix multilpication in NUMPY: 0.018192458152770995 s\n"
          ]
        }
      ]
    },
    {
      "cell_type": "code",
      "source": [
        "data.append({'Language': 'Numpy', 'Execution time': average_time_numpy})\n",
        "df = pd.DataFrame(data)\n",
        "\n",
        "print(df)"
      ],
      "metadata": {
        "colab": {
          "base_uri": "https://localhost:8080/"
        },
        "id": "gfLwlMgVusuf",
        "outputId": "b8175180-6cb9-4488-8498-638c0093f870"
      },
      "execution_count": null,
      "outputs": [
        {
          "output_type": "stream",
          "name": "stdout",
          "text": [
            "  Language  Execution time\n",
            "0   Python        9.026680\n",
            "1    Numpy        0.018192\n"
          ]
        }
      ]
    },
    {
      "cell_type": "markdown",
      "source": [
        "**------------------------------------------------------------------------**"
      ],
      "metadata": {
        "id": "Xe9p01nZhwqo"
      }
    },
    {
      "cell_type": "code",
      "execution_count": null,
      "metadata": {
        "collapsed": true,
        "id": "hXy_q4S8iXcN"
      },
      "outputs": [],
      "source": [
        "# Maybe that's not that bad?  Let's try a simpler case.\n",
        "def python_dot_product(xs, ys):\n",
        "    return sum(x * y for x, y in zip(xs, ys))"
      ]
    },
    {
      "cell_type": "code",
      "source": [
        "%fortran_config --clean-cache"
      ],
      "metadata": {
        "colab": {
          "base_uri": "https://localhost:8080/"
        },
        "id": "SNvp_n8tu924",
        "outputId": "5050d4a0-9e6c-4b4c-eeac-d95fd8cb5e14"
      },
      "execution_count": null,
      "outputs": [
        {
          "output_type": "stream",
          "name": "stdout",
          "text": [
            "Clean cache: /root/.cache/ipython/fortranmagic/9ba265d1\n"
          ]
        }
      ]
    },
    {
      "cell_type": "code",
      "execution_count": null,
      "metadata": {
        "collapsed": true,
        "id": "qylqVrbqiXcO"
      },
      "outputs": [],
      "source": [
        "%%fortran\n",
        "subroutine fortran_dot_product(xs, ys, result)\n",
        "    double precision, intent(in) :: xs(:)\n",
        "    double precision, intent(in) :: ys(:)\n",
        "    double precision, intent(out) :: result\n",
        "\n",
        "    result = sum(xs * ys)\n",
        "end"
      ]
    },
    {
      "cell_type": "code",
      "execution_count": null,
      "metadata": {
        "collapsed": true,
        "id": "BGacVDX-iXcO"
      },
      "outputs": [],
      "source": [
        "list_data = [float(i) for i in range(100000)]\n",
        "array_data = np.array(list_data)"
      ]
    },
    {
      "cell_type": "code",
      "execution_count": null,
      "metadata": {
        "id": "aaZPRE4aiXcO",
        "outputId": "7a7f5bbd-b904-4864-cb42-1db34d6c4fb4",
        "colab": {
          "base_uri": "https://localhost:8080/"
        }
      },
      "outputs": [
        {
          "output_type": "stream",
          "name": "stdout",
          "text": [
            "CPU times: user 17.7 ms, sys: 0 ns, total: 17.7 ms\n",
            "Wall time: 27.1 ms\n"
          ]
        },
        {
          "output_type": "execute_result",
          "data": {
            "text/plain": [
              "333328333350000.0"
            ]
          },
          "metadata": {},
          "execution_count": 29
        }
      ],
      "source": [
        "%%time\n",
        "python_dot_product(list_data, list_data)"
      ]
    },
    {
      "cell_type": "code",
      "execution_count": null,
      "metadata": {
        "id": "e9tNvTwLiXcO",
        "colab": {
          "base_uri": "https://localhost:8080/"
        },
        "outputId": "2561c859-3b1c-4c37-aec5-f79893e6b740"
      },
      "outputs": [
        {
          "output_type": "stream",
          "name": "stdout",
          "text": [
            "CPU times: user 205 µs, sys: 0 ns, total: 205 µs\n",
            "Wall time: 219 µs\n"
          ]
        },
        {
          "output_type": "execute_result",
          "data": {
            "text/plain": [
              "333328333350000.0"
            ]
          },
          "metadata": {},
          "execution_count": 30
        }
      ],
      "source": [
        "%%time\n",
        "fortran_dot_product(array_data, array_data)"
      ]
    },
    {
      "cell_type": "markdown",
      "metadata": {
        "id": "qW-_Q7yuiXcO"
      },
      "source": [
        "<center><img src=\"https://raw.githubusercontent.com/ssanderson/pydata-toolbox/master/notebooks/images/sloth.gif\" alt=\"Drawing\" style=\"width: 1080px;\"/></center>\n"
      ]
    },
    {
      "cell_type": "markdown",
      "source": [
        "**My own example 10 - Deifining A (2x2)  and B (2x2)**"
      ],
      "metadata": {
        "id": "y37MLCQ4PQd3"
      }
    },
    {
      "cell_type": "code",
      "source": [
        "matrixA = [[1,2],[5,3]]\n",
        "matrixB = [[4,7],[0,1]]"
      ],
      "metadata": {
        "id": "7i0uJGD0v105"
      },
      "execution_count": null,
      "outputs": []
    },
    {
      "cell_type": "markdown",
      "source": [
        "**My own example 11 - Defining Fortran subroutine matmul(A,B) for 2x2 matrices**"
      ],
      "metadata": {
        "id": "nuV59KXQPipC"
      }
    },
    {
      "cell_type": "code",
      "source": [
        "%%fortran\n",
        "subroutine matmul_fortran(A, B, Cout)\n",
        "    double precision, intent(in) :: A(2, 2)\n",
        "    double precision, intent(in) :: B(2, 2)\n",
        "    double precision, intent(out) :: Cout(2, 2)\n",
        "\n",
        "    integer :: i, j, k\n",
        "\n",
        "    do i = 1, 2\n",
        "        do j = 1, 2\n",
        "            Cout(i, j) = 0.0\n",
        "            do k = 1, 2\n",
        "                Cout(i, j) = Cout(i, j) + A(i, k) * B(k, j)\n",
        "            end do\n",
        "        end do\n",
        "    end do\n",
        "end subroutine"
      ],
      "metadata": {
        "id": "faG3DgEHyyoP"
      },
      "execution_count": null,
      "outputs": []
    },
    {
      "cell_type": "markdown",
      "source": [
        "**My own example 12 -Run Fortran subroutine matmul(A,B) with a and b 2x2 matrices**"
      ],
      "metadata": {
        "id": "zU1RmmstRPd4"
      }
    },
    {
      "cell_type": "code",
      "source": [
        "np_A = np.array(matrixA)\n",
        "np_B = np.array(matrixB)\n",
        "matmul_fortran(np_A,np_B)"
      ],
      "metadata": {
        "id": "LTcNJB4L6wwX",
        "colab": {
          "base_uri": "https://localhost:8080/"
        },
        "outputId": "35fd87a3-a736-4a57-ecc1-e422391e4cb0"
      },
      "execution_count": null,
      "outputs": [
        {
          "output_type": "execute_result",
          "data": {
            "text/plain": [
              "array([[ 4.,  9.],\n",
              "       [20., 38.]])"
            ]
          },
          "metadata": {},
          "execution_count": 33
        }
      ]
    },
    {
      "cell_type": "markdown",
      "source": [
        "**My own example 13 - Defining Fortran subroutine matmul(A,B) for 600x100 and 100x600 matrices**"
      ],
      "metadata": {
        "id": "_ra5WDYERX1e"
      }
    },
    {
      "cell_type": "code",
      "source": [
        "%%fortran\n",
        "subroutine matmul_fortran(A, B, Cout)\n",
        "    double precision, intent(in) :: A(:,:)\n",
        "    double precision, intent(in) :: B(:,:)\n",
        "    double precision, intent(out) :: Cout(size(A, 1), size(B, 2))\n",
        "\n",
        "    integer :: i, j, k\n",
        "\n",
        "    do i = 1, size(A, 1)\n",
        "        do j = 1, size(B, 2)\n",
        "            Cout(i, j) = 0.0\n",
        "            do k = 1, size(A, 2)\n",
        "                Cout(i, j) = Cout(i, j) + A(i, k) * B(k, j)\n",
        "            end do\n",
        "        end do\n",
        "    end do\n",
        "end subroutine"
      ],
      "metadata": {
        "id": "4mDURPVKkBDD"
      },
      "execution_count": null,
      "outputs": []
    },
    {
      "cell_type": "markdown",
      "source": [
        "**My own example 14 -Run Fortran subroutine matmul(A,B) with 600x100 and 100x600 matrices**"
      ],
      "metadata": {
        "id": "cf5NwQZQRjx-"
      }
    },
    {
      "cell_type": "code",
      "source": [
        "matA = np.random.random((600, 100))\n",
        "matB = np.random.random((100, 600))"
      ],
      "metadata": {
        "id": "S7xtJkrb6yuQ"
      },
      "execution_count": null,
      "outputs": []
    },
    {
      "cell_type": "code",
      "source": [
        "%%time\n",
        "z= matmul_fortran(matA,matB)"
      ],
      "metadata": {
        "id": "pXPG1-D0ziEa",
        "colab": {
          "base_uri": "https://localhost:8080/"
        },
        "outputId": "5120caa5-ffbe-4229-fa24-b383aa6f6ea7"
      },
      "execution_count": null,
      "outputs": [
        {
          "output_type": "stream",
          "name": "stdout",
          "text": [
            "CPU times: user 43.5 ms, sys: 2 ms, total: 45.5 ms\n",
            "Wall time: 45.6 ms\n"
          ]
        }
      ]
    },
    {
      "cell_type": "markdown",
      "source": [
        "**My own example 15 - Running 10 times the  Fortran subroutine matmul(A,B) with 600x100 and 100x600 matrices and adding Fortran magic average execution time to the data frame**"
      ],
      "metadata": {
        "id": "5yjoH7W_R0E3"
      }
    },
    {
      "cell_type": "code",
      "source": [
        "def multi_time_fortran(matA, matB, rep):\n",
        "    tm_sum = 0\n",
        "\n",
        "    for i in range(rep):\n",
        "        st = time.process_time()\n",
        "\n",
        "        matmul_fortran(matA,matB)\n",
        "\n",
        "        end = time.process_time()\n",
        "\n",
        "        tm_passed = end - st\n",
        "        tm_sum += tm_passed\n",
        "\n",
        "    avr = tm_sum / rep\n",
        "    return avr\n",
        "\n",
        "matA = np.random.random((600, 100))\n",
        "matB = np.random.random((100, 600))\n",
        "repetitions = 10\n",
        "\n",
        "average_time_fortran = multi_time_fortran(matA, matB, repetitions)\n",
        "\n",
        "print(f\"Average time of execution for matrix multilpication in FORTRAN: {average_time_fortran} s\")\n",
        "data.append({'Language': 'Fortranmagic', 'Execution time': average_time_fortran})\n",
        "\n",
        "df = pd.DataFrame(data)\n",
        "print(df)"
      ],
      "metadata": {
        "id": "2-A0QOte603A",
        "colab": {
          "base_uri": "https://localhost:8080/"
        },
        "outputId": "a9afa2c8-127d-45ce-cf4d-30300c8e776f"
      },
      "execution_count": null,
      "outputs": [
        {
          "output_type": "stream",
          "name": "stdout",
          "text": [
            "Average time of execution for matrix multilpication in FORTRAN: 0.04355078329999884 s\n",
            "       Language  Execution time\n",
            "0        Python        9.026680\n",
            "1         Numpy        0.018192\n",
            "2  Fortranmagic        0.043551\n"
          ]
        }
      ]
    },
    {
      "cell_type": "markdown",
      "source": [
        "**My own example 16 - Creating a  Fortran program that mutiplies 10 times A(600x100) and  B (100x600) matrices**"
      ],
      "metadata": {
        "id": "w5hURiGOShpG"
      }
    },
    {
      "cell_type": "code",
      "source": [
        "%%writefile matrix_multiply.f90\n",
        "program matrix_multiply\n",
        "\n",
        "    implicit none\n",
        "\n",
        "    integer, parameter :: n = 600\n",
        "    integer, parameter :: m = 100\n",
        "    integer, parameter :: rep = 10\n",
        "\n",
        "    real(8) :: matA(n, m)\n",
        "    real(8) :: matB(m, n)\n",
        "    real(8) :: matC(n, n)\n",
        "\n",
        "    integer :: i, j, k, r\n",
        "    real(8) :: tstart, tend\n",
        "\n",
        "    ! Initialize matrices A and B (for simplicity, use random values)\n",
        "    call random_seed()\n",
        "    do i = 1, n\n",
        "        do j = 1, m\n",
        "            call random_number(matA(i, j))\n",
        "        end do\n",
        "    end do\n",
        "    do i = 1, m\n",
        "        do j = 1, n\n",
        "            call random_number(matB(i, j))\n",
        "        end do\n",
        "    end do\n",
        "\n",
        "    do r = 1, rep\n",
        "        call cpu_time(tstart)\n",
        "        do i = 1, n\n",
        "            do j = 1, n\n",
        "                matC(i, j) = 0.0\n",
        "                do k = 1, m\n",
        "                    matC(i, j) = matC(i, j) + matA(i, k) * matB(k, j)\n",
        "                end do\n",
        "            end do\n",
        "        end do\n",
        "        call cpu_time(tend)\n",
        "        write(*, '(A, I0, A, F12.6)') \"Execution \", r, \" : \", tend - tstart, \" s\"\n",
        "    end do\n",
        "\n",
        "    write(*, '(A, F12.6)') \"Average Fortran execution time: \", (tend - tstart) / rep, \" s\"\n",
        "\n",
        "end program matrix_multiply"
      ],
      "metadata": {
        "id": "xCkI1njo62Hv",
        "colab": {
          "base_uri": "https://localhost:8080/"
        },
        "outputId": "efcb940b-9674-44da-d51a-2bde92f4985b"
      },
      "execution_count": null,
      "outputs": [
        {
          "output_type": "stream",
          "name": "stdout",
          "text": [
            "Writing matrix_multiply.f90\n"
          ]
        }
      ]
    },
    {
      "cell_type": "markdown",
      "source": [
        "**My own example 17 - Running the Fortran program that mutiplies 10 times A(600x100) and  B (100x600) matrices**"
      ],
      "metadata": {
        "id": "LJOrD7hyYmTJ"
      }
    },
    {
      "cell_type": "code",
      "source": [
        "!gfortran -o matrix_multiply matrix_multiply.f90\n",
        "!./matrix_multiply"
      ],
      "metadata": {
        "id": "hmBeCMGV63z6",
        "colab": {
          "base_uri": "https://localhost:8080/"
        },
        "outputId": "5b59e440-2005-4c50-e317-e90c231fb824"
      },
      "execution_count": null,
      "outputs": [
        {
          "output_type": "stream",
          "name": "stdout",
          "text": [
            "Execution 1 :     0.229074\n",
            " s\n",
            "Execution 2 :     0.238049\n",
            " s\n",
            "Execution 3 :     0.222774\n",
            " s\n",
            "Execution 4 :     0.232143\n",
            " s\n",
            "Execution 5 :     0.227165\n",
            " s\n",
            "Execution 6 :     0.226692\n",
            " s\n",
            "Execution 7 :     0.232063\n",
            " s\n",
            "Execution 8 :     0.222600\n",
            " s\n",
            "Execution 9 :     0.223718\n",
            " s\n",
            "Execution 10 :     0.228112\n",
            " s\n",
            "Average Fortran execution time:     0.022811\n",
            " s\n"
          ]
        }
      ]
    },
    {
      "cell_type": "markdown",
      "source": [
        "**My own example 18 - Adding Fortran average execution time to the data frame**"
      ],
      "metadata": {
        "id": "21wSmo50YfIo"
      }
    },
    {
      "cell_type": "code",
      "source": [
        "average_time_fortran = 0.022811\n",
        "data.append({'Language': 'Fortran', 'Execution time': average_time_fortran})\n",
        "\n",
        "df = pd.DataFrame(data)\n",
        "print(df)"
      ],
      "metadata": {
        "id": "UDMgoacS642X",
        "colab": {
          "base_uri": "https://localhost:8080/"
        },
        "outputId": "497e4bcf-c60a-437b-e905-39d5c4502169"
      },
      "execution_count": null,
      "outputs": [
        {
          "output_type": "stream",
          "name": "stdout",
          "text": [
            "       Language  Execution time\n",
            "0        Python        9.026680\n",
            "1         Numpy        0.018192\n",
            "2  Fortranmagic        0.043551\n",
            "3       Fortran        0.023963\n",
            "4       Fortran        0.022811\n"
          ]
        }
      ]
    },
    {
      "cell_type": "markdown",
      "source": [
        "**My own example 19 - Creating a c program that mutiplies 10 times A(600x100) and  B (100x600) matrices**"
      ],
      "metadata": {
        "id": "8G8ZZ2hfZXYA"
      }
    },
    {
      "cell_type": "code",
      "source": [
        "%%writefile matmul.c\n",
        "#include <stdio.h>\n",
        "#include <stdlib.h>\n",
        "#include <time.h>\n",
        "\n",
        "#define N 600\n",
        "#define M 100\n",
        "#define REPETITIONS 10\n",
        "\n",
        "void matrix_multiply(double matA[N][M], double matB[M][N], double matC[N][N]) {\n",
        "    int i, j, k;\n",
        "    for (i = 0; i < N; i++) {\n",
        "        for (j = 0; j < N; j++) {\n",
        "            matC[i][j] = 0.0;\n",
        "            for (k = 0; k < M; k++) {\n",
        "                matC[i][j] += matA[i][k] * matB[k][j];\n",
        "            }\n",
        "        }\n",
        "    }\n",
        "}\n",
        "\n",
        "int main() {\n",
        "    double matA[N][M], matB[M][N], matC[N][N];\n",
        "    int i, j, r;\n",
        "    clock_t start, end;\n",
        "\n",
        "    srand(time(NULL));\n",
        "    for (i = 0; i < N; i++) {\n",
        "        for (j = 0; j < M; j++) {\n",
        "            matA[i][j] = (double)rand() / RAND_MAX;\n",
        "            matB[j][i] = (double)rand() / RAND_MAX;\n",
        "        }\n",
        "    }\n",
        "\n",
        "    for (r = 0; r < REPETITIONS; r++) {\n",
        "        start = clock();\n",
        "        matrix_multiply(matA, matB, matC);\n",
        "        end = clock();\n",
        "        double time_taken = (double)(end - start) / CLOCKS_PER_SEC;\n",
        "        printf(\"Execution %d : %lf s\\n\", r + 1, time_taken);\n",
        "    }\n",
        "\n",
        "    return 0;\n",
        "}"
      ],
      "metadata": {
        "id": "BknrT-KK65wP",
        "colab": {
          "base_uri": "https://localhost:8080/"
        },
        "outputId": "a0c15c81-3126-4d89-fffb-88b2ffb1785d"
      },
      "execution_count": null,
      "outputs": [
        {
          "output_type": "stream",
          "name": "stdout",
          "text": [
            "Writing matmul.c\n"
          ]
        }
      ]
    },
    {
      "cell_type": "markdown",
      "source": [
        "**My own example 20 - Running the c program that mutiplies 10 times A(600x100) and  B (100x600) matrices**"
      ],
      "metadata": {
        "id": "i-oPlTweZndB"
      }
    },
    {
      "cell_type": "code",
      "source": [
        "!gcc matmul.c -o matmul\n",
        "!./matmul"
      ],
      "metadata": {
        "id": "CKFgaMTa67Ri",
        "colab": {
          "base_uri": "https://localhost:8080/"
        },
        "outputId": "165a83f7-554c-4702-d7c2-d962fc88df02"
      },
      "execution_count": null,
      "outputs": [
        {
          "output_type": "stream",
          "name": "stdout",
          "text": [
            "Execution 1 : 0.187561 s\n",
            "Execution 2 : 0.192509 s\n",
            "Execution 3 : 0.187190 s\n",
            "Execution 4 : 0.185642 s\n",
            "Execution 5 : 0.197967 s\n",
            "Execution 6 : 0.181865 s\n",
            "Execution 7 : 0.182487 s\n",
            "Execution 8 : 0.177610 s\n",
            "Execution 9 : 0.182303 s\n",
            "Execution 10 : 0.192002 s\n"
          ]
        }
      ]
    },
    {
      "cell_type": "markdown",
      "source": [
        "**My own example 21 - Adding c average execution time to the data frame**"
      ],
      "metadata": {
        "id": "U9Wf-9DPZ3R4"
      }
    },
    {
      "cell_type": "code",
      "source": [
        "import subprocess\n",
        "\n",
        "subprocess.run([\"gcc\", \"matmul.c\", \"-o\", \"matmul\"])\n",
        "\n",
        "rep = 1\n",
        "\n",
        "average_times = []\n",
        "\n",
        "for _ in range(rep):\n",
        "    output = subprocess.check_output([\"./matmul\"], text=True)\n",
        "    lines = output.strip().split('\\n')\n",
        "    average_time = float(lines[-1].split()[-2])\n",
        "    average_times.append(average_time)\n",
        "\n",
        "average_execution_c = sum(average_times) / rep\n",
        "\n",
        "data.append({'Language': 'C', 'Execution time': average_execution_c })\n",
        "\n",
        "\n",
        "df = pd.DataFrame(data)\n",
        "print(df)"
      ],
      "metadata": {
        "id": "EfsTc5wN695I",
        "colab": {
          "base_uri": "https://localhost:8080/"
        },
        "outputId": "c1f4fccd-9be3-4fa0-8fd7-08cd77ebb3c0"
      },
      "execution_count": null,
      "outputs": [
        {
          "output_type": "stream",
          "name": "stdout",
          "text": [
            "       Language  Execution time\n",
            "0        Python        9.026680\n",
            "1         Numpy        0.018192\n",
            "2  Fortranmagic        0.043551\n",
            "3       Fortran        0.023963\n",
            "4       Fortran        0.022811\n",
            "5             C        0.177477\n"
          ]
        }
      ]
    },
    {
      "cell_type": "markdown",
      "source": [
        "**My own example 22 - Creating a C++ program that mutiplies 10 times A(600x100) and  B (100x600) matrices**"
      ],
      "metadata": {
        "id": "XkgHEUB2aFI1"
      }
    },
    {
      "cell_type": "markdown",
      "source": [
        "Se realizan dos implementaciones distintas para ejecutar la multiplicación de matrices. Primero se muestra a continuación una implementación haciendo uso de **memoria estática**:"
      ],
      "metadata": {
        "id": "Wn0IMQTJG4bf"
      }
    },
    {
      "cell_type": "code",
      "source": [
        "%%writefile matmul.cpp\n",
        "#include <iostream>\n",
        "#include <ctime>\n",
        "#include <cstdlib>\n",
        "\n",
        "const int N = 600;\n",
        "const int M = 100;\n",
        "const int REPETITIONS = 10;\n",
        "\n",
        "void matrix_multiply(double matA[N][M], double matB[M][N], double matC[N][N]) {\n",
        "    for (int i = 0; i < N; i++) {\n",
        "        for (int j = 0; j < N; j++) {\n",
        "            matC[i][j] = 0.0;\n",
        "            for (int k = 0; k < M; k++) {\n",
        "                matC[i][j] += matA[i][k] * matB[k][j];\n",
        "            }\n",
        "        }\n",
        "    }\n",
        "}\n",
        "\n",
        "int main() {\n",
        "    double matA[N][M], matB[M][N], matC[N][N];\n",
        "    clock_t start, end;\n",
        "\n",
        "    srand(time(NULL));\n",
        "    for (int i = 0; i < N; i++) {\n",
        "        for (int j = 0; j < M; j++) {\n",
        "            matA[i][j] = (double)rand() / RAND_MAX;\n",
        "            matB[j][i] = (double)rand() / RAND_MAX;\n",
        "        }\n",
        "    }\n",
        "\n",
        "    for (int r = 0; r < REPETITIONS; r++) {\n",
        "        start = clock();\n",
        "        matrix_multiply(matA, matB, matC);\n",
        "        end = clock();\n",
        "        double time_taken = (double)(end - start) / CLOCKS_PER_SEC;\n",
        "        std::cout << \"Execution \" << r + 1 << \" : \" << time_taken << \" s\\n\";\n",
        "    }\n",
        "\n",
        "\n",
        "    return 0;\n",
        "}"
      ],
      "metadata": {
        "id": "U1CoUYEw6-9P",
        "colab": {
          "base_uri": "https://localhost:8080/"
        },
        "outputId": "30af27a4-6b6e-4120-8cf7-43f69053d31d"
      },
      "execution_count": null,
      "outputs": [
        {
          "output_type": "stream",
          "name": "stdout",
          "text": [
            "Writing matmul.cpp\n"
          ]
        }
      ]
    },
    {
      "cell_type": "markdown",
      "source": [
        "Ahora, tenemos una implementación haciendo uso de **memoria dinámica**:"
      ],
      "metadata": {
        "id": "T99POVnSHdkM"
      }
    },
    {
      "cell_type": "code",
      "source": [
        "%%writefile matmulpointer.cpp\n",
        "#include <iostream>\n",
        "#include <ctime>\n",
        "#include <cstdlib>\n",
        "\n",
        "const int N = 600;\n",
        "const int M = 100;\n",
        "const int REPETITIONS = 10;\n",
        "\n",
        "void matrix_multiply(double **&matA, double **&matB, double **&matC) {\n",
        "    for (int i = 0; i < N; i++) {\n",
        "        for (int j = 0; j < N; j++) {\n",
        "            *(*(matC+i)+j) = 0.0;\n",
        "            for (int k = 0; k < M; k++) {\n",
        "                *(*(matC+i)+j) += *(*(matA+i)+k) * *(*(matB+k)+j);\n",
        "            }\n",
        "        }\n",
        "    }\n",
        "}\n",
        "\n",
        "int main() {\n",
        "    double **matA, **matB, **matC;\n",
        "    clock_t start, end;\n",
        "    matA = new double *[N];\n",
        "\n",
        "   for (int i=0; i < N; ++i)\n",
        "   \t {\n",
        "   \t  \t matA[i]= new double [M];\n",
        "\n",
        "   \t }\n",
        "   \t matB = new double *[M];\n",
        "\n",
        "   for (int i=0; i < M; ++i)\n",
        "   \t {\n",
        "   \t  \t matB[i]= new double [N];\n",
        "\n",
        "   \t }\n",
        "   \t matC = new double *[N];\n",
        "\n",
        "   \tfor (int i=0; i<N; i++){\n",
        "   \t    matC[i]= new double [N];\n",
        "   \t}\n",
        "\n",
        "    srand(time(NULL));\n",
        "    for (int i = 0; i < N; i++) {\n",
        "        for (int j = 0; j < M; j++) {\n",
        "            *(*(matA+i)+j) = (double)rand() / RAND_MAX;\n",
        "            *(*(matB+j)+i) = (double)rand() / RAND_MAX;\n",
        "        }\n",
        "    }\n",
        "    double total_time=0;\n",
        "    for (int r = 0; r < REPETITIONS; r++) {\n",
        "        start = clock();\n",
        "        matrix_multiply(matA, matB, matC);\n",
        "        end = clock();\n",
        "        double time_taken = (double)(end - start) / CLOCKS_PER_SEC;\n",
        "        total_time+=time_taken;\n",
        "        std::cout << \"Execution \" << r + 1 << \" : \" << time_taken << \" s\\n\";\n",
        "    }\n",
        "    double average_time = total_time/REPETITIONS;\n",
        "    std::cout<<\"Average execution time in C++: \"<<average_time<<\" s\\n\";\n",
        "\n",
        "    return 0;\n",
        "}"
      ],
      "metadata": {
        "colab": {
          "base_uri": "https://localhost:8080/"
        },
        "id": "cfDmxErbBSW1",
        "outputId": "0f3e87e3-1be5-451d-a574-10a5b17e236d"
      },
      "execution_count": null,
      "outputs": [
        {
          "output_type": "stream",
          "name": "stdout",
          "text": [
            "Overwriting matmulpointer.cpp\n"
          ]
        }
      ]
    },
    {
      "cell_type": "markdown",
      "source": [
        "En el dataframe se considera la implementación que demuestra ser más rápida, es decir, la versión con memoria estática."
      ],
      "metadata": {
        "id": "s1yelpmqHpNN"
      }
    },
    {
      "cell_type": "markdown",
      "source": [
        "**My own example 23 - Running the C++ program that mutiplies 10 times A(600x100) and  B (100x600) matrices**"
      ],
      "metadata": {
        "id": "WFpb2F81aKJA"
      }
    },
    {
      "cell_type": "code",
      "source": [
        "!g++ matmul.cpp -o matmul\n",
        "!./matmul"
      ],
      "metadata": {
        "id": "Q33PLFeG6_0r",
        "colab": {
          "base_uri": "https://localhost:8080/"
        },
        "outputId": "dd43e56c-ae12-4235-9f63-21b4874fd2b8"
      },
      "execution_count": null,
      "outputs": [
        {
          "output_type": "stream",
          "name": "stdout",
          "text": [
            "Execution 1 : 0.189218 s\n",
            "Execution 2 : 0.184901 s\n",
            "Execution 3 : 0.183662 s\n",
            "Execution 4 : 0.181656 s\n",
            "Execution 5 : 0.195201 s\n",
            "Execution 6 : 0.185478 s\n",
            "Execution 7 : 0.194706 s\n",
            "Execution 8 : 0.185722 s\n",
            "Execution 9 : 0.193732 s\n",
            "Execution 10 : 0.232247 s\n"
          ]
        }
      ]
    },
    {
      "cell_type": "code",
      "source": [
        "!g++ matmulpointer.cpp\n",
        "!./matmul"
      ],
      "metadata": {
        "id": "n77nTXJ3FISO",
        "colab": {
          "base_uri": "https://localhost:8080/"
        },
        "outputId": "dc2e50bd-fdf1-4a7b-c43f-f314ec637999"
      },
      "execution_count": null,
      "outputs": [
        {
          "output_type": "stream",
          "name": "stdout",
          "text": [
            "Execution 1 : 0.296719 s\n",
            "Execution 2 : 0.267127 s\n",
            "Execution 3 : 0.278403 s\n",
            "Execution 4 : 0.282947 s\n",
            "Execution 5 : 0.287597 s\n",
            "Execution 6 : 0.271613 s\n",
            "Execution 7 : 0.270041 s\n",
            "Execution 8 : 0.282954 s\n",
            "Execution 9 : 0.272516 s\n",
            "Execution 10 : 0.270435 s\n",
            "Average execution time in C++: 0.278035 s\n"
          ]
        }
      ]
    },
    {
      "cell_type": "markdown",
      "source": [
        "**My own example 24 - Adding C++ average execution time to the data frame**"
      ],
      "metadata": {
        "id": "GSEE2zDjaPmg"
      }
    },
    {
      "cell_type": "code",
      "source": [
        "subprocess.run([\"g++\", \"matmul.cpp\", \"-o\", \"matmul\"])\n",
        "rep = 10\n",
        "\n",
        "average_times = []\n",
        "\n",
        "for _ in range(rep):\n",
        "    output = subprocess.check_output([\"./matmul\"], text=True)\n",
        "    lines = output.strip().split('\\n')\n",
        "    average_time = float(lines[-1].split()[-2])\n",
        "    average_times.append(average_time)\n",
        "\n",
        "average_execution_cpp = sum(average_times) / rep\n",
        "\n",
        "subprocess.run([\"g++\", \"matmulpointer.cpp\", \"-o\", \"matmul\"])\n",
        "\n",
        "\n",
        "data.append({'Language': 'C++', 'Execution time': average_execution_cpp })\n",
        "\n",
        "df = pd.DataFrame(data)\n",
        "print(df)"
      ],
      "metadata": {
        "id": "YL_YL8Qm7B0w",
        "colab": {
          "base_uri": "https://localhost:8080/"
        },
        "outputId": "7f7d7a0f-b298-4f7e-ebdb-11721cf19e96"
      },
      "execution_count": null,
      "outputs": [
        {
          "output_type": "stream",
          "name": "stdout",
          "text": [
            "       Language  Execution time\n",
            "0        Python        9.026680\n",
            "1         Numpy        0.018192\n",
            "2  Fortranmagic        0.043551\n",
            "3       Fortran        0.023963\n",
            "4       Fortran        0.022811\n",
            "5             C        0.177477\n",
            "6           C++        0.176556\n"
          ]
        }
      ]
    },
    {
      "cell_type": "markdown",
      "source": [
        "**My own example 24.1 - Adding C++ with pointers average execution time to the data frame**"
      ],
      "metadata": {
        "id": "rN_-z_4301pu"
      }
    },
    {
      "cell_type": "code",
      "source": [
        "subprocess.run([\"g++\", \"matmulpointer.cpp\", \"-o\", \"matmul\"])\n",
        "rep = 10\n",
        "\n",
        "average_times = []\n",
        "\n",
        "for _ in range(rep):\n",
        "    output = subprocess.check_output([\"./matmul\"], text=True)\n",
        "    lines = output.strip().split('\\n')\n",
        "    average_time = float(lines[-1].split()[-2])\n",
        "    average_times.append(average_time)\n",
        "\n",
        "average_execution_cpp = sum(average_times) / rep\n",
        "\n",
        "\n",
        "data.append({'Language': 'C++ (with pointers)', 'Execution time': average_execution_cpp })\n",
        "\n",
        "df = pd.DataFrame(data)\n",
        "print(df)"
      ],
      "metadata": {
        "colab": {
          "base_uri": "https://localhost:8080/"
        },
        "id": "pBGDzjMN09BN",
        "outputId": "5791dafd-1e38-41f0-e572-47d8d4080b4e"
      },
      "execution_count": null,
      "outputs": [
        {
          "output_type": "stream",
          "name": "stdout",
          "text": [
            "              Language  Execution time\n",
            "0               Python        9.026680\n",
            "1                Numpy        0.018192\n",
            "2         Fortranmagic        0.043551\n",
            "3              Fortran        0.023963\n",
            "4              Fortran        0.022811\n",
            "5                    C        0.177477\n",
            "6                  C++        0.176556\n",
            "7  C++ (with pointers)        0.287214\n"
          ]
        }
      ]
    },
    {
      "cell_type": "markdown",
      "source": [
        "**My own example 25 - Creating a Java program that mutiplies 10 times A(600x100) and  B (100x600) matrices**"
      ],
      "metadata": {
        "id": "OjOecKv-d-ML"
      }
    },
    {
      "cell_type": "code",
      "source": [
        "%%writefile MatrixMultiply.java\n",
        "import java.util.Random;\n",
        "public class MatrixMultiply {\n",
        "    public static void main(String[] args) {\n",
        "        final int N = 600;\n",
        "        final int M = 100;\n",
        "        final int REPETITIONS = 10;\n",
        "\n",
        "        double[][] matA = new double[N][M];\n",
        "        double[][] matB = new double[M][N];\n",
        "        double[][] matC = new double[N][N];\n",
        "\n",
        "        for (int i = 0; i < N; i++) {\n",
        "            for (int j = 0; j < M; j++) {\n",
        "                matA[i][j] = Math.random();\n",
        "                matB[j][i] = Math.random();\n",
        "            }\n",
        "        }\n",
        "\n",
        "        for (int r = 0; r < REPETITIONS; r++) {\n",
        "            long startTime = System.nanoTime();\n",
        "            matrixMultiply(matA, matB, matC);\n",
        "            long endTime = System.nanoTime();\n",
        "\n",
        "            double timeTaken = (endTime - startTime) / 1e9;\n",
        "            System.out.println(\"Execution \" + (r + 1) + \" : \" + timeTaken + \" s\");\n",
        "        }\n",
        "    }\n",
        "\n",
        "    public static void matrixMultiply(double[][] matA, double[][] matB, double[][] matC) {\n",
        "        int N = matA.length;\n",
        "        int M = matB.length;\n",
        "\n",
        "        for (int i = 0; i < N; i++) {\n",
        "            for (int j = 0; j < N; j++) {\n",
        "                matC[i][j] = 0.0;\n",
        "                for (int k = 0; k < M; k++) {\n",
        "                    matC[i][j] += matA[i][k] * matB[k][j];\n",
        "                }\n",
        "            }\n",
        "        }\n",
        "    }\n",
        "}"
      ],
      "metadata": {
        "id": "o8UPxOqs7C34",
        "outputId": "f6d6a963-3611-4bd7-c1f2-5032a612ce3d",
        "colab": {
          "base_uri": "https://localhost:8080/"
        }
      },
      "execution_count": null,
      "outputs": [
        {
          "output_type": "stream",
          "name": "stdout",
          "text": [
            "Writing MatrixMultiply.java\n"
          ]
        }
      ]
    },
    {
      "cell_type": "markdown",
      "source": [
        "**My own example 26 - Running the Java program that mutiplies 10 times A(600x100) and  B (100x600) matrices**"
      ],
      "metadata": {
        "id": "J75aKNvZeFHx"
      }
    },
    {
      "cell_type": "code",
      "source": [
        "!javac MatrixMultiply.java\n",
        "!java MatrixMultiply"
      ],
      "metadata": {
        "id": "NP_QcZqA7EPn",
        "outputId": "87d07f51-7a3c-42d0-e349-0dc4b6934a19",
        "colab": {
          "base_uri": "https://localhost:8080/"
        }
      },
      "execution_count": null,
      "outputs": [
        {
          "output_type": "stream",
          "name": "stdout",
          "text": [
            "Execution 1 : 0.200840145 s\n",
            "Execution 2 : 0.131051969 s\n",
            "Execution 3 : 0.123281623 s\n",
            "Execution 4 : 0.127420022 s\n",
            "Execution 5 : 0.130308545 s\n",
            "Execution 6 : 0.123952889 s\n",
            "Execution 7 : 0.125715558 s\n",
            "Execution 8 : 0.128520368 s\n",
            "Execution 9 : 0.126339704 s\n",
            "Execution 10 : 0.124476241 s\n"
          ]
        }
      ]
    },
    {
      "cell_type": "markdown",
      "source": [
        "**My own example 27 - Adding Java average execution time to the data frame**"
      ],
      "metadata": {
        "id": "C75pEHRieNfo"
      }
    },
    {
      "cell_type": "code",
      "source": [
        "subprocess.run([\"javac\", \"MatrixMultiply.java\"])\n",
        "\n",
        "rep = 10\n",
        "average_times = []\n",
        "\n",
        "for _ in range(rep):\n",
        "    output = subprocess.check_output([\"java\", \"MatrixMultiply\"], text=True)\n",
        "    lines = output.strip().split('\\n')\n",
        "    average_time = float(lines[-1].split()[-2])\n",
        "    average_times.append(average_time)\n",
        "\n",
        "average_execution_java = sum(average_times) / rep\n",
        "\n",
        "data.append({'Language': 'JAVA', 'Execution time': average_execution_java })\n",
        "\n",
        "df = pd.DataFrame(data)\n",
        "print(df)"
      ],
      "metadata": {
        "id": "5ZDLYWrY7Fhi",
        "colab": {
          "base_uri": "https://localhost:8080/"
        },
        "outputId": "a50d1db0-081b-454a-c660-d2166d56e394"
      },
      "execution_count": null,
      "outputs": [
        {
          "output_type": "stream",
          "name": "stdout",
          "text": [
            "              Language  Execution time\n",
            "0               Python        9.026680\n",
            "1                Numpy        0.018192\n",
            "2         Fortranmagic        0.043551\n",
            "3              Fortran        0.023963\n",
            "4              Fortran        0.022811\n",
            "5                    C        0.177477\n",
            "6                  C++        0.176556\n",
            "7  C++ (with pointers)        0.287214\n",
            "8                 JAVA        0.130510\n"
          ]
        }
      ]
    },
    {
      "cell_type": "markdown",
      "source": [
        "**My own example 28 - Creating a Javascript program that mutiplies 10 times A(600x100) and  B (100x600) matrices**"
      ],
      "metadata": {
        "id": "nHtevrHEeUiI"
      }
    },
    {
      "cell_type": "code",
      "source": [
        "%%writefile matrixMultiply.js\n",
        "function matrixMultiply(matA, matB) {\n",
        "    const N = matA.length;\n",
        "    const M = matB[0].length;\n",
        "    const K = matB.length;\n",
        "\n",
        "    const matC = new Array(N);\n",
        "    for (let i = 0; i < N; i++) {\n",
        "        matC[i] = new Array(M).fill(0);\n",
        "    }\n",
        "\n",
        "    for (let i = 0; i < N; i++) {\n",
        "        for (let j = 0; j < M; j++) {\n",
        "            for (let k = 0; k < K; k++) {\n",
        "                matC[i][j] += matA[i][k] * matB[k][j];\n",
        "            }\n",
        "        }\n",
        "    }\n",
        "\n",
        "    return matC;\n",
        "}\n",
        "\n",
        "function generateRandomMatrix(rows, cols) {\n",
        "    const matrix = new Array(rows);\n",
        "    for (let i = 0; i < rows; i++) {\n",
        "        matrix[i] = new Array(cols);\n",
        "        for (let j = 0; j < cols; j++) {\n",
        "            matrix[i][j] = Math.random();\n",
        "        }\n",
        "    }\n",
        "    return matrix;\n",
        "}\n",
        "\n",
        "const N = 600;\n",
        "const M = 100;\n",
        "const REPETITIONS = 10;\n",
        "\n",
        "for (let r = 0; r < REPETITIONS; r++) {\n",
        "    const matA = generateRandomMatrix(N, M);\n",
        "    const matB = generateRandomMatrix(M, N);\n",
        "\n",
        "    const startTime = Date.now();\n",
        "    matrixMultiply(matA, matB);\n",
        "    const endTime = Date.now();\n",
        "\n",
        "    const timeTaken = (endTime - startTime) / 1000;\n",
        "    console.log(`Execution ${r + 1} : ${timeTaken} s`);\n",
        "}"
      ],
      "metadata": {
        "id": "6t1-WhmW7GhX",
        "colab": {
          "base_uri": "https://localhost:8080/"
        },
        "outputId": "45d709b3-81bc-467e-ba2a-c6dc36a03a7c"
      },
      "execution_count": null,
      "outputs": [
        {
          "output_type": "stream",
          "name": "stdout",
          "text": [
            "Writing matrixMultiply.js\n"
          ]
        }
      ]
    },
    {
      "cell_type": "markdown",
      "source": [
        "**My own example 29 - Running the Javascript program that mutiplies 10 times A(600x100) and  B (100x600) matrices**"
      ],
      "metadata": {
        "id": "87XpOlCteUZJ"
      }
    },
    {
      "cell_type": "code",
      "source": [
        "!node matrixMultiply.js"
      ],
      "metadata": {
        "id": "QEm52oVe7HyF",
        "colab": {
          "base_uri": "https://localhost:8080/"
        },
        "outputId": "0316e480-6e90-4ec5-b6fd-3d614ceaa1a7"
      },
      "execution_count": null,
      "outputs": [
        {
          "output_type": "stream",
          "name": "stdout",
          "text": [
            "Execution 1 : 0.324 s\n",
            "Execution 2 : 0.318 s\n",
            "Execution 3 : 0.282 s\n",
            "Execution 4 : 0.279 s\n",
            "Execution 5 : 0.268 s\n",
            "Execution 6 : 0.258 s\n",
            "Execution 7 : 0.262 s\n",
            "Execution 8 : 0.281 s\n",
            "Execution 9 : 0.26 s\n",
            "Execution 10 : 0.266 s\n"
          ]
        }
      ]
    },
    {
      "cell_type": "markdown",
      "source": [
        "**My own example 30 - Adding Javascript average execution time to the data frame**"
      ],
      "metadata": {
        "id": "LvxaACodc9-K"
      }
    },
    {
      "cell_type": "code",
      "source": [
        "subprocess.run([\"node\", \"matrixMultiply.js\"], stdout=open(\"output.txt\", \"w\"))\n",
        "\n",
        "rep = 10\n",
        "\n",
        "average_times = []\n",
        "with open(\"output.txt\", \"r\") as f:\n",
        "    lines = f.readlines()\n",
        "    for line in lines:\n",
        "        average_time = float(line.split()[-2])\n",
        "        average_times.append(average_time)\n",
        "\n",
        "average_execution_js = sum(average_times) / rep\n",
        "data.append({'Language': 'JavaScript', 'Execution time': average_execution_js })\n",
        "\n",
        "df = pd.DataFrame(data)\n",
        "print(df)"
      ],
      "metadata": {
        "id": "BP_cdxR17J50",
        "colab": {
          "base_uri": "https://localhost:8080/"
        },
        "outputId": "579ce869-f279-45ab-b342-5ae1afec7fc0"
      },
      "execution_count": null,
      "outputs": [
        {
          "output_type": "stream",
          "name": "stdout",
          "text": [
            "              Language  Execution time\n",
            "0               Python        9.026680\n",
            "1                Numpy        0.018192\n",
            "2         Fortranmagic        0.043551\n",
            "3              Fortran        0.023963\n",
            "4              Fortran        0.022811\n",
            "5                    C        0.177477\n",
            "6                  C++        0.176556\n",
            "7  C++ (with pointers)        0.287214\n",
            "8                 JAVA        0.130510\n",
            "9           JavaScript        0.274200\n"
          ]
        }
      ]
    },
    {
      "cell_type": "markdown",
      "source": [
        "**My own example 31 - Finding the minimun average execuiton time in the data frame**"
      ],
      "metadata": {
        "id": "XPP0Ir1dezN6"
      }
    },
    {
      "cell_type": "code",
      "source": [
        "df = pd.DataFrame(data)\n",
        "minimum_average_time = df['Execution time'].min()\n",
        "print(\"Minimum average execution time:\", minimum_average_time)"
      ],
      "metadata": {
        "id": "y0rA3N9v7KyM",
        "colab": {
          "base_uri": "https://localhost:8080/"
        },
        "outputId": "c481e57c-6ed6-4930-e142-f2bc13c47509"
      },
      "execution_count": null,
      "outputs": [
        {
          "output_type": "stream",
          "name": "stdout",
          "text": [
            "Minimum average execution time: 0.018192458152770995\n"
          ]
        }
      ]
    },
    {
      "cell_type": "markdown",
      "source": [
        "**My own example 32 - Adding the Speed factor columne to the data frame**"
      ],
      "metadata": {
        "id": "_IjH2K6ldJAQ"
      }
    },
    {
      "cell_type": "code",
      "source": [
        "df['Speed Factor'] = df['Execution time']/minimum_average_time\n",
        "\n",
        "df = df.sort_values(by='Speed Factor', ascending=True)\n",
        "\n",
        "df = df.reset_index(drop=True)\n",
        "print(df)"
      ],
      "metadata": {
        "id": "FuAulN7MArJ7",
        "colab": {
          "base_uri": "https://localhost:8080/"
        },
        "outputId": "1923b1b6-bd59-4321-b9e1-438aa5c78c49"
      },
      "execution_count": null,
      "outputs": [
        {
          "output_type": "stream",
          "name": "stdout",
          "text": [
            "              Language  Execution time  Speed Factor\n",
            "0                Numpy        0.018192      1.000000\n",
            "1              Fortran        0.022811      1.253871\n",
            "2              Fortran        0.023963      1.317194\n",
            "3         Fortranmagic        0.043551      2.393892\n",
            "4                 JAVA        0.130510      7.173869\n",
            "5                  C++        0.176556      9.704884\n",
            "6                    C        0.177477      9.755526\n",
            "7           JavaScript        0.274200     15.072180\n",
            "8  C++ (with pointers)        0.287214     15.787504\n",
            "9               Python        9.026680    496.177021\n"
          ]
        }
      ]
    },
    {
      "cell_type": "markdown",
      "source": [
        "**My own example 33 - Sorting the the data frame by average execution time**"
      ],
      "metadata": {
        "id": "CjiN21fvdRch"
      }
    },
    {
      "cell_type": "code",
      "source": [
        "sorted_df = df.sort_values(by='Execution time')\n",
        "print(sorted_df)"
      ],
      "metadata": {
        "id": "d8eiDHB0GpBF",
        "colab": {
          "base_uri": "https://localhost:8080/"
        },
        "outputId": "f195b021-47b3-4cee-9f36-d811b19b030e"
      },
      "execution_count": null,
      "outputs": [
        {
          "output_type": "stream",
          "name": "stdout",
          "text": [
            "              Language  Execution time  Speed Factor\n",
            "0                Numpy        0.018192      1.000000\n",
            "1              Fortran        0.022811      1.253871\n",
            "2              Fortran        0.023963      1.317194\n",
            "3         Fortranmagic        0.043551      2.393892\n",
            "4                 JAVA        0.130510      7.173869\n",
            "5                  C++        0.176556      9.704884\n",
            "6                    C        0.177477      9.755526\n",
            "7           JavaScript        0.274200     15.072180\n",
            "8  C++ (with pointers)        0.287214     15.787504\n",
            "9               Python        9.026680    496.177021\n"
          ]
        }
      ]
    },
    {
      "cell_type": "markdown",
      "metadata": {
        "id": "5RlZ-kCGiXcO"
      },
      "source": [
        "## Why is the Python Version so Much Slower?"
      ]
    },
    {
      "cell_type": "code",
      "execution_count": null,
      "metadata": {
        "id": "rWOUuY4QiXcP",
        "colab": {
          "base_uri": "https://localhost:8080/"
        },
        "outputId": "26379db8-43d1-4031-9a3f-0a6011cf79b6"
      },
      "outputs": [
        {
          "output_type": "execute_result",
          "data": {
            "text/plain": [
              "[1, (4+0j), 9.0, 'fourfourfourfour']"
            ]
          },
          "metadata": {},
          "execution_count": 70
        }
      ],
      "source": [
        "# Dynamic typing.\n",
        "def mul_elemwise(xs, ys):\n",
        "    return [x * y for x, y in zip(xs, ys)]\n",
        "\n",
        "mul_elemwise([1, 2, 3, 4], [1, 2 + 0j, 3.0, 'four'])\n",
        "#[type(x) for x in _]"
      ]
    },
    {
      "cell_type": "code",
      "execution_count": null,
      "metadata": {
        "id": "cW0Jexk6iXcP",
        "colab": {
          "base_uri": "https://localhost:8080/"
        },
        "outputId": "dedd7607-d324-47fd-c354-e68a8d360f45"
      },
      "outputs": [
        {
          "output_type": "stream",
          "name": "stdout",
          "text": [
            "  1           0 LOAD_NAME                0 (a)\n",
            "              2 LOAD_NAME                1 (b)\n",
            "              4 LOAD_NAME                2 (c)\n",
            "              6 BINARY_MULTIPLY\n",
            "              8 BINARY_ADD\n",
            "             10 RETURN_VALUE\n"
          ]
        }
      ],
      "source": [
        "# Interpretation overhead.\n",
        "source_code = 'a + b * c'\n",
        "bytecode = compile(source_code, '', 'eval')\n",
        "import dis; dis.dis(bytecode)"
      ]
    },
    {
      "cell_type": "markdown",
      "metadata": {
        "id": "BdvCAketiXcP"
      },
      "source": [
        "## Why is the Python Version so Slow?\n",
        "- Dynamic typing means that every single operation requires dispatching on the input type.\n",
        "- Having an interpreter means that every instruction is fetched and dispatched at runtime.\n",
        "- Other overheads:\n",
        "  - Arbitrary-size integers.\n",
        "  - Reference-counted garbage collection."
      ]
    },
    {
      "cell_type": "markdown",
      "metadata": {
        "id": "zvFKYtobiXcP"
      },
      "source": [
        "> This is the paradox that we have to work with when we're doing scientific or numerically-intensive Python. What makes Python fast for development -- this high-level, interpreted, and dynamically-typed aspect of the language -- is exactly what makes it slow for code execution.\n",
        "\n",
        "- Jake VanderPlas, [*Losing Your Loops: Fast Numerical Computing with NumPy*](https://www.youtube.com/watch?v=EEUXKG97YRw)"
      ]
    },
    {
      "cell_type": "markdown",
      "metadata": {
        "id": "UqE431pkiXcP"
      },
      "source": [
        "# What Do We Do?"
      ]
    },
    {
      "cell_type": "markdown",
      "metadata": {
        "id": "4uh7h3HyiXcP"
      },
      "source": [
        "<center><img src=\"https://raw.githubusercontent.com/ssanderson/pydata-toolbox/master/notebooks/images/runaway.gif\" alt=\"Drawing\" style=\"width: 50%;\"/></center>"
      ]
    },
    {
      "cell_type": "markdown",
      "metadata": {
        "id": "-9z62YT1iXcP"
      },
      "source": [
        "<center><img src=\"https://raw.githubusercontent.com/ssanderson/pydata-toolbox/master/notebooks/images/thisisfine.gif\" alt=\"Drawing\" style=\"width: 1080px;\"/></center>"
      ]
    },
    {
      "cell_type": "markdown",
      "metadata": {
        "id": "0Moc6UrkiXcQ"
      },
      "source": [
        "- Python is slow for numerical computation because it performs dynamic dispatch on every operation we perform..."
      ]
    },
    {
      "cell_type": "markdown",
      "metadata": {
        "collapsed": true,
        "id": "U4gN8tp2iXcQ"
      },
      "source": [
        "- ...but often, we just want to do the same thing over and over in a loop!"
      ]
    },
    {
      "cell_type": "markdown",
      "metadata": {
        "id": "Yu0ySyEhiXcQ"
      },
      "source": [
        "- If we don't need Python's dynamicism, we don't want to pay (much) for it."
      ]
    },
    {
      "cell_type": "markdown",
      "metadata": {
        "id": "KUwG9isRiXcQ"
      },
      "source": [
        "- **Idea:** Dispatch **once per operation** instead of **once per element**."
      ]
    },
    {
      "cell_type": "code",
      "execution_count": null,
      "metadata": {
        "id": "62itImahiXcQ",
        "colab": {
          "base_uri": "https://localhost:8080/"
        },
        "outputId": "b0feda56-007e-4485-c44d-cfef8f9de513"
      },
      "outputs": [
        {
          "output_type": "execute_result",
          "data": {
            "text/plain": [
              "array([1, 2, 3, 4])"
            ]
          },
          "metadata": {},
          "execution_count": 72
        }
      ],
      "source": [
        "import numpy as np\n",
        "\n",
        "data = np.array([1, 2, 3, 4])\n",
        "data"
      ]
    },
    {
      "cell_type": "code",
      "execution_count": null,
      "metadata": {
        "id": "q6qikr_tiXcQ"
      },
      "outputs": [],
      "source": [
        "data + data"
      ]
    },
    {
      "cell_type": "code",
      "execution_count": null,
      "metadata": {
        "id": "26QlWUw8iXcQ"
      },
      "outputs": [],
      "source": [
        "%%time\n",
        "# Naive dot product\n",
        "(array_data * array_data).sum()"
      ]
    },
    {
      "cell_type": "code",
      "execution_count": null,
      "metadata": {
        "id": "xoigDrpEiXcQ"
      },
      "outputs": [],
      "source": [
        "%%time\n",
        "# Built-in dot product.\n",
        "array_data.dot(array_data)"
      ]
    },
    {
      "cell_type": "code",
      "execution_count": null,
      "metadata": {
        "id": "tcewetQ0iXcR"
      },
      "outputs": [],
      "source": [
        "%%time\n",
        "fortran_dot_product(array_data, array_data)"
      ]
    },
    {
      "cell_type": "code",
      "execution_count": null,
      "metadata": {
        "id": "Whkcgo1xiXcR"
      },
      "outputs": [],
      "source": [
        "# Numpy won't allow us to write a string into an int array.\n",
        "data[0] = \"foo\""
      ]
    },
    {
      "cell_type": "code",
      "execution_count": null,
      "metadata": {
        "collapsed": true,
        "id": "OM_YUwF0iXcR"
      },
      "outputs": [],
      "source": [
        "# We also can't grow an array once it's created.\n",
        "data.append(3)"
      ]
    },
    {
      "cell_type": "code",
      "execution_count": null,
      "metadata": {
        "collapsed": true,
        "id": "_ByTInO5iXcR"
      },
      "outputs": [],
      "source": [
        "# We **can** reshape an array though.\n",
        "two_by_two = data.reshape(2, 2)\n",
        "two_by_two"
      ]
    },
    {
      "cell_type": "markdown",
      "metadata": {
        "id": "rqUM9z90iXcR"
      },
      "source": [
        "Numpy arrays are:\n",
        "\n",
        "- Fixed-type"
      ]
    },
    {
      "cell_type": "markdown",
      "metadata": {
        "id": "xI5M1gzviXcR"
      },
      "source": [
        "- Size-immutable"
      ]
    },
    {
      "cell_type": "markdown",
      "metadata": {
        "id": "Xb7Dkl2tiXcS"
      },
      "source": [
        "- Multi-dimensional"
      ]
    },
    {
      "cell_type": "markdown",
      "metadata": {
        "id": "r0oMRqQXiXcS"
      },
      "source": [
        "- Fast\\*"
      ]
    },
    {
      "cell_type": "markdown",
      "metadata": {
        "id": "kz1MurDBiXcS"
      },
      "source": [
        "\\* If you use them correctly."
      ]
    },
    {
      "cell_type": "markdown",
      "metadata": {
        "id": "Qivn_IZOiXcS"
      },
      "source": [
        "# What's in an Array?"
      ]
    },
    {
      "cell_type": "code",
      "execution_count": null,
      "metadata": {
        "id": "vAuc9ZoYiXcS"
      },
      "outputs": [],
      "source": [
        "arr = np.array([1, 2, 3, 4, 5, 6], dtype='int16').reshape(2, 3)\n",
        "print(\"Array:\\n\", arr, sep='')\n",
        "print(\"===========\")\n",
        "print(\"DType:\", arr.dtype)\n",
        "print(\"Shape:\", arr.shape)\n",
        "print(\"Strides:\", arr.strides)\n",
        "print(\"Data:\", arr.data.tobytes())"
      ]
    },
    {
      "cell_type": "markdown",
      "metadata": {
        "id": "K81LXWsCiXcS"
      },
      "source": [
        "# Core Operations\n",
        "\n",
        "- Vectorized **ufuncs** for elementwise operations.\n",
        "- Fancy indexing and masking for selection and filtering.\n",
        "- Aggregations across axes.\n",
        "- Broadcasting"
      ]
    },
    {
      "cell_type": "markdown",
      "metadata": {
        "id": "kwVm_T0UiXcS"
      },
      "source": [
        "# UFuncs\n",
        "\n",
        "UFuncs (universal functions) are functions that operate elementwise on one or more arrays."
      ]
    },
    {
      "cell_type": "code",
      "execution_count": null,
      "metadata": {
        "id": "bltDIE9jiXcS"
      },
      "outputs": [],
      "source": [
        "data = np.arange(15).reshape(3, 5)\n",
        "data"
      ]
    },
    {
      "cell_type": "code",
      "execution_count": null,
      "metadata": {
        "id": "STwE0VCpiXcT"
      },
      "outputs": [],
      "source": [
        "# Binary operators.\n",
        "data * data"
      ]
    },
    {
      "cell_type": "code",
      "execution_count": null,
      "metadata": {
        "id": "N__jqMifiXcT"
      },
      "outputs": [],
      "source": [
        "# Unary functions.\n",
        "np.sqrt(data)"
      ]
    },
    {
      "cell_type": "code",
      "execution_count": null,
      "metadata": {
        "id": "j-2fPm3LiXcT"
      },
      "outputs": [],
      "source": [
        "# Comparison operations\n",
        "(data % 3) == 0"
      ]
    },
    {
      "cell_type": "code",
      "execution_count": null,
      "metadata": {
        "id": "iDUXVIuhiXcT"
      },
      "outputs": [],
      "source": [
        "# Boolean combinators.\n",
        "((data % 2) == 0) & ((data % 3) == 0)"
      ]
    },
    {
      "cell_type": "code",
      "execution_count": null,
      "metadata": {
        "id": "f2FWSuiJiXcT"
      },
      "outputs": [],
      "source": [
        "# as of python 3.5, @ is matrix-multiply\n",
        "data @ data.T"
      ]
    },
    {
      "cell_type": "markdown",
      "metadata": {
        "id": "9EsiKbSCiXcT"
      },
      "source": [
        "# UFuncs Review\n",
        "\n",
        "- UFuncs provide efficient elementwise operations applied across one or more arrays.\n",
        "- Arithmetic Operators (`+`, `*`, `/`)\n",
        "- Comparisons (`==`, `>`, `!=`)\n",
        "- Boolean Operators (`&`, `|`, `^`)\n",
        "- Trigonometric Functions (`sin`, `cos`)\n",
        "- Transcendental Functions (`exp`, `log`)"
      ]
    },
    {
      "cell_type": "markdown",
      "metadata": {
        "id": "GGLCgF20iXcU"
      },
      "source": [
        "# Selections"
      ]
    },
    {
      "cell_type": "markdown",
      "metadata": {
        "id": "3SAH9am8iXcU"
      },
      "source": [
        "We often want to perform an operation on just a subset of our data."
      ]
    },
    {
      "cell_type": "code",
      "execution_count": null,
      "metadata": {
        "id": "AWmtLHYwiXcU"
      },
      "outputs": [],
      "source": [
        "sines = np.sin(np.linspace(0, 3.14, 10))\n",
        "cosines = np.cos(np.linspace(0, 3.14, 10))\n",
        "sines"
      ]
    },
    {
      "cell_type": "code",
      "execution_count": null,
      "metadata": {
        "id": "u8LHY0j9iXcU"
      },
      "outputs": [],
      "source": [
        "# Slicing works with the same semantics as Python lists.\n",
        "sines[0]"
      ]
    },
    {
      "cell_type": "code",
      "execution_count": null,
      "metadata": {
        "id": "hh6dTObciXcU"
      },
      "outputs": [],
      "source": [
        "sines[:3]  # First three elements"
      ]
    },
    {
      "cell_type": "code",
      "execution_count": null,
      "metadata": {
        "id": "rqB_uVABiXcU"
      },
      "outputs": [],
      "source": [
        "sines[5:]  # Elements from 5 on."
      ]
    },
    {
      "cell_type": "code",
      "execution_count": null,
      "metadata": {
        "id": "j2KDBhZaiXcU"
      },
      "outputs": [],
      "source": [
        "sines[::2]  # Every other element."
      ]
    },
    {
      "cell_type": "code",
      "execution_count": null,
      "metadata": {
        "id": "lR7JjjhjiXcV"
      },
      "outputs": [],
      "source": [
        "# More interesting: we can index with boolean arrays to filter by a predicate.\n",
        "print(\"sines:\\n\", sines)\n",
        "print(\"sines > 0.5:\\n\", sines > 0.5)\n",
        "print(\"sines[sines > 0.5]:\\n\", sines[sines > 0.5])"
      ]
    },
    {
      "cell_type": "code",
      "execution_count": null,
      "metadata": {
        "id": "gORuDL3RiXcV"
      },
      "outputs": [],
      "source": [
        "# We index with lists/arrays of integers to select values at those indices.\n",
        "print(sines)\n",
        "sines[[0, 4, 7]]"
      ]
    },
    {
      "cell_type": "code",
      "execution_count": null,
      "metadata": {
        "collapsed": true,
        "id": "Gu2vDHNgiXcV"
      },
      "outputs": [],
      "source": [
        "# Index arrays are often used for sorting one or more arrays.\n",
        "unsorted_data = np.array([1, 3, 2, 12, -1, 5, 2])"
      ]
    },
    {
      "cell_type": "code",
      "execution_count": null,
      "metadata": {
        "id": "uroIWxu1iXcV"
      },
      "outputs": [],
      "source": [
        "sort_indices = np.argsort(unsorted_data)\n",
        "sort_indices"
      ]
    },
    {
      "cell_type": "code",
      "execution_count": null,
      "metadata": {
        "id": "igwLM_b1iXcV"
      },
      "outputs": [],
      "source": [
        "unsorted_data[sort_indices]"
      ]
    },
    {
      "cell_type": "code",
      "execution_count": null,
      "metadata": {
        "collapsed": true,
        "id": "7IRVEVvdiXcV"
      },
      "outputs": [],
      "source": [
        "market_caps = np.array([12, 6, 10, 5, 6])  # Presumably in dollars?\n",
        "assets = np.array(['A', 'B', 'C', 'D', 'E'])"
      ]
    },
    {
      "cell_type": "code",
      "execution_count": null,
      "metadata": {
        "id": "jE8KVrn9iXcV"
      },
      "outputs": [],
      "source": [
        "# Sort assets by market cap by using the permutation that would sort market caps on ``assets``.\n",
        "sort_by_mcap = np.argsort(market_caps)\n",
        "assets[sort_by_mcap]"
      ]
    },
    {
      "cell_type": "code",
      "execution_count": null,
      "metadata": {
        "scrolled": true,
        "id": "jaGW-7fTiXcW"
      },
      "outputs": [],
      "source": [
        "# Indexers are also useful for aligning data.\n",
        "print(\"Dates:\\n\", repr(event_dates))\n",
        "print(\"Values:\\n\", repr(event_values))\n",
        "print(\"Calendar:\\n\", repr(calendar))"
      ]
    },
    {
      "cell_type": "code",
      "execution_count": null,
      "metadata": {
        "id": "Uo28AVcTiXcW"
      },
      "outputs": [],
      "source": [
        "print(\"Raw Dates:\", event_dates)\n",
        "print(\"Indices:\", calendar.searchsorted(event_dates))\n",
        "print(\"Forward-Filled Dates:\", calendar[calendar.searchsorted(event_dates)])"
      ]
    },
    {
      "cell_type": "markdown",
      "metadata": {
        "id": "oDEVEEOriXcW"
      },
      "source": [
        "On multi-dimensional arrays, we can slice along each axis independently."
      ]
    },
    {
      "cell_type": "code",
      "execution_count": null,
      "metadata": {
        "id": "prPSgZhniXcW"
      },
      "outputs": [],
      "source": [
        "data = np.arange(25).reshape(5, 5)\n",
        "data"
      ]
    },
    {
      "cell_type": "code",
      "execution_count": null,
      "metadata": {
        "id": "KAulAQ2yiXcW"
      },
      "outputs": [],
      "source": [
        "data[:2, :2]  # First two rows and first two columns."
      ]
    },
    {
      "cell_type": "code",
      "execution_count": null,
      "metadata": {
        "id": "f9_S0RcdiXcW"
      },
      "outputs": [],
      "source": [
        "data[:2, [0, -1]]  # First two rows, first and last columns."
      ]
    },
    {
      "cell_type": "code",
      "execution_count": null,
      "metadata": {
        "id": "rre5hGs9iXcW"
      },
      "outputs": [],
      "source": [
        "data[(data[:, 0] % 2) == 0]  # Rows where the first column is divisible by two."
      ]
    },
    {
      "cell_type": "markdown",
      "metadata": {
        "id": "zl1zYEQgiXcX"
      },
      "source": [
        "# Selections Review\n",
        "\n",
        "- Indexing with an integer removes a dimension.\n",
        "- Slicing operations work on Numpy arrays the same way they do on lists.\n",
        "- Indexing with a boolean array filters to True locations.\n",
        "- Indexing with an integer array selects indices along an axis.\n",
        "- Multidimensional arrays can apply selections independently along different axes."
      ]
    },
    {
      "cell_type": "markdown",
      "metadata": {
        "id": "0tDspA_KiXcX"
      },
      "source": [
        "## Reductions\n",
        "\n",
        "Functions that reduce an array to a scalar."
      ]
    },
    {
      "cell_type": "markdown",
      "metadata": {
        "id": "1s42E1qCiXcX"
      },
      "source": [
        "$Var(X) = \\frac{1}{N}\\sqrt{\\sum_{i=1}^N (x_i - \\bar{x})^2}$"
      ]
    },
    {
      "cell_type": "code",
      "execution_count": null,
      "metadata": {
        "collapsed": true,
        "id": "pkjccK94iXcX"
      },
      "outputs": [],
      "source": [
        "def variance(x):\n",
        "    return ((x - x.mean()) ** 2).sum() / len(x)"
      ]
    },
    {
      "cell_type": "code",
      "execution_count": null,
      "metadata": {
        "id": "jqiZV_FMiXcX"
      },
      "outputs": [],
      "source": [
        "variance(np.random.standard_normal(1000))"
      ]
    },
    {
      "cell_type": "markdown",
      "metadata": {
        "id": "WHVBON1qiXcX"
      },
      "source": [
        "- `sum()` and `mean()` are both **reductions**."
      ]
    },
    {
      "cell_type": "markdown",
      "metadata": {
        "id": "w7gh4_vmiXcX"
      },
      "source": [
        "- In the simplest case, we use these to reduce an entire array into a single value..."
      ]
    },
    {
      "cell_type": "code",
      "execution_count": null,
      "metadata": {
        "id": "Hxr-Py7ciXcY"
      },
      "outputs": [],
      "source": [
        "data = np.arange(30)\n",
        "data.mean()"
      ]
    },
    {
      "cell_type": "markdown",
      "metadata": {
        "id": "M1mqf-RfiXcY"
      },
      "source": [
        "- ...but we can do more interesting things with multi-dimensional arrays."
      ]
    },
    {
      "cell_type": "code",
      "execution_count": null,
      "metadata": {
        "id": "okW92XNriXcY"
      },
      "outputs": [],
      "source": [
        "data = np.arange(30).reshape(3, 10)\n",
        "data"
      ]
    },
    {
      "cell_type": "code",
      "execution_count": null,
      "metadata": {
        "id": "_DwCYNHQiXcY"
      },
      "outputs": [],
      "source": [
        "data.mean()"
      ]
    },
    {
      "cell_type": "code",
      "execution_count": null,
      "metadata": {
        "id": "Z7S6mpm3iXcY"
      },
      "outputs": [],
      "source": [
        "data.mean(axis=0)"
      ]
    },
    {
      "cell_type": "code",
      "execution_count": null,
      "metadata": {
        "id": "g-DOKtM4iXcY"
      },
      "outputs": [],
      "source": [
        "data.mean(axis=1)"
      ]
    },
    {
      "cell_type": "markdown",
      "metadata": {
        "id": "zsIEVqkgiXcY"
      },
      "source": [
        "## Reductions Review\n",
        "\n",
        "- Reductions allow us to perform efficient aggregations over arrays.\n",
        "- We can do aggregations over a single axis to collapse a single dimension.\n",
        "- Many built-in reductions (`mean`, `sum`, `min`, `max`, `median`, ...)."
      ]
    },
    {
      "cell_type": "markdown",
      "metadata": {
        "id": "hvqRiy2qiXcZ"
      },
      "source": [
        "# Broadcasting"
      ]
    },
    {
      "cell_type": "code",
      "execution_count": null,
      "metadata": {
        "id": "OyIDakdiiXcZ"
      },
      "outputs": [],
      "source": [
        "row = np.array([1, 2, 3, 4])\n",
        "column = np.array([[1], [2], [3]])\n",
        "print(\"Row:\\n\", row, sep='')\n",
        "print(\"Column:\\n\", column, sep='')"
      ]
    },
    {
      "cell_type": "code",
      "execution_count": null,
      "metadata": {
        "id": "Dej4wsX-iXcZ"
      },
      "outputs": [],
      "source": [
        "row + column"
      ]
    },
    {
      "cell_type": "markdown",
      "metadata": {
        "id": "tMdSsqXfiXcZ"
      },
      "source": [
        "<center><img src=\"https://raw.githubusercontent.com/ssanderson/pydata-toolbox/master/notebooks/images/broadcasting.png\" alt=\"Drawing\" style=\"width: 60%;\"/></center>\n",
        "\n",
        "<h5>Source: http://www.scipy-lectures.org/_images/numpy_broadcasting.png</h5>"
      ]
    },
    {
      "cell_type": "code",
      "execution_count": null,
      "metadata": {
        "id": "JVLNvazIiXcZ"
      },
      "outputs": [],
      "source": [
        "# Broadcasting is particularly useful in conjunction with reductions.\n",
        "print(\"Data:\\n\", data, sep='')\n",
        "print(\"Mean:\\n\", data.mean(axis=0), sep='')\n",
        "print(\"Data - Mean:\\n\", data - data.mean(axis=0), sep='')"
      ]
    },
    {
      "cell_type": "markdown",
      "metadata": {
        "id": "JHmGF_mGiXcZ"
      },
      "source": [
        "# Broadcasting Review\n",
        "\n",
        "- Numpy operations can work on arrays of different dimensions as long as the arrays' shapes are still \"compatible\".\n",
        "- Broadcasting works by \"tiling\" the smaller array along the missing dimension.\n",
        "- The result of a broadcasted operation is always at least as large in each dimension as the largest array in that dimension."
      ]
    },
    {
      "cell_type": "markdown",
      "metadata": {
        "id": "Tmy_pKVniXca"
      },
      "source": [
        "# Numpy Review"
      ]
    },
    {
      "cell_type": "markdown",
      "metadata": {
        "id": "TiKskIDqiXca"
      },
      "source": [
        "- Numerical algorithms are slow in pure Python because the overhead dynamic dispatch dominates our runtime."
      ]
    },
    {
      "cell_type": "markdown",
      "metadata": {
        "id": "WRex_YahiXca"
      },
      "source": [
        "- Numpy solves this problem by:\n",
        "  1. Imposing additional restrictions on the contents of arrays.\n",
        "  2. Moving the inner loops of our algorithms into compiled C code."
      ]
    },
    {
      "cell_type": "markdown",
      "metadata": {
        "id": "HHcs1cowiXca"
      },
      "source": [
        "- Using Numpy effectively often requires reworking an algorithms to use vectorized operations instead of for-loops, but the resulting operations are usually simpler, clearer, and faster than the pure Python equivalent."
      ]
    },
    {
      "cell_type": "markdown",
      "metadata": {
        "id": "GoPdOSfSiXca"
      },
      "source": [
        "<center><img src=\"https://raw.githubusercontent.com/ssanderson/pydata-toolbox/master/notebooks/images/unicorn.jpg\" alt=\"Drawing\" style=\"width: 75%;\"/></center>"
      ]
    },
    {
      "cell_type": "markdown",
      "metadata": {
        "id": "GqyHpT0DiXca"
      },
      "source": [
        "Numpy is great for many things, but..."
      ]
    },
    {
      "cell_type": "markdown",
      "metadata": {
        "id": "t2pSdZyeiXca"
      },
      "source": [
        "- Sometimes our data is equipped with a natural set of **labels**:\n",
        "  - Dates/Times\n",
        "  - Stock Tickers\n",
        "  - Field Names (e.g. Open/High/Low/Close)"
      ]
    },
    {
      "cell_type": "markdown",
      "metadata": {
        "id": "eQkbld3YiXca"
      },
      "source": [
        "- Sometimes we have **more than one type of data** that we want to keep grouped together.\n",
        "  - Tables with a mix of real-valued and categorical data."
      ]
    },
    {
      "cell_type": "markdown",
      "metadata": {
        "id": "FUUCEShmiXcb"
      },
      "source": [
        "- Sometimes we have **missing** data, which we need to ignore, fill, or otherwise work around."
      ]
    },
    {
      "cell_type": "markdown",
      "metadata": {
        "id": "7BErgdXjiXcb"
      },
      "source": [
        "<center><img src=\"https://raw.githubusercontent.com/ssanderson/pydata-toolbox/master/notebooks/images/panda-wrangling.gif\" alt=\"Drawing\" style=\"width: 75%;\"/></center>"
      ]
    },
    {
      "cell_type": "markdown",
      "metadata": {
        "id": "B-LuFQ2BiXcb"
      },
      "source": [
        "<center><img src=\"https://raw.githubusercontent.com/ssanderson/pydata-toolbox/master/notebooks/images/pandas_logo.png\" alt=\"Drawing\" style=\"width: 75%;\"/></center>\n"
      ]
    },
    {
      "cell_type": "markdown",
      "metadata": {
        "id": "B8Hv2pY4iXcb"
      },
      "source": [
        "Pandas extends Numpy with more complex data structures:\n",
        "\n",
        "- `Series`: 1-dimensional, homogenously-typed, labelled array.\n",
        "- `DataFrame`: 2-dimensional, semi-homogenous, labelled table."
      ]
    },
    {
      "cell_type": "markdown",
      "metadata": {
        "id": "xYDFME14iXcb"
      },
      "source": [
        "Pandas also provides many utilities for:\n",
        "- Input/Output\n",
        "- Data Cleaning\n",
        "- Rolling Algorithms\n",
        "- Plotting"
      ]
    },
    {
      "cell_type": "markdown",
      "metadata": {
        "id": "uOvK2ZfeiXcb"
      },
      "source": [
        "# Selection in Pandas"
      ]
    },
    {
      "cell_type": "code",
      "execution_count": null,
      "metadata": {
        "id": "G6ploxoOiXcb"
      },
      "outputs": [],
      "source": [
        "s = pd.Series(index=['a', 'b', 'c', 'd', 'e'], data=[1, 2, 3, 4, 5])\n",
        "s"
      ]
    },
    {
      "cell_type": "code",
      "execution_count": null,
      "metadata": {
        "id": "PU-7iKpqiXcc"
      },
      "outputs": [],
      "source": [
        "# There are two pieces to a Series: the index and the values.\n",
        "print(\"The index is:\", s.index)\n",
        "print(\"The values are:\", s.values)"
      ]
    },
    {
      "cell_type": "code",
      "execution_count": null,
      "metadata": {
        "id": "pUnHyGr5iXcc"
      },
      "outputs": [],
      "source": [
        "# We can look up values out of a Series by position...\n",
        "s.iloc[0]"
      ]
    },
    {
      "cell_type": "code",
      "execution_count": null,
      "metadata": {
        "id": "IyM3qqygiXcc"
      },
      "outputs": [],
      "source": [
        "# ... or by label.\n",
        "s.loc['a']"
      ]
    },
    {
      "cell_type": "code",
      "execution_count": null,
      "metadata": {
        "id": "JrCItQtiiXcc"
      },
      "outputs": [],
      "source": [
        "# Slicing works as expected...\n",
        "s.iloc[:2]"
      ]
    },
    {
      "cell_type": "code",
      "execution_count": null,
      "metadata": {
        "id": "tzTbbk9YiXcc"
      },
      "outputs": [],
      "source": [
        "# ...but it works with labels too!\n",
        "s.loc[:'c']"
      ]
    },
    {
      "cell_type": "code",
      "execution_count": null,
      "metadata": {
        "id": "qrVQ0b0ziXcd"
      },
      "outputs": [],
      "source": [
        "# Fancy indexing works the same as in numpy.\n",
        "s.iloc[[0, -1]]"
      ]
    },
    {
      "cell_type": "code",
      "execution_count": null,
      "metadata": {
        "id": "THswhsDLiXcd"
      },
      "outputs": [],
      "source": [
        "# As does boolean masking.\n",
        "s.loc[s > 2]"
      ]
    },
    {
      "cell_type": "code",
      "execution_count": null,
      "metadata": {
        "id": "nYGjpHaIiXcd"
      },
      "outputs": [],
      "source": [
        "# Element-wise operations are aligned by index.\n",
        "other_s = pd.Series({'a': 10.0, 'c': 20.0, 'd': 30.0, 'z': 40.0})\n",
        "other_s"
      ]
    },
    {
      "cell_type": "code",
      "execution_count": null,
      "metadata": {
        "id": "nkK07CuEiXcd"
      },
      "outputs": [],
      "source": [
        "s + other_s"
      ]
    },
    {
      "cell_type": "code",
      "execution_count": null,
      "metadata": {
        "id": "pePOoBl3iXcd"
      },
      "outputs": [],
      "source": [
        "# We can fill in missing values with fillna().\n",
        "(s + other_s).fillna(0.0)"
      ]
    },
    {
      "cell_type": "code",
      "execution_count": null,
      "metadata": {
        "id": "8LYqk1oDiXcd"
      },
      "outputs": [],
      "source": [
        "# Most real datasets are read in from an external file format.\n",
        "aapl = pd.read_csv('AAPL.csv', parse_dates=['Date'], index_col='Date')\n",
        "aapl.head()"
      ]
    },
    {
      "cell_type": "code",
      "execution_count": null,
      "metadata": {
        "id": "JasJjximiXcd"
      },
      "outputs": [],
      "source": [
        "# Slicing generalizes to two dimensions as you'd expect:\n",
        "aapl.iloc[:2, :2]"
      ]
    },
    {
      "cell_type": "code",
      "execution_count": null,
      "metadata": {
        "id": "aAnXEGHMiXce"
      },
      "outputs": [],
      "source": [
        "aapl.loc[pd.Timestamp('2010-02-01'):pd.Timestamp('2010-02-04'), ['Close', 'Volume']]"
      ]
    },
    {
      "cell_type": "markdown",
      "metadata": {
        "id": "Up935r8GiXce"
      },
      "source": [
        "# Rolling Operations"
      ]
    },
    {
      "cell_type": "markdown",
      "metadata": {
        "id": "28dFZSZmiXce"
      },
      "source": [
        "<center><img src=\"https://raw.githubusercontent.com/ssanderson/pydata-toolbox/master/notebooks/images/rolling.gif\" alt=\"Drawing\" style=\"width: 75%;\"/></center>"
      ]
    },
    {
      "cell_type": "code",
      "execution_count": null,
      "metadata": {
        "id": "-YvkXxL0iXce"
      },
      "outputs": [],
      "source": [
        "aapl.rolling(5)[['Close', 'Adj Close']].mean().plot();"
      ]
    },
    {
      "cell_type": "code",
      "execution_count": null,
      "metadata": {
        "id": "HKynE6AMiXce"
      },
      "outputs": [],
      "source": [
        "# Drop `Volume`, since it's way bigger than everything else.\n",
        "aapl.drop('Volume', axis=1).resample('2W').max().plot();"
      ]
    },
    {
      "cell_type": "code",
      "execution_count": null,
      "metadata": {
        "id": "ayoPHapZiXce"
      },
      "outputs": [],
      "source": [
        "# 30-day rolling exponentially-weighted stddev of returns.\n",
        "aapl['Close'].pct_change().ewm(span=30).std().plot();"
      ]
    },
    {
      "cell_type": "markdown",
      "metadata": {
        "id": "npT_ZgpYiXce"
      },
      "source": [
        "# \"Real World\" Data"
      ]
    },
    {
      "cell_type": "code",
      "execution_count": null,
      "metadata": {
        "id": "XcYC7BGAiXcf",
        "outputId": "741a78ac-767b-45b5-f5ce-3c89831bd2f5",
        "colab": {
          "base_uri": "https://localhost:8080/",
          "height": 366
        }
      },
      "outputs": [
        {
          "output_type": "error",
          "ename": "ModuleNotFoundError",
          "evalue": "No module named 'demos'",
          "traceback": [
            "\u001b[0;31m---------------------------------------------------------------------------\u001b[0m",
            "\u001b[0;31mModuleNotFoundError\u001b[0m                       Traceback (most recent call last)",
            "\u001b[0;32m<ipython-input-1-ca7191fa6ef8>\u001b[0m in \u001b[0;36m<cell line: 1>\u001b[0;34m()\u001b[0m\n\u001b[0;32m----> 1\u001b[0;31m \u001b[0;32mfrom\u001b[0m \u001b[0mdemos\u001b[0m\u001b[0;34m.\u001b[0m\u001b[0mavocados\u001b[0m \u001b[0;32mimport\u001b[0m \u001b[0mread_avocadata\u001b[0m\u001b[0;34m\u001b[0m\u001b[0;34m\u001b[0m\u001b[0m\n\u001b[0m\u001b[1;32m      2\u001b[0m \u001b[0;34m\u001b[0m\u001b[0m\n\u001b[1;32m      3\u001b[0m \u001b[0mavocados\u001b[0m \u001b[0;34m=\u001b[0m \u001b[0mread_avocadata\u001b[0m\u001b[0;34m(\u001b[0m\u001b[0;34m'2014'\u001b[0m\u001b[0;34m,\u001b[0m \u001b[0;34m'2016'\u001b[0m\u001b[0;34m)\u001b[0m\u001b[0;34m\u001b[0m\u001b[0;34m\u001b[0m\u001b[0m\n\u001b[1;32m      4\u001b[0m \u001b[0mavocados\u001b[0m\u001b[0;34m.\u001b[0m\u001b[0mhead\u001b[0m\u001b[0;34m(\u001b[0m\u001b[0;34m)\u001b[0m\u001b[0;34m\u001b[0m\u001b[0;34m\u001b[0m\u001b[0m\n",
            "\u001b[0;31mModuleNotFoundError\u001b[0m: No module named 'demos'",
            "",
            "\u001b[0;31m---------------------------------------------------------------------------\u001b[0;32m\nNOTE: If your import is failing due to a missing package, you can\nmanually install dependencies using either !pip or !apt.\n\nTo view examples of installing some common dependencies, click the\n\"Open Examples\" button below.\n\u001b[0;31m---------------------------------------------------------------------------\u001b[0m\n"
          ],
          "errorDetails": {
            "actions": [
              {
                "action": "open_url",
                "actionText": "Open Examples",
                "url": "/notebooks/snippets/importing_libraries.ipynb"
              }
            ]
          }
        }
      ],
      "source": [
        "from demos.avocados import read_avocadata\n",
        "\n",
        "avocados = read_avocadata('2014', '2016')\n",
        "avocados.head()"
      ]
    },
    {
      "cell_type": "code",
      "execution_count": null,
      "metadata": {
        "id": "tjk0EsEsiXcf"
      },
      "outputs": [],
      "source": [
        "# Unlike numpy arrays, pandas DataFrames can have a different dtype for each column.\n",
        "avocados.dtypes"
      ]
    },
    {
      "cell_type": "code",
      "execution_count": null,
      "metadata": {
        "id": "YcpqjQCdiXcf"
      },
      "outputs": [],
      "source": [
        "# What's the regional average price of a HASS avocado every day?\n",
        "hass = avocados[avocados.Variety == 'HASS']\n",
        "hass.groupby(['Date', 'Region'])['Weighted Avg Price'].mean().unstack().ffill().plot();"
      ]
    },
    {
      "cell_type": "code",
      "execution_count": null,
      "metadata": {
        "collapsed": true,
        "id": "k1Zdnr4jiXcf"
      },
      "outputs": [],
      "source": [
        "def _organic_spread(group):\n",
        "\n",
        "    if len(group.columns) != 2:\n",
        "        return pd.Series(index=group.index, data=0.0)\n",
        "\n",
        "    is_organic = group.columns.get_level_values('Organic').values.astype(bool)\n",
        "    organics = group.loc[:, is_organic].squeeze()\n",
        "    non_organics = group.loc[:, ~is_organic].squeeze()\n",
        "    diff = organics - non_organics\n",
        "    return diff\n",
        "\n",
        "def organic_spread_by_region(df):\n",
        "    \"\"\"What's the difference between the price of an organic\n",
        "    and non-organic avocado within each region?\n",
        "    \"\"\"\n",
        "    return (\n",
        "        df\n",
        "        .set_index(['Date', 'Region', 'Organic'])\n",
        "         ['Weighted Avg Price']\n",
        "        .unstack(level=['Region', 'Organic'])\n",
        "        .ffill()\n",
        "        .groupby(level='Region', axis=1)\n",
        "        .apply(_organic_spread)\n",
        "    )"
      ]
    },
    {
      "cell_type": "code",
      "execution_count": null,
      "metadata": {
        "id": "iU-Th92BiXcf"
      },
      "outputs": [],
      "source": [
        "organic_spread_by_region(hass).plot();\n",
        "plt.gca().set_title(\"Daily Regional Organic Spread\");\n",
        "plt.legend(bbox_to_anchor=(1, 1));"
      ]
    },
    {
      "cell_type": "code",
      "execution_count": null,
      "metadata": {
        "id": "vjR02HpEiXcg"
      },
      "outputs": [],
      "source": [
        "spread_correlation = organic_spread_by_region(hass).corr()\n",
        "spread_correlation"
      ]
    },
    {
      "cell_type": "code",
      "execution_count": null,
      "metadata": {
        "id": "-fbKjqw6iXcg"
      },
      "outputs": [],
      "source": [
        "import seaborn as sns\n",
        "grid = sns.clustermap(spread_correlation, annot=True)\n",
        "fig = grid.fig\n",
        "axes = fig.axes\n",
        "ax = axes[2]\n",
        "ax.set_xticklabels(ax.get_xticklabels(), rotation=45);"
      ]
    },
    {
      "cell_type": "markdown",
      "metadata": {
        "id": "-6jsBAhQiXcg"
      },
      "source": [
        "# Pandas Review\n",
        "\n",
        "- Pandas extends numpy with more complex datastructures and algorithms.\n",
        "- If you understand numpy, you understand 90% of pandas.\n",
        "- `groupby`, `set_index`, and `unstack` are powerful tools for working with categorical data.\n",
        "- Avocado prices are surprisingly interesting :)"
      ]
    },
    {
      "cell_type": "markdown",
      "source": [
        "**My own example 34 - Pandas analysis on a new dataset: REVISIÓN DE LA DISTRIBUCIÓN DE SIEMBRAS DE ÁRBOLES EN EL MUNICIPIO DE PALMIRAS Y ALREDEDORES EN EL AÑO 2021**:\n",
        "\n",
        "Se descargó el archivo csv directamente de la página de datos que se facilitó en celdas anteriores. Los datos son particularmente interesantes pues se provee una lista de las ubicaciones geográficas detalladas de la siembra, pero multiples de estos son erróneos, razón por la cual se hace un filtrado de las ubicaciones geográficas para generar un mapa."
      ],
      "metadata": {
        "id": "vrf4pULz73St"
      }
    },
    {
      "cell_type": "code",
      "source": [
        "import pandas as pd\n",
        "\n",
        "siembras = pd.read_csv('/content/sample_data/Tipos_de_Siembras_Palmira_20240214.csv', parse_dates=['Vigencia'], header=0)\n",
        "siembras.head()"
      ],
      "metadata": {
        "id": "V7t6G0018Itx",
        "colab": {
          "base_uri": "https://localhost:8080/",
          "height": 347
        },
        "outputId": "6cd109ce-3851-4cef-92d3-ef25f3ec2201"
      },
      "execution_count": null,
      "outputs": [
        {
          "output_type": "execute_result",
          "data": {
            "text/plain": [
              "    Vigencia  Codigo DANE Departamento     Departamento  \\\n",
              "0 2020-04-06                        76  Valle del Cauca   \n",
              "1 2020-04-06                        76  Valle del Cauca   \n",
              "2 2020-04-06                        76  Valle del Cauca   \n",
              "3 2020-04-06                        76  Valle del Cauca   \n",
              "4 2020-06-16                        76  Valle del Cauca   \n",
              "\n",
              "   Codigo DANE Municipio Municipio Especie plantada  Cantidad Arboles  \\\n",
              "0                    520   Palmira             Mayo               254   \n",
              "1                    520   Palmira         Nacedero               254   \n",
              "2                    520   Palmira      Chachafruto               254   \n",
              "3                    520   Palmira          Lechero               254   \n",
              "4                    520   Palmira            Palma                 9   \n",
              "\n",
              "   Latitud Grados °  Latitud Minutos '  Latitud Segundos \"  Longitud Grados °  \\\n",
              "0                 3                 31                39.0                 76   \n",
              "1                 3                 31                39.0                 76   \n",
              "2                 3                 31                39.0                 76   \n",
              "3                 3                 31                39.0                 76   \n",
              "4                 3                 31                51.1                 76   \n",
              "\n",
              "   Longitud Minutos '  Longitud Segundos \"  Decimales Latitud  \\\n",
              "0                  16                 47.0          3527500.0   \n",
              "1                  16                 47.0          3527500.0   \n",
              "2                  16                 47.0          3527500.0   \n",
              "3                  16                 47.0          3527500.0   \n",
              "4                  18                 53.0          3530854.0   \n",
              "\n",
              "   Decimales Longitud  \n",
              "0         -76279722.0  \n",
              "1         -76279722.0  \n",
              "2         -76279722.0  \n",
              "3         -76279722.0  \n",
              "4         -76314711.0  "
            ],
            "text/html": [
              "\n",
              "  <div id=\"df-f62b6a5f-6f63-4923-a735-5b2dc7e6a61d\" class=\"colab-df-container\">\n",
              "    <div>\n",
              "<style scoped>\n",
              "    .dataframe tbody tr th:only-of-type {\n",
              "        vertical-align: middle;\n",
              "    }\n",
              "\n",
              "    .dataframe tbody tr th {\n",
              "        vertical-align: top;\n",
              "    }\n",
              "\n",
              "    .dataframe thead th {\n",
              "        text-align: right;\n",
              "    }\n",
              "</style>\n",
              "<table border=\"1\" class=\"dataframe\">\n",
              "  <thead>\n",
              "    <tr style=\"text-align: right;\">\n",
              "      <th></th>\n",
              "      <th>Vigencia</th>\n",
              "      <th>Codigo DANE Departamento</th>\n",
              "      <th>Departamento</th>\n",
              "      <th>Codigo DANE Municipio</th>\n",
              "      <th>Municipio</th>\n",
              "      <th>Especie plantada</th>\n",
              "      <th>Cantidad Arboles</th>\n",
              "      <th>Latitud Grados °</th>\n",
              "      <th>Latitud Minutos '</th>\n",
              "      <th>Latitud Segundos \"</th>\n",
              "      <th>Longitud Grados °</th>\n",
              "      <th>Longitud Minutos '</th>\n",
              "      <th>Longitud Segundos \"</th>\n",
              "      <th>Decimales Latitud</th>\n",
              "      <th>Decimales Longitud</th>\n",
              "    </tr>\n",
              "  </thead>\n",
              "  <tbody>\n",
              "    <tr>\n",
              "      <th>0</th>\n",
              "      <td>2020-04-06</td>\n",
              "      <td>76</td>\n",
              "      <td>Valle del Cauca</td>\n",
              "      <td>520</td>\n",
              "      <td>Palmira</td>\n",
              "      <td>Mayo</td>\n",
              "      <td>254</td>\n",
              "      <td>3</td>\n",
              "      <td>31</td>\n",
              "      <td>39.0</td>\n",
              "      <td>76</td>\n",
              "      <td>16</td>\n",
              "      <td>47.0</td>\n",
              "      <td>3527500.0</td>\n",
              "      <td>-76279722.0</td>\n",
              "    </tr>\n",
              "    <tr>\n",
              "      <th>1</th>\n",
              "      <td>2020-04-06</td>\n",
              "      <td>76</td>\n",
              "      <td>Valle del Cauca</td>\n",
              "      <td>520</td>\n",
              "      <td>Palmira</td>\n",
              "      <td>Nacedero</td>\n",
              "      <td>254</td>\n",
              "      <td>3</td>\n",
              "      <td>31</td>\n",
              "      <td>39.0</td>\n",
              "      <td>76</td>\n",
              "      <td>16</td>\n",
              "      <td>47.0</td>\n",
              "      <td>3527500.0</td>\n",
              "      <td>-76279722.0</td>\n",
              "    </tr>\n",
              "    <tr>\n",
              "      <th>2</th>\n",
              "      <td>2020-04-06</td>\n",
              "      <td>76</td>\n",
              "      <td>Valle del Cauca</td>\n",
              "      <td>520</td>\n",
              "      <td>Palmira</td>\n",
              "      <td>Chachafruto</td>\n",
              "      <td>254</td>\n",
              "      <td>3</td>\n",
              "      <td>31</td>\n",
              "      <td>39.0</td>\n",
              "      <td>76</td>\n",
              "      <td>16</td>\n",
              "      <td>47.0</td>\n",
              "      <td>3527500.0</td>\n",
              "      <td>-76279722.0</td>\n",
              "    </tr>\n",
              "    <tr>\n",
              "      <th>3</th>\n",
              "      <td>2020-04-06</td>\n",
              "      <td>76</td>\n",
              "      <td>Valle del Cauca</td>\n",
              "      <td>520</td>\n",
              "      <td>Palmira</td>\n",
              "      <td>Lechero</td>\n",
              "      <td>254</td>\n",
              "      <td>3</td>\n",
              "      <td>31</td>\n",
              "      <td>39.0</td>\n",
              "      <td>76</td>\n",
              "      <td>16</td>\n",
              "      <td>47.0</td>\n",
              "      <td>3527500.0</td>\n",
              "      <td>-76279722.0</td>\n",
              "    </tr>\n",
              "    <tr>\n",
              "      <th>4</th>\n",
              "      <td>2020-06-16</td>\n",
              "      <td>76</td>\n",
              "      <td>Valle del Cauca</td>\n",
              "      <td>520</td>\n",
              "      <td>Palmira</td>\n",
              "      <td>Palma</td>\n",
              "      <td>9</td>\n",
              "      <td>3</td>\n",
              "      <td>31</td>\n",
              "      <td>51.1</td>\n",
              "      <td>76</td>\n",
              "      <td>18</td>\n",
              "      <td>53.0</td>\n",
              "      <td>3530854.0</td>\n",
              "      <td>-76314711.0</td>\n",
              "    </tr>\n",
              "  </tbody>\n",
              "</table>\n",
              "</div>\n",
              "    <div class=\"colab-df-buttons\">\n",
              "\n",
              "  <div class=\"colab-df-container\">\n",
              "    <button class=\"colab-df-convert\" onclick=\"convertToInteractive('df-f62b6a5f-6f63-4923-a735-5b2dc7e6a61d')\"\n",
              "            title=\"Convert this dataframe to an interactive table.\"\n",
              "            style=\"display:none;\">\n",
              "\n",
              "  <svg xmlns=\"http://www.w3.org/2000/svg\" height=\"24px\" viewBox=\"0 -960 960 960\">\n",
              "    <path d=\"M120-120v-720h720v720H120Zm60-500h600v-160H180v160Zm220 220h160v-160H400v160Zm0 220h160v-160H400v160ZM180-400h160v-160H180v160Zm440 0h160v-160H620v160ZM180-180h160v-160H180v160Zm440 0h160v-160H620v160Z\"/>\n",
              "  </svg>\n",
              "    </button>\n",
              "\n",
              "  <style>\n",
              "    .colab-df-container {\n",
              "      display:flex;\n",
              "      gap: 12px;\n",
              "    }\n",
              "\n",
              "    .colab-df-convert {\n",
              "      background-color: #E8F0FE;\n",
              "      border: none;\n",
              "      border-radius: 50%;\n",
              "      cursor: pointer;\n",
              "      display: none;\n",
              "      fill: #1967D2;\n",
              "      height: 32px;\n",
              "      padding: 0 0 0 0;\n",
              "      width: 32px;\n",
              "    }\n",
              "\n",
              "    .colab-df-convert:hover {\n",
              "      background-color: #E2EBFA;\n",
              "      box-shadow: 0px 1px 2px rgba(60, 64, 67, 0.3), 0px 1px 3px 1px rgba(60, 64, 67, 0.15);\n",
              "      fill: #174EA6;\n",
              "    }\n",
              "\n",
              "    .colab-df-buttons div {\n",
              "      margin-bottom: 4px;\n",
              "    }\n",
              "\n",
              "    [theme=dark] .colab-df-convert {\n",
              "      background-color: #3B4455;\n",
              "      fill: #D2E3FC;\n",
              "    }\n",
              "\n",
              "    [theme=dark] .colab-df-convert:hover {\n",
              "      background-color: #434B5C;\n",
              "      box-shadow: 0px 1px 3px 1px rgba(0, 0, 0, 0.15);\n",
              "      filter: drop-shadow(0px 1px 2px rgba(0, 0, 0, 0.3));\n",
              "      fill: #FFFFFF;\n",
              "    }\n",
              "  </style>\n",
              "\n",
              "    <script>\n",
              "      const buttonEl =\n",
              "        document.querySelector('#df-f62b6a5f-6f63-4923-a735-5b2dc7e6a61d button.colab-df-convert');\n",
              "      buttonEl.style.display =\n",
              "        google.colab.kernel.accessAllowed ? 'block' : 'none';\n",
              "\n",
              "      async function convertToInteractive(key) {\n",
              "        const element = document.querySelector('#df-f62b6a5f-6f63-4923-a735-5b2dc7e6a61d');\n",
              "        const dataTable =\n",
              "          await google.colab.kernel.invokeFunction('convertToInteractive',\n",
              "                                                    [key], {});\n",
              "        if (!dataTable) return;\n",
              "\n",
              "        const docLinkHtml = 'Like what you see? Visit the ' +\n",
              "          '<a target=\"_blank\" href=https://colab.research.google.com/notebooks/data_table.ipynb>data table notebook</a>'\n",
              "          + ' to learn more about interactive tables.';\n",
              "        element.innerHTML = '';\n",
              "        dataTable['output_type'] = 'display_data';\n",
              "        await google.colab.output.renderOutput(dataTable, element);\n",
              "        const docLink = document.createElement('div');\n",
              "        docLink.innerHTML = docLinkHtml;\n",
              "        element.appendChild(docLink);\n",
              "      }\n",
              "    </script>\n",
              "  </div>\n",
              "\n",
              "\n",
              "<div id=\"df-c615e41d-6127-4456-8a49-1a29f3b523df\">\n",
              "  <button class=\"colab-df-quickchart\" onclick=\"quickchart('df-c615e41d-6127-4456-8a49-1a29f3b523df')\"\n",
              "            title=\"Suggest charts\"\n",
              "            style=\"display:none;\">\n",
              "\n",
              "<svg xmlns=\"http://www.w3.org/2000/svg\" height=\"24px\"viewBox=\"0 0 24 24\"\n",
              "     width=\"24px\">\n",
              "    <g>\n",
              "        <path d=\"M19 3H5c-1.1 0-2 .9-2 2v14c0 1.1.9 2 2 2h14c1.1 0 2-.9 2-2V5c0-1.1-.9-2-2-2zM9 17H7v-7h2v7zm4 0h-2V7h2v10zm4 0h-2v-4h2v4z\"/>\n",
              "    </g>\n",
              "</svg>\n",
              "  </button>\n",
              "\n",
              "<style>\n",
              "  .colab-df-quickchart {\n",
              "      --bg-color: #E8F0FE;\n",
              "      --fill-color: #1967D2;\n",
              "      --hover-bg-color: #E2EBFA;\n",
              "      --hover-fill-color: #174EA6;\n",
              "      --disabled-fill-color: #AAA;\n",
              "      --disabled-bg-color: #DDD;\n",
              "  }\n",
              "\n",
              "  [theme=dark] .colab-df-quickchart {\n",
              "      --bg-color: #3B4455;\n",
              "      --fill-color: #D2E3FC;\n",
              "      --hover-bg-color: #434B5C;\n",
              "      --hover-fill-color: #FFFFFF;\n",
              "      --disabled-bg-color: #3B4455;\n",
              "      --disabled-fill-color: #666;\n",
              "  }\n",
              "\n",
              "  .colab-df-quickchart {\n",
              "    background-color: var(--bg-color);\n",
              "    border: none;\n",
              "    border-radius: 50%;\n",
              "    cursor: pointer;\n",
              "    display: none;\n",
              "    fill: var(--fill-color);\n",
              "    height: 32px;\n",
              "    padding: 0;\n",
              "    width: 32px;\n",
              "  }\n",
              "\n",
              "  .colab-df-quickchart:hover {\n",
              "    background-color: var(--hover-bg-color);\n",
              "    box-shadow: 0 1px 2px rgba(60, 64, 67, 0.3), 0 1px 3px 1px rgba(60, 64, 67, 0.15);\n",
              "    fill: var(--button-hover-fill-color);\n",
              "  }\n",
              "\n",
              "  .colab-df-quickchart-complete:disabled,\n",
              "  .colab-df-quickchart-complete:disabled:hover {\n",
              "    background-color: var(--disabled-bg-color);\n",
              "    fill: var(--disabled-fill-color);\n",
              "    box-shadow: none;\n",
              "  }\n",
              "\n",
              "  .colab-df-spinner {\n",
              "    border: 2px solid var(--fill-color);\n",
              "    border-color: transparent;\n",
              "    border-bottom-color: var(--fill-color);\n",
              "    animation:\n",
              "      spin 1s steps(1) infinite;\n",
              "  }\n",
              "\n",
              "  @keyframes spin {\n",
              "    0% {\n",
              "      border-color: transparent;\n",
              "      border-bottom-color: var(--fill-color);\n",
              "      border-left-color: var(--fill-color);\n",
              "    }\n",
              "    20% {\n",
              "      border-color: transparent;\n",
              "      border-left-color: var(--fill-color);\n",
              "      border-top-color: var(--fill-color);\n",
              "    }\n",
              "    30% {\n",
              "      border-color: transparent;\n",
              "      border-left-color: var(--fill-color);\n",
              "      border-top-color: var(--fill-color);\n",
              "      border-right-color: var(--fill-color);\n",
              "    }\n",
              "    40% {\n",
              "      border-color: transparent;\n",
              "      border-right-color: var(--fill-color);\n",
              "      border-top-color: var(--fill-color);\n",
              "    }\n",
              "    60% {\n",
              "      border-color: transparent;\n",
              "      border-right-color: var(--fill-color);\n",
              "    }\n",
              "    80% {\n",
              "      border-color: transparent;\n",
              "      border-right-color: var(--fill-color);\n",
              "      border-bottom-color: var(--fill-color);\n",
              "    }\n",
              "    90% {\n",
              "      border-color: transparent;\n",
              "      border-bottom-color: var(--fill-color);\n",
              "    }\n",
              "  }\n",
              "</style>\n",
              "\n",
              "  <script>\n",
              "    async function quickchart(key) {\n",
              "      const quickchartButtonEl =\n",
              "        document.querySelector('#' + key + ' button');\n",
              "      quickchartButtonEl.disabled = true;  // To prevent multiple clicks.\n",
              "      quickchartButtonEl.classList.add('colab-df-spinner');\n",
              "      try {\n",
              "        const charts = await google.colab.kernel.invokeFunction(\n",
              "            'suggestCharts', [key], {});\n",
              "      } catch (error) {\n",
              "        console.error('Error during call to suggestCharts:', error);\n",
              "      }\n",
              "      quickchartButtonEl.classList.remove('colab-df-spinner');\n",
              "      quickchartButtonEl.classList.add('colab-df-quickchart-complete');\n",
              "    }\n",
              "    (() => {\n",
              "      let quickchartButtonEl =\n",
              "        document.querySelector('#df-c615e41d-6127-4456-8a49-1a29f3b523df button');\n",
              "      quickchartButtonEl.style.display =\n",
              "        google.colab.kernel.accessAllowed ? 'block' : 'none';\n",
              "    })();\n",
              "  </script>\n",
              "</div>\n",
              "    </div>\n",
              "  </div>\n"
            ],
            "application/vnd.google.colaboratory.intrinsic+json": {
              "type": "dataframe",
              "variable_name": "siembras",
              "summary": "{\n  \"name\": \"siembras\",\n  \"rows\": 109,\n  \"fields\": [\n    {\n      \"column\": \"Vigencia\",\n      \"properties\": {\n        \"dtype\": \"date\",\n        \"min\": \"2020-02-29 00:00:00\",\n        \"max\": \"2021-11-17 00:00:00\",\n        \"num_unique_values\": 21,\n        \"samples\": [\n          \"2020-04-06 00:00:00\",\n          \"2020-03-12 00:00:00\",\n          \"2021-09-17 00:00:00\"\n        ],\n        \"semantic_type\": \"\",\n        \"description\": \"\"\n      }\n    },\n    {\n      \"column\": \"Codigo DANE Departamento\",\n      \"properties\": {\n        \"dtype\": \"number\",\n        \"std\": 0,\n        \"min\": 76,\n        \"max\": 76,\n        \"num_unique_values\": 1,\n        \"samples\": [\n          76\n        ],\n        \"semantic_type\": \"\",\n        \"description\": \"\"\n      }\n    },\n    {\n      \"column\": \"Departamento\",\n      \"properties\": {\n        \"dtype\": \"category\",\n        \"num_unique_values\": 1,\n        \"samples\": [\n          \"Valle del Cauca\"\n        ],\n        \"semantic_type\": \"\",\n        \"description\": \"\"\n      }\n    },\n    {\n      \"column\": \"Codigo DANE Municipio\",\n      \"properties\": {\n        \"dtype\": \"number\",\n        \"std\": 0,\n        \"min\": 520,\n        \"max\": 520,\n        \"num_unique_values\": 1,\n        \"samples\": [\n          520\n        ],\n        \"semantic_type\": \"\",\n        \"description\": \"\"\n      }\n    },\n    {\n      \"column\": \"Municipio\",\n      \"properties\": {\n        \"dtype\": \"category\",\n        \"num_unique_values\": 1,\n        \"samples\": [\n          \"Palmira\"\n        ],\n        \"semantic_type\": \"\",\n        \"description\": \"\"\n      }\n    },\n    {\n      \"column\": \"Especie plantada\",\n      \"properties\": {\n        \"dtype\": \"string\",\n        \"num_unique_values\": 66,\n        \"samples\": [\n          \"Thevetia\"\n        ],\n        \"semantic_type\": \"\",\n        \"description\": \"\"\n      }\n    },\n    {\n      \"column\": \"Cantidad Arboles\",\n      \"properties\": {\n        \"dtype\": \"number\",\n        \"std\": 52,\n        \"min\": 1,\n        \"max\": 254,\n        \"num_unique_values\": 29,\n        \"samples\": [\n          23\n        ],\n        \"semantic_type\": \"\",\n        \"description\": \"\"\n      }\n    },\n    {\n      \"column\": \"Latitud Grados \\u00b0\",\n      \"properties\": {\n        \"dtype\": \"number\",\n        \"std\": 0,\n        \"min\": 3,\n        \"max\": 3,\n        \"num_unique_values\": 1,\n        \"samples\": [\n          3\n        ],\n        \"semantic_type\": \"\",\n        \"description\": \"\"\n      }\n    },\n    {\n      \"column\": \"Latitud Minutos '\",\n      \"properties\": {\n        \"dtype\": \"number\",\n        \"std\": 1,\n        \"min\": 29,\n        \"max\": 36,\n        \"num_unique_values\": 6,\n        \"samples\": [\n          31\n        ],\n        \"semantic_type\": \"\",\n        \"description\": \"\"\n      }\n    },\n    {\n      \"column\": \"Latitud Segundos \\\"\",\n      \"properties\": {\n        \"dtype\": \"number\",\n        \"std\": 16.114690085332146,\n        \"min\": 0.755099856,\n        \"max\": 53.27196797,\n        \"num_unique_values\": 51,\n        \"samples\": [\n          18.64320043\n        ],\n        \"semantic_type\": \"\",\n        \"description\": \"\"\n      }\n    },\n    {\n      \"column\": \"Longitud Grados \\u00b0\",\n      \"properties\": {\n        \"dtype\": \"number\",\n        \"std\": 70,\n        \"min\": -76,\n        \"max\": 76,\n        \"num_unique_values\": 2,\n        \"samples\": [\n          -76\n        ],\n        \"semantic_type\": \"\",\n        \"description\": \"\"\n      }\n    },\n    {\n      \"column\": \"Longitud Minutos '\",\n      \"properties\": {\n        \"dtype\": \"number\",\n        \"std\": 1,\n        \"min\": 13,\n        \"max\": 23,\n        \"num_unique_values\": 5,\n        \"samples\": [\n          18\n        ],\n        \"semantic_type\": \"\",\n        \"description\": \"\"\n      }\n    },\n    {\n      \"column\": \"Longitud Segundos \\\"\",\n      \"properties\": {\n        \"dtype\": \"number\",\n        \"std\": 15.78897562027918,\n        \"min\": 2.1,\n        \"max\": 59.599416,\n        \"num_unique_values\": 51,\n        \"samples\": [\n          40.656\n        ],\n        \"semantic_type\": \"\",\n        \"description\": \"\"\n      }\n    },\n    {\n      \"column\": \"Decimales Latitud\",\n      \"properties\": {\n        \"dtype\": \"number\",\n        \"std\": 18410.71147628638,\n        \"min\": 3505106.0,\n        \"max\": 3614709.0,\n        \"num_unique_values\": 17,\n        \"samples\": [\n          3527500.0\n        ],\n        \"semantic_type\": \"\",\n        \"description\": \"\"\n      }\n    },\n    {\n      \"column\": \"Decimales Longitud\",\n      \"properties\": {\n        \"dtype\": \"number\",\n        \"std\": 15487.88205304421,\n        \"min\": -76386011.0,\n        \"max\": -76277222.0,\n        \"num_unique_values\": 17,\n        \"samples\": [\n          -76279722.0\n        ],\n        \"semantic_type\": \"\",\n        \"description\": \"\"\n      }\n    }\n  ]\n}"
            }
          },
          "metadata": {},
          "execution_count": 1
        }
      ]
    },
    {
      "source": [
        "import matplotlib.pyplot as plt\n",
        "\n",
        "axis = siembras[['Especie plantada', 'Cantidad Arboles']]\n",
        "data_grouped = axis.groupby('Especie plantada').sum()\n",
        "\n",
        "data_grouped.plot(kind='bar', figsize=(10, 6))\n",
        "plt.title('Cantidad de árboles por especie')\n",
        "plt.xlabel('Especie plantada')\n",
        "plt.ylabel('Cantidad de árboles')\n",
        "plt.xticks(rotation=90)\n",
        "plt.grid(axis='y')\n",
        "plt.show()"
      ],
      "cell_type": "code",
      "execution_count": null,
      "outputs": [
        {
          "output_type": "display_data",
          "data": {
            "text/plain": [
              "<Figure size 1000x600 with 1 Axes>"
            ],
            "image/png": "[encoded data removed]"
          },
          "metadata": {}
        }
      ],
      "metadata": {
        "id": "RYD76IXoD15Y",
        "colab": {
          "base_uri": "https://localhost:8080/",
          "height": 535
        },
        "outputId": "8f3aa0a2-c3ea-45f7-ff26-43dbfc369a4e"
      }
    },
    {
      "cell_type": "code",
      "source": [
        "siembras['Latitud'] = siembras['Latitud Grados °'] + siembras['Latitud Minutos \\''] / 60 + siembras['Latitud Segundos \\\"'] / 3600\n",
        "\n",
        "siembras['Longitud'] = siembras['Longitud Grados °'] + siembras['Longitud Minutos \\''] / 60 + siembras['Longitud Segundos \\\"'] / 3600\n",
        "\n",
        "siembras.head()"
      ],
      "metadata": {
        "id": "I8nghOhKyI3a",
        "colab": {
          "base_uri": "https://localhost:8080/",
          "height": 348
        },
        "outputId": "58f0e99c-2619-4cbf-d970-1720002e2e54"
      },
      "execution_count": null,
      "outputs": [
        {
          "output_type": "execute_result",
          "data": {
            "text/plain": [
              "    Vigencia  Codigo DANE Departamento     Departamento  \\\n",
              "0 2020-04-06                        76  Valle del Cauca   \n",
              "1 2020-04-06                        76  Valle del Cauca   \n",
              "2 2020-04-06                        76  Valle del Cauca   \n",
              "3 2020-04-06                        76  Valle del Cauca   \n",
              "4 2020-06-16                        76  Valle del Cauca   \n",
              "\n",
              "   Codigo DANE Municipio Municipio Especie plantada  Cantidad Arboles  \\\n",
              "0                    520   Palmira             Mayo               254   \n",
              "1                    520   Palmira         Nacedero               254   \n",
              "2                    520   Palmira      Chachafruto               254   \n",
              "3                    520   Palmira          Lechero               254   \n",
              "4                    520   Palmira            Palma                 9   \n",
              "\n",
              "   Latitud Grados °  Latitud Minutos '  Latitud Segundos \"  Longitud Grados °  \\\n",
              "0                 3                 31                39.0                 76   \n",
              "1                 3                 31                39.0                 76   \n",
              "2                 3                 31                39.0                 76   \n",
              "3                 3                 31                39.0                 76   \n",
              "4                 3                 31                51.1                 76   \n",
              "\n",
              "   Longitud Minutos '  Longitud Segundos \"  Decimales Latitud  \\\n",
              "0                  16                 47.0          3527500.0   \n",
              "1                  16                 47.0          3527500.0   \n",
              "2                  16                 47.0          3527500.0   \n",
              "3                  16                 47.0          3527500.0   \n",
              "4                  18                 53.0          3530854.0   \n",
              "\n",
              "   Decimales Longitud   Latitud   Longitud  \n",
              "0         -76279722.0  3.527500  76.279722  \n",
              "1         -76279722.0  3.527500  76.279722  \n",
              "2         -76279722.0  3.527500  76.279722  \n",
              "3         -76279722.0  3.527500  76.279722  \n",
              "4         -76314711.0  3.530861  76.314722  "
            ],
            "text/html": [
              "\n",
              "  <div id=\"df-f624393b-be85-4508-acc5-f71cf8b7c018\" class=\"colab-df-container\">\n",
              "    <div>\n",
              "<style scoped>\n",
              "    .dataframe tbody tr th:only-of-type {\n",
              "        vertical-align: middle;\n",
              "    }\n",
              "\n",
              "    .dataframe tbody tr th {\n",
              "        vertical-align: top;\n",
              "    }\n",
              "\n",
              "    .dataframe thead th {\n",
              "        text-align: right;\n",
              "    }\n",
              "</style>\n",
              "<table border=\"1\" class=\"dataframe\">\n",
              "  <thead>\n",
              "    <tr style=\"text-align: right;\">\n",
              "      <th></th>\n",
              "      <th>Vigencia</th>\n",
              "      <th>Codigo DANE Departamento</th>\n",
              "      <th>Departamento</th>\n",
              "      <th>Codigo DANE Municipio</th>\n",
              "      <th>Municipio</th>\n",
              "      <th>Especie plantada</th>\n",
              "      <th>Cantidad Arboles</th>\n",
              "      <th>Latitud Grados °</th>\n",
              "      <th>Latitud Minutos '</th>\n",
              "      <th>Latitud Segundos \"</th>\n",
              "      <th>Longitud Grados °</th>\n",
              "      <th>Longitud Minutos '</th>\n",
              "      <th>Longitud Segundos \"</th>\n",
              "      <th>Decimales Latitud</th>\n",
              "      <th>Decimales Longitud</th>\n",
              "      <th>Latitud</th>\n",
              "      <th>Longitud</th>\n",
              "    </tr>\n",
              "  </thead>\n",
              "  <tbody>\n",
              "    <tr>\n",
              "      <th>0</th>\n",
              "      <td>2020-04-06</td>\n",
              "      <td>76</td>\n",
              "      <td>Valle del Cauca</td>\n",
              "      <td>520</td>\n",
              "      <td>Palmira</td>\n",
              "      <td>Mayo</td>\n",
              "      <td>254</td>\n",
              "      <td>3</td>\n",
              "      <td>31</td>\n",
              "      <td>39.0</td>\n",
              "      <td>76</td>\n",
              "      <td>16</td>\n",
              "      <td>47.0</td>\n",
              "      <td>3527500.0</td>\n",
              "      <td>-76279722.0</td>\n",
              "      <td>3.527500</td>\n",
              "      <td>76.279722</td>\n",
              "    </tr>\n",
              "    <tr>\n",
              "      <th>1</th>\n",
              "      <td>2020-04-06</td>\n",
              "      <td>76</td>\n",
              "      <td>Valle del Cauca</td>\n",
              "      <td>520</td>\n",
              "      <td>Palmira</td>\n",
              "      <td>Nacedero</td>\n",
              "      <td>254</td>\n",
              "      <td>3</td>\n",
              "      <td>31</td>\n",
              "      <td>39.0</td>\n",
              "      <td>76</td>\n",
              "      <td>16</td>\n",
              "      <td>47.0</td>\n",
              "      <td>3527500.0</td>\n",
              "      <td>-76279722.0</td>\n",
              "      <td>3.527500</td>\n",
              "      <td>76.279722</td>\n",
              "    </tr>\n",
              "    <tr>\n",
              "      <th>2</th>\n",
              "      <td>2020-04-06</td>\n",
              "      <td>76</td>\n",
              "      <td>Valle del Cauca</td>\n",
              "      <td>520</td>\n",
              "      <td>Palmira</td>\n",
              "      <td>Chachafruto</td>\n",
              "      <td>254</td>\n",
              "      <td>3</td>\n",
              "      <td>31</td>\n",
              "      <td>39.0</td>\n",
              "      <td>76</td>\n",
              "      <td>16</td>\n",
              "      <td>47.0</td>\n",
              "      <td>3527500.0</td>\n",
              "      <td>-76279722.0</td>\n",
              "      <td>3.527500</td>\n",
              "      <td>76.279722</td>\n",
              "    </tr>\n",
              "    <tr>\n",
              "      <th>3</th>\n",
              "      <td>2020-04-06</td>\n",
              "      <td>76</td>\n",
              "      <td>Valle del Cauca</td>\n",
              "      <td>520</td>\n",
              "      <td>Palmira</td>\n",
              "      <td>Lechero</td>\n",
              "      <td>254</td>\n",
              "      <td>3</td>\n",
              "      <td>31</td>\n",
              "      <td>39.0</td>\n",
              "      <td>76</td>\n",
              "      <td>16</td>\n",
              "      <td>47.0</td>\n",
              "      <td>3527500.0</td>\n",
              "      <td>-76279722.0</td>\n",
              "      <td>3.527500</td>\n",
              "      <td>76.279722</td>\n",
              "    </tr>\n",
              "    <tr>\n",
              "      <th>4</th>\n",
              "      <td>2020-06-16</td>\n",
              "      <td>76</td>\n",
              "      <td>Valle del Cauca</td>\n",
              "      <td>520</td>\n",
              "      <td>Palmira</td>\n",
              "      <td>Palma</td>\n",
              "      <td>9</td>\n",
              "      <td>3</td>\n",
              "      <td>31</td>\n",
              "      <td>51.1</td>\n",
              "      <td>76</td>\n",
              "      <td>18</td>\n",
              "      <td>53.0</td>\n",
              "      <td>3530854.0</td>\n",
              "      <td>-76314711.0</td>\n",
              "      <td>3.530861</td>\n",
              "      <td>76.314722</td>\n",
              "    </tr>\n",
              "  </tbody>\n",
              "</table>\n",
              "</div>\n",
              "    <div class=\"colab-df-buttons\">\n",
              "\n",
              "  <div class=\"colab-df-container\">\n",
              "    <button class=\"colab-df-convert\" onclick=\"convertToInteractive('df-f624393b-be85-4508-acc5-f71cf8b7c018')\"\n",
              "            title=\"Convert this dataframe to an interactive table.\"\n",
              "            style=\"display:none;\">\n",
              "\n",
              "  <svg xmlns=\"http://www.w3.org/2000/svg\" height=\"24px\" viewBox=\"0 -960 960 960\">\n",
              "    <path d=\"M120-120v-720h720v720H120Zm60-500h600v-160H180v160Zm220 220h160v-160H400v160Zm0 220h160v-160H400v160ZM180-400h160v-160H180v160Zm440 0h160v-160H620v160ZM180-180h160v-160H180v160Zm440 0h160v-160H620v160Z\"/>\n",
              "  </svg>\n",
              "    </button>\n",
              "\n",
              "  <style>\n",
              "    .colab-df-container {\n",
              "      display:flex;\n",
              "      gap: 12px;\n",
              "    }\n",
              "\n",
              "    .colab-df-convert {\n",
              "      background-color: #E8F0FE;\n",
              "      border: none;\n",
              "      border-radius: 50%;\n",
              "      cursor: pointer;\n",
              "      display: none;\n",
              "      fill: #1967D2;\n",
              "      height: 32px;\n",
              "      padding: 0 0 0 0;\n",
              "      width: 32px;\n",
              "    }\n",
              "\n",
              "    .colab-df-convert:hover {\n",
              "      background-color: #E2EBFA;\n",
              "      box-shadow: 0px 1px 2px rgba(60, 64, 67, 0.3), 0px 1px 3px 1px rgba(60, 64, 67, 0.15);\n",
              "      fill: #174EA6;\n",
              "    }\n",
              "\n",
              "    .colab-df-buttons div {\n",
              "      margin-bottom: 4px;\n",
              "    }\n",
              "\n",
              "    [theme=dark] .colab-df-convert {\n",
              "      background-color: #3B4455;\n",
              "      fill: #D2E3FC;\n",
              "    }\n",
              "\n",
              "    [theme=dark] .colab-df-convert:hover {\n",
              "      background-color: #434B5C;\n",
              "      box-shadow: 0px 1px 3px 1px rgba(0, 0, 0, 0.15);\n",
              "      filter: drop-shadow(0px 1px 2px rgba(0, 0, 0, 0.3));\n",
              "      fill: #FFFFFF;\n",
              "    }\n",
              "  </style>\n",
              "\n",
              "    <script>\n",
              "      const buttonEl =\n",
              "        document.querySelector('#df-f624393b-be85-4508-acc5-f71cf8b7c018 button.colab-df-convert');\n",
              "      buttonEl.style.display =\n",
              "        google.colab.kernel.accessAllowed ? 'block' : 'none';\n",
              "\n",
              "      async function convertToInteractive(key) {\n",
              "        const element = document.querySelector('#df-f624393b-be85-4508-acc5-f71cf8b7c018');\n",
              "        const dataTable =\n",
              "          await google.colab.kernel.invokeFunction('convertToInteractive',\n",
              "                                                    [key], {});\n",
              "        if (!dataTable) return;\n",
              "\n",
              "        const docLinkHtml = 'Like what you see? Visit the ' +\n",
              "          '<a target=\"_blank\" href=https://colab.research.google.com/notebooks/data_table.ipynb>data table notebook</a>'\n",
              "          + ' to learn more about interactive tables.';\n",
              "        element.innerHTML = '';\n",
              "        dataTable['output_type'] = 'display_data';\n",
              "        await google.colab.output.renderOutput(dataTable, element);\n",
              "        const docLink = document.createElement('div');\n",
              "        docLink.innerHTML = docLinkHtml;\n",
              "        element.appendChild(docLink);\n",
              "      }\n",
              "    </script>\n",
              "  </div>\n",
              "\n",
              "\n",
              "<div id=\"df-9f94f00d-ff29-4ac8-8445-4b2c198f7b14\">\n",
              "  <button class=\"colab-df-quickchart\" onclick=\"quickchart('df-9f94f00d-ff29-4ac8-8445-4b2c198f7b14')\"\n",
              "            title=\"Suggest charts\"\n",
              "            style=\"display:none;\">\n",
              "\n",
              "<svg xmlns=\"http://www.w3.org/2000/svg\" height=\"24px\"viewBox=\"0 0 24 24\"\n",
              "     width=\"24px\">\n",
              "    <g>\n",
              "        <path d=\"M19 3H5c-1.1 0-2 .9-2 2v14c0 1.1.9 2 2 2h14c1.1 0 2-.9 2-2V5c0-1.1-.9-2-2-2zM9 17H7v-7h2v7zm4 0h-2V7h2v10zm4 0h-2v-4h2v4z\"/>\n",
              "    </g>\n",
              "</svg>\n",
              "  </button>\n",
              "\n",
              "<style>\n",
              "  .colab-df-quickchart {\n",
              "      --bg-color: #E8F0FE;\n",
              "      --fill-color: #1967D2;\n",
              "      --hover-bg-color: #E2EBFA;\n",
              "      --hover-fill-color: #174EA6;\n",
              "      --disabled-fill-color: #AAA;\n",
              "      --disabled-bg-color: #DDD;\n",
              "  }\n",
              "\n",
              "  [theme=dark] .colab-df-quickchart {\n",
              "      --bg-color: #3B4455;\n",
              "      --fill-color: #D2E3FC;\n",
              "      --hover-bg-color: #434B5C;\n",
              "      --hover-fill-color: #FFFFFF;\n",
              "      --disabled-bg-color: #3B4455;\n",
              "      --disabled-fill-color: #666;\n",
              "  }\n",
              "\n",
              "  .colab-df-quickchart {\n",
              "    background-color: var(--bg-color);\n",
              "    border: none;\n",
              "    border-radius: 50%;\n",
              "    cursor: pointer;\n",
              "    display: none;\n",
              "    fill: var(--fill-color);\n",
              "    height: 32px;\n",
              "    padding: 0;\n",
              "    width: 32px;\n",
              "  }\n",
              "\n",
              "  .colab-df-quickchart:hover {\n",
              "    background-color: var(--hover-bg-color);\n",
              "    box-shadow: 0 1px 2px rgba(60, 64, 67, 0.3), 0 1px 3px 1px rgba(60, 64, 67, 0.15);\n",
              "    fill: var(--button-hover-fill-color);\n",
              "  }\n",
              "\n",
              "  .colab-df-quickchart-complete:disabled,\n",
              "  .colab-df-quickchart-complete:disabled:hover {\n",
              "    background-color: var(--disabled-bg-color);\n",
              "    fill: var(--disabled-fill-color);\n",
              "    box-shadow: none;\n",
              "  }\n",
              "\n",
              "  .colab-df-spinner {\n",
              "    border: 2px solid var(--fill-color);\n",
              "    border-color: transparent;\n",
              "    border-bottom-color: var(--fill-color);\n",
              "    animation:\n",
              "      spin 1s steps(1) infinite;\n",
              "  }\n",
              "\n",
              "  @keyframes spin {\n",
              "    0% {\n",
              "      border-color: transparent;\n",
              "      border-bottom-color: var(--fill-color);\n",
              "      border-left-color: var(--fill-color);\n",
              "    }\n",
              "    20% {\n",
              "      border-color: transparent;\n",
              "      border-left-color: var(--fill-color);\n",
              "      border-top-color: var(--fill-color);\n",
              "    }\n",
              "    30% {\n",
              "      border-color: transparent;\n",
              "      border-left-color: var(--fill-color);\n",
              "      border-top-color: var(--fill-color);\n",
              "      border-right-color: var(--fill-color);\n",
              "    }\n",
              "    40% {\n",
              "      border-color: transparent;\n",
              "      border-right-color: var(--fill-color);\n",
              "      border-top-color: var(--fill-color);\n",
              "    }\n",
              "    60% {\n",
              "      border-color: transparent;\n",
              "      border-right-color: var(--fill-color);\n",
              "    }\n",
              "    80% {\n",
              "      border-color: transparent;\n",
              "      border-right-color: var(--fill-color);\n",
              "      border-bottom-color: var(--fill-color);\n",
              "    }\n",
              "    90% {\n",
              "      border-color: transparent;\n",
              "      border-bottom-color: var(--fill-color);\n",
              "    }\n",
              "  }\n",
              "</style>\n",
              "\n",
              "  <script>\n",
              "    async function quickchart(key) {\n",
              "      const quickchartButtonEl =\n",
              "        document.querySelector('#' + key + ' button');\n",
              "      quickchartButtonEl.disabled = true;  // To prevent multiple clicks.\n",
              "      quickchartButtonEl.classList.add('colab-df-spinner');\n",
              "      try {\n",
              "        const charts = await google.colab.kernel.invokeFunction(\n",
              "            'suggestCharts', [key], {});\n",
              "      } catch (error) {\n",
              "        console.error('Error during call to suggestCharts:', error);\n",
              "      }\n",
              "      quickchartButtonEl.classList.remove('colab-df-spinner');\n",
              "      quickchartButtonEl.classList.add('colab-df-quickchart-complete');\n",
              "    }\n",
              "    (() => {\n",
              "      let quickchartButtonEl =\n",
              "        document.querySelector('#df-9f94f00d-ff29-4ac8-8445-4b2c198f7b14 button');\n",
              "      quickchartButtonEl.style.display =\n",
              "        google.colab.kernel.accessAllowed ? 'block' : 'none';\n",
              "    })();\n",
              "  </script>\n",
              "</div>\n",
              "    </div>\n",
              "  </div>\n"
            ],
            "application/vnd.google.colaboratory.intrinsic+json": {
              "type": "dataframe",
              "variable_name": "siembras",
              "summary": "{\n  \"name\": \"siembras\",\n  \"rows\": 109,\n  \"fields\": [\n    {\n      \"column\": \"Vigencia\",\n      \"properties\": {\n        \"dtype\": \"date\",\n        \"min\": \"2020-02-29 00:00:00\",\n        \"max\": \"2021-11-17 00:00:00\",\n        \"num_unique_values\": 21,\n        \"samples\": [\n          \"2020-04-06 00:00:00\",\n          \"2020-03-12 00:00:00\",\n          \"2021-09-17 00:00:00\"\n        ],\n        \"semantic_type\": \"\",\n        \"description\": \"\"\n      }\n    },\n    {\n      \"column\": \"Codigo DANE Departamento\",\n      \"properties\": {\n        \"dtype\": \"number\",\n        \"std\": 0,\n        \"min\": 76,\n        \"max\": 76,\n        \"num_unique_values\": 1,\n        \"samples\": [\n          76\n        ],\n        \"semantic_type\": \"\",\n        \"description\": \"\"\n      }\n    },\n    {\n      \"column\": \"Departamento\",\n      \"properties\": {\n        \"dtype\": \"category\",\n        \"num_unique_values\": 1,\n        \"samples\": [\n          \"Valle del Cauca\"\n        ],\n        \"semantic_type\": \"\",\n        \"description\": \"\"\n      }\n    },\n    {\n      \"column\": \"Codigo DANE Municipio\",\n      \"properties\": {\n        \"dtype\": \"number\",\n        \"std\": 0,\n        \"min\": 520,\n        \"max\": 520,\n        \"num_unique_values\": 1,\n        \"samples\": [\n          520\n        ],\n        \"semantic_type\": \"\",\n        \"description\": \"\"\n      }\n    },\n    {\n      \"column\": \"Municipio\",\n      \"properties\": {\n        \"dtype\": \"category\",\n        \"num_unique_values\": 1,\n        \"samples\": [\n          \"Palmira\"\n        ],\n        \"semantic_type\": \"\",\n        \"description\": \"\"\n      }\n    },\n    {\n      \"column\": \"Especie plantada\",\n      \"properties\": {\n        \"dtype\": \"string\",\n        \"num_unique_values\": 66,\n        \"samples\": [\n          \"Thevetia\"\n        ],\n        \"semantic_type\": \"\",\n        \"description\": \"\"\n      }\n    },\n    {\n      \"column\": \"Cantidad Arboles\",\n      \"properties\": {\n        \"dtype\": \"number\",\n        \"std\": 52,\n        \"min\": 1,\n        \"max\": 254,\n        \"num_unique_values\": 29,\n        \"samples\": [\n          23\n        ],\n        \"semantic_type\": \"\",\n        \"description\": \"\"\n      }\n    },\n    {\n      \"column\": \"Latitud Grados \\u00b0\",\n      \"properties\": {\n        \"dtype\": \"number\",\n        \"std\": 0,\n        \"min\": 3,\n        \"max\": 3,\n        \"num_unique_values\": 1,\n        \"samples\": [\n          3\n        ],\n        \"semantic_type\": \"\",\n        \"description\": \"\"\n      }\n    },\n    {\n      \"column\": \"Latitud Minutos '\",\n      \"properties\": {\n        \"dtype\": \"number\",\n        \"std\": 1,\n        \"min\": 29,\n        \"max\": 36,\n        \"num_unique_values\": 6,\n        \"samples\": [\n          31\n        ],\n        \"semantic_type\": \"\",\n        \"description\": \"\"\n      }\n    },\n    {\n      \"column\": \"Latitud Segundos \\\"\",\n      \"properties\": {\n        \"dtype\": \"number\",\n        \"std\": 16.114690085332146,\n        \"min\": 0.755099856,\n        \"max\": 53.27196797,\n        \"num_unique_values\": 51,\n        \"samples\": [\n          18.64320043\n        ],\n        \"semantic_type\": \"\",\n        \"description\": \"\"\n      }\n    },\n    {\n      \"column\": \"Longitud Grados \\u00b0\",\n      \"properties\": {\n        \"dtype\": \"number\",\n        \"std\": 70,\n        \"min\": -76,\n        \"max\": 76,\n        \"num_unique_values\": 2,\n        \"samples\": [\n          -76\n        ],\n        \"semantic_type\": \"\",\n        \"description\": \"\"\n      }\n    },\n    {\n      \"column\": \"Longitud Minutos '\",\n      \"properties\": {\n        \"dtype\": \"number\",\n        \"std\": 1,\n        \"min\": 13,\n        \"max\": 23,\n        \"num_unique_values\": 5,\n        \"samples\": [\n          18\n        ],\n        \"semantic_type\": \"\",\n        \"description\": \"\"\n      }\n    },\n    {\n      \"column\": \"Longitud Segundos \\\"\",\n      \"properties\": {\n        \"dtype\": \"number\",\n        \"std\": 15.78897562027918,\n        \"min\": 2.1,\n        \"max\": 59.599416,\n        \"num_unique_values\": 51,\n        \"samples\": [\n          40.656\n        ],\n        \"semantic_type\": \"\",\n        \"description\": \"\"\n      }\n    },\n    {\n      \"column\": \"Decimales Latitud\",\n      \"properties\": {\n        \"dtype\": \"number\",\n        \"std\": 18410.71147628638,\n        \"min\": 3505106.0,\n        \"max\": 3614709.0,\n        \"num_unique_values\": 17,\n        \"samples\": [\n          3527500.0\n        ],\n        \"semantic_type\": \"\",\n        \"description\": \"\"\n      }\n    },\n    {\n      \"column\": \"Decimales Longitud\",\n      \"properties\": {\n        \"dtype\": \"number\",\n        \"std\": 15487.88205304421,\n        \"min\": -76386011.0,\n        \"max\": -76277222.0,\n        \"num_unique_values\": 17,\n        \"samples\": [\n          -76279722.0\n        ],\n        \"semantic_type\": \"\",\n        \"description\": \"\"\n      }\n    },\n    {\n      \"column\": \"Latitud\",\n      \"properties\": {\n        \"dtype\": \"number\",\n        \"std\": 0.018638117496605926,\n        \"min\": 3.493043320111111,\n        \"max\": 3.6147222222222224,\n        \"num_unique_values\": 51,\n        \"samples\": [\n          3.5385120001194443\n        ],\n        \"semantic_type\": \"\",\n        \"description\": \"\"\n      }\n    },\n    {\n      \"column\": \"Longitud\",\n      \"properties\": {\n        \"dtype\": \"number\",\n        \"std\": 70.74909590348489,\n        \"min\": -75.77681521,\n        \"max\": 76.38600000000001,\n        \"num_unique_values\": 51,\n        \"samples\": [\n          -75.72204\n        ],\n        \"semantic_type\": \"\",\n        \"description\": \"\"\n      }\n    }\n  ]\n}"
            }
          },
          "metadata": {},
          "execution_count": 49
        }
      ]
    },
    {
      "cell_type": "code",
      "source": [
        "import matplotlib.pyplot as plt\n",
        "\n",
        "plt.figure(figsize=(10, 8))\n",
        "\n",
        "plt.scatter(siembras['Longitud Grados °'] + siembras['Longitud Minutos \\''] / 60 + siembras['Longitud Segundos \\\"'] / 3600 + siembras['Decimales Longitud'] / 36000000,\n",
        "            siembras['Latitud Grados °'] + siembras['Latitud Minutos \\''] / 60 + siembras['Latitud Segundos \\\"'] / 3600 + siembras['Decimales Latitud'] / 36000000,\n",
        "            s=siembras['Cantidad Arboles'], alpha=0.5)\n",
        "\n",
        "plt.title('Mapa de Distribución de Árboles')\n",
        "plt.xlabel('Longitud')\n",
        "plt.ylabel('Latitud')\n",
        "plt.grid(True)\n",
        "\n",
        "plt.show()"
      ],
      "metadata": {
        "id": "pv36_8beIuo1",
        "colab": {
          "base_uri": "https://localhost:8080/",
          "height": 535
        },
        "outputId": "002fbfc6-3d18-4c27-8040-3e2cb247f4c7"
      },
      "execution_count": null,
      "outputs": [
        {
          "output_type": "display_data",
          "data": {
            "text/plain": [
              "<Figure size 1000x800 with 1 Axes>"
            ],
            "image/png": "[encoded data removed]"
          },
          "metadata": {}
        }
      ]
    },
    {
      "cell_type": "code",
      "source": [
        "pip install folium"
      ],
      "metadata": {
        "id": "GcRJGTvRm5Ce",
        "colab": {
          "base_uri": "https://localhost:8080/"
        },
        "outputId": "0c2b26f1-42ca-45e2-bdea-6b6a41c12381"
      },
      "execution_count": null,
      "outputs": [
        {
          "output_type": "stream",
          "name": "stdout",
          "text": [
            "Requirement already satisfied: folium in /usr/local/lib/python3.10/dist-packages (0.14.0)\n",
            "Requirement already satisfied: branca>=0.6.0 in /usr/local/lib/python3.10/dist-packages (from folium) (0.7.1)\n",
            "Requirement already satisfied: jinja2>=2.9 in /usr/local/lib/python3.10/dist-packages (from folium) (3.1.3)\n",
            "Requirement already satisfied: numpy in /usr/local/lib/python3.10/dist-packages (from folium) (1.25.2)\n",
            "Requirement already satisfied: requests in /usr/local/lib/python3.10/dist-packages (from folium) (2.31.0)\n",
            "Requirement already satisfied: MarkupSafe>=2.0 in /usr/local/lib/python3.10/dist-packages (from jinja2>=2.9->folium) (2.1.5)\n",
            "Requirement already satisfied: charset-normalizer<4,>=2 in /usr/local/lib/python3.10/dist-packages (from requests->folium) (3.3.2)\n",
            "Requirement already satisfied: idna<4,>=2.5 in /usr/local/lib/python3.10/dist-packages (from requests->folium) (3.6)\n",
            "Requirement already satisfied: urllib3<3,>=1.21.1 in /usr/local/lib/python3.10/dist-packages (from requests->folium) (2.0.7)\n",
            "Requirement already satisfied: certifi>=2017.4.17 in /usr/local/lib/python3.10/dist-packages (from requests->folium) (2024.2.2)\n"
          ]
        }
      ]
    },
    {
      "cell_type": "code",
      "source": [
        "siembrasColombia = siembras[siembras['Longitud']<0]\n",
        "siembrasIndia = siembras[siembras['Longitud']>0]\n",
        "print(siembrasColombia.shape)\n",
        "print(siembrasIndia.shape)"
      ],
      "metadata": {
        "id": "gnkPnQVS7xE_",
        "colab": {
          "base_uri": "https://localhost:8080/"
        },
        "outputId": "86f844b7-b53b-491e-a0c4-fcc6b7926bce"
      },
      "execution_count": null,
      "outputs": [
        {
          "output_type": "stream",
          "name": "stdout",
          "text": [
            "(34, 17)\n",
            "(75, 17)\n"
          ]
        }
      ]
    },
    {
      "cell_type": "code",
      "source": [
        "import folium\n",
        "\n",
        "mymap = folium.Map(location=[siembrasColombia['Latitud'].mean(), siembrasColombia['Longitud'].mean()], zoom_start=12)\n",
        "\n",
        "for idx, row in siembrasColombia.iterrows():\n",
        "    folium.CircleMarker(location=[row['Latitud'], row['Longitud']],\n",
        "                        radius=row['Cantidad Arboles'] / 10,\n",
        "\n",
        "                        popup=row['Especie plantada'],\n",
        "                        fill=True,\n",
        "                        color='blue').add_to(mymap)\n",
        "\n",
        "mymap"
      ],
      "metadata": {
        "id": "GdkxaIOe6A80",
        "colab": {
          "base_uri": "https://localhost:8080/",
          "height": 394
        },
        "outputId": "5e9b5089-e1f3-47bf-f171-3df8ba4ecb1f"
      },
      "execution_count": null,
      "outputs": [
        {
          "output_type": "execute_result",
          "data": {
            "text/plain": [
              "<folium.folium.Map at 0x7e66cb891120>"
            ],
            "text/html": [
              "<div style=\"width:100%;\"><div style=\"position:relative;width:100%;height:0;padding-bottom:60%;\"><span style=\"color:#565656\">Make this Notebook Trusted to load map: File -> Trust Notebook</span><iframe srcdoc=\"&lt;!DOCTYPE html&gt;\n",
              "&lt;html&gt;\n",
              "&lt;head&gt;\n",
              "    \n",
              "    &lt;meta http-equiv=&quot;content-type&quot; content=&quot;text/html; charset=UTF-8&quot; /&gt;\n",
              "    \n",
              "        &lt;script&gt;\n",
              "            L_NO_TOUCH = false;\n",
              "            L_DISABLE_3D = false;\n",
              "        &lt;/script&gt;\n",
              "    \n",
              "    &lt;style&gt;html, body {width: 100%;height: 100%;margin: 0;padding: 0;}&lt;/style&gt;\n",
              "    &lt;style&gt;#map {position:absolute;top:0;bottom:0;right:0;left:0;}&lt;/style&gt;\n",
              "    &lt;script src=&quot;https://cdn.jsdelivr.net/npm/leaflet@1.9.3/dist/leaflet.js&quot;&gt;&lt;/script&gt;\n",
              "    &lt;script src=&quot;https://code.jquery.com/jquery-1.12.4.min.js&quot;&gt;&lt;/script&gt;\n",
              "    &lt;script src=&quot;https://cdn.jsdelivr.net/npm/bootstrap@5.2.2/dist/js/bootstrap.bundle.min.js&quot;&gt;&lt;/script&gt;\n",
              "    &lt;script src=&quot;https://cdnjs.cloudflare.com/ajax/libs/Leaflet.awesome-markers/2.0.2/leaflet.awesome-markers.js&quot;&gt;&lt;/script&gt;\n",
              "    &lt;link rel=&quot;stylesheet&quot; href=&quot;https://cdn.jsdelivr.net/npm/leaflet@1.9.3/dist/leaflet.css&quot;/&gt;\n",
              "    &lt;link rel=&quot;stylesheet&quot; href=&quot;https://cdn.jsdelivr.net/npm/bootstrap@5.2.2/dist/css/bootstrap.min.css&quot;/&gt;\n",
              "    &lt;link rel=&quot;stylesheet&quot; href=&quot;https://netdna.bootstrapcdn.com/bootstrap/3.0.0/css/bootstrap.min.css&quot;/&gt;\n",
              "    &lt;link rel=&quot;stylesheet&quot; href=&quot;https://cdn.jsdelivr.net/npm/@fortawesome/fontawesome-free@6.2.0/css/all.min.css&quot;/&gt;\n",
              "    &lt;link rel=&quot;stylesheet&quot; href=&quot;https://cdnjs.cloudflare.com/ajax/libs/Leaflet.awesome-markers/2.0.2/leaflet.awesome-markers.css&quot;/&gt;\n",
              "    &lt;link rel=&quot;stylesheet&quot; href=&quot;https://cdn.jsdelivr.net/gh/python-visualization/folium/folium/templates/leaflet.awesome.rotate.min.css&quot;/&gt;\n",
              "    \n",
              "            &lt;meta name=&quot;viewport&quot; content=&quot;width=device-width,\n",
              "                initial-scale=1.0, maximum-scale=1.0, user-scalable=no&quot; /&gt;\n",
              "            &lt;style&gt;\n",
              "                #map_edee8f9ae349edd4bef9e142080815f5 {\n",
              "                    position: relative;\n",
              "                    width: 100.0%;\n",
              "                    height: 100.0%;\n",
              "                    left: 0.0%;\n",
              "                    top: 0.0%;\n",
              "                }\n",
              "                .leaflet-container { font-size: 1rem; }\n",
              "            &lt;/style&gt;\n",
              "        \n",
              "&lt;/head&gt;\n",
              "&lt;body&gt;\n",
              "    \n",
              "    \n",
              "            &lt;div class=&quot;folium-map&quot; id=&quot;map_edee8f9ae349edd4bef9e142080815f5&quot; &gt;&lt;/div&gt;\n",
              "        \n",
              "&lt;/body&gt;\n",
              "&lt;script&gt;\n",
              "    \n",
              "    \n",
              "            var map_edee8f9ae349edd4bef9e142080815f5 = L.map(\n",
              "                &quot;map_edee8f9ae349edd4bef9e142080815f5&quot;,\n",
              "                {\n",
              "                    center: [3.5367738969410127, -75.71198144092352],\n",
              "                    crs: L.CRS.EPSG3857,\n",
              "                    zoom: 12,\n",
              "                    zoomControl: true,\n",
              "                    preferCanvas: false,\n",
              "                }\n",
              "            );\n",
              "\n",
              "            \n",
              "\n",
              "        \n",
              "    \n",
              "            var tile_layer_8d94f9a0f500ec4ef91a798991c341fe = L.tileLayer(\n",
              "                &quot;https://{s}.tile.openstreetmap.org/{z}/{x}/{y}.png&quot;,\n",
              "                {&quot;attribution&quot;: &quot;Data by \\u0026copy; \\u003ca target=\\&quot;_blank\\&quot; href=\\&quot;http://openstreetmap.org\\&quot;\\u003eOpenStreetMap\\u003c/a\\u003e, under \\u003ca target=\\&quot;_blank\\&quot; href=\\&quot;http://www.openstreetmap.org/copyright\\&quot;\\u003eODbL\\u003c/a\\u003e.&quot;, &quot;detectRetina&quot;: false, &quot;maxNativeZoom&quot;: 18, &quot;maxZoom&quot;: 18, &quot;minZoom&quot;: 0, &quot;noWrap&quot;: false, &quot;opacity&quot;: 1, &quot;subdomains&quot;: &quot;abc&quot;, &quot;tms&quot;: false}\n",
              "            ).addTo(map_edee8f9ae349edd4bef9e142080815f5);\n",
              "        \n",
              "    \n",
              "            var circle_marker_209c2fd32ae1890d9d3d8c529ad31eb0 = L.circleMarker(\n",
              "                [3.5512796072999997, -75.7007146542],\n",
              "                {&quot;bubblingMouseEvents&quot;: true, &quot;color&quot;: &quot;blue&quot;, &quot;dashArray&quot;: null, &quot;dashOffset&quot;: null, &quot;fill&quot;: true, &quot;fillColor&quot;: &quot;blue&quot;, &quot;fillOpacity&quot;: 0.2, &quot;fillRule&quot;: &quot;evenodd&quot;, &quot;lineCap&quot;: &quot;round&quot;, &quot;lineJoin&quot;: &quot;round&quot;, &quot;opacity&quot;: 1.0, &quot;radius&quot;: 9.0, &quot;stroke&quot;: true, &quot;weight&quot;: 3}\n",
              "            ).addTo(map_edee8f9ae349edd4bef9e142080815f5);\n",
              "        \n",
              "    \n",
              "        var popup_859b09d05180bab810e83e68a2ba35c3 = L.popup({&quot;maxWidth&quot;: &quot;100%&quot;});\n",
              "\n",
              "        \n",
              "            \n",
              "                var html_42725b485f82a5244dc2a2f3ba3644e8 = $(`&lt;div id=&quot;html_42725b485f82a5244dc2a2f3ba3644e8&quot; style=&quot;width: 100.0%; height: 100.0%;&quot;&gt;Guayacan&lt;/div&gt;`)[0];\n",
              "                popup_859b09d05180bab810e83e68a2ba35c3.setContent(html_42725b485f82a5244dc2a2f3ba3644e8);\n",
              "            \n",
              "        \n",
              "\n",
              "        circle_marker_209c2fd32ae1890d9d3d8c529ad31eb0.bindPopup(popup_859b09d05180bab810e83e68a2ba35c3)\n",
              "        ;\n",
              "\n",
              "        \n",
              "    \n",
              "    \n",
              "            var circle_marker_37164d6208b6ac842796e178625008ae = L.circleMarker(\n",
              "                [3.55070631715, -75.6952180328],\n",
              "                {&quot;bubblingMouseEvents&quot;: true, &quot;color&quot;: &quot;blue&quot;, &quot;dashArray&quot;: null, &quot;dashOffset&quot;: null, &quot;fill&quot;: true, &quot;fillColor&quot;: &quot;blue&quot;, &quot;fillOpacity&quot;: 0.2, &quot;fillRule&quot;: &quot;evenodd&quot;, &quot;lineCap&quot;: &quot;round&quot;, &quot;lineJoin&quot;: &quot;round&quot;, &quot;opacity&quot;: 1.0, &quot;radius&quot;: 0.6, &quot;stroke&quot;: true, &quot;weight&quot;: 3}\n",
              "            ).addTo(map_edee8f9ae349edd4bef9e142080815f5);\n",
              "        \n",
              "    \n",
              "        var popup_4c78c8c5d4e8447f954427b3e1a20ae0 = L.popup({&quot;maxWidth&quot;: &quot;100%&quot;});\n",
              "\n",
              "        \n",
              "            \n",
              "                var html_386fa9808ff89b81f6d4812453d95c95 = $(`&lt;div id=&quot;html_386fa9808ff89b81f6d4812453d95c95&quot; style=&quot;width: 100.0%; height: 100.0%;&quot;&gt;Clavellinos&lt;/div&gt;`)[0];\n",
              "                popup_4c78c8c5d4e8447f954427b3e1a20ae0.setContent(html_386fa9808ff89b81f6d4812453d95c95);\n",
              "            \n",
              "        \n",
              "\n",
              "        circle_marker_37164d6208b6ac842796e178625008ae.bindPopup(popup_4c78c8c5d4e8447f954427b3e1a20ae0)\n",
              "        ;\n",
              "\n",
              "        \n",
              "    \n",
              "    \n",
              "            var circle_marker_cbd1dafda37d08b8f68792d8415ff30f = L.circleMarker(\n",
              "                [3.5509462816, -75.6973646669],\n",
              "                {&quot;bubblingMouseEvents&quot;: true, &quot;color&quot;: &quot;blue&quot;, &quot;dashArray&quot;: null, &quot;dashOffset&quot;: null, &quot;fill&quot;: true, &quot;fillColor&quot;: &quot;blue&quot;, &quot;fillOpacity&quot;: 0.2, &quot;fillRule&quot;: &quot;evenodd&quot;, &quot;lineCap&quot;: &quot;round&quot;, &quot;lineJoin&quot;: &quot;round&quot;, &quot;opacity&quot;: 1.0, &quot;radius&quot;: 2.5, &quot;stroke&quot;: true, &quot;weight&quot;: 3}\n",
              "            ).addTo(map_edee8f9ae349edd4bef9e142080815f5);\n",
              "        \n",
              "    \n",
              "        var popup_f6cd274af9245c895a1dad0ff109ba19 = L.popup({&quot;maxWidth&quot;: &quot;100%&quot;});\n",
              "\n",
              "        \n",
              "            \n",
              "                var html_e89c8e8a6fcb0ba84799ebc2b81e5989 = $(`&lt;div id=&quot;html_e89c8e8a6fcb0ba84799ebc2b81e5989&quot; style=&quot;width: 100.0%; height: 100.0%;&quot;&gt;Habano&lt;/div&gt;`)[0];\n",
              "                popup_f6cd274af9245c895a1dad0ff109ba19.setContent(html_e89c8e8a6fcb0ba84799ebc2b81e5989);\n",
              "            \n",
              "        \n",
              "\n",
              "        circle_marker_cbd1dafda37d08b8f68792d8415ff30f.bindPopup(popup_f6cd274af9245c895a1dad0ff109ba19)\n",
              "        ;\n",
              "\n",
              "        \n",
              "    \n",
              "    \n",
              "            var circle_marker_cd6da739d62feff79ab973322fe1c47b = L.circleMarker(\n",
              "                [3.55067315737, -75.6964663828],\n",
              "                {&quot;bubblingMouseEvents&quot;: true, &quot;color&quot;: &quot;blue&quot;, &quot;dashArray&quot;: null, &quot;dashOffset&quot;: null, &quot;fill&quot;: true, &quot;fillColor&quot;: &quot;blue&quot;, &quot;fillOpacity&quot;: 0.2, &quot;fillRule&quot;: &quot;evenodd&quot;, &quot;lineCap&quot;: &quot;round&quot;, &quot;lineJoin&quot;: &quot;round&quot;, &quot;opacity&quot;: 1.0, &quot;radius&quot;: 3.0, &quot;stroke&quot;: true, &quot;weight&quot;: 3}\n",
              "            ).addTo(map_edee8f9ae349edd4bef9e142080815f5);\n",
              "        \n",
              "    \n",
              "        var popup_caf994b4a78587b7815583c640348b90 = L.popup({&quot;maxWidth&quot;: &quot;100%&quot;});\n",
              "\n",
              "        \n",
              "            \n",
              "                var html_4dedbdd931948b20bf39882cc5bc024f = $(`&lt;div id=&quot;html_4dedbdd931948b20bf39882cc5bc024f&quot; style=&quot;width: 100.0%; height: 100.0%;&quot;&gt;Jupiter&lt;/div&gt;`)[0];\n",
              "                popup_caf994b4a78587b7815583c640348b90.setContent(html_4dedbdd931948b20bf39882cc5bc024f);\n",
              "            \n",
              "        \n",
              "\n",
              "        circle_marker_cd6da739d62feff79ab973322fe1c47b.bindPopup(popup_caf994b4a78587b7815583c640348b90)\n",
              "        ;\n",
              "\n",
              "        \n",
              "    \n",
              "    \n",
              "            var circle_marker_6d4670eb01f7243d1345f6c52e61f78c = L.circleMarker(\n",
              "                [3.5509512807999997, -75.6974093885],\n",
              "                {&quot;bubblingMouseEvents&quot;: true, &quot;color&quot;: &quot;blue&quot;, &quot;dashArray&quot;: null, &quot;dashOffset&quot;: null, &quot;fill&quot;: true, &quot;fillColor&quot;: &quot;blue&quot;, &quot;fillOpacity&quot;: 0.2, &quot;fillRule&quot;: &quot;evenodd&quot;, &quot;lineCap&quot;: &quot;round&quot;, &quot;lineJoin&quot;: &quot;round&quot;, &quot;opacity&quot;: 1.0, &quot;radius&quot;: 2.5, &quot;stroke&quot;: true, &quot;weight&quot;: 3}\n",
              "            ).addTo(map_edee8f9ae349edd4bef9e142080815f5);\n",
              "        \n",
              "    \n",
              "        var popup_036f5484fef4809358d8db216daaa1f0 = L.popup({&quot;maxWidth&quot;: &quot;100%&quot;});\n",
              "\n",
              "        \n",
              "            \n",
              "                var html_3b1e4246d7994e9d6b35366ed53d7d91 = $(`&lt;div id=&quot;html_3b1e4246d7994e9d6b35366ed53d7d91&quot; style=&quot;width: 100.0%; height: 100.0%;&quot;&gt;Mussaenda&lt;/div&gt;`)[0];\n",
              "                popup_036f5484fef4809358d8db216daaa1f0.setContent(html_3b1e4246d7994e9d6b35366ed53d7d91);\n",
              "            \n",
              "        \n",
              "\n",
              "        circle_marker_6d4670eb01f7243d1345f6c52e61f78c.bindPopup(popup_036f5484fef4809358d8db216daaa1f0)\n",
              "        ;\n",
              "\n",
              "        \n",
              "    \n",
              "    \n",
              "            var circle_marker_cf826774584cf9a9b4373f1c64e1de48 = L.circleMarker(\n",
              "                [3.55110584012, -75.69545438],\n",
              "                {&quot;bubblingMouseEvents&quot;: true, &quot;color&quot;: &quot;blue&quot;, &quot;dashArray&quot;: null, &quot;dashOffset&quot;: null, &quot;fill&quot;: true, &quot;fillColor&quot;: &quot;blue&quot;, &quot;fillOpacity&quot;: 0.2, &quot;fillRule&quot;: &quot;evenodd&quot;, &quot;lineCap&quot;: &quot;round&quot;, &quot;lineJoin&quot;: &quot;round&quot;, &quot;opacity&quot;: 1.0, &quot;radius&quot;: 1.0, &quot;stroke&quot;: true, &quot;weight&quot;: 3}\n",
              "            ).addTo(map_edee8f9ae349edd4bef9e142080815f5);\n",
              "        \n",
              "    \n",
              "        var popup_ff7ff75f82d8fac823a15d43d48df2f3 = L.popup({&quot;maxWidth&quot;: &quot;100%&quot;});\n",
              "\n",
              "        \n",
              "            \n",
              "                var html_4276387b97c9fb7cd131be2014a84364 = $(`&lt;div id=&quot;html_4276387b97c9fb7cd131be2014a84364&quot; style=&quot;width: 100.0%; height: 100.0%;&quot;&gt;Palma bismarckia&lt;/div&gt;`)[0];\n",
              "                popup_ff7ff75f82d8fac823a15d43d48df2f3.setContent(html_4276387b97c9fb7cd131be2014a84364);\n",
              "            \n",
              "        \n",
              "\n",
              "        circle_marker_cf826774584cf9a9b4373f1c64e1de48.bindPopup(popup_ff7ff75f82d8fac823a15d43d48df2f3)\n",
              "        ;\n",
              "\n",
              "        \n",
              "    \n",
              "    \n",
              "            var circle_marker_8353791d42211aea457dc138a8f3a7de = L.circleMarker(\n",
              "                [3.55064519369, -75.6962159387],\n",
              "                {&quot;bubblingMouseEvents&quot;: true, &quot;color&quot;: &quot;blue&quot;, &quot;dashArray&quot;: null, &quot;dashOffset&quot;: null, &quot;fill&quot;: true, &quot;fillColor&quot;: &quot;blue&quot;, &quot;fillOpacity&quot;: 0.2, &quot;fillRule&quot;: &quot;evenodd&quot;, &quot;lineCap&quot;: &quot;round&quot;, &quot;lineJoin&quot;: &quot;round&quot;, &quot;opacity&quot;: 1.0, &quot;radius&quot;: 3.2, &quot;stroke&quot;: true, &quot;weight&quot;: 3}\n",
              "            ).addTo(map_edee8f9ae349edd4bef9e142080815f5);\n",
              "        \n",
              "    \n",
              "        var popup_605dc460fa49d3330deffac86503bf7c = L.popup({&quot;maxWidth&quot;: &quot;100%&quot;});\n",
              "\n",
              "        \n",
              "            \n",
              "                var html_4946ebb5159ec822fff75713f4e54a45 = $(`&lt;div id=&quot;html_4946ebb5159ec822fff75713f4e54a45&quot; style=&quot;width: 100.0%; height: 100.0%;&quot;&gt;Palma Manila&lt;/div&gt;`)[0];\n",
              "                popup_605dc460fa49d3330deffac86503bf7c.setContent(html_4946ebb5159ec822fff75713f4e54a45);\n",
              "            \n",
              "        \n",
              "\n",
              "        circle_marker_8353791d42211aea457dc138a8f3a7de.bindPopup(popup_605dc460fa49d3330deffac86503bf7c)\n",
              "        ;\n",
              "\n",
              "        \n",
              "    \n",
              "    \n",
              "            var circle_marker_9e20fbb0f084a34543a0a00435014b15 = L.circleMarker(\n",
              "                [3.5506531833199997, -75.6962874941],\n",
              "                {&quot;bubblingMouseEvents&quot;: true, &quot;color&quot;: &quot;blue&quot;, &quot;dashArray&quot;: null, &quot;dashOffset&quot;: null, &quot;fill&quot;: true, &quot;fillColor&quot;: &quot;blue&quot;, &quot;fillOpacity&quot;: 0.2, &quot;fillRule&quot;: &quot;evenodd&quot;, &quot;lineCap&quot;: &quot;round&quot;, &quot;lineJoin&quot;: &quot;round&quot;, &quot;opacity&quot;: 1.0, &quot;radius&quot;: 3.1, &quot;stroke&quot;: true, &quot;weight&quot;: 3}\n",
              "            ).addTo(map_edee8f9ae349edd4bef9e142080815f5);\n",
              "        \n",
              "    \n",
              "        var popup_39ca131ef1d594ab511eeba19504347b = L.popup({&quot;maxWidth&quot;: &quot;100%&quot;});\n",
              "\n",
              "        \n",
              "            \n",
              "                var html_a23292ab0e8ce61354669831c72e8991 = $(`&lt;div id=&quot;html_a23292ab0e8ce61354669831c72e8991&quot; style=&quot;width: 100.0%; height: 100.0%;&quot;&gt;Palma Panameña&lt;/div&gt;`)[0];\n",
              "                popup_39ca131ef1d594ab511eeba19504347b.setContent(html_a23292ab0e8ce61354669831c72e8991);\n",
              "            \n",
              "        \n",
              "\n",
              "        circle_marker_9e20fbb0f084a34543a0a00435014b15.bindPopup(popup_39ca131ef1d594ab511eeba19504347b)\n",
              "        ;\n",
              "\n",
              "        \n",
              "    \n",
              "    \n",
              "            var circle_marker_6608e21e9925b5b0a3d3e3214fa77d2f = L.circleMarker(\n",
              "                [3.55066117294, -75.6963590496],\n",
              "                {&quot;bubblingMouseEvents&quot;: true, &quot;color&quot;: &quot;blue&quot;, &quot;dashArray&quot;: null, &quot;dashOffset&quot;: null, &quot;fill&quot;: true, &quot;fillColor&quot;: &quot;blue&quot;, &quot;fillOpacity&quot;: 0.2, &quot;fillRule&quot;: &quot;evenodd&quot;, &quot;lineCap&quot;: &quot;round&quot;, &quot;lineJoin&quot;: &quot;round&quot;, &quot;opacity&quot;: 1.0, &quot;radius&quot;: 3.1, &quot;stroke&quot;: true, &quot;weight&quot;: 3}\n",
              "            ).addTo(map_edee8f9ae349edd4bef9e142080815f5);\n",
              "        \n",
              "    \n",
              "        var popup_50459d1b54c2abdc403b733855263282 = L.popup({&quot;maxWidth&quot;: &quot;100%&quot;});\n",
              "\n",
              "        \n",
              "            \n",
              "                var html_32f9b698e84b9c55bc2dddff562ddca6 = $(`&lt;div id=&quot;html_32f9b698e84b9c55bc2dddff562ddca6&quot; style=&quot;width: 100.0%; height: 100.0%;&quot;&gt;Palma Rabo de Zorro&lt;/div&gt;`)[0];\n",
              "                popup_50459d1b54c2abdc403b733855263282.setContent(html_32f9b698e84b9c55bc2dddff562ddca6);\n",
              "            \n",
              "        \n",
              "\n",
              "        circle_marker_6608e21e9925b5b0a3d3e3214fa77d2f.bindPopup(popup_50459d1b54c2abdc403b733855263282)\n",
              "        ;\n",
              "\n",
              "        \n",
              "    \n",
              "    \n",
              "            var circle_marker_ce44a4d49a3b7df8517ad64b141bd7d9 = L.circleMarker(\n",
              "                [3.55140106626, -75.7007062398],\n",
              "                {&quot;bubblingMouseEvents&quot;: true, &quot;color&quot;: &quot;blue&quot;, &quot;dashArray&quot;: null, &quot;dashOffset&quot;: null, &quot;fill&quot;: true, &quot;fillColor&quot;: &quot;blue&quot;, &quot;fillOpacity&quot;: 0.2, &quot;fillRule&quot;: &quot;evenodd&quot;, &quot;lineCap&quot;: &quot;round&quot;, &quot;lineJoin&quot;: &quot;round&quot;, &quot;opacity&quot;: 1.0, &quot;radius&quot;: 14.4, &quot;stroke&quot;: true, &quot;weight&quot;: 3}\n",
              "            ).addTo(map_edee8f9ae349edd4bef9e142080815f5);\n",
              "        \n",
              "    \n",
              "        var popup_4eb9789ea09f4ed0eddd505c814dfe25 = L.popup({&quot;maxWidth&quot;: &quot;100%&quot;});\n",
              "\n",
              "        \n",
              "            \n",
              "                var html_afef9f397951fba0ad2cf445a17ba399 = $(`&lt;div id=&quot;html_afef9f397951fba0ad2cf445a17ba399&quot; style=&quot;width: 100.0%; height: 100.0%;&quot;&gt;Palma real cubana&lt;/div&gt;`)[0];\n",
              "                popup_4eb9789ea09f4ed0eddd505c814dfe25.setContent(html_afef9f397951fba0ad2cf445a17ba399);\n",
              "            \n",
              "        \n",
              "\n",
              "        circle_marker_ce44a4d49a3b7df8517ad64b141bd7d9.bindPopup(popup_4eb9789ea09f4ed0eddd505c814dfe25)\n",
              "        ;\n",
              "\n",
              "        \n",
              "    \n",
              "    \n",
              "            var circle_marker_5f37d176b6f4f589920e3d4e5be8deb2 = L.circleMarker(\n",
              "                [3.5502097499599996, -75.6923161655],\n",
              "                {&quot;bubblingMouseEvents&quot;: true, &quot;color&quot;: &quot;blue&quot;, &quot;dashArray&quot;: null, &quot;dashOffset&quot;: null, &quot;fill&quot;: true, &quot;fillColor&quot;: &quot;blue&quot;, &quot;fillOpacity&quot;: 0.2, &quot;fillRule&quot;: &quot;evenodd&quot;, &quot;lineCap&quot;: &quot;round&quot;, &quot;lineJoin&quot;: &quot;round&quot;, &quot;opacity&quot;: 1.0, &quot;radius&quot;: 9.5, &quot;stroke&quot;: true, &quot;weight&quot;: 3}\n",
              "            ).addTo(map_edee8f9ae349edd4bef9e142080815f5);\n",
              "        \n",
              "    \n",
              "        var popup_54ff4a1ebb42ee1caa4df7eb40a00ef4 = L.popup({&quot;maxWidth&quot;: &quot;100%&quot;});\n",
              "\n",
              "        \n",
              "            \n",
              "                var html_e439c73bbd416462c2d774680b837dd2 = $(`&lt;div id=&quot;html_e439c73bbd416462c2d774680b837dd2&quot; style=&quot;width: 100.0%; height: 100.0%;&quot;&gt;Pomarrosa&lt;/div&gt;`)[0];\n",
              "                popup_54ff4a1ebb42ee1caa4df7eb40a00ef4.setContent(html_e439c73bbd416462c2d774680b837dd2);\n",
              "            \n",
              "        \n",
              "\n",
              "        circle_marker_5f37d176b6f4f589920e3d4e5be8deb2.bindPopup(popup_54ff4a1ebb42ee1caa4df7eb40a00ef4)\n",
              "        ;\n",
              "\n",
              "        \n",
              "    \n",
              "    \n",
              "            var circle_marker_c7bd1e19a7224062cf61034a7fa88ce4 = L.circleMarker(\n",
              "                [3.55028408, -75.69231639],\n",
              "                {&quot;bubblingMouseEvents&quot;: true, &quot;color&quot;: &quot;blue&quot;, &quot;dashArray&quot;: null, &quot;dashOffset&quot;: null, &quot;fill&quot;: true, &quot;fillColor&quot;: &quot;blue&quot;, &quot;fillOpacity&quot;: 0.2, &quot;fillRule&quot;: &quot;evenodd&quot;, &quot;lineCap&quot;: &quot;round&quot;, &quot;lineJoin&quot;: &quot;round&quot;, &quot;opacity&quot;: 1.0, &quot;radius&quot;: 5.8, &quot;stroke&quot;: true, &quot;weight&quot;: 3}\n",
              "            ).addTo(map_edee8f9ae349edd4bef9e142080815f5);\n",
              "        \n",
              "    \n",
              "        var popup_a2dacadc538a59481672cb261a981f5e = L.popup({&quot;maxWidth&quot;: &quot;100%&quot;});\n",
              "\n",
              "        \n",
              "            \n",
              "                var html_725e01213468956c2c7c1af37f830d6b = $(`&lt;div id=&quot;html_725e01213468956c2c7c1af37f830d6b&quot; style=&quot;width: 100.0%; height: 100.0%;&quot;&gt;Saman&lt;/div&gt;`)[0];\n",
              "                popup_a2dacadc538a59481672cb261a981f5e.setContent(html_725e01213468956c2c7c1af37f830d6b);\n",
              "            \n",
              "        \n",
              "\n",
              "        circle_marker_c7bd1e19a7224062cf61034a7fa88ce4.bindPopup(popup_a2dacadc538a59481672cb261a981f5e)\n",
              "        ;\n",
              "\n",
              "        \n",
              "    \n",
              "    \n",
              "            var circle_marker_7bfc7d51ad80347baa9e5987ced85bcb = L.circleMarker(\n",
              "                [3.55028911019, -75.69236006],\n",
              "                {&quot;bubblingMouseEvents&quot;: true, &quot;color&quot;: &quot;blue&quot;, &quot;dashArray&quot;: null, &quot;dashOffset&quot;: null, &quot;fill&quot;: true, &quot;fillColor&quot;: &quot;blue&quot;, &quot;fillOpacity&quot;: 0.2, &quot;fillRule&quot;: &quot;evenodd&quot;, &quot;lineCap&quot;: &quot;round&quot;, &quot;lineJoin&quot;: &quot;round&quot;, &quot;opacity&quot;: 1.0, &quot;radius&quot;: 7.7, &quot;stroke&quot;: true, &quot;weight&quot;: 3}\n",
              "            ).addTo(map_edee8f9ae349edd4bef9e142080815f5);\n",
              "        \n",
              "    \n",
              "        var popup_1e2847d38f103a6e5c4dd931b21afacf = L.popup({&quot;maxWidth&quot;: &quot;100%&quot;});\n",
              "\n",
              "        \n",
              "            \n",
              "                var html_d4f827907231c570b7c8eb37fa830b90 = $(`&lt;div id=&quot;html_d4f827907231c570b7c8eb37fa830b90&quot; style=&quot;width: 100.0%; height: 100.0%;&quot;&gt;Thevetia&lt;/div&gt;`)[0];\n",
              "                popup_1e2847d38f103a6e5c4dd931b21afacf.setContent(html_d4f827907231c570b7c8eb37fa830b90);\n",
              "            \n",
              "        \n",
              "\n",
              "        circle_marker_7bfc7d51ad80347baa9e5987ced85bcb.bindPopup(popup_1e2847d38f103a6e5c4dd931b21afacf)\n",
              "        ;\n",
              "\n",
              "        \n",
              "    \n",
              "    \n",
              "            var circle_marker_ed7aa3050ce97b912fdb03b76544186e = L.circleMarker(\n",
              "                [3.530948840119444, -75.71700125],\n",
              "                {&quot;bubblingMouseEvents&quot;: true, &quot;color&quot;: &quot;blue&quot;, &quot;dashArray&quot;: null, &quot;dashOffset&quot;: null, &quot;fill&quot;: true, &quot;fillColor&quot;: &quot;blue&quot;, &quot;fillOpacity&quot;: 0.2, &quot;fillRule&quot;: &quot;evenodd&quot;, &quot;lineCap&quot;: &quot;round&quot;, &quot;lineJoin&quot;: &quot;round&quot;, &quot;opacity&quot;: 1.0, &quot;radius&quot;: 0.3, &quot;stroke&quot;: true, &quot;weight&quot;: 3}\n",
              "            ).addTo(map_edee8f9ae349edd4bef9e142080815f5);\n",
              "        \n",
              "    \n",
              "        var popup_394224fc06ca29d5ce6c23f55faa41cd = L.popup({&quot;maxWidth&quot;: &quot;100%&quot;});\n",
              "\n",
              "        \n",
              "            \n",
              "                var html_0533c4edf97e7b96779ea60b9871826a = $(`&lt;div id=&quot;html_0533c4edf97e7b96779ea60b9871826a&quot; style=&quot;width: 100.0%; height: 100.0%;&quot;&gt;Flamboyan&lt;/div&gt;`)[0];\n",
              "                popup_394224fc06ca29d5ce6c23f55faa41cd.setContent(html_0533c4edf97e7b96779ea60b9871826a);\n",
              "            \n",
              "        \n",
              "\n",
              "        circle_marker_ed7aa3050ce97b912fdb03b76544186e.bindPopup(popup_394224fc06ca29d5ce6c23f55faa41cd)\n",
              "        ;\n",
              "\n",
              "        \n",
              "    \n",
              "    \n",
              "            var circle_marker_a3c449eb8e4d44e8d924ffefbcb4fa71 = L.circleMarker(\n",
              "                [3.5305745401194444, -75.71677794],\n",
              "                {&quot;bubblingMouseEvents&quot;: true, &quot;color&quot;: &quot;blue&quot;, &quot;dashArray&quot;: null, &quot;dashOffset&quot;: null, &quot;fill&quot;: true, &quot;fillColor&quot;: &quot;blue&quot;, &quot;fillOpacity&quot;: 0.2, &quot;fillRule&quot;: &quot;evenodd&quot;, &quot;lineCap&quot;: &quot;round&quot;, &quot;lineJoin&quot;: &quot;round&quot;, &quot;opacity&quot;: 1.0, &quot;radius&quot;: 0.1, &quot;stroke&quot;: true, &quot;weight&quot;: 3}\n",
              "            ).addTo(map_edee8f9ae349edd4bef9e142080815f5);\n",
              "        \n",
              "    \n",
              "        var popup_a0e4dea669ab1294eef0c5dfc2fdba8c = L.popup({&quot;maxWidth&quot;: &quot;100%&quot;});\n",
              "\n",
              "        \n",
              "            \n",
              "                var html_56058ecf45292c8354c5d580cfda11aa = $(`&lt;div id=&quot;html_56058ecf45292c8354c5d580cfda11aa&quot; style=&quot;width: 100.0%; height: 100.0%;&quot;&gt;Guanabana&lt;/div&gt;`)[0];\n",
              "                popup_a0e4dea669ab1294eef0c5dfc2fdba8c.setContent(html_56058ecf45292c8354c5d580cfda11aa);\n",
              "            \n",
              "        \n",
              "\n",
              "        circle_marker_a3c449eb8e4d44e8d924ffefbcb4fa71.bindPopup(popup_a0e4dea669ab1294eef0c5dfc2fdba8c)\n",
              "        ;\n",
              "\n",
              "        \n",
              "    \n",
              "    \n",
              "            var circle_marker_c483676f4fec96e0f5eb2102b7251325 = L.circleMarker(\n",
              "                [3.5304555301194442, -75.71688509],\n",
              "                {&quot;bubblingMouseEvents&quot;: true, &quot;color&quot;: &quot;blue&quot;, &quot;dashArray&quot;: null, &quot;dashOffset&quot;: null, &quot;fill&quot;: true, &quot;fillColor&quot;: &quot;blue&quot;, &quot;fillOpacity&quot;: 0.2, &quot;fillRule&quot;: &quot;evenodd&quot;, &quot;lineCap&quot;: &quot;round&quot;, &quot;lineJoin&quot;: &quot;round&quot;, &quot;opacity&quot;: 1.0, &quot;radius&quot;: 0.8, &quot;stroke&quot;: true, &quot;weight&quot;: 3}\n",
              "            ).addTo(map_edee8f9ae349edd4bef9e142080815f5);\n",
              "        \n",
              "    \n",
              "        var popup_0c0fab88fa8f4b2b8dfeb694adbea6cb = L.popup({&quot;maxWidth&quot;: &quot;100%&quot;});\n",
              "\n",
              "        \n",
              "            \n",
              "                var html_89ae760b0296363596face1852698144 = $(`&lt;div id=&quot;html_89ae760b0296363596face1852698144&quot; style=&quot;width: 100.0%; height: 100.0%;&quot;&gt;Guayacan&lt;/div&gt;`)[0];\n",
              "                popup_0c0fab88fa8f4b2b8dfeb694adbea6cb.setContent(html_89ae760b0296363596face1852698144);\n",
              "            \n",
              "        \n",
              "\n",
              "        circle_marker_c483676f4fec96e0f5eb2102b7251325.bindPopup(popup_0c0fab88fa8f4b2b8dfeb694adbea6cb)\n",
              "        ;\n",
              "\n",
              "        \n",
              "    \n",
              "    \n",
              "            var circle_marker_240732642e0124b166f45aeb0fd96397 = L.circleMarker(\n",
              "                [3.493043320111111, -75.77681521],\n",
              "                {&quot;bubblingMouseEvents&quot;: true, &quot;color&quot;: &quot;blue&quot;, &quot;dashArray&quot;: null, &quot;dashOffset&quot;: null, &quot;fill&quot;: true, &quot;fillColor&quot;: &quot;blue&quot;, &quot;fillOpacity&quot;: 0.2, &quot;fillRule&quot;: &quot;evenodd&quot;, &quot;lineCap&quot;: &quot;round&quot;, &quot;lineJoin&quot;: &quot;round&quot;, &quot;opacity&quot;: 1.0, &quot;radius&quot;: 1.1, &quot;stroke&quot;: true, &quot;weight&quot;: 3}\n",
              "            ).addTo(map_edee8f9ae349edd4bef9e142080815f5);\n",
              "        \n",
              "    \n",
              "        var popup_aec014f490609095ffd6253f11ce64bc = L.popup({&quot;maxWidth&quot;: &quot;100%&quot;});\n",
              "\n",
              "        \n",
              "            \n",
              "                var html_b7ac1fd5ac50c52e26b0fe87145ab055 = $(`&lt;div id=&quot;html_b7ac1fd5ac50c52e26b0fe87145ab055&quot; style=&quot;width: 100.0%; height: 100.0%;&quot;&gt;Nacedero&lt;/div&gt;`)[0];\n",
              "                popup_aec014f490609095ffd6253f11ce64bc.setContent(html_b7ac1fd5ac50c52e26b0fe87145ab055);\n",
              "            \n",
              "        \n",
              "\n",
              "        circle_marker_240732642e0124b166f45aeb0fd96397.bindPopup(popup_aec014f490609095ffd6253f11ce64bc)\n",
              "        ;\n",
              "\n",
              "        \n",
              "    \n",
              "    \n",
              "            var circle_marker_b5b8ef5919b25b888a9c6ad4a0269bd2 = L.circleMarker(\n",
              "                [3.4932578201111113, -75.77667469],\n",
              "                {&quot;bubblingMouseEvents&quot;: true, &quot;color&quot;: &quot;blue&quot;, &quot;dashArray&quot;: null, &quot;dashOffset&quot;: null, &quot;fill&quot;: true, &quot;fillColor&quot;: &quot;blue&quot;, &quot;fillOpacity&quot;: 0.2, &quot;fillRule&quot;: &quot;evenodd&quot;, &quot;lineCap&quot;: &quot;round&quot;, &quot;lineJoin&quot;: &quot;round&quot;, &quot;opacity&quot;: 1.0, &quot;radius&quot;: 0.3, &quot;stroke&quot;: true, &quot;weight&quot;: 3}\n",
              "            ).addTo(map_edee8f9ae349edd4bef9e142080815f5);\n",
              "        \n",
              "    \n",
              "        var popup_1d31da65e8648ea9c2f2f92322817cb3 = L.popup({&quot;maxWidth&quot;: &quot;100%&quot;});\n",
              "\n",
              "        \n",
              "            \n",
              "                var html_516e17b8625e95fd85503032f2d55ca1 = $(`&lt;div id=&quot;html_516e17b8625e95fd85503032f2d55ca1&quot; style=&quot;width: 100.0%; height: 100.0%;&quot;&gt;Jacaranda&lt;/div&gt;`)[0];\n",
              "                popup_1d31da65e8648ea9c2f2f92322817cb3.setContent(html_516e17b8625e95fd85503032f2d55ca1);\n",
              "            \n",
              "        \n",
              "\n",
              "        circle_marker_b5b8ef5919b25b888a9c6ad4a0269bd2.bindPopup(popup_1d31da65e8648ea9c2f2f92322817cb3)\n",
              "        ;\n",
              "\n",
              "        \n",
              "    \n",
              "    \n",
              "            var circle_marker_2f6f3087017f975f00bbbf934dc4b502 = L.circleMarker(\n",
              "                [3.493211970111111, -75.77666333],\n",
              "                {&quot;bubblingMouseEvents&quot;: true, &quot;color&quot;: &quot;blue&quot;, &quot;dashArray&quot;: null, &quot;dashOffset&quot;: null, &quot;fill&quot;: true, &quot;fillColor&quot;: &quot;blue&quot;, &quot;fillOpacity&quot;: 0.2, &quot;fillRule&quot;: &quot;evenodd&quot;, &quot;lineCap&quot;: &quot;round&quot;, &quot;lineJoin&quot;: &quot;round&quot;, &quot;opacity&quot;: 1.0, &quot;radius&quot;: 0.1, &quot;stroke&quot;: true, &quot;weight&quot;: 3}\n",
              "            ).addTo(map_edee8f9ae349edd4bef9e142080815f5);\n",
              "        \n",
              "    \n",
              "        var popup_121066ebfbb28b92a10696e4e04e015f = L.popup({&quot;maxWidth&quot;: &quot;100%&quot;});\n",
              "\n",
              "        \n",
              "            \n",
              "                var html_40c88496081a71513fc757722ebca25c = $(`&lt;div id=&quot;html_40c88496081a71513fc757722ebca25c&quot; style=&quot;width: 100.0%; height: 100.0%;&quot;&gt;Saman&lt;/div&gt;`)[0];\n",
              "                popup_121066ebfbb28b92a10696e4e04e015f.setContent(html_40c88496081a71513fc757722ebca25c);\n",
              "            \n",
              "        \n",
              "\n",
              "        circle_marker_2f6f3087017f975f00bbbf934dc4b502.bindPopup(popup_121066ebfbb28b92a10696e4e04e015f)\n",
              "        ;\n",
              "\n",
              "        \n",
              "    \n",
              "    \n",
              "            var circle_marker_dfd7c17074d936ed85bad6fddd566e73 = L.circleMarker(\n",
              "                [3.5311211301194443, -75.69524343],\n",
              "                {&quot;bubblingMouseEvents&quot;: true, &quot;color&quot;: &quot;blue&quot;, &quot;dashArray&quot;: null, &quot;dashOffset&quot;: null, &quot;fill&quot;: true, &quot;fillColor&quot;: &quot;blue&quot;, &quot;fillOpacity&quot;: 0.2, &quot;fillRule&quot;: &quot;evenodd&quot;, &quot;lineCap&quot;: &quot;round&quot;, &quot;lineJoin&quot;: &quot;round&quot;, &quot;opacity&quot;: 1.0, &quot;radius&quot;: 0.2, &quot;stroke&quot;: true, &quot;weight&quot;: 3}\n",
              "            ).addTo(map_edee8f9ae349edd4bef9e142080815f5);\n",
              "        \n",
              "    \n",
              "        var popup_3003a786226d02ab5ccb8928202bbce8 = L.popup({&quot;maxWidth&quot;: &quot;100%&quot;});\n",
              "\n",
              "        \n",
              "            \n",
              "                var html_d41f7ecd23c514adf0be745a57a7dffe = $(`&lt;div id=&quot;html_d41f7ecd23c514adf0be745a57a7dffe&quot; style=&quot;width: 100.0%; height: 100.0%;&quot;&gt;Acasia&lt;/div&gt;`)[0];\n",
              "                popup_3003a786226d02ab5ccb8928202bbce8.setContent(html_d41f7ecd23c514adf0be745a57a7dffe);\n",
              "            \n",
              "        \n",
              "\n",
              "        circle_marker_dfd7c17074d936ed85bad6fddd566e73.bindPopup(popup_3003a786226d02ab5ccb8928202bbce8)\n",
              "        ;\n",
              "\n",
              "        \n",
              "    \n",
              "    \n",
              "            var circle_marker_40e5701dc3673a573f386ab7eaa55020 = L.circleMarker(\n",
              "                [3.5313861201194445, -75.69516767],\n",
              "                {&quot;bubblingMouseEvents&quot;: true, &quot;color&quot;: &quot;blue&quot;, &quot;dashArray&quot;: null, &quot;dashOffset&quot;: null, &quot;fill&quot;: true, &quot;fillColor&quot;: &quot;blue&quot;, &quot;fillOpacity&quot;: 0.2, &quot;fillRule&quot;: &quot;evenodd&quot;, &quot;lineCap&quot;: &quot;round&quot;, &quot;lineJoin&quot;: &quot;round&quot;, &quot;opacity&quot;: 1.0, &quot;radius&quot;: 0.2, &quot;stroke&quot;: true, &quot;weight&quot;: 3}\n",
              "            ).addTo(map_edee8f9ae349edd4bef9e142080815f5);\n",
              "        \n",
              "    \n",
              "        var popup_eecbd8e96fce2e3aa37b9cb784fb6882 = L.popup({&quot;maxWidth&quot;: &quot;100%&quot;});\n",
              "\n",
              "        \n",
              "            \n",
              "                var html_42ad52ee4f7f7ce555a31771dedff9a1 = $(`&lt;div id=&quot;html_42ad52ee4f7f7ce555a31771dedff9a1&quot; style=&quot;width: 100.0%; height: 100.0%;&quot;&gt;Almendro&lt;/div&gt;`)[0];\n",
              "                popup_eecbd8e96fce2e3aa37b9cb784fb6882.setContent(html_42ad52ee4f7f7ce555a31771dedff9a1);\n",
              "            \n",
              "        \n",
              "\n",
              "        circle_marker_40e5701dc3673a573f386ab7eaa55020.bindPopup(popup_eecbd8e96fce2e3aa37b9cb784fb6882)\n",
              "        ;\n",
              "\n",
              "        \n",
              "    \n",
              "    \n",
              "            var circle_marker_be19a0cdb9d1206ba88e63bede60ffb8 = L.circleMarker(\n",
              "                [3.5310921901194443, -75.69531267],\n",
              "                {&quot;bubblingMouseEvents&quot;: true, &quot;color&quot;: &quot;blue&quot;, &quot;dashArray&quot;: null, &quot;dashOffset&quot;: null, &quot;fill&quot;: true, &quot;fillColor&quot;: &quot;blue&quot;, &quot;fillOpacity&quot;: 0.2, &quot;fillRule&quot;: &quot;evenodd&quot;, &quot;lineCap&quot;: &quot;round&quot;, &quot;lineJoin&quot;: &quot;round&quot;, &quot;opacity&quot;: 1.0, &quot;radius&quot;: 0.1, &quot;stroke&quot;: true, &quot;weight&quot;: 3}\n",
              "            ).addTo(map_edee8f9ae349edd4bef9e142080815f5);\n",
              "        \n",
              "    \n",
              "        var popup_d5ac5af80b57043596d22b57f5a41f45 = L.popup({&quot;maxWidth&quot;: &quot;100%&quot;});\n",
              "\n",
              "        \n",
              "            \n",
              "                var html_b40030477e45c21ff9ca55dad97072f7 = $(`&lt;div id=&quot;html_b40030477e45c21ff9ca55dad97072f7&quot; style=&quot;width: 100.0%; height: 100.0%;&quot;&gt;Frambuya&lt;/div&gt;`)[0];\n",
              "                popup_d5ac5af80b57043596d22b57f5a41f45.setContent(html_b40030477e45c21ff9ca55dad97072f7);\n",
              "            \n",
              "        \n",
              "\n",
              "        circle_marker_be19a0cdb9d1206ba88e63bede60ffb8.bindPopup(popup_d5ac5af80b57043596d22b57f5a41f45)\n",
              "        ;\n",
              "\n",
              "        \n",
              "    \n",
              "    \n",
              "            var circle_marker_2b627e131b1ed640aac76e7891d54335 = L.circleMarker(\n",
              "                [3.5312060001194445, -75.69498651],\n",
              "                {&quot;bubblingMouseEvents&quot;: true, &quot;color&quot;: &quot;blue&quot;, &quot;dashArray&quot;: null, &quot;dashOffset&quot;: null, &quot;fill&quot;: true, &quot;fillColor&quot;: &quot;blue&quot;, &quot;fillOpacity&quot;: 0.2, &quot;fillRule&quot;: &quot;evenodd&quot;, &quot;lineCap&quot;: &quot;round&quot;, &quot;lineJoin&quot;: &quot;round&quot;, &quot;opacity&quot;: 1.0, &quot;radius&quot;: 0.1, &quot;stroke&quot;: true, &quot;weight&quot;: 3}\n",
              "            ).addTo(map_edee8f9ae349edd4bef9e142080815f5);\n",
              "        \n",
              "    \n",
              "        var popup_7e3aba8544e2d114716c49674f3d78fd = L.popup({&quot;maxWidth&quot;: &quot;100%&quot;});\n",
              "\n",
              "        \n",
              "            \n",
              "                var html_22c22eb6662329f37d4e559e7d575847 = $(`&lt;div id=&quot;html_22c22eb6662329f37d4e559e7d575847&quot; style=&quot;width: 100.0%; height: 100.0%;&quot;&gt;Limon&lt;/div&gt;`)[0];\n",
              "                popup_7e3aba8544e2d114716c49674f3d78fd.setContent(html_22c22eb6662329f37d4e559e7d575847);\n",
              "            \n",
              "        \n",
              "\n",
              "        circle_marker_2b627e131b1ed640aac76e7891d54335.bindPopup(popup_7e3aba8544e2d114716c49674f3d78fd)\n",
              "        ;\n",
              "\n",
              "        \n",
              "    \n",
              "    \n",
              "            var circle_marker_490bd4d1b776d454ceab2257122c24b0 = L.circleMarker(\n",
              "                [3.5314259701194444, -75.69540357],\n",
              "                {&quot;bubblingMouseEvents&quot;: true, &quot;color&quot;: &quot;blue&quot;, &quot;dashArray&quot;: null, &quot;dashOffset&quot;: null, &quot;fill&quot;: true, &quot;fillColor&quot;: &quot;blue&quot;, &quot;fillOpacity&quot;: 0.2, &quot;fillRule&quot;: &quot;evenodd&quot;, &quot;lineCap&quot;: &quot;round&quot;, &quot;lineJoin&quot;: &quot;round&quot;, &quot;opacity&quot;: 1.0, &quot;radius&quot;: 1.2, &quot;stroke&quot;: true, &quot;weight&quot;: 3}\n",
              "            ).addTo(map_edee8f9ae349edd4bef9e142080815f5);\n",
              "        \n",
              "    \n",
              "        var popup_25176876060974d6b2ca2d64f7286279 = L.popup({&quot;maxWidth&quot;: &quot;100%&quot;});\n",
              "\n",
              "        \n",
              "            \n",
              "                var html_9dcc4de4ea532f8df8c9592c24c8e5b3 = $(`&lt;div id=&quot;html_9dcc4de4ea532f8df8c9592c24c8e5b3&quot; style=&quot;width: 100.0%; height: 100.0%;&quot;&gt;Palma Manila&lt;/div&gt;`)[0];\n",
              "                popup_25176876060974d6b2ca2d64f7286279.setContent(html_9dcc4de4ea532f8df8c9592c24c8e5b3);\n",
              "            \n",
              "        \n",
              "\n",
              "        circle_marker_490bd4d1b776d454ceab2257122c24b0.bindPopup(popup_25176876060974d6b2ca2d64f7286279)\n",
              "        ;\n",
              "\n",
              "        \n",
              "    \n",
              "    \n",
              "            var circle_marker_fca1f9c5e0fbefab9aa3af565cf3e870 = L.circleMarker(\n",
              "                [3.5147977688805554, -75.7021761205],\n",
              "                {&quot;bubblingMouseEvents&quot;: true, &quot;color&quot;: &quot;blue&quot;, &quot;dashArray&quot;: null, &quot;dashOffset&quot;: null, &quot;fill&quot;: true, &quot;fillColor&quot;: &quot;blue&quot;, &quot;fillOpacity&quot;: 0.2, &quot;fillRule&quot;: &quot;evenodd&quot;, &quot;lineCap&quot;: &quot;round&quot;, &quot;lineJoin&quot;: &quot;round&quot;, &quot;opacity&quot;: 1.0, &quot;radius&quot;: 2.3, &quot;stroke&quot;: true, &quot;weight&quot;: 3}\n",
              "            ).addTo(map_edee8f9ae349edd4bef9e142080815f5);\n",
              "        \n",
              "    \n",
              "        var popup_2d3c0b28ebcd06760ae2c1f942f66cf3 = L.popup({&quot;maxWidth&quot;: &quot;100%&quot;});\n",
              "\n",
              "        \n",
              "            \n",
              "                var html_4da5de28276912329098a424b5d48067 = $(`&lt;div id=&quot;html_4da5de28276912329098a424b5d48067&quot; style=&quot;width: 100.0%; height: 100.0%;&quot;&gt;Palma Manila&lt;/div&gt;`)[0];\n",
              "                popup_2d3c0b28ebcd06760ae2c1f942f66cf3.setContent(html_4da5de28276912329098a424b5d48067);\n",
              "            \n",
              "        \n",
              "\n",
              "        circle_marker_fca1f9c5e0fbefab9aa3af565cf3e870.bindPopup(popup_2d3c0b28ebcd06760ae2c1f942f66cf3)\n",
              "        ;\n",
              "\n",
              "        \n",
              "    \n",
              "    \n",
              "            var circle_marker_d3bea62835a03162ecca775046156aff = L.circleMarker(\n",
              "                [3.538991523338889, -75.7221822994],\n",
              "                {&quot;bubblingMouseEvents&quot;: true, &quot;color&quot;: &quot;blue&quot;, &quot;dashArray&quot;: null, &quot;dashOffset&quot;: null, &quot;fill&quot;: true, &quot;fillColor&quot;: &quot;blue&quot;, &quot;fillOpacity&quot;: 0.2, &quot;fillRule&quot;: &quot;evenodd&quot;, &quot;lineCap&quot;: &quot;round&quot;, &quot;lineJoin&quot;: &quot;round&quot;, &quot;opacity&quot;: 1.0, &quot;radius&quot;: 0.1, &quot;stroke&quot;: true, &quot;weight&quot;: 3}\n",
              "            ).addTo(map_edee8f9ae349edd4bef9e142080815f5);\n",
              "        \n",
              "    \n",
              "        var popup_b8950dae5897746bd48af03054e153bb = L.popup({&quot;maxWidth&quot;: &quot;100%&quot;});\n",
              "\n",
              "        \n",
              "            \n",
              "                var html_c9a8e9a4c063f1a48483b81f010bef3d = $(`&lt;div id=&quot;html_c9a8e9a4c063f1a48483b81f010bef3d&quot; style=&quot;width: 100.0%; height: 100.0%;&quot;&gt;Carbonero&lt;/div&gt;`)[0];\n",
              "                popup_b8950dae5897746bd48af03054e153bb.setContent(html_c9a8e9a4c063f1a48483b81f010bef3d);\n",
              "            \n",
              "        \n",
              "\n",
              "        circle_marker_d3bea62835a03162ecca775046156aff.bindPopup(popup_b8950dae5897746bd48af03054e153bb)\n",
              "        ;\n",
              "\n",
              "        \n",
              "    \n",
              "    \n",
              "            var circle_marker_365b98390c53d54173a7322d845816ab = L.circleMarker(\n",
              "                [3.5385120001194443, -75.72204],\n",
              "                {&quot;bubblingMouseEvents&quot;: true, &quot;color&quot;: &quot;blue&quot;, &quot;dashArray&quot;: null, &quot;dashOffset&quot;: null, &quot;fill&quot;: true, &quot;fillColor&quot;: &quot;blue&quot;, &quot;fillOpacity&quot;: 0.2, &quot;fillRule&quot;: &quot;evenodd&quot;, &quot;lineCap&quot;: &quot;round&quot;, &quot;lineJoin&quot;: &quot;round&quot;, &quot;opacity&quot;: 1.0, &quot;radius&quot;: 0.1, &quot;stroke&quot;: true, &quot;weight&quot;: 3}\n",
              "            ).addTo(map_edee8f9ae349edd4bef9e142080815f5);\n",
              "        \n",
              "    \n",
              "        var popup_90734d400ade391d91febbcfd54a9609 = L.popup({&quot;maxWidth&quot;: &quot;100%&quot;});\n",
              "\n",
              "        \n",
              "            \n",
              "                var html_a22a638d965a51401444f3d1a9b1999e = $(`&lt;div id=&quot;html_a22a638d965a51401444f3d1a9b1999e&quot; style=&quot;width: 100.0%; height: 100.0%;&quot;&gt;Guasimo&lt;/div&gt;`)[0];\n",
              "                popup_90734d400ade391d91febbcfd54a9609.setContent(html_a22a638d965a51401444f3d1a9b1999e);\n",
              "            \n",
              "        \n",
              "\n",
              "        circle_marker_365b98390c53d54173a7322d845816ab.bindPopup(popup_90734d400ade391d91febbcfd54a9609)\n",
              "        ;\n",
              "\n",
              "        \n",
              "    \n",
              "    \n",
              "            var circle_marker_d841d93514f704733be415808745c307 = L.circleMarker(\n",
              "                [3.5386305409888887, -75.7219379463],\n",
              "                {&quot;bubblingMouseEvents&quot;: true, &quot;color&quot;: &quot;blue&quot;, &quot;dashArray&quot;: null, &quot;dashOffset&quot;: null, &quot;fill&quot;: true, &quot;fillColor&quot;: &quot;blue&quot;, &quot;fillOpacity&quot;: 0.2, &quot;fillRule&quot;: &quot;evenodd&quot;, &quot;lineCap&quot;: &quot;round&quot;, &quot;lineJoin&quot;: &quot;round&quot;, &quot;opacity&quot;: 1.0, &quot;radius&quot;: 0.7, &quot;stroke&quot;: true, &quot;weight&quot;: 3}\n",
              "            ).addTo(map_edee8f9ae349edd4bef9e142080815f5);\n",
              "        \n",
              "    \n",
              "        var popup_ba48404b22ef972c5df5dec6d49658f3 = L.popup({&quot;maxWidth&quot;: &quot;100%&quot;});\n",
              "\n",
              "        \n",
              "            \n",
              "                var html_aecefa33b0f80a36c2bdcba3319c1aeb = $(`&lt;div id=&quot;html_aecefa33b0f80a36c2bdcba3319c1aeb&quot; style=&quot;width: 100.0%; height: 100.0%;&quot;&gt;Guayaba&lt;/div&gt;`)[0];\n",
              "                popup_ba48404b22ef972c5df5dec6d49658f3.setContent(html_aecefa33b0f80a36c2bdcba3319c1aeb);\n",
              "            \n",
              "        \n",
              "\n",
              "        circle_marker_d841d93514f704733be415808745c307.bindPopup(popup_ba48404b22ef972c5df5dec6d49658f3)\n",
              "        ;\n",
              "\n",
              "        \n",
              "    \n",
              "    \n",
              "            var circle_marker_809a12225917fff1976fda58ddf6cd46 = L.circleMarker(\n",
              "                [3.5387693038, -75.7222102612],\n",
              "                {&quot;bubblingMouseEvents&quot;: true, &quot;color&quot;: &quot;blue&quot;, &quot;dashArray&quot;: null, &quot;dashOffset&quot;: null, &quot;fill&quot;: true, &quot;fillColor&quot;: &quot;blue&quot;, &quot;fillOpacity&quot;: 0.2, &quot;fillRule&quot;: &quot;evenodd&quot;, &quot;lineCap&quot;: &quot;round&quot;, &quot;lineJoin&quot;: &quot;round&quot;, &quot;opacity&quot;: 1.0, &quot;radius&quot;: 1.8, &quot;stroke&quot;: true, &quot;weight&quot;: 3}\n",
              "            ).addTo(map_edee8f9ae349edd4bef9e142080815f5);\n",
              "        \n",
              "    \n",
              "        var popup_eac202360781772307bdb2e2eaac39dc = L.popup({&quot;maxWidth&quot;: &quot;100%&quot;});\n",
              "\n",
              "        \n",
              "            \n",
              "                var html_040002aa2a36929a0c7ff889112b9a2e = $(`&lt;div id=&quot;html_040002aa2a36929a0c7ff889112b9a2e&quot; style=&quot;width: 100.0%; height: 100.0%;&quot;&gt;Limpia botella&lt;/div&gt;`)[0];\n",
              "                popup_eac202360781772307bdb2e2eaac39dc.setContent(html_040002aa2a36929a0c7ff889112b9a2e);\n",
              "            \n",
              "        \n",
              "\n",
              "        circle_marker_809a12225917fff1976fda58ddf6cd46.bindPopup(popup_eac202360781772307bdb2e2eaac39dc)\n",
              "        ;\n",
              "\n",
              "        \n",
              "    \n",
              "    \n",
              "            var circle_marker_4c5bae53835e30694ca67c9bead27d8b = L.circleMarker(\n",
              "                [3.538926524, -75.7221895882],\n",
              "                {&quot;bubblingMouseEvents&quot;: true, &quot;color&quot;: &quot;blue&quot;, &quot;dashArray&quot;: null, &quot;dashOffset&quot;: null, &quot;fill&quot;: true, &quot;fillColor&quot;: &quot;blue&quot;, &quot;fillOpacity&quot;: 0.2, &quot;fillRule&quot;: &quot;evenodd&quot;, &quot;lineCap&quot;: &quot;round&quot;, &quot;lineJoin&quot;: &quot;round&quot;, &quot;opacity&quot;: 1.0, &quot;radius&quot;: 0.2, &quot;stroke&quot;: true, &quot;weight&quot;: 3}\n",
              "            ).addTo(map_edee8f9ae349edd4bef9e142080815f5);\n",
              "        \n",
              "    \n",
              "        var popup_94940ebb49a52fc92dc29a21a5a10ea4 = L.popup({&quot;maxWidth&quot;: &quot;100%&quot;});\n",
              "\n",
              "        \n",
              "            \n",
              "                var html_07b1b142d77577ec5333f1b14bfbb7d3 = $(`&lt;div id=&quot;html_07b1b142d77577ec5333f1b14bfbb7d3&quot; style=&quot;width: 100.0%; height: 100.0%;&quot;&gt;Lluvia de oro&lt;/div&gt;`)[0];\n",
              "                popup_94940ebb49a52fc92dc29a21a5a10ea4.setContent(html_07b1b142d77577ec5333f1b14bfbb7d3);\n",
              "            \n",
              "        \n",
              "\n",
              "        circle_marker_4c5bae53835e30694ca67c9bead27d8b.bindPopup(popup_94940ebb49a52fc92dc29a21a5a10ea4)\n",
              "        ;\n",
              "\n",
              "        \n",
              "    \n",
              "    \n",
              "            var circle_marker_a2b61d6731dd061604f0bc0380d24ba3 = L.circleMarker(\n",
              "                [3.538705000119444, -75.722531],\n",
              "                {&quot;bubblingMouseEvents&quot;: true, &quot;color&quot;: &quot;blue&quot;, &quot;dashArray&quot;: null, &quot;dashOffset&quot;: null, &quot;fill&quot;: true, &quot;fillColor&quot;: &quot;blue&quot;, &quot;fillOpacity&quot;: 0.2, &quot;fillRule&quot;: &quot;evenodd&quot;, &quot;lineCap&quot;: &quot;round&quot;, &quot;lineJoin&quot;: &quot;round&quot;, &quot;opacity&quot;: 1.0, &quot;radius&quot;: 0.2, &quot;stroke&quot;: true, &quot;weight&quot;: 3}\n",
              "            ).addTo(map_edee8f9ae349edd4bef9e142080815f5);\n",
              "        \n",
              "    \n",
              "        var popup_09f66aa5d48970707ad61b3b3e360b28 = L.popup({&quot;maxWidth&quot;: &quot;100%&quot;});\n",
              "\n",
              "        \n",
              "            \n",
              "                var html_c4999c2388e5ecd1750c064f62e5cafd = $(`&lt;div id=&quot;html_c4999c2388e5ecd1750c064f62e5cafd&quot; style=&quot;width: 100.0%; height: 100.0%;&quot;&gt;Mango&lt;/div&gt;`)[0];\n",
              "                popup_09f66aa5d48970707ad61b3b3e360b28.setContent(html_c4999c2388e5ecd1750c064f62e5cafd);\n",
              "            \n",
              "        \n",
              "\n",
              "        circle_marker_a2b61d6731dd061604f0bc0380d24ba3.bindPopup(popup_09f66aa5d48970707ad61b3b3e360b28)\n",
              "        ;\n",
              "\n",
              "        \n",
              "    \n",
              "    \n",
              "            var circle_marker_dfad7495c61e97819ed2a33335385557 = L.circleMarker(\n",
              "                [3.53867246035, -75.7225001303],\n",
              "                {&quot;bubblingMouseEvents&quot;: true, &quot;color&quot;: &quot;blue&quot;, &quot;dashArray&quot;: null, &quot;dashOffset&quot;: null, &quot;fill&quot;: true, &quot;fillColor&quot;: &quot;blue&quot;, &quot;fillOpacity&quot;: 0.2, &quot;fillRule&quot;: &quot;evenodd&quot;, &quot;lineCap&quot;: &quot;round&quot;, &quot;lineJoin&quot;: &quot;round&quot;, &quot;opacity&quot;: 1.0, &quot;radius&quot;: 0.2, &quot;stroke&quot;: true, &quot;weight&quot;: 3}\n",
              "            ).addTo(map_edee8f9ae349edd4bef9e142080815f5);\n",
              "        \n",
              "    \n",
              "        var popup_0a5fa5f68504274d0e70e72792eee62a = L.popup({&quot;maxWidth&quot;: &quot;100%&quot;});\n",
              "\n",
              "        \n",
              "            \n",
              "                var html_6ef86cc554bfca208f5953eb02861464 = $(`&lt;div id=&quot;html_6ef86cc554bfca208f5953eb02861464&quot; style=&quot;width: 100.0%; height: 100.0%;&quot;&gt;Oiti&lt;/div&gt;`)[0];\n",
              "                popup_0a5fa5f68504274d0e70e72792eee62a.setContent(html_6ef86cc554bfca208f5953eb02861464);\n",
              "            \n",
              "        \n",
              "\n",
              "        circle_marker_dfad7495c61e97819ed2a33335385557.bindPopup(popup_0a5fa5f68504274d0e70e72792eee62a)\n",
              "        ;\n",
              "\n",
              "        \n",
              "    \n",
              "    \n",
              "            var circle_marker_1ffd552e9913d5d3bb99890ce560fe16 = L.circleMarker(\n",
              "                [3.5386769022888886, -75.7215234426],\n",
              "                {&quot;bubblingMouseEvents&quot;: true, &quot;color&quot;: &quot;blue&quot;, &quot;dashArray&quot;: null, &quot;dashOffset&quot;: null, &quot;fill&quot;: true, &quot;fillColor&quot;: &quot;blue&quot;, &quot;fillOpacity&quot;: 0.2, &quot;fillRule&quot;: &quot;evenodd&quot;, &quot;lineCap&quot;: &quot;round&quot;, &quot;lineJoin&quot;: &quot;round&quot;, &quot;opacity&quot;: 1.0, &quot;radius&quot;: 1.0, &quot;stroke&quot;: true, &quot;weight&quot;: 3}\n",
              "            ).addTo(map_edee8f9ae349edd4bef9e142080815f5);\n",
              "        \n",
              "    \n",
              "        var popup_8da1bada13fd22f371dfca3774988996 = L.popup({&quot;maxWidth&quot;: &quot;100%&quot;});\n",
              "\n",
              "        \n",
              "            \n",
              "                var html_de1928f10c16cbe4721ae1d0b29d937f = $(`&lt;div id=&quot;html_de1928f10c16cbe4721ae1d0b29d937f&quot; style=&quot;width: 100.0%; height: 100.0%;&quot;&gt;Palma Manila&lt;/div&gt;`)[0];\n",
              "                popup_8da1bada13fd22f371dfca3774988996.setContent(html_de1928f10c16cbe4721ae1d0b29d937f);\n",
              "            \n",
              "        \n",
              "\n",
              "        circle_marker_1ffd552e9913d5d3bb99890ce560fe16.bindPopup(popup_8da1bada13fd22f371dfca3774988996)\n",
              "        ;\n",
              "\n",
              "        \n",
              "    \n",
              "    \n",
              "            var circle_marker_73d8f682e81e71ae95033d4e9d476861 = L.circleMarker(\n",
              "                [3.538101000119444, -75.721958],\n",
              "                {&quot;bubblingMouseEvents&quot;: true, &quot;color&quot;: &quot;blue&quot;, &quot;dashArray&quot;: null, &quot;dashOffset&quot;: null, &quot;fill&quot;: true, &quot;fillColor&quot;: &quot;blue&quot;, &quot;fillOpacity&quot;: 0.2, &quot;fillRule&quot;: &quot;evenodd&quot;, &quot;lineCap&quot;: &quot;round&quot;, &quot;lineJoin&quot;: &quot;round&quot;, &quot;opacity&quot;: 1.0, &quot;radius&quot;: 0.7, &quot;stroke&quot;: true, &quot;weight&quot;: 3}\n",
              "            ).addTo(map_edee8f9ae349edd4bef9e142080815f5);\n",
              "        \n",
              "    \n",
              "        var popup_9e6be76a4a5d651c23a218d69a13ded3 = L.popup({&quot;maxWidth&quot;: &quot;100%&quot;});\n",
              "\n",
              "        \n",
              "            \n",
              "                var html_808f4e3eb6c90f42eaabb7bb797053a4 = $(`&lt;div id=&quot;html_808f4e3eb6c90f42eaabb7bb797053a4&quot; style=&quot;width: 100.0%; height: 100.0%;&quot;&gt;Saman&lt;/div&gt;`)[0];\n",
              "                popup_9e6be76a4a5d651c23a218d69a13ded3.setContent(html_808f4e3eb6c90f42eaabb7bb797053a4);\n",
              "            \n",
              "        \n",
              "\n",
              "        circle_marker_73d8f682e81e71ae95033d4e9d476861.bindPopup(popup_9e6be76a4a5d651c23a218d69a13ded3)\n",
              "        ;\n",
              "\n",
              "        \n",
              "    \n",
              "&lt;/script&gt;\n",
              "&lt;/html&gt;\" style=\"position:absolute;width:100%;height:100%;left:0;top:0;border:none !important;\" allowfullscreen webkitallowfullscreen mozallowfullscreen></iframe></div></div>"
            ]
          },
          "metadata": {},
          "execution_count": 60
        }
      ]
    },
    {
      "cell_type": "markdown",
      "metadata": {
        "id": "_u_fG58UiXcg"
      },
      "source": [
        "# Thanks!"
      ]
    }
  ],
  "metadata": {
    "celltoolbar": "Slideshow",
    "kernelspec": {
      "display_name": "Python 3",
      "language": "python",
      "name": "python3"
    },
    "language_info": {
      "codemirror_mode": {
        "name": "ipython",
        "version": 3
      },
      "file_extension": ".py",
      "mimetype": "text/x-python",
      "name": "python",
      "nbconvert_exporter": "python",
      "pygments_lexer": "ipython3",
      "version": "3.5.2"
    },
    "livereveal": {
      "start_slideshow_at": "selected"
    },
    "name": "Main.ipynb",
    "colab": {
      "provenance": [],
      "collapsed_sections": [
        "gh1Uw4KtiXcK",
        "K81LXWsCiXcS",
        "9EsiKbSCiXcT",
        "zsIEVqkgiXcY",
        "JHmGF_mGiXcZ",
        "-6jsBAhQiXcg",
        "_u_fG58UiXcg"
      ],
      "include_colab_link": true
    }
  },
  "nbformat": 4,
  "nbformat_minor": 0
}